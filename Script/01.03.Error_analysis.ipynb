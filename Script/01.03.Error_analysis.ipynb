{
 "cells": [
  {
   "cell_type": "code",
   "execution_count": 176,
   "metadata": {},
   "outputs": [],
   "source": [
    "import sys\n",
    "import pandas as pd\n",
    "import numpy as np\n",
    "from tqdm import tqdm\n",
    "import random\n",
    "import geopandas as gpd\n",
    "import contextily as cx\n",
    "import os\n",
    "os.environ['PROJ_LIB'] = r'/Users/chenyangkang/miniforge3/share/proj'\n",
    "\n",
    "import matplotlib.pyplot as plt\n",
    "import seaborn as sns\n",
    "\n",
    "import pickle\n",
    "\n",
    "from sklearn.metrics import recall_score, precision_score, average_precision_score, roc_auc_score,\\\n",
    "                            cohen_kappa_score,f1_score,precision_recall_curve,PrecisionRecallDisplay\n",
    "                            "
   ]
  },
  {
   "cell_type": "code",
   "execution_count": 2,
   "metadata": {},
   "outputs": [],
   "source": [
    "%load_ext autoreload\n",
    "%autoreload 2"
   ]
  },
  {
   "cell_type": "code",
   "execution_count": 3,
   "metadata": {},
   "outputs": [],
   "source": [
    "from quadtree import *\n",
    "from filter_data_script import *\n",
    "from AdaSTEM_classifier_utiles import *\n",
    "from get_variable_dict import *"
   ]
  },
  {
   "cell_type": "code",
   "execution_count": 4,
   "metadata": {},
   "outputs": [],
   "source": [
    "#### checklist data (location, time, environmental variables...)\n",
    "checklist_feature = pickle.load(open('American_snapshot_10_10_500_each_grid.pkl','rb'))\n",
    "checklist_feature = filter_data(checklist_feature,2018)"
   ]
  },
  {
   "cell_type": "code",
   "execution_count": 6,
   "metadata": {},
   "outputs": [
    {
     "data": {
      "text/plain": [
       "dict_keys(['sampling_variables', 'time_variables', 'landscape_variables', 'climate_variables', 'land_use_variables'])"
      ]
     },
     "execution_count": 6,
     "metadata": {},
     "output_type": "execute_result"
    }
   ],
   "source": [
    "##### get variable list\n",
    "variable_dict = get_variable_dict()\n",
    "variable_dict.keys()"
   ]
  },
  {
   "cell_type": "code",
   "execution_count": 7,
   "metadata": {},
   "outputs": [
    {
     "data": {
      "text/plain": [
       "105"
      ]
     },
     "execution_count": 7,
     "metadata": {},
     "output_type": "execute_result"
    }
   ],
   "source": [
    "##### overall there are 105 predictors\n",
    "all_variable_names = []\n",
    "for i in variable_dict.values():\n",
    "    all_variable_names.extend(i)\n",
    "len(all_variable_names)\n"
   ]
  },
  {
   "cell_type": "code",
   "execution_count": 8,
   "metadata": {},
   "outputs": [],
   "source": [
    "from sklearn.linear_model import LogisticRegression\n",
    "from sklearn.ensemble import GradientBoostingClassifier, RandomForestClassifier\n",
    "from sklearn.model_selection import train_test_split\n",
    "from sklearn.tree import DecisionTreeClassifier\n",
    "from sklearn.metrics import confusion_matrix"
   ]
  },
  {
   "cell_type": "code",
   "execution_count": 9,
   "metadata": {},
   "outputs": [],
   "source": [
    "import warnings\n",
    "warnings.filterwarnings('ignore')"
   ]
  },
  {
   "cell_type": "code",
   "execution_count": 10,
   "metadata": {},
   "outputs": [
    {
     "name": "stdout",
     "output_type": "stream",
     "text": [
      "American_Crow\n",
      "ensembel_count: 0\n",
      "ensembel_count: 1\n",
      "ensembel_count: 2\n",
      "ensembel_count: 3\n",
      "ensembel_count: 4\n",
      "ensembel_count: 5\n",
      "ensembel_count: 6\n",
      "ensembel_count: 7\n"
     ]
    },
    {
     "name": "stderr",
     "output_type": "stream",
     "text": [
      "training: 100%|██████████| 4494/4494 [07:49<00:00,  9.58it/s]\n",
      "predicting ensemble 0 : 100%|██████████| 684/684 [00:07<00:00, 86.10it/s]\n",
      "predicting ensemble 1 : 100%|██████████| 666/666 [00:07<00:00, 88.91it/s] \n",
      "predicting ensemble 2 : 100%|██████████| 426/426 [00:05<00:00, 73.86it/s]\n",
      "predicting ensemble 3 : 100%|██████████| 403/403 [00:04<00:00, 88.10it/s]\n",
      "predicting ensemble 4 : 100%|██████████| 553/553 [00:05<00:00, 93.35it/s] \n",
      "predicting ensemble 5 : 100%|██████████| 580/580 [00:06<00:00, 94.83it/s] \n",
      "predicting ensemble 6 : 100%|██████████| 581/581 [00:06<00:00, 94.84it/s] \n",
      "predicting ensemble 7 : 100%|██████████| 601/601 [00:06<00:00, 95.22it/s] \n"
     ]
    }
   ],
   "source": [
    "eval_df = {\n",
    "    'sp':[],\n",
    "    # '':[],\n",
    "    'recall':[],\n",
    "    'precision':[],\n",
    "    'average_precision':[],\n",
    "    'roc_auc':[],\n",
    "    'cohen_kappa':[],\n",
    "    'f1':[]\n",
    "}\n",
    "\n",
    "model_dict = {}\n",
    "\n",
    "for sp in ['American_Crow', 'American_Robin', 'Turkey_Vulture', 'Mallard', 'Black-capped_Chickadee', 'House_Wren']:\n",
    "    print(sp)\n",
    "    #### species count data\n",
    "    sp_data = pickle.load(open(f'./sp_count/{sp}_2018.pkl','rb'))\n",
    "    #### merge them\n",
    "    data = pd.merge(checklist_feature, sp_data, on='sampling_event_identifier', how='left')\n",
    "    data['count'] = data['count'].fillna(0)\n",
    "    data['count'] = np.where(data['count']>0,1,0)\n",
    "\n",
    "    X = data[all_variable_names+['longitude','latitude','sampling_event_identifier']]\n",
    "    y = data['count']\n",
    "\n",
    "    X_train,X_test,y_train,y_test = train_test_split(X,y,test_size=0.2,random_state=42)\n",
    "\n",
    "    base_model = XGBClassifier(random_state=42,eval_metric='logloss')\n",
    "    model = AdaSTEM(base_model = base_model,\n",
    "                    ensemble_fold=8,\n",
    "                    grid_len_long_upper_threshold=25,\n",
    "                    grid_len_long_lower_threshold=10,\n",
    "                    grid_len_lat_upper_threshold=25,\n",
    "                    grid_len_lat_lower_threshold=10,\n",
    "                    points_lower_threshold=50\n",
    "                    )\n",
    "    model.fit(X_train,y_train)\n",
    "\n",
    "    pred = model.predict_proba(X_test)\n",
    "    y_test_m = y_test[~np.isnan(pred)]\n",
    "    pred_m = np.where(pred[~np.isnan(pred)]>0.05,1,0)\n",
    "\n",
    "    eval_df['sp'].append(sp)\n",
    "    eval_df['recall'].append(recall_score(y_test_m, pred_m))\n",
    "    eval_df['precision'].append(precision_score(y_test_m, pred_m))\n",
    "    eval_df['average_precision'].append(average_precision_score(y_test_m, pred_m))\n",
    "    eval_df['roc_auc'].append(roc_auc_score(y_test_m, pred_m))\n",
    "    eval_df['cohen_kappa'].append(cohen_kappa_score(y_test_m, pred_m))\n",
    "    eval_df['f1'].append(f1_score(y_test_m, pred_m))\n",
    "\n",
    "    model_dict[sp]=model\n",
    "    break\n",
    "\n"
   ]
  },
  {
   "attachments": {},
   "cell_type": "markdown",
   "metadata": {},
   "source": [
    "## permutation/feature importance analysis"
   ]
  },
  {
   "cell_type": "code",
   "execution_count": 16,
   "metadata": {},
   "outputs": [
    {
     "data": {
      "text/plain": [
       "Index(['duration_minutes', 'Traveling', 'Stationary', 'Area',\n",
       "       'obsvr_species_count', 'DOY', 'month', 'week', 'year',\n",
       "       'time_observation_started_minute_of_day',\n",
       "       ...\n",
       "       'water_bodies_lpi', 'water_bodies_pd', 'woody_savannas',\n",
       "       'woody_savannas_ed', 'woody_savannas_lpi', 'woody_savannas_pd',\n",
       "       'entropy', 'longitude', 'latitude', 'sampling_event_identifier'],\n",
       "      dtype='object', length=108)"
      ]
     },
     "execution_count": 16,
     "metadata": {},
     "output_type": "execute_result"
    }
   ],
   "source": [
    "X_test.columns"
   ]
  },
  {
   "cell_type": "code",
   "execution_count": 34,
   "metadata": {},
   "outputs": [
    {
     "name": "stderr",
     "output_type": "stream",
     "text": [
      "predicting ensemble 0 : 100%|██████████| 684/684 [00:08<00:00, 85.00it/s]\n",
      "predicting ensemble 1 : 100%|██████████| 666/666 [00:07<00:00, 88.50it/s] \n",
      "predicting ensemble 2 : 100%|██████████| 426/426 [00:04<00:00, 86.34it/s]\n",
      "predicting ensemble 3 : 100%|██████████| 403/403 [00:04<00:00, 85.99it/s]\n",
      "predicting ensemble 4 : 100%|██████████| 553/553 [00:06<00:00, 88.01it/s]\n",
      "predicting ensemble 5 : 100%|██████████| 580/580 [00:06<00:00, 86.13it/s]\n",
      "predicting ensemble 6 : 100%|██████████| 581/581 [00:06<00:00, 88.68it/s]\n",
      "predicting ensemble 7 : 100%|██████████| 601/601 [00:06<00:00, 89.52it/s]\n"
     ]
    },
    {
     "name": "stdout",
     "output_type": "stream",
     "text": [
      "1 duration_minutes 0\n"
     ]
    },
    {
     "name": "stderr",
     "output_type": "stream",
     "text": [
      "predicting ensemble 0 : 100%|██████████| 684/684 [00:07<00:00, 88.71it/s]\n",
      "predicting ensemble 1 : 100%|██████████| 666/666 [00:07<00:00, 89.14it/s]\n",
      "predicting ensemble 2 : 100%|██████████| 426/426 [00:04<00:00, 86.34it/s]\n",
      "predicting ensemble 3 : 100%|██████████| 403/403 [00:04<00:00, 88.55it/s]\n",
      "predicting ensemble 4 : 100%|██████████| 553/553 [00:06<00:00, 89.51it/s]\n",
      "predicting ensemble 5 : 100%|██████████| 580/580 [00:06<00:00, 90.65it/s]\n",
      "predicting ensemble 6 : 100%|██████████| 581/581 [00:06<00:00, 87.35it/s]\n",
      "predicting ensemble 7 : 100%|██████████| 601/601 [00:06<00:00, 90.26it/s]\n"
     ]
    },
    {
     "name": "stdout",
     "output_type": "stream",
     "text": [
      "1 duration_minutes 1\n"
     ]
    },
    {
     "name": "stderr",
     "output_type": "stream",
     "text": [
      "predicting ensemble 0 : 100%|██████████| 684/684 [00:07<00:00, 90.80it/s] \n",
      "predicting ensemble 1 : 100%|██████████| 666/666 [00:07<00:00, 90.26it/s] \n",
      "predicting ensemble 2 : 100%|██████████| 426/426 [00:04<00:00, 85.87it/s]\n",
      "predicting ensemble 3 : 100%|██████████| 403/403 [00:04<00:00, 87.72it/s]\n",
      "predicting ensemble 4 : 100%|██████████| 553/553 [00:06<00:00, 89.22it/s]\n",
      "predicting ensemble 5 : 100%|██████████| 580/580 [00:06<00:00, 90.33it/s]\n",
      "predicting ensemble 6 : 100%|██████████| 581/581 [00:06<00:00, 91.70it/s]\n",
      "predicting ensemble 7 : 100%|██████████| 601/601 [00:06<00:00, 90.60it/s]\n"
     ]
    },
    {
     "name": "stdout",
     "output_type": "stream",
     "text": [
      "1 duration_minutes 2\n"
     ]
    },
    {
     "name": "stderr",
     "output_type": "stream",
     "text": [
      "predicting ensemble 0 : 100%|██████████| 684/684 [00:07<00:00, 89.89it/s]\n",
      "predicting ensemble 1 : 100%|██████████| 666/666 [00:07<00:00, 89.45it/s]\n",
      "predicting ensemble 2 : 100%|██████████| 426/426 [00:04<00:00, 85.84it/s]\n",
      "predicting ensemble 3 : 100%|██████████| 403/403 [00:04<00:00, 88.51it/s]\n",
      "predicting ensemble 4 : 100%|██████████| 553/553 [00:06<00:00, 89.16it/s]\n",
      "predicting ensemble 5 : 100%|██████████| 580/580 [00:06<00:00, 90.42it/s]\n",
      "predicting ensemble 6 : 100%|██████████| 581/581 [00:06<00:00, 91.79it/s] \n",
      "predicting ensemble 7 : 100%|██████████| 601/601 [00:06<00:00, 91.72it/s]\n"
     ]
    },
    {
     "name": "stdout",
     "output_type": "stream",
     "text": [
      "1 duration_minutes 3\n"
     ]
    },
    {
     "name": "stderr",
     "output_type": "stream",
     "text": [
      "predicting ensemble 0 : 100%|██████████| 684/684 [00:07<00:00, 91.34it/s]\n",
      "predicting ensemble 1 : 100%|██████████| 666/666 [00:07<00:00, 91.28it/s]\n",
      "predicting ensemble 2 : 100%|██████████| 426/426 [00:04<00:00, 85.91it/s]\n",
      "predicting ensemble 3 : 100%|██████████| 403/403 [00:04<00:00, 90.29it/s]\n",
      "predicting ensemble 4 : 100%|██████████| 553/553 [00:06<00:00, 90.32it/s]\n",
      "predicting ensemble 5 : 100%|██████████| 580/580 [00:06<00:00, 88.17it/s]\n",
      "predicting ensemble 6 : 100%|██████████| 581/581 [00:06<00:00, 90.33it/s]\n",
      "predicting ensemble 7 : 100%|██████████| 601/601 [00:06<00:00, 91.47it/s]\n"
     ]
    },
    {
     "name": "stdout",
     "output_type": "stream",
     "text": [
      "1 duration_minutes 4\n"
     ]
    },
    {
     "name": "stderr",
     "output_type": "stream",
     "text": [
      "predicting ensemble 0 : 100%|██████████| 684/684 [00:07<00:00, 91.20it/s]\n",
      "predicting ensemble 1 : 100%|██████████| 666/666 [00:07<00:00, 86.67it/s]\n",
      "predicting ensemble 2 : 100%|██████████| 426/426 [00:05<00:00, 78.79it/s]\n",
      "predicting ensemble 3 : 100%|██████████| 403/403 [00:04<00:00, 90.40it/s]\n",
      "predicting ensemble 4 : 100%|██████████| 553/553 [00:05<00:00, 95.61it/s] \n",
      "predicting ensemble 5 : 100%|██████████| 580/580 [00:06<00:00, 94.38it/s] \n",
      "predicting ensemble 6 : 100%|██████████| 581/581 [00:06<00:00, 91.89it/s] \n",
      "predicting ensemble 7 : 100%|██████████| 601/601 [00:07<00:00, 83.64it/s]\n"
     ]
    },
    {
     "name": "stdout",
     "output_type": "stream",
     "text": [
      "2 Traveling 0\n"
     ]
    },
    {
     "name": "stderr",
     "output_type": "stream",
     "text": [
      "predicting ensemble 0 : 100%|██████████| 684/684 [00:07<00:00, 87.88it/s]\n",
      "predicting ensemble 1 : 100%|██████████| 666/666 [00:07<00:00, 87.53it/s] \n",
      "predicting ensemble 2 : 100%|██████████| 426/426 [00:05<00:00, 75.46it/s]\n",
      "predicting ensemble 3 : 100%|██████████| 403/403 [00:05<00:00, 80.30it/s]\n",
      "predicting ensemble 4 : 100%|██████████| 553/553 [00:06<00:00, 83.63it/s] \n",
      "predicting ensemble 5 : 100%|██████████| 580/580 [00:06<00:00, 90.10it/s] \n",
      "predicting ensemble 6 : 100%|██████████| 581/581 [00:07<00:00, 78.88it/s]\n",
      "predicting ensemble 7 : 100%|██████████| 601/601 [00:06<00:00, 96.85it/s] \n"
     ]
    },
    {
     "name": "stdout",
     "output_type": "stream",
     "text": [
      "2 Traveling 1\n"
     ]
    },
    {
     "name": "stderr",
     "output_type": "stream",
     "text": [
      "predicting ensemble 0 : 100%|██████████| 684/684 [00:07<00:00, 90.66it/s] \n",
      "predicting ensemble 1 : 100%|██████████| 666/666 [00:06<00:00, 96.86it/s] \n",
      "predicting ensemble 2 : 100%|██████████| 426/426 [00:04<00:00, 90.78it/s]\n",
      "predicting ensemble 3 : 100%|██████████| 403/403 [00:04<00:00, 94.53it/s] \n",
      "predicting ensemble 4 : 100%|██████████| 553/553 [00:06<00:00, 91.92it/s] \n",
      "predicting ensemble 5 : 100%|██████████| 580/580 [00:06<00:00, 87.94it/s]\n",
      "predicting ensemble 6 : 100%|██████████| 581/581 [00:06<00:00, 92.44it/s] \n",
      "predicting ensemble 7 : 100%|██████████| 601/601 [00:06<00:00, 92.46it/s] \n"
     ]
    },
    {
     "name": "stdout",
     "output_type": "stream",
     "text": [
      "2 Traveling 2\n"
     ]
    },
    {
     "name": "stderr",
     "output_type": "stream",
     "text": [
      "predicting ensemble 0 : 100%|██████████| 684/684 [00:07<00:00, 93.81it/s] \n",
      "predicting ensemble 1 : 100%|██████████| 666/666 [00:07<00:00, 89.61it/s]\n",
      "predicting ensemble 2 : 100%|██████████| 426/426 [00:04<00:00, 89.76it/s]\n",
      "predicting ensemble 3 : 100%|██████████| 403/403 [00:04<00:00, 89.96it/s] \n",
      "predicting ensemble 4 : 100%|██████████| 553/553 [00:07<00:00, 78.81it/s] \n",
      "predicting ensemble 5 : 100%|██████████| 580/580 [00:06<00:00, 84.14it/s]\n",
      "predicting ensemble 6 : 100%|██████████| 581/581 [00:06<00:00, 89.16it/s]\n",
      "predicting ensemble 7 : 100%|██████████| 601/601 [00:06<00:00, 88.55it/s]\n"
     ]
    },
    {
     "name": "stdout",
     "output_type": "stream",
     "text": [
      "2 Traveling 3\n"
     ]
    },
    {
     "name": "stderr",
     "output_type": "stream",
     "text": [
      "predicting ensemble 0 : 100%|██████████| 684/684 [00:08<00:00, 82.71it/s]\n",
      "predicting ensemble 1 : 100%|██████████| 666/666 [00:07<00:00, 89.18it/s]\n",
      "predicting ensemble 2 : 100%|██████████| 426/426 [00:05<00:00, 84.79it/s]\n",
      "predicting ensemble 3 : 100%|██████████| 403/403 [00:04<00:00, 86.81it/s]\n",
      "predicting ensemble 4 : 100%|██████████| 553/553 [00:06<00:00, 88.59it/s]\n",
      "predicting ensemble 5 : 100%|██████████| 580/580 [00:06<00:00, 89.04it/s]\n",
      "predicting ensemble 6 : 100%|██████████| 581/581 [00:06<00:00, 90.64it/s]\n",
      "predicting ensemble 7 : 100%|██████████| 601/601 [00:06<00:00, 90.86it/s]\n"
     ]
    },
    {
     "name": "stdout",
     "output_type": "stream",
     "text": [
      "2 Traveling 4\n"
     ]
    },
    {
     "name": "stderr",
     "output_type": "stream",
     "text": [
      "predicting ensemble 0 : 100%|██████████| 684/684 [00:07<00:00, 87.85it/s]\n",
      "predicting ensemble 1 : 100%|██████████| 666/666 [00:07<00:00, 91.02it/s]\n",
      "predicting ensemble 2 : 100%|██████████| 426/426 [00:05<00:00, 84.56it/s]\n",
      "predicting ensemble 3 : 100%|██████████| 403/403 [00:04<00:00, 89.12it/s]\n",
      "predicting ensemble 4 : 100%|██████████| 553/553 [00:06<00:00, 88.38it/s]\n",
      "predicting ensemble 5 : 100%|██████████| 580/580 [00:06<00:00, 88.67it/s]\n",
      "predicting ensemble 6 : 100%|██████████| 581/581 [00:06<00:00, 91.32it/s]\n",
      "predicting ensemble 7 : 100%|██████████| 601/601 [00:06<00:00, 90.96it/s]\n"
     ]
    },
    {
     "name": "stdout",
     "output_type": "stream",
     "text": [
      "3 Stationary 0\n"
     ]
    },
    {
     "name": "stderr",
     "output_type": "stream",
     "text": [
      "predicting ensemble 0 : 100%|██████████| 684/684 [00:07<00:00, 89.58it/s]\n",
      "predicting ensemble 1 : 100%|██████████| 666/666 [00:07<00:00, 89.20it/s]\n",
      "predicting ensemble 2 : 100%|██████████| 426/426 [00:04<00:00, 85.92it/s]\n",
      "predicting ensemble 3 : 100%|██████████| 403/403 [00:04<00:00, 86.60it/s]\n",
      "predicting ensemble 4 : 100%|██████████| 553/553 [00:06<00:00, 89.06it/s]\n",
      "predicting ensemble 5 : 100%|██████████| 580/580 [00:06<00:00, 88.93it/s]\n",
      "predicting ensemble 6 : 100%|██████████| 581/581 [00:06<00:00, 90.99it/s]\n",
      "predicting ensemble 7 : 100%|██████████| 601/601 [00:06<00:00, 91.13it/s]\n"
     ]
    },
    {
     "name": "stdout",
     "output_type": "stream",
     "text": [
      "3 Stationary 1\n"
     ]
    },
    {
     "name": "stderr",
     "output_type": "stream",
     "text": [
      "predicting ensemble 0 : 100%|██████████| 684/684 [00:07<00:00, 89.04it/s]\n",
      "predicting ensemble 1 : 100%|██████████| 666/666 [00:07<00:00, 91.23it/s] \n",
      "predicting ensemble 2 : 100%|██████████| 426/426 [00:05<00:00, 79.81it/s]\n",
      "predicting ensemble 3 : 100%|██████████| 403/403 [00:04<00:00, 86.70it/s]\n",
      "predicting ensemble 4 : 100%|██████████| 553/553 [00:06<00:00, 89.67it/s]\n",
      "predicting ensemble 5 : 100%|██████████| 580/580 [00:06<00:00, 87.47it/s]\n",
      "predicting ensemble 6 : 100%|██████████| 581/581 [00:06<00:00, 88.36it/s]\n",
      "predicting ensemble 7 : 100%|██████████| 601/601 [00:06<00:00, 88.85it/s]\n"
     ]
    },
    {
     "name": "stdout",
     "output_type": "stream",
     "text": [
      "3 Stationary 2\n"
     ]
    },
    {
     "name": "stderr",
     "output_type": "stream",
     "text": [
      "predicting ensemble 0 : 100%|██████████| 684/684 [00:07<00:00, 88.48it/s] \n",
      "predicting ensemble 1 : 100%|██████████| 666/666 [00:07<00:00, 84.51it/s]\n",
      "predicting ensemble 2 : 100%|██████████| 426/426 [00:05<00:00, 83.10it/s]\n",
      "predicting ensemble 3 : 100%|██████████| 403/403 [00:04<00:00, 87.92it/s]\n",
      "predicting ensemble 4 : 100%|██████████| 553/553 [00:06<00:00, 88.57it/s]\n",
      "predicting ensemble 5 : 100%|██████████| 580/580 [00:06<00:00, 84.02it/s]\n",
      "predicting ensemble 6 : 100%|██████████| 581/581 [00:06<00:00, 88.78it/s]\n",
      "predicting ensemble 7 : 100%|██████████| 601/601 [00:06<00:00, 89.63it/s]\n"
     ]
    },
    {
     "name": "stdout",
     "output_type": "stream",
     "text": [
      "3 Stationary 3\n"
     ]
    },
    {
     "name": "stderr",
     "output_type": "stream",
     "text": [
      "predicting ensemble 0 : 100%|██████████| 684/684 [00:07<00:00, 87.57it/s]\n",
      "predicting ensemble 1 : 100%|██████████| 666/666 [00:07<00:00, 89.44it/s]\n",
      "predicting ensemble 2 : 100%|██████████| 426/426 [00:04<00:00, 85.42it/s]\n",
      "predicting ensemble 3 : 100%|██████████| 403/403 [00:04<00:00, 86.79it/s]\n",
      "predicting ensemble 4 : 100%|██████████| 553/553 [00:06<00:00, 90.39it/s]\n",
      "predicting ensemble 5 : 100%|██████████| 580/580 [00:06<00:00, 87.81it/s]\n",
      "predicting ensemble 6 : 100%|██████████| 581/581 [00:06<00:00, 89.53it/s]\n",
      "predicting ensemble 7 : 100%|██████████| 601/601 [00:06<00:00, 91.75it/s]\n"
     ]
    },
    {
     "name": "stdout",
     "output_type": "stream",
     "text": [
      "3 Stationary 4\n"
     ]
    },
    {
     "name": "stderr",
     "output_type": "stream",
     "text": [
      "predicting ensemble 0 : 100%|██████████| 684/684 [00:07<00:00, 89.46it/s]\n",
      "predicting ensemble 1 : 100%|██████████| 666/666 [00:07<00:00, 89.05it/s]\n",
      "predicting ensemble 2 : 100%|██████████| 426/426 [00:04<00:00, 86.86it/s]\n",
      "predicting ensemble 3 : 100%|██████████| 403/403 [00:04<00:00, 88.78it/s]\n",
      "predicting ensemble 4 : 100%|██████████| 553/553 [00:06<00:00, 90.63it/s]\n",
      "predicting ensemble 5 : 100%|██████████| 580/580 [00:06<00:00, 89.59it/s]\n",
      "predicting ensemble 6 : 100%|██████████| 581/581 [00:06<00:00, 90.57it/s]\n",
      "predicting ensemble 7 : 100%|██████████| 601/601 [00:06<00:00, 90.50it/s]\n"
     ]
    },
    {
     "name": "stdout",
     "output_type": "stream",
     "text": [
      "4 Area 0\n"
     ]
    },
    {
     "name": "stderr",
     "output_type": "stream",
     "text": [
      "predicting ensemble 0 : 100%|██████████| 684/684 [00:07<00:00, 90.00it/s]\n",
      "predicting ensemble 1 : 100%|██████████| 666/666 [00:07<00:00, 90.93it/s] \n",
      "predicting ensemble 2 : 100%|██████████| 426/426 [00:04<00:00, 87.10it/s]\n",
      "predicting ensemble 3 : 100%|██████████| 403/403 [00:04<00:00, 88.09it/s]\n",
      "predicting ensemble 4 : 100%|██████████| 553/553 [00:06<00:00, 90.24it/s] \n",
      "predicting ensemble 5 : 100%|██████████| 580/580 [00:06<00:00, 87.96it/s]\n",
      "predicting ensemble 6 : 100%|██████████| 581/581 [00:06<00:00, 92.95it/s] \n",
      "predicting ensemble 7 : 100%|██████████| 601/601 [00:06<00:00, 91.57it/s]\n"
     ]
    },
    {
     "name": "stdout",
     "output_type": "stream",
     "text": [
      "4 Area 1\n"
     ]
    },
    {
     "name": "stderr",
     "output_type": "stream",
     "text": [
      "predicting ensemble 0 : 100%|██████████| 684/684 [00:07<00:00, 89.85it/s]\n",
      "predicting ensemble 1 : 100%|██████████| 666/666 [00:07<00:00, 89.77it/s] \n",
      "predicting ensemble 2 : 100%|██████████| 426/426 [00:04<00:00, 85.62it/s]\n",
      "predicting ensemble 3 : 100%|██████████| 403/403 [00:04<00:00, 87.50it/s]\n",
      "predicting ensemble 4 : 100%|██████████| 553/553 [00:06<00:00, 88.77it/s]\n",
      "predicting ensemble 5 : 100%|██████████| 580/580 [00:06<00:00, 89.53it/s]\n",
      "predicting ensemble 6 : 100%|██████████| 581/581 [00:06<00:00, 91.77it/s]\n",
      "predicting ensemble 7 : 100%|██████████| 601/601 [00:06<00:00, 90.66it/s]\n"
     ]
    },
    {
     "name": "stdout",
     "output_type": "stream",
     "text": [
      "4 Area 2\n"
     ]
    },
    {
     "name": "stderr",
     "output_type": "stream",
     "text": [
      "predicting ensemble 0 : 100%|██████████| 684/684 [00:07<00:00, 89.63it/s]\n",
      "predicting ensemble 1 : 100%|██████████| 666/666 [00:07<00:00, 87.27it/s]\n",
      "predicting ensemble 2 : 100%|██████████| 426/426 [00:05<00:00, 83.65it/s]\n",
      "predicting ensemble 3 : 100%|██████████| 403/403 [00:05<00:00, 67.70it/s]\n",
      "predicting ensemble 4 : 100%|██████████| 553/553 [00:06<00:00, 80.69it/s]\n",
      "predicting ensemble 5 : 100%|██████████| 580/580 [00:06<00:00, 86.66it/s]\n",
      "predicting ensemble 6 : 100%|██████████| 581/581 [00:06<00:00, 86.23it/s]\n",
      "predicting ensemble 7 : 100%|██████████| 601/601 [00:06<00:00, 92.45it/s] \n"
     ]
    },
    {
     "name": "stdout",
     "output_type": "stream",
     "text": [
      "4 Area 3\n"
     ]
    },
    {
     "name": "stderr",
     "output_type": "stream",
     "text": [
      "predicting ensemble 0 : 100%|██████████| 684/684 [00:07<00:00, 89.15it/s]\n",
      "predicting ensemble 1 : 100%|██████████| 666/666 [00:07<00:00, 90.24it/s] \n",
      "predicting ensemble 2 : 100%|██████████| 426/426 [00:04<00:00, 86.77it/s]\n",
      "predicting ensemble 3 : 100%|██████████| 403/403 [00:04<00:00, 87.34it/s]\n",
      "predicting ensemble 4 : 100%|██████████| 553/553 [00:06<00:00, 90.03it/s] \n",
      "predicting ensemble 5 : 100%|██████████| 580/580 [00:06<00:00, 85.79it/s]\n",
      "predicting ensemble 6 : 100%|██████████| 581/581 [00:06<00:00, 90.56it/s]\n",
      "predicting ensemble 7 : 100%|██████████| 601/601 [00:06<00:00, 91.74it/s]\n"
     ]
    },
    {
     "name": "stdout",
     "output_type": "stream",
     "text": [
      "4 Area 4\n"
     ]
    },
    {
     "name": "stderr",
     "output_type": "stream",
     "text": [
      "predicting ensemble 0 : 100%|██████████| 684/684 [00:07<00:00, 91.04it/s]\n",
      "predicting ensemble 1 : 100%|██████████| 666/666 [00:07<00:00, 89.30it/s]\n",
      "predicting ensemble 2 : 100%|██████████| 426/426 [00:04<00:00, 87.85it/s]\n",
      "predicting ensemble 3 : 100%|██████████| 403/403 [00:04<00:00, 85.51it/s]\n",
      "predicting ensemble 4 : 100%|██████████| 553/553 [00:06<00:00, 89.90it/s]\n",
      "predicting ensemble 5 : 100%|██████████| 580/580 [00:06<00:00, 90.07it/s]\n",
      "predicting ensemble 6 : 100%|██████████| 581/581 [00:06<00:00, 90.40it/s]\n",
      "predicting ensemble 7 : 100%|██████████| 601/601 [00:06<00:00, 92.29it/s]\n"
     ]
    },
    {
     "name": "stdout",
     "output_type": "stream",
     "text": [
      "5 obsvr_species_count 0\n"
     ]
    },
    {
     "name": "stderr",
     "output_type": "stream",
     "text": [
      "predicting ensemble 0 : 100%|██████████| 684/684 [00:07<00:00, 88.66it/s]\n",
      "predicting ensemble 1 : 100%|██████████| 666/666 [00:07<00:00, 87.73it/s] \n",
      "predicting ensemble 2 : 100%|██████████| 426/426 [00:04<00:00, 87.72it/s]\n",
      "predicting ensemble 3 : 100%|██████████| 403/403 [00:04<00:00, 88.06it/s]\n",
      "predicting ensemble 4 : 100%|██████████| 553/553 [00:06<00:00, 91.05it/s]\n",
      "predicting ensemble 5 : 100%|██████████| 580/580 [00:06<00:00, 89.59it/s]\n",
      "predicting ensemble 6 : 100%|██████████| 581/581 [00:06<00:00, 91.77it/s] \n",
      "predicting ensemble 7 : 100%|██████████| 601/601 [00:06<00:00, 92.56it/s] \n"
     ]
    },
    {
     "name": "stdout",
     "output_type": "stream",
     "text": [
      "5 obsvr_species_count 1\n"
     ]
    },
    {
     "name": "stderr",
     "output_type": "stream",
     "text": [
      "predicting ensemble 0 : 100%|██████████| 684/684 [00:07<00:00, 90.97it/s]\n",
      "predicting ensemble 1 : 100%|██████████| 666/666 [00:07<00:00, 89.86it/s] \n",
      "predicting ensemble 2 : 100%|██████████| 426/426 [00:04<00:00, 86.43it/s]\n",
      "predicting ensemble 3 : 100%|██████████| 403/403 [00:04<00:00, 88.94it/s] \n",
      "predicting ensemble 4 : 100%|██████████| 553/553 [00:06<00:00, 91.63it/s] \n",
      "predicting ensemble 5 : 100%|██████████| 580/580 [00:06<00:00, 87.59it/s]\n",
      "predicting ensemble 6 : 100%|██████████| 581/581 [00:06<00:00, 90.65it/s] \n",
      "predicting ensemble 7 : 100%|██████████| 601/601 [00:06<00:00, 92.47it/s]\n"
     ]
    },
    {
     "name": "stdout",
     "output_type": "stream",
     "text": [
      "5 obsvr_species_count 2\n"
     ]
    },
    {
     "name": "stderr",
     "output_type": "stream",
     "text": [
      "predicting ensemble 0 : 100%|██████████| 684/684 [00:07<00:00, 88.54it/s]\n",
      "predicting ensemble 1 : 100%|██████████| 666/666 [00:07<00:00, 89.49it/s] \n",
      "predicting ensemble 2 : 100%|██████████| 426/426 [00:04<00:00, 88.41it/s]\n",
      "predicting ensemble 3 : 100%|██████████| 403/403 [00:04<00:00, 86.63it/s] \n",
      "predicting ensemble 4 : 100%|██████████| 553/553 [00:06<00:00, 90.94it/s] \n",
      "predicting ensemble 5 : 100%|██████████| 580/580 [00:06<00:00, 89.86it/s]\n",
      "predicting ensemble 6 : 100%|██████████| 581/581 [00:06<00:00, 92.21it/s] \n",
      "predicting ensemble 7 : 100%|██████████| 601/601 [00:06<00:00, 92.08it/s]\n"
     ]
    },
    {
     "name": "stdout",
     "output_type": "stream",
     "text": [
      "5 obsvr_species_count 3\n"
     ]
    },
    {
     "name": "stderr",
     "output_type": "stream",
     "text": [
      "predicting ensemble 0 : 100%|██████████| 684/684 [00:07<00:00, 87.52it/s]\n",
      "predicting ensemble 1 : 100%|██████████| 666/666 [00:07<00:00, 91.29it/s] \n",
      "predicting ensemble 2 : 100%|██████████| 426/426 [00:04<00:00, 89.35it/s]\n",
      "predicting ensemble 3 : 100%|██████████| 403/403 [00:04<00:00, 88.65it/s] \n",
      "predicting ensemble 4 : 100%|██████████| 553/553 [00:06<00:00, 90.81it/s] \n",
      "predicting ensemble 5 : 100%|██████████| 580/580 [00:06<00:00, 90.29it/s]\n",
      "predicting ensemble 6 : 100%|██████████| 581/581 [00:06<00:00, 92.16it/s]\n",
      "predicting ensemble 7 : 100%|██████████| 601/601 [00:06<00:00, 92.91it/s]\n"
     ]
    },
    {
     "name": "stdout",
     "output_type": "stream",
     "text": [
      "5 obsvr_species_count 4\n"
     ]
    },
    {
     "name": "stderr",
     "output_type": "stream",
     "text": [
      "predicting ensemble 0 : 100%|██████████| 684/684 [00:07<00:00, 90.63it/s]\n",
      "predicting ensemble 1 : 100%|██████████| 666/666 [00:07<00:00, 90.87it/s]\n",
      "predicting ensemble 2 : 100%|██████████| 426/426 [00:04<00:00, 87.96it/s]\n",
      "predicting ensemble 3 : 100%|██████████| 403/403 [00:04<00:00, 88.74it/s]\n",
      "predicting ensemble 4 : 100%|██████████| 553/553 [00:06<00:00, 91.84it/s]\n",
      "predicting ensemble 5 : 100%|██████████| 580/580 [00:06<00:00, 88.70it/s]\n",
      "predicting ensemble 6 : 100%|██████████| 581/581 [00:06<00:00, 91.66it/s] \n",
      "predicting ensemble 7 : 100%|██████████| 601/601 [00:06<00:00, 93.13it/s] \n"
     ]
    },
    {
     "name": "stdout",
     "output_type": "stream",
     "text": [
      "6 DOY 0\n"
     ]
    },
    {
     "name": "stderr",
     "output_type": "stream",
     "text": [
      "predicting ensemble 0 : 100%|██████████| 684/684 [00:07<00:00, 90.13it/s]\n",
      "predicting ensemble 1 : 100%|██████████| 666/666 [00:07<00:00, 91.57it/s] \n",
      "predicting ensemble 2 : 100%|██████████| 426/426 [00:04<00:00, 87.72it/s] \n",
      "predicting ensemble 3 : 100%|██████████| 403/403 [00:04<00:00, 86.84it/s]\n",
      "predicting ensemble 4 : 100%|██████████| 553/553 [00:06<00:00, 91.46it/s] \n",
      "predicting ensemble 5 : 100%|██████████| 580/580 [00:06<00:00, 89.71it/s] \n",
      "predicting ensemble 6 : 100%|██████████| 581/581 [00:06<00:00, 91.28it/s] \n",
      "predicting ensemble 7 : 100%|██████████| 601/601 [00:06<00:00, 90.87it/s] \n"
     ]
    },
    {
     "name": "stdout",
     "output_type": "stream",
     "text": [
      "6 DOY 1\n"
     ]
    },
    {
     "name": "stderr",
     "output_type": "stream",
     "text": [
      "predicting ensemble 0 : 100%|██████████| 684/684 [00:07<00:00, 87.94it/s]\n",
      "predicting ensemble 1 : 100%|██████████| 666/666 [00:07<00:00, 92.47it/s] \n",
      "predicting ensemble 2 : 100%|██████████| 426/426 [00:04<00:00, 88.42it/s]\n",
      "predicting ensemble 3 : 100%|██████████| 403/403 [00:04<00:00, 89.73it/s] \n",
      "predicting ensemble 4 : 100%|██████████| 553/553 [00:06<00:00, 89.95it/s]\n",
      "predicting ensemble 5 : 100%|██████████| 580/580 [00:06<00:00, 90.27it/s] \n",
      "predicting ensemble 6 : 100%|██████████| 581/581 [00:06<00:00, 91.54it/s] \n",
      "predicting ensemble 7 : 100%|██████████| 601/601 [00:06<00:00, 91.99it/s] \n"
     ]
    },
    {
     "name": "stdout",
     "output_type": "stream",
     "text": [
      "6 DOY 2\n"
     ]
    },
    {
     "name": "stderr",
     "output_type": "stream",
     "text": [
      "predicting ensemble 0 : 100%|██████████| 684/684 [00:07<00:00, 89.53it/s]\n",
      "predicting ensemble 1 : 100%|██████████| 666/666 [00:07<00:00, 91.99it/s] \n",
      "predicting ensemble 2 : 100%|██████████| 426/426 [00:04<00:00, 88.61it/s]\n",
      "predicting ensemble 3 : 100%|██████████| 403/403 [00:04<00:00, 89.73it/s]\n",
      "predicting ensemble 4 : 100%|██████████| 553/553 [00:06<00:00, 89.92it/s] \n",
      "predicting ensemble 5 : 100%|██████████| 580/580 [00:06<00:00, 91.48it/s]\n",
      "predicting ensemble 6 : 100%|██████████| 581/581 [00:06<00:00, 90.69it/s] \n",
      "predicting ensemble 7 : 100%|██████████| 601/601 [00:06<00:00, 92.30it/s]\n"
     ]
    },
    {
     "name": "stdout",
     "output_type": "stream",
     "text": [
      "6 DOY 3\n"
     ]
    },
    {
     "name": "stderr",
     "output_type": "stream",
     "text": [
      "predicting ensemble 0 : 100%|██████████| 684/684 [00:07<00:00, 90.90it/s]\n",
      "predicting ensemble 1 : 100%|██████████| 666/666 [00:07<00:00, 92.20it/s] \n",
      "predicting ensemble 2 : 100%|██████████| 426/426 [00:04<00:00, 86.24it/s]\n",
      "predicting ensemble 3 : 100%|██████████| 403/403 [00:04<00:00, 90.74it/s]\n",
      "predicting ensemble 4 : 100%|██████████| 553/553 [00:06<00:00, 89.46it/s]\n",
      "predicting ensemble 5 : 100%|██████████| 580/580 [00:06<00:00, 90.28it/s]\n",
      "predicting ensemble 6 : 100%|██████████| 581/581 [00:06<00:00, 91.77it/s] \n",
      "predicting ensemble 7 : 100%|██████████| 601/601 [00:06<00:00, 91.11it/s] \n"
     ]
    },
    {
     "name": "stdout",
     "output_type": "stream",
     "text": [
      "6 DOY 4\n"
     ]
    },
    {
     "name": "stderr",
     "output_type": "stream",
     "text": [
      "predicting ensemble 0 : 100%|██████████| 684/684 [00:07<00:00, 88.52it/s]\n",
      "predicting ensemble 1 : 100%|██████████| 666/666 [00:07<00:00, 90.34it/s] \n",
      "predicting ensemble 2 : 100%|██████████| 426/426 [00:04<00:00, 87.28it/s]\n",
      "predicting ensemble 3 : 100%|██████████| 403/403 [00:04<00:00, 88.83it/s]\n",
      "predicting ensemble 4 : 100%|██████████| 553/553 [00:06<00:00, 89.08it/s]\n",
      "predicting ensemble 5 : 100%|██████████| 580/580 [00:06<00:00, 90.22it/s] \n",
      "predicting ensemble 6 : 100%|██████████| 581/581 [00:06<00:00, 91.70it/s] \n",
      "predicting ensemble 7 : 100%|██████████| 601/601 [00:06<00:00, 90.95it/s]\n"
     ]
    },
    {
     "name": "stdout",
     "output_type": "stream",
     "text": [
      "7 month 0\n"
     ]
    },
    {
     "name": "stderr",
     "output_type": "stream",
     "text": [
      "predicting ensemble 0 : 100%|██████████| 684/684 [00:07<00:00, 90.59it/s]\n",
      "predicting ensemble 1 : 100%|██████████| 666/666 [00:07<00:00, 92.52it/s] \n",
      "predicting ensemble 2 : 100%|██████████| 426/426 [00:04<00:00, 85.24it/s]\n",
      "predicting ensemble 3 : 100%|██████████| 403/403 [00:04<00:00, 83.89it/s]\n",
      "predicting ensemble 4 : 100%|██████████| 553/553 [00:06<00:00, 91.87it/s] \n",
      "predicting ensemble 5 : 100%|██████████| 580/580 [00:06<00:00, 89.51it/s]\n",
      "predicting ensemble 6 : 100%|██████████| 581/581 [00:06<00:00, 93.81it/s] \n",
      "predicting ensemble 7 : 100%|██████████| 601/601 [00:06<00:00, 93.89it/s] \n"
     ]
    },
    {
     "name": "stdout",
     "output_type": "stream",
     "text": [
      "7 month 1\n"
     ]
    },
    {
     "name": "stderr",
     "output_type": "stream",
     "text": [
      "predicting ensemble 0 : 100%|██████████| 684/684 [00:07<00:00, 90.99it/s] \n",
      "predicting ensemble 1 : 100%|██████████| 666/666 [00:07<00:00, 93.12it/s] \n",
      "predicting ensemble 2 : 100%|██████████| 426/426 [00:04<00:00, 87.61it/s]\n",
      "predicting ensemble 3 : 100%|██████████| 403/403 [00:04<00:00, 89.94it/s] \n",
      "predicting ensemble 4 : 100%|██████████| 553/553 [00:06<00:00, 87.99it/s]\n",
      "predicting ensemble 5 : 100%|██████████| 580/580 [00:06<00:00, 90.92it/s]\n",
      "predicting ensemble 6 : 100%|██████████| 581/581 [00:06<00:00, 91.69it/s] \n",
      "predicting ensemble 7 : 100%|██████████| 601/601 [00:06<00:00, 90.88it/s]\n"
     ]
    },
    {
     "name": "stdout",
     "output_type": "stream",
     "text": [
      "7 month 2\n"
     ]
    },
    {
     "name": "stderr",
     "output_type": "stream",
     "text": [
      "predicting ensemble 0 : 100%|██████████| 684/684 [00:07<00:00, 87.94it/s] \n",
      "predicting ensemble 1 : 100%|██████████| 666/666 [00:07<00:00, 92.34it/s] \n",
      "predicting ensemble 2 : 100%|██████████| 426/426 [00:04<00:00, 86.89it/s]\n",
      "predicting ensemble 3 : 100%|██████████| 403/403 [00:04<00:00, 89.51it/s]\n",
      "predicting ensemble 4 : 100%|██████████| 553/553 [00:06<00:00, 89.54it/s]\n",
      "predicting ensemble 5 : 100%|██████████| 580/580 [00:06<00:00, 90.61it/s]\n",
      "predicting ensemble 6 : 100%|██████████| 581/581 [00:06<00:00, 91.45it/s]\n",
      "predicting ensemble 7 : 100%|██████████| 601/601 [00:06<00:00, 91.43it/s]\n"
     ]
    },
    {
     "name": "stdout",
     "output_type": "stream",
     "text": [
      "7 month 3\n"
     ]
    },
    {
     "name": "stderr",
     "output_type": "stream",
     "text": [
      "predicting ensemble 0 : 100%|██████████| 684/684 [00:07<00:00, 91.08it/s]\n",
      "predicting ensemble 1 : 100%|██████████| 666/666 [00:07<00:00, 91.71it/s] \n",
      "predicting ensemble 2 : 100%|██████████| 426/426 [00:04<00:00, 86.51it/s]\n",
      "predicting ensemble 3 : 100%|██████████| 403/403 [00:04<00:00, 87.71it/s]\n",
      "predicting ensemble 4 : 100%|██████████| 553/553 [00:06<00:00, 90.27it/s]\n",
      "predicting ensemble 5 : 100%|██████████| 580/580 [00:06<00:00, 90.45it/s]\n",
      "predicting ensemble 6 : 100%|██████████| 581/581 [00:06<00:00, 92.64it/s] \n",
      "predicting ensemble 7 : 100%|██████████| 601/601 [00:06<00:00, 91.68it/s]\n"
     ]
    },
    {
     "name": "stdout",
     "output_type": "stream",
     "text": [
      "7 month 4\n"
     ]
    },
    {
     "name": "stderr",
     "output_type": "stream",
     "text": [
      "predicting ensemble 0 : 100%|██████████| 684/684 [00:07<00:00, 91.04it/s]\n",
      "predicting ensemble 1 : 100%|██████████| 666/666 [00:07<00:00, 89.69it/s]\n",
      "predicting ensemble 2 : 100%|██████████| 426/426 [00:04<00:00, 87.44it/s]\n",
      "predicting ensemble 3 : 100%|██████████| 403/403 [00:04<00:00, 89.52it/s] \n",
      "predicting ensemble 4 : 100%|██████████| 553/553 [00:06<00:00, 90.83it/s] \n",
      "predicting ensemble 5 : 100%|██████████| 580/580 [00:06<00:00, 91.74it/s]\n",
      "predicting ensemble 6 : 100%|██████████| 581/581 [00:06<00:00, 91.42it/s] \n",
      "predicting ensemble 7 : 100%|██████████| 601/601 [00:06<00:00, 89.12it/s]\n"
     ]
    },
    {
     "name": "stdout",
     "output_type": "stream",
     "text": [
      "8 week 0\n"
     ]
    },
    {
     "name": "stderr",
     "output_type": "stream",
     "text": [
      "predicting ensemble 0 : 100%|██████████| 684/684 [00:07<00:00, 90.75it/s]\n",
      "predicting ensemble 1 : 100%|██████████| 666/666 [00:07<00:00, 91.00it/s] \n",
      "predicting ensemble 2 : 100%|██████████| 426/426 [00:04<00:00, 87.53it/s]\n",
      "predicting ensemble 3 : 100%|██████████| 403/403 [00:04<00:00, 89.50it/s]\n",
      "predicting ensemble 4 : 100%|██████████| 553/553 [00:06<00:00, 90.13it/s]\n",
      "predicting ensemble 5 : 100%|██████████| 580/580 [00:06<00:00, 90.79it/s]\n",
      "predicting ensemble 6 : 100%|██████████| 581/581 [00:06<00:00, 91.71it/s] \n",
      "predicting ensemble 7 : 100%|██████████| 601/601 [00:06<00:00, 93.08it/s]\n"
     ]
    },
    {
     "name": "stdout",
     "output_type": "stream",
     "text": [
      "8 week 1\n"
     ]
    },
    {
     "name": "stderr",
     "output_type": "stream",
     "text": [
      "predicting ensemble 0 : 100%|██████████| 684/684 [00:07<00:00, 90.07it/s] \n",
      "predicting ensemble 1 : 100%|██████████| 666/666 [00:07<00:00, 89.25it/s] \n",
      "predicting ensemble 2 : 100%|██████████| 426/426 [00:04<00:00, 85.95it/s]\n",
      "predicting ensemble 3 : 100%|██████████| 403/403 [00:04<00:00, 87.98it/s]\n",
      "predicting ensemble 4 : 100%|██████████| 553/553 [00:06<00:00, 86.91it/s] \n",
      "predicting ensemble 5 : 100%|██████████| 580/580 [00:06<00:00, 89.62it/s]\n",
      "predicting ensemble 6 : 100%|██████████| 581/581 [00:06<00:00, 91.56it/s] \n",
      "predicting ensemble 7 : 100%|██████████| 601/601 [00:06<00:00, 93.10it/s] \n"
     ]
    },
    {
     "name": "stdout",
     "output_type": "stream",
     "text": [
      "8 week 2\n"
     ]
    },
    {
     "name": "stderr",
     "output_type": "stream",
     "text": [
      "predicting ensemble 0 : 100%|██████████| 684/684 [00:07<00:00, 90.41it/s]\n",
      "predicting ensemble 1 : 100%|██████████| 666/666 [00:07<00:00, 90.43it/s] \n",
      "predicting ensemble 2 : 100%|██████████| 426/426 [00:04<00:00, 88.63it/s]\n",
      "predicting ensemble 3 : 100%|██████████| 403/403 [00:04<00:00, 88.40it/s] \n",
      "predicting ensemble 4 : 100%|██████████| 553/553 [00:06<00:00, 89.66it/s]\n",
      "predicting ensemble 5 : 100%|██████████| 580/580 [00:06<00:00, 90.00it/s]\n",
      "predicting ensemble 6 : 100%|██████████| 581/581 [00:06<00:00, 91.19it/s] \n",
      "predicting ensemble 7 : 100%|██████████| 601/601 [00:06<00:00, 89.52it/s]\n"
     ]
    },
    {
     "name": "stdout",
     "output_type": "stream",
     "text": [
      "8 week 3\n"
     ]
    },
    {
     "name": "stderr",
     "output_type": "stream",
     "text": [
      "predicting ensemble 0 : 100%|██████████| 684/684 [00:07<00:00, 90.19it/s]\n",
      "predicting ensemble 1 : 100%|██████████| 666/666 [00:07<00:00, 91.17it/s] \n",
      "predicting ensemble 2 : 100%|██████████| 426/426 [00:04<00:00, 87.10it/s]\n",
      "predicting ensemble 3 : 100%|██████████| 403/403 [00:04<00:00, 87.25it/s] \n",
      "predicting ensemble 4 : 100%|██████████| 553/553 [00:06<00:00, 91.01it/s]\n",
      "predicting ensemble 5 : 100%|██████████| 580/580 [00:06<00:00, 89.98it/s]\n",
      "predicting ensemble 6 : 100%|██████████| 581/581 [00:06<00:00, 91.43it/s] \n",
      "predicting ensemble 7 : 100%|██████████| 601/601 [00:06<00:00, 93.15it/s]\n"
     ]
    },
    {
     "name": "stdout",
     "output_type": "stream",
     "text": [
      "8 week 4\n"
     ]
    },
    {
     "name": "stderr",
     "output_type": "stream",
     "text": [
      "predicting ensemble 0 : 100%|██████████| 684/684 [00:07<00:00, 88.85it/s]\n",
      "predicting ensemble 1 : 100%|██████████| 666/666 [00:07<00:00, 90.58it/s] \n",
      "predicting ensemble 2 : 100%|██████████| 426/426 [00:05<00:00, 83.38it/s]\n",
      "predicting ensemble 3 : 100%|██████████| 403/403 [00:04<00:00, 88.30it/s]\n",
      "predicting ensemble 4 : 100%|██████████| 553/553 [00:06<00:00, 90.71it/s] \n",
      "predicting ensemble 5 : 100%|██████████| 580/580 [00:06<00:00, 89.19it/s]\n",
      "predicting ensemble 6 : 100%|██████████| 581/581 [00:06<00:00, 91.59it/s] \n",
      "predicting ensemble 7 : 100%|██████████| 601/601 [00:06<00:00, 91.72it/s]\n"
     ]
    },
    {
     "name": "stdout",
     "output_type": "stream",
     "text": [
      "9 year 0\n"
     ]
    },
    {
     "name": "stderr",
     "output_type": "stream",
     "text": [
      "predicting ensemble 0 : 100%|██████████| 684/684 [00:07<00:00, 90.25it/s]\n",
      "predicting ensemble 1 : 100%|██████████| 666/666 [00:07<00:00, 89.93it/s]\n",
      "predicting ensemble 2 : 100%|██████████| 426/426 [00:04<00:00, 87.73it/s]\n",
      "predicting ensemble 3 : 100%|██████████| 403/403 [00:04<00:00, 88.62it/s] \n",
      "predicting ensemble 4 : 100%|██████████| 553/553 [00:06<00:00, 91.50it/s] \n",
      "predicting ensemble 5 : 100%|██████████| 580/580 [00:06<00:00, 91.32it/s]\n",
      "predicting ensemble 6 : 100%|██████████| 581/581 [00:06<00:00, 88.24it/s] \n",
      "predicting ensemble 7 : 100%|██████████| 601/601 [00:06<00:00, 92.44it/s]\n"
     ]
    },
    {
     "name": "stdout",
     "output_type": "stream",
     "text": [
      "9 year 1\n"
     ]
    },
    {
     "name": "stderr",
     "output_type": "stream",
     "text": [
      "predicting ensemble 0 : 100%|██████████| 684/684 [00:07<00:00, 90.73it/s]\n",
      "predicting ensemble 1 : 100%|██████████| 666/666 [00:07<00:00, 90.53it/s]\n",
      "predicting ensemble 2 : 100%|██████████| 426/426 [00:04<00:00, 86.67it/s]\n",
      "predicting ensemble 3 : 100%|██████████| 403/403 [00:04<00:00, 86.71it/s]\n",
      "predicting ensemble 4 : 100%|██████████| 553/553 [00:06<00:00, 90.33it/s]\n",
      "predicting ensemble 5 : 100%|██████████| 580/580 [00:06<00:00, 89.89it/s]\n",
      "predicting ensemble 6 : 100%|██████████| 581/581 [00:06<00:00, 91.67it/s] \n",
      "predicting ensemble 7 : 100%|██████████| 601/601 [00:06<00:00, 92.22it/s]\n"
     ]
    },
    {
     "name": "stdout",
     "output_type": "stream",
     "text": [
      "9 year 2\n"
     ]
    },
    {
     "name": "stderr",
     "output_type": "stream",
     "text": [
      "predicting ensemble 0 : 100%|██████████| 684/684 [00:07<00:00, 90.35it/s] \n",
      "predicting ensemble 1 : 100%|██████████| 666/666 [00:07<00:00, 88.27it/s] \n",
      "predicting ensemble 2 : 100%|██████████| 426/426 [00:04<00:00, 86.57it/s]\n",
      "predicting ensemble 3 : 100%|██████████| 403/403 [00:04<00:00, 90.00it/s]\n",
      "predicting ensemble 4 : 100%|██████████| 553/553 [00:06<00:00, 90.74it/s] \n",
      "predicting ensemble 5 : 100%|██████████| 580/580 [00:06<00:00, 90.30it/s]\n",
      "predicting ensemble 6 : 100%|██████████| 581/581 [00:06<00:00, 92.21it/s] \n",
      "predicting ensemble 7 : 100%|██████████| 601/601 [00:06<00:00, 93.17it/s] \n"
     ]
    },
    {
     "name": "stdout",
     "output_type": "stream",
     "text": [
      "9 year 3\n"
     ]
    },
    {
     "name": "stderr",
     "output_type": "stream",
     "text": [
      "predicting ensemble 0 : 100%|██████████| 684/684 [00:07<00:00, 88.21it/s] \n",
      "predicting ensemble 1 : 100%|██████████| 666/666 [00:07<00:00, 91.92it/s] \n",
      "predicting ensemble 2 : 100%|██████████| 426/426 [00:04<00:00, 87.99it/s]\n",
      "predicting ensemble 3 : 100%|██████████| 403/403 [00:04<00:00, 89.80it/s]\n",
      "predicting ensemble 4 : 100%|██████████| 553/553 [00:06<00:00, 86.38it/s]\n",
      "predicting ensemble 5 : 100%|██████████| 580/580 [00:06<00:00, 90.39it/s]\n",
      "predicting ensemble 6 : 100%|██████████| 581/581 [00:06<00:00, 89.02it/s] \n",
      "predicting ensemble 7 : 100%|██████████| 601/601 [00:06<00:00, 92.28it/s]\n"
     ]
    },
    {
     "name": "stdout",
     "output_type": "stream",
     "text": [
      "9 year 4\n"
     ]
    },
    {
     "name": "stderr",
     "output_type": "stream",
     "text": [
      "predicting ensemble 0 : 100%|██████████| 684/684 [00:07<00:00, 91.23it/s]\n",
      "predicting ensemble 1 : 100%|██████████| 666/666 [00:07<00:00, 91.49it/s] \n",
      "predicting ensemble 2 : 100%|██████████| 426/426 [00:04<00:00, 87.36it/s]\n",
      "predicting ensemble 3 : 100%|██████████| 403/403 [00:04<00:00, 88.49it/s] \n",
      "predicting ensemble 4 : 100%|██████████| 553/553 [00:06<00:00, 91.84it/s] \n",
      "predicting ensemble 5 : 100%|██████████| 580/580 [00:06<00:00, 91.07it/s]\n",
      "predicting ensemble 6 : 100%|██████████| 581/581 [00:06<00:00, 92.45it/s] \n",
      "predicting ensemble 7 : 100%|██████████| 601/601 [00:06<00:00, 90.13it/s]\n"
     ]
    },
    {
     "name": "stdout",
     "output_type": "stream",
     "text": [
      "10 time_observation_started_minute_of_day 0\n"
     ]
    },
    {
     "name": "stderr",
     "output_type": "stream",
     "text": [
      "predicting ensemble 0 : 100%|██████████| 684/684 [00:07<00:00, 90.05it/s]\n",
      "predicting ensemble 1 : 100%|██████████| 666/666 [00:07<00:00, 88.13it/s] \n",
      "predicting ensemble 2 : 100%|██████████| 426/426 [00:04<00:00, 87.49it/s]\n",
      "predicting ensemble 3 : 100%|██████████| 403/403 [00:04<00:00, 90.33it/s] \n",
      "predicting ensemble 4 : 100%|██████████| 553/553 [00:06<00:00, 90.77it/s]\n",
      "predicting ensemble 5 : 100%|██████████| 580/580 [00:06<00:00, 90.63it/s]\n",
      "predicting ensemble 6 : 100%|██████████| 581/581 [00:06<00:00, 93.95it/s] \n",
      "predicting ensemble 7 : 100%|██████████| 601/601 [00:06<00:00, 91.67it/s]\n"
     ]
    },
    {
     "name": "stdout",
     "output_type": "stream",
     "text": [
      "10 time_observation_started_minute_of_day 1\n"
     ]
    },
    {
     "name": "stderr",
     "output_type": "stream",
     "text": [
      "predicting ensemble 0 : 100%|██████████| 684/684 [00:07<00:00, 89.85it/s]\n",
      "predicting ensemble 1 : 100%|██████████| 666/666 [00:07<00:00, 91.40it/s] \n",
      "predicting ensemble 2 : 100%|██████████| 426/426 [00:04<00:00, 86.80it/s]\n",
      "predicting ensemble 3 : 100%|██████████| 403/403 [00:04<00:00, 87.27it/s] \n",
      "predicting ensemble 4 : 100%|██████████| 553/553 [00:06<00:00, 89.93it/s] \n",
      "predicting ensemble 5 : 100%|██████████| 580/580 [00:06<00:00, 89.26it/s]\n",
      "predicting ensemble 6 : 100%|██████████| 581/581 [00:06<00:00, 89.96it/s] \n",
      "predicting ensemble 7 : 100%|██████████| 601/601 [00:06<00:00, 92.42it/s]\n"
     ]
    },
    {
     "name": "stdout",
     "output_type": "stream",
     "text": [
      "10 time_observation_started_minute_of_day 2\n"
     ]
    },
    {
     "name": "stderr",
     "output_type": "stream",
     "text": [
      "predicting ensemble 0 : 100%|██████████| 684/684 [00:07<00:00, 91.09it/s]\n",
      "predicting ensemble 1 : 100%|██████████| 666/666 [00:07<00:00, 91.77it/s] \n",
      "predicting ensemble 2 : 100%|██████████| 426/426 [00:04<00:00, 85.75it/s]\n",
      "predicting ensemble 3 : 100%|██████████| 403/403 [00:04<00:00, 89.18it/s]\n",
      "predicting ensemble 4 : 100%|██████████| 553/553 [00:06<00:00, 90.20it/s]\n",
      "predicting ensemble 5 : 100%|██████████| 580/580 [00:06<00:00, 88.82it/s]\n",
      "predicting ensemble 6 : 100%|██████████| 581/581 [00:06<00:00, 93.50it/s] \n",
      "predicting ensemble 7 : 100%|██████████| 601/601 [00:08<00:00, 74.64it/s]\n"
     ]
    },
    {
     "name": "stdout",
     "output_type": "stream",
     "text": [
      "10 time_observation_started_minute_of_day 3\n"
     ]
    },
    {
     "name": "stderr",
     "output_type": "stream",
     "text": [
      "predicting ensemble 0 : 100%|██████████| 684/684 [00:07<00:00, 87.16it/s]\n",
      "predicting ensemble 1 : 100%|██████████| 666/666 [00:07<00:00, 86.72it/s] \n",
      "predicting ensemble 2 : 100%|██████████| 426/426 [00:05<00:00, 84.60it/s]\n",
      "predicting ensemble 3 : 100%|██████████| 403/403 [00:04<00:00, 86.88it/s]\n",
      "predicting ensemble 4 : 100%|██████████| 553/553 [00:06<00:00, 90.30it/s]\n",
      "predicting ensemble 5 : 100%|██████████| 580/580 [00:06<00:00, 91.09it/s]\n",
      "predicting ensemble 6 : 100%|██████████| 581/581 [00:06<00:00, 92.67it/s] \n",
      "predicting ensemble 7 : 100%|██████████| 601/601 [00:06<00:00, 87.16it/s]\n"
     ]
    },
    {
     "name": "stdout",
     "output_type": "stream",
     "text": [
      "10 time_observation_started_minute_of_day 4\n"
     ]
    },
    {
     "name": "stderr",
     "output_type": "stream",
     "text": [
      "predicting ensemble 0 : 100%|██████████| 684/684 [00:11<00:00, 61.70it/s]\n",
      "predicting ensemble 1 : 100%|██████████| 666/666 [00:08<00:00, 77.94it/s]\n",
      "predicting ensemble 2 : 100%|██████████| 426/426 [00:05<00:00, 83.78it/s]\n",
      "predicting ensemble 3 : 100%|██████████| 403/403 [00:04<00:00, 86.53it/s]\n",
      "predicting ensemble 4 : 100%|██████████| 553/553 [00:06<00:00, 89.15it/s]\n",
      "predicting ensemble 5 : 100%|██████████| 580/580 [00:06<00:00, 86.58it/s]\n",
      "predicting ensemble 6 : 100%|██████████| 581/581 [00:06<00:00, 91.61it/s]\n",
      "predicting ensemble 7 : 100%|██████████| 601/601 [00:06<00:00, 91.89it/s]\n"
     ]
    },
    {
     "name": "stdout",
     "output_type": "stream",
     "text": [
      "11 elevation_mean 0\n"
     ]
    },
    {
     "name": "stderr",
     "output_type": "stream",
     "text": [
      "predicting ensemble 0 : 100%|██████████| 684/684 [00:07<00:00, 89.38it/s]\n",
      "predicting ensemble 1 : 100%|██████████| 666/666 [00:07<00:00, 91.27it/s]\n",
      "predicting ensemble 2 : 100%|██████████| 426/426 [00:04<00:00, 87.15it/s]\n",
      "predicting ensemble 3 : 100%|██████████| 403/403 [00:04<00:00, 89.84it/s] \n",
      "predicting ensemble 4 : 100%|██████████| 553/553 [00:06<00:00, 90.27it/s]\n",
      "predicting ensemble 5 : 100%|██████████| 580/580 [00:06<00:00, 90.90it/s]\n",
      "predicting ensemble 6 : 100%|██████████| 581/581 [00:06<00:00, 92.00it/s] \n",
      "predicting ensemble 7 : 100%|██████████| 601/601 [00:06<00:00, 91.68it/s]\n"
     ]
    },
    {
     "name": "stdout",
     "output_type": "stream",
     "text": [
      "11 elevation_mean 1\n"
     ]
    },
    {
     "name": "stderr",
     "output_type": "stream",
     "text": [
      "predicting ensemble 0 : 100%|██████████| 684/684 [00:07<00:00, 91.18it/s]\n",
      "predicting ensemble 1 : 100%|██████████| 666/666 [00:07<00:00, 91.06it/s] \n",
      "predicting ensemble 2 : 100%|██████████| 426/426 [00:04<00:00, 87.28it/s]\n",
      "predicting ensemble 3 : 100%|██████████| 403/403 [00:04<00:00, 90.44it/s] \n",
      "predicting ensemble 4 : 100%|██████████| 553/553 [00:06<00:00, 88.70it/s]\n",
      "predicting ensemble 5 : 100%|██████████| 580/580 [00:06<00:00, 91.08it/s]\n",
      "predicting ensemble 6 : 100%|██████████| 581/581 [00:06<00:00, 92.36it/s] \n",
      "predicting ensemble 7 : 100%|██████████| 601/601 [00:06<00:00, 91.66it/s]\n"
     ]
    },
    {
     "name": "stdout",
     "output_type": "stream",
     "text": [
      "11 elevation_mean 2\n"
     ]
    },
    {
     "name": "stderr",
     "output_type": "stream",
     "text": [
      "predicting ensemble 0 : 100%|██████████| 684/684 [00:07<00:00, 92.13it/s] \n",
      "predicting ensemble 1 : 100%|██████████| 666/666 [00:07<00:00, 91.42it/s] \n",
      "predicting ensemble 2 : 100%|██████████| 426/426 [00:04<00:00, 88.63it/s]\n",
      "predicting ensemble 3 : 100%|██████████| 403/403 [00:04<00:00, 88.21it/s] \n",
      "predicting ensemble 4 : 100%|██████████| 553/553 [00:06<00:00, 90.65it/s] \n",
      "predicting ensemble 5 : 100%|██████████| 580/580 [00:06<00:00, 88.18it/s]\n",
      "predicting ensemble 6 : 100%|██████████| 581/581 [00:06<00:00, 91.97it/s] \n",
      "predicting ensemble 7 : 100%|██████████| 601/601 [00:06<00:00, 92.37it/s]\n"
     ]
    },
    {
     "name": "stdout",
     "output_type": "stream",
     "text": [
      "11 elevation_mean 3\n"
     ]
    },
    {
     "name": "stderr",
     "output_type": "stream",
     "text": [
      "predicting ensemble 0 : 100%|██████████| 684/684 [00:07<00:00, 90.02it/s]\n",
      "predicting ensemble 1 : 100%|██████████| 666/666 [00:07<00:00, 91.39it/s] \n",
      "predicting ensemble 2 : 100%|██████████| 426/426 [00:04<00:00, 88.14it/s]\n",
      "predicting ensemble 3 : 100%|██████████| 403/403 [00:04<00:00, 87.91it/s] \n",
      "predicting ensemble 4 : 100%|██████████| 553/553 [00:05<00:00, 92.39it/s] \n",
      "predicting ensemble 5 : 100%|██████████| 580/580 [00:06<00:00, 90.23it/s]\n",
      "predicting ensemble 6 : 100%|██████████| 581/581 [00:06<00:00, 92.43it/s] \n",
      "predicting ensemble 7 : 100%|██████████| 601/601 [00:06<00:00, 92.78it/s] \n"
     ]
    },
    {
     "name": "stdout",
     "output_type": "stream",
     "text": [
      "11 elevation_mean 4\n"
     ]
    },
    {
     "name": "stderr",
     "output_type": "stream",
     "text": [
      "predicting ensemble 0 : 100%|██████████| 684/684 [00:07<00:00, 91.35it/s] \n",
      "predicting ensemble 1 : 100%|██████████| 666/666 [00:07<00:00, 89.94it/s] \n",
      "predicting ensemble 2 : 100%|██████████| 426/426 [00:04<00:00, 87.33it/s]\n",
      "predicting ensemble 3 : 100%|██████████| 403/403 [00:04<00:00, 89.64it/s] \n",
      "predicting ensemble 4 : 100%|██████████| 553/553 [00:06<00:00, 91.45it/s] \n",
      "predicting ensemble 5 : 100%|██████████| 580/580 [00:06<00:00, 90.14it/s]\n",
      "predicting ensemble 6 : 100%|██████████| 581/581 [00:06<00:00, 92.20it/s] \n",
      "predicting ensemble 7 : 100%|██████████| 601/601 [00:06<00:00, 91.96it/s]\n"
     ]
    },
    {
     "name": "stdout",
     "output_type": "stream",
     "text": [
      "12 slope_mean 0\n"
     ]
    },
    {
     "name": "stderr",
     "output_type": "stream",
     "text": [
      "predicting ensemble 0 : 100%|██████████| 684/684 [00:07<00:00, 90.82it/s]\n",
      "predicting ensemble 1 : 100%|██████████| 666/666 [00:07<00:00, 90.27it/s]\n",
      "predicting ensemble 2 : 100%|██████████| 426/426 [00:04<00:00, 88.29it/s]\n",
      "predicting ensemble 3 : 100%|██████████| 403/403 [00:04<00:00, 87.48it/s]\n",
      "predicting ensemble 4 : 100%|██████████| 553/553 [00:06<00:00, 91.41it/s] \n",
      "predicting ensemble 5 : 100%|██████████| 580/580 [00:06<00:00, 87.88it/s]\n",
      "predicting ensemble 6 : 100%|██████████| 581/581 [00:06<00:00, 92.43it/s] \n",
      "predicting ensemble 7 : 100%|██████████| 601/601 [00:06<00:00, 93.47it/s]\n"
     ]
    },
    {
     "name": "stdout",
     "output_type": "stream",
     "text": [
      "12 slope_mean 1\n"
     ]
    },
    {
     "name": "stderr",
     "output_type": "stream",
     "text": [
      "predicting ensemble 0 : 100%|██████████| 684/684 [00:07<00:00, 90.19it/s] \n",
      "predicting ensemble 1 : 100%|██████████| 666/666 [00:07<00:00, 90.38it/s] \n",
      "predicting ensemble 2 : 100%|██████████| 426/426 [00:04<00:00, 87.69it/s]\n",
      "predicting ensemble 3 : 100%|██████████| 403/403 [00:04<00:00, 89.93it/s]\n",
      "predicting ensemble 4 : 100%|██████████| 553/553 [00:06<00:00, 91.22it/s]\n",
      "predicting ensemble 5 : 100%|██████████| 580/580 [00:06<00:00, 90.19it/s] \n",
      "predicting ensemble 6 : 100%|██████████| 581/581 [00:06<00:00, 93.46it/s] \n",
      "predicting ensemble 7 : 100%|██████████| 601/601 [00:06<00:00, 93.34it/s] \n"
     ]
    },
    {
     "name": "stdout",
     "output_type": "stream",
     "text": [
      "12 slope_mean 2\n"
     ]
    },
    {
     "name": "stderr",
     "output_type": "stream",
     "text": [
      "predicting ensemble 0 : 100%|██████████| 684/684 [00:07<00:00, 90.81it/s]\n",
      "predicting ensemble 1 : 100%|██████████| 666/666 [00:07<00:00, 88.64it/s] \n",
      "predicting ensemble 2 : 100%|██████████| 426/426 [00:04<00:00, 89.18it/s]\n",
      "predicting ensemble 3 : 100%|██████████| 403/403 [00:04<00:00, 88.22it/s]\n",
      "predicting ensemble 4 : 100%|██████████| 553/553 [00:06<00:00, 90.81it/s]\n",
      "predicting ensemble 5 : 100%|██████████| 580/580 [00:06<00:00, 90.24it/s]\n",
      "predicting ensemble 6 : 100%|██████████| 581/581 [00:06<00:00, 91.63it/s] \n",
      "predicting ensemble 7 : 100%|██████████| 601/601 [00:06<00:00, 92.05it/s]\n"
     ]
    },
    {
     "name": "stdout",
     "output_type": "stream",
     "text": [
      "12 slope_mean 3\n"
     ]
    },
    {
     "name": "stderr",
     "output_type": "stream",
     "text": [
      "predicting ensemble 0 : 100%|██████████| 684/684 [00:07<00:00, 91.03it/s]\n",
      "predicting ensemble 1 : 100%|██████████| 666/666 [00:07<00:00, 91.07it/s] \n",
      "predicting ensemble 2 : 100%|██████████| 426/426 [00:04<00:00, 88.48it/s]\n",
      "predicting ensemble 3 : 100%|██████████| 403/403 [00:04<00:00, 88.00it/s]\n",
      "predicting ensemble 4 : 100%|██████████| 553/553 [00:06<00:00, 88.63it/s]\n",
      "predicting ensemble 5 : 100%|██████████| 580/580 [00:06<00:00, 91.42it/s]\n",
      "predicting ensemble 6 : 100%|██████████| 581/581 [00:06<00:00, 91.48it/s] \n",
      "predicting ensemble 7 : 100%|██████████| 601/601 [00:07<00:00, 82.49it/s]\n"
     ]
    },
    {
     "name": "stdout",
     "output_type": "stream",
     "text": [
      "12 slope_mean 4\n"
     ]
    },
    {
     "name": "stderr",
     "output_type": "stream",
     "text": [
      "predicting ensemble 0 : 100%|██████████| 684/684 [00:07<00:00, 88.85it/s] \n",
      "predicting ensemble 1 : 100%|██████████| 666/666 [00:07<00:00, 91.16it/s] \n",
      "predicting ensemble 2 : 100%|██████████| 426/426 [00:04<00:00, 87.58it/s]\n",
      "predicting ensemble 3 : 100%|██████████| 403/403 [00:04<00:00, 90.34it/s]\n",
      "predicting ensemble 4 : 100%|██████████| 553/553 [00:06<00:00, 89.43it/s]\n",
      "predicting ensemble 5 : 100%|██████████| 580/580 [00:06<00:00, 91.05it/s]\n",
      "predicting ensemble 6 : 100%|██████████| 581/581 [00:06<00:00, 93.97it/s] \n",
      "predicting ensemble 7 : 100%|██████████| 601/601 [00:06<00:00, 92.51it/s]\n"
     ]
    },
    {
     "name": "stdout",
     "output_type": "stream",
     "text": [
      "13 eastness_mean 0\n"
     ]
    },
    {
     "name": "stderr",
     "output_type": "stream",
     "text": [
      "predicting ensemble 0 : 100%|██████████| 684/684 [00:07<00:00, 88.98it/s] \n",
      "predicting ensemble 1 : 100%|██████████| 666/666 [00:07<00:00, 88.98it/s]\n",
      "predicting ensemble 2 : 100%|██████████| 426/426 [00:04<00:00, 86.90it/s]\n",
      "predicting ensemble 3 : 100%|██████████| 403/403 [00:04<00:00, 90.30it/s] \n",
      "predicting ensemble 4 : 100%|██████████| 553/553 [00:06<00:00, 91.34it/s] \n",
      "predicting ensemble 5 : 100%|██████████| 580/580 [00:06<00:00, 91.85it/s]\n",
      "predicting ensemble 6 : 100%|██████████| 581/581 [00:06<00:00, 93.36it/s] \n",
      "predicting ensemble 7 : 100%|██████████| 601/601 [00:06<00:00, 93.79it/s] \n"
     ]
    },
    {
     "name": "stdout",
     "output_type": "stream",
     "text": [
      "13 eastness_mean 1\n"
     ]
    },
    {
     "name": "stderr",
     "output_type": "stream",
     "text": [
      "predicting ensemble 0 : 100%|██████████| 684/684 [00:07<00:00, 91.83it/s] \n",
      "predicting ensemble 1 : 100%|██████████| 666/666 [00:07<00:00, 94.00it/s] \n",
      "predicting ensemble 2 : 100%|██████████| 426/426 [00:04<00:00, 87.13it/s]\n",
      "predicting ensemble 3 : 100%|██████████| 403/403 [00:04<00:00, 89.37it/s]\n",
      "predicting ensemble 4 : 100%|██████████| 553/553 [00:06<00:00, 91.14it/s] \n",
      "predicting ensemble 5 : 100%|██████████| 580/580 [00:06<00:00, 91.88it/s]\n",
      "predicting ensemble 6 : 100%|██████████| 581/581 [00:06<00:00, 94.49it/s] \n",
      "predicting ensemble 7 : 100%|██████████| 601/601 [00:06<00:00, 93.21it/s] \n"
     ]
    },
    {
     "name": "stdout",
     "output_type": "stream",
     "text": [
      "13 eastness_mean 2\n"
     ]
    },
    {
     "name": "stderr",
     "output_type": "stream",
     "text": [
      "predicting ensemble 0 : 100%|██████████| 684/684 [00:07<00:00, 90.45it/s] \n",
      "predicting ensemble 1 : 100%|██████████| 666/666 [00:07<00:00, 93.60it/s] \n",
      "predicting ensemble 2 : 100%|██████████| 426/426 [00:04<00:00, 87.59it/s]\n",
      "predicting ensemble 3 : 100%|██████████| 403/403 [00:04<00:00, 91.36it/s] \n",
      "predicting ensemble 4 : 100%|██████████| 553/553 [00:06<00:00, 90.95it/s] \n",
      "predicting ensemble 5 : 100%|██████████| 580/580 [00:06<00:00, 92.65it/s]\n",
      "predicting ensemble 6 : 100%|██████████| 581/581 [00:06<00:00, 93.16it/s] \n",
      "predicting ensemble 7 : 100%|██████████| 601/601 [00:06<00:00, 91.91it/s]\n"
     ]
    },
    {
     "name": "stdout",
     "output_type": "stream",
     "text": [
      "13 eastness_mean 3\n"
     ]
    },
    {
     "name": "stderr",
     "output_type": "stream",
     "text": [
      "predicting ensemble 0 : 100%|██████████| 684/684 [00:07<00:00, 91.85it/s] \n",
      "predicting ensemble 1 : 100%|██████████| 666/666 [00:07<00:00, 88.98it/s]\n",
      "predicting ensemble 2 : 100%|██████████| 426/426 [00:04<00:00, 87.35it/s]\n",
      "predicting ensemble 3 : 100%|██████████| 403/403 [00:04<00:00, 90.07it/s] \n",
      "predicting ensemble 4 : 100%|██████████| 553/553 [00:06<00:00, 91.53it/s] \n",
      "predicting ensemble 5 : 100%|██████████| 580/580 [00:06<00:00, 92.71it/s]\n",
      "predicting ensemble 6 : 100%|██████████| 581/581 [00:06<00:00, 92.25it/s]\n",
      "predicting ensemble 7 : 100%|██████████| 601/601 [00:06<00:00, 93.20it/s] \n"
     ]
    },
    {
     "name": "stdout",
     "output_type": "stream",
     "text": [
      "13 eastness_mean 4\n"
     ]
    },
    {
     "name": "stderr",
     "output_type": "stream",
     "text": [
      "predicting ensemble 0 : 100%|██████████| 684/684 [00:07<00:00, 92.37it/s] \n",
      "predicting ensemble 1 : 100%|██████████| 666/666 [00:07<00:00, 92.52it/s] \n",
      "predicting ensemble 2 : 100%|██████████| 426/426 [00:04<00:00, 87.51it/s]\n",
      "predicting ensemble 3 : 100%|██████████| 403/403 [00:04<00:00, 89.88it/s]\n",
      "predicting ensemble 4 : 100%|██████████| 553/553 [00:06<00:00, 91.33it/s] \n",
      "predicting ensemble 5 : 100%|██████████| 580/580 [00:06<00:00, 88.80it/s]\n",
      "predicting ensemble 6 : 100%|██████████| 581/581 [00:06<00:00, 93.51it/s] \n",
      "predicting ensemble 7 : 100%|██████████| 601/601 [00:06<00:00, 93.23it/s] \n"
     ]
    },
    {
     "name": "stdout",
     "output_type": "stream",
     "text": [
      "14 northness_mean 0\n"
     ]
    },
    {
     "name": "stderr",
     "output_type": "stream",
     "text": [
      "predicting ensemble 0 : 100%|██████████| 684/684 [00:07<00:00, 91.22it/s] \n",
      "predicting ensemble 1 : 100%|██████████| 666/666 [00:07<00:00, 93.41it/s] \n",
      "predicting ensemble 2 : 100%|██████████| 426/426 [00:04<00:00, 88.42it/s]\n",
      "predicting ensemble 3 : 100%|██████████| 403/403 [00:04<00:00, 90.76it/s] \n",
      "predicting ensemble 4 : 100%|██████████| 553/553 [00:06<00:00, 91.35it/s] \n",
      "predicting ensemble 5 : 100%|██████████| 580/580 [00:06<00:00, 91.94it/s]\n",
      "predicting ensemble 6 : 100%|██████████| 581/581 [00:06<00:00, 93.34it/s] \n",
      "predicting ensemble 7 : 100%|██████████| 601/601 [00:06<00:00, 94.10it/s] \n"
     ]
    },
    {
     "name": "stdout",
     "output_type": "stream",
     "text": [
      "14 northness_mean 1\n"
     ]
    },
    {
     "name": "stderr",
     "output_type": "stream",
     "text": [
      "predicting ensemble 0 : 100%|██████████| 684/684 [00:07<00:00, 91.76it/s] \n",
      "predicting ensemble 1 : 100%|██████████| 666/666 [00:07<00:00, 91.37it/s] \n",
      "predicting ensemble 2 : 100%|██████████| 426/426 [00:04<00:00, 89.40it/s]\n",
      "predicting ensemble 3 : 100%|██████████| 403/403 [00:04<00:00, 89.42it/s] \n",
      "predicting ensemble 4 : 100%|██████████| 553/553 [00:05<00:00, 93.00it/s] \n",
      "predicting ensemble 5 : 100%|██████████| 580/580 [00:06<00:00, 92.26it/s]\n",
      "predicting ensemble 6 : 100%|██████████| 581/581 [00:06<00:00, 91.75it/s] \n",
      "predicting ensemble 7 : 100%|██████████| 601/601 [00:06<00:00, 94.66it/s] \n"
     ]
    },
    {
     "name": "stdout",
     "output_type": "stream",
     "text": [
      "14 northness_mean 2\n"
     ]
    },
    {
     "name": "stderr",
     "output_type": "stream",
     "text": [
      "predicting ensemble 0 : 100%|██████████| 684/684 [00:07<00:00, 91.78it/s] \n",
      "predicting ensemble 1 : 100%|██████████| 666/666 [00:07<00:00, 93.31it/s] \n",
      "predicting ensemble 2 : 100%|██████████| 426/426 [00:04<00:00, 88.37it/s]\n",
      "predicting ensemble 3 : 100%|██████████| 403/403 [00:04<00:00, 90.49it/s]\n",
      "predicting ensemble 4 : 100%|██████████| 553/553 [00:05<00:00, 93.65it/s] \n",
      "predicting ensemble 5 : 100%|██████████| 580/580 [00:06<00:00, 89.42it/s]\n",
      "predicting ensemble 6 : 100%|██████████| 581/581 [00:06<00:00, 94.47it/s] \n",
      "predicting ensemble 7 : 100%|██████████| 601/601 [00:06<00:00, 93.05it/s] \n"
     ]
    },
    {
     "name": "stdout",
     "output_type": "stream",
     "text": [
      "14 northness_mean 3\n"
     ]
    },
    {
     "name": "stderr",
     "output_type": "stream",
     "text": [
      "predicting ensemble 0 : 100%|██████████| 684/684 [00:07<00:00, 91.80it/s] \n",
      "predicting ensemble 1 : 100%|██████████| 666/666 [00:07<00:00, 93.36it/s] \n",
      "predicting ensemble 2 : 100%|██████████| 426/426 [00:04<00:00, 87.55it/s]\n",
      "predicting ensemble 3 : 100%|██████████| 403/403 [00:04<00:00, 91.28it/s]\n",
      "predicting ensemble 4 : 100%|██████████| 553/553 [00:06<00:00, 91.95it/s] \n",
      "predicting ensemble 5 : 100%|██████████| 580/580 [00:06<00:00, 91.63it/s]\n",
      "predicting ensemble 6 : 100%|██████████| 581/581 [00:06<00:00, 93.76it/s] \n",
      "predicting ensemble 7 : 100%|██████████| 601/601 [00:06<00:00, 94.11it/s] \n"
     ]
    },
    {
     "name": "stdout",
     "output_type": "stream",
     "text": [
      "14 northness_mean 4\n"
     ]
    },
    {
     "name": "stderr",
     "output_type": "stream",
     "text": [
      "predicting ensemble 0 : 100%|██████████| 684/684 [00:07<00:00, 91.86it/s] \n",
      "predicting ensemble 1 : 100%|██████████| 666/666 [00:07<00:00, 90.93it/s] \n",
      "predicting ensemble 2 : 100%|██████████| 426/426 [00:04<00:00, 87.95it/s]\n",
      "predicting ensemble 3 : 100%|██████████| 403/403 [00:04<00:00, 90.32it/s]\n",
      "predicting ensemble 4 : 100%|██████████| 553/553 [00:06<00:00, 91.65it/s]\n",
      "predicting ensemble 5 : 100%|██████████| 580/580 [00:06<00:00, 91.91it/s]\n",
      "predicting ensemble 6 : 100%|██████████| 581/581 [00:06<00:00, 91.86it/s] \n",
      "predicting ensemble 7 : 100%|██████████| 601/601 [00:06<00:00, 92.65it/s] \n"
     ]
    },
    {
     "name": "stdout",
     "output_type": "stream",
     "text": [
      "15 elevation_std 0\n"
     ]
    },
    {
     "name": "stderr",
     "output_type": "stream",
     "text": [
      "predicting ensemble 0 : 100%|██████████| 684/684 [00:07<00:00, 92.14it/s] \n",
      "predicting ensemble 1 : 100%|██████████| 666/666 [00:07<00:00, 92.59it/s] \n",
      "predicting ensemble 2 : 100%|██████████| 426/426 [00:04<00:00, 87.53it/s]\n",
      "predicting ensemble 3 : 100%|██████████| 403/403 [00:04<00:00, 88.35it/s] \n",
      "predicting ensemble 4 : 100%|██████████| 553/553 [00:06<00:00, 90.94it/s]\n",
      "predicting ensemble 5 : 100%|██████████| 580/580 [00:06<00:00, 89.94it/s]\n",
      "predicting ensemble 6 : 100%|██████████| 581/581 [00:06<00:00, 93.34it/s] \n",
      "predicting ensemble 7 : 100%|██████████| 601/601 [00:06<00:00, 93.41it/s] \n"
     ]
    },
    {
     "name": "stdout",
     "output_type": "stream",
     "text": [
      "15 elevation_std 1\n"
     ]
    },
    {
     "name": "stderr",
     "output_type": "stream",
     "text": [
      "predicting ensemble 0 : 100%|██████████| 684/684 [00:07<00:00, 92.01it/s] \n",
      "predicting ensemble 1 : 100%|██████████| 666/666 [00:07<00:00, 92.92it/s] \n",
      "predicting ensemble 2 : 100%|██████████| 426/426 [00:04<00:00, 89.08it/s]\n",
      "predicting ensemble 3 : 100%|██████████| 403/403 [00:04<00:00, 90.71it/s]\n",
      "predicting ensemble 4 : 100%|██████████| 553/553 [00:06<00:00, 91.64it/s] \n",
      "predicting ensemble 5 : 100%|██████████| 580/580 [00:06<00:00, 92.29it/s]\n",
      "predicting ensemble 6 : 100%|██████████| 581/581 [00:06<00:00, 93.85it/s] \n",
      "predicting ensemble 7 : 100%|██████████| 601/601 [00:06<00:00, 94.09it/s] \n"
     ]
    },
    {
     "name": "stdout",
     "output_type": "stream",
     "text": [
      "15 elevation_std 2\n"
     ]
    },
    {
     "name": "stderr",
     "output_type": "stream",
     "text": [
      "predicting ensemble 0 : 100%|██████████| 684/684 [00:07<00:00, 90.17it/s] \n",
      "predicting ensemble 1 : 100%|██████████| 666/666 [00:07<00:00, 93.28it/s] \n",
      "predicting ensemble 2 : 100%|██████████| 426/426 [00:04<00:00, 88.85it/s]\n",
      "predicting ensemble 3 : 100%|██████████| 403/403 [00:04<00:00, 91.22it/s] \n",
      "predicting ensemble 4 : 100%|██████████| 553/553 [00:05<00:00, 93.79it/s] \n",
      "predicting ensemble 5 : 100%|██████████| 580/580 [00:06<00:00, 93.83it/s] \n",
      "predicting ensemble 6 : 100%|██████████| 581/581 [00:06<00:00, 93.19it/s] \n",
      "predicting ensemble 7 : 100%|██████████| 601/601 [00:06<00:00, 94.35it/s] \n"
     ]
    },
    {
     "name": "stdout",
     "output_type": "stream",
     "text": [
      "15 elevation_std 3\n"
     ]
    },
    {
     "name": "stderr",
     "output_type": "stream",
     "text": [
      "predicting ensemble 0 : 100%|██████████| 684/684 [00:07<00:00, 92.30it/s] \n",
      "predicting ensemble 1 : 100%|██████████| 666/666 [00:07<00:00, 88.46it/s] \n",
      "predicting ensemble 2 : 100%|██████████| 426/426 [00:04<00:00, 86.43it/s]\n",
      "predicting ensemble 3 : 100%|██████████| 403/403 [00:04<00:00, 87.72it/s] \n",
      "predicting ensemble 4 : 100%|██████████| 553/553 [00:06<00:00, 91.85it/s]\n",
      "predicting ensemble 5 : 100%|██████████| 580/580 [00:06<00:00, 87.97it/s] \n",
      "predicting ensemble 6 : 100%|██████████| 581/581 [00:06<00:00, 93.43it/s] \n",
      "predicting ensemble 7 : 100%|██████████| 601/601 [00:06<00:00, 94.65it/s] \n"
     ]
    },
    {
     "name": "stdout",
     "output_type": "stream",
     "text": [
      "15 elevation_std 4\n"
     ]
    },
    {
     "name": "stderr",
     "output_type": "stream",
     "text": [
      "predicting ensemble 0 : 100%|██████████| 684/684 [00:07<00:00, 91.35it/s] \n",
      "predicting ensemble 1 : 100%|██████████| 666/666 [00:07<00:00, 92.99it/s] \n",
      "predicting ensemble 2 : 100%|██████████| 426/426 [00:04<00:00, 89.36it/s]\n",
      "predicting ensemble 3 : 100%|██████████| 403/403 [00:04<00:00, 91.42it/s] \n",
      "predicting ensemble 4 : 100%|██████████| 553/553 [00:06<00:00, 91.53it/s] \n",
      "predicting ensemble 5 : 100%|██████████| 580/580 [00:06<00:00, 90.25it/s]\n",
      "predicting ensemble 6 : 100%|██████████| 581/581 [00:06<00:00, 94.07it/s] \n",
      "predicting ensemble 7 : 100%|██████████| 601/601 [00:06<00:00, 91.77it/s] \n"
     ]
    },
    {
     "name": "stdout",
     "output_type": "stream",
     "text": [
      "16 slope_std 0\n"
     ]
    },
    {
     "name": "stderr",
     "output_type": "stream",
     "text": [
      "predicting ensemble 0 : 100%|██████████| 684/684 [00:07<00:00, 92.34it/s] \n",
      "predicting ensemble 1 : 100%|██████████| 666/666 [00:07<00:00, 90.89it/s]\n",
      "predicting ensemble 2 : 100%|██████████| 426/426 [00:04<00:00, 88.97it/s]\n",
      "predicting ensemble 3 : 100%|██████████| 403/403 [00:04<00:00, 91.36it/s] \n",
      "predicting ensemble 4 : 100%|██████████| 553/553 [00:06<00:00, 90.23it/s] \n",
      "predicting ensemble 5 : 100%|██████████| 580/580 [00:06<00:00, 91.70it/s] \n",
      "predicting ensemble 6 : 100%|██████████| 581/581 [00:06<00:00, 93.48it/s] \n",
      "predicting ensemble 7 : 100%|██████████| 601/601 [00:06<00:00, 94.24it/s] \n"
     ]
    },
    {
     "name": "stdout",
     "output_type": "stream",
     "text": [
      "16 slope_std 1\n"
     ]
    },
    {
     "name": "stderr",
     "output_type": "stream",
     "text": [
      "predicting ensemble 0 : 100%|██████████| 684/684 [00:07<00:00, 93.15it/s] \n",
      "predicting ensemble 1 : 100%|██████████| 666/666 [00:07<00:00, 94.20it/s] \n",
      "predicting ensemble 2 : 100%|██████████| 426/426 [00:04<00:00, 86.00it/s]\n",
      "predicting ensemble 3 : 100%|██████████| 403/403 [00:04<00:00, 89.04it/s]\n",
      "predicting ensemble 4 : 100%|██████████| 553/553 [00:06<00:00, 87.13it/s]\n",
      "predicting ensemble 5 : 100%|██████████| 580/580 [00:07<00:00, 76.10it/s]\n",
      "predicting ensemble 6 : 100%|██████████| 581/581 [00:06<00:00, 94.84it/s] \n",
      "predicting ensemble 7 : 100%|██████████| 601/601 [00:06<00:00, 93.16it/s] \n"
     ]
    },
    {
     "name": "stdout",
     "output_type": "stream",
     "text": [
      "16 slope_std 2\n"
     ]
    },
    {
     "name": "stderr",
     "output_type": "stream",
     "text": [
      "predicting ensemble 0 : 100%|██████████| 684/684 [00:07<00:00, 91.78it/s] \n",
      "predicting ensemble 1 : 100%|██████████| 666/666 [00:07<00:00, 93.54it/s] \n",
      "predicting ensemble 2 : 100%|██████████| 426/426 [00:04<00:00, 88.04it/s]\n",
      "predicting ensemble 3 : 100%|██████████| 403/403 [00:04<00:00, 91.81it/s] \n",
      "predicting ensemble 4 : 100%|██████████| 553/553 [00:06<00:00, 91.67it/s] \n",
      "predicting ensemble 5 : 100%|██████████| 580/580 [00:06<00:00, 92.27it/s] \n",
      "predicting ensemble 6 : 100%|██████████| 581/581 [00:06<00:00, 94.53it/s] \n",
      "predicting ensemble 7 : 100%|██████████| 601/601 [00:06<00:00, 93.78it/s] \n"
     ]
    },
    {
     "name": "stdout",
     "output_type": "stream",
     "text": [
      "16 slope_std 3\n"
     ]
    },
    {
     "name": "stderr",
     "output_type": "stream",
     "text": [
      "predicting ensemble 0 : 100%|██████████| 684/684 [00:07<00:00, 92.71it/s] \n",
      "predicting ensemble 1 : 100%|██████████| 666/666 [00:07<00:00, 92.71it/s] \n",
      "predicting ensemble 2 : 100%|██████████| 426/426 [00:04<00:00, 89.42it/s]\n",
      "predicting ensemble 3 : 100%|██████████| 403/403 [00:04<00:00, 91.51it/s] \n",
      "predicting ensemble 4 : 100%|██████████| 553/553 [00:05<00:00, 93.20it/s] \n",
      "predicting ensemble 5 : 100%|██████████| 580/580 [00:06<00:00, 92.51it/s] \n",
      "predicting ensemble 6 : 100%|██████████| 581/581 [00:06<00:00, 93.44it/s] \n",
      "predicting ensemble 7 : 100%|██████████| 601/601 [00:06<00:00, 93.45it/s] \n"
     ]
    },
    {
     "name": "stdout",
     "output_type": "stream",
     "text": [
      "16 slope_std 4\n"
     ]
    },
    {
     "name": "stderr",
     "output_type": "stream",
     "text": [
      "predicting ensemble 0 : 100%|██████████| 684/684 [00:07<00:00, 92.83it/s] \n",
      "predicting ensemble 1 : 100%|██████████| 666/666 [00:07<00:00, 93.79it/s] \n",
      "predicting ensemble 2 : 100%|██████████| 426/426 [00:04<00:00, 89.74it/s]\n",
      "predicting ensemble 3 : 100%|██████████| 403/403 [00:04<00:00, 90.81it/s] \n",
      "predicting ensemble 4 : 100%|██████████| 553/553 [00:06<00:00, 91.91it/s] \n",
      "predicting ensemble 5 : 100%|██████████| 580/580 [00:06<00:00, 90.27it/s]\n",
      "predicting ensemble 6 : 100%|██████████| 581/581 [00:06<00:00, 94.72it/s] \n",
      "predicting ensemble 7 : 100%|██████████| 601/601 [00:06<00:00, 93.05it/s] \n"
     ]
    },
    {
     "name": "stdout",
     "output_type": "stream",
     "text": [
      "17 eastness_std 0\n"
     ]
    },
    {
     "name": "stderr",
     "output_type": "stream",
     "text": [
      "predicting ensemble 0 : 100%|██████████| 684/684 [00:07<00:00, 93.15it/s] \n",
      "predicting ensemble 1 : 100%|██████████| 666/666 [00:07<00:00, 93.26it/s] \n",
      "predicting ensemble 2 : 100%|██████████| 426/426 [00:04<00:00, 89.74it/s]\n",
      "predicting ensemble 3 : 100%|██████████| 403/403 [00:04<00:00, 89.87it/s] \n",
      "predicting ensemble 4 : 100%|██████████| 553/553 [00:05<00:00, 92.76it/s] \n",
      "predicting ensemble 5 : 100%|██████████| 580/580 [00:06<00:00, 91.34it/s]\n",
      "predicting ensemble 6 : 100%|██████████| 581/581 [00:06<00:00, 93.66it/s] \n",
      "predicting ensemble 7 : 100%|██████████| 601/601 [00:06<00:00, 94.48it/s] \n"
     ]
    },
    {
     "name": "stdout",
     "output_type": "stream",
     "text": [
      "17 eastness_std 1\n"
     ]
    },
    {
     "name": "stderr",
     "output_type": "stream",
     "text": [
      "predicting ensemble 0 : 100%|██████████| 684/684 [00:07<00:00, 90.24it/s]\n",
      "predicting ensemble 1 : 100%|██████████| 666/666 [00:07<00:00, 91.87it/s] \n",
      "predicting ensemble 2 : 100%|██████████| 426/426 [00:04<00:00, 89.09it/s]\n",
      "predicting ensemble 3 : 100%|██████████| 403/403 [00:04<00:00, 91.53it/s] \n",
      "predicting ensemble 4 : 100%|██████████| 553/553 [00:06<00:00, 91.99it/s] \n",
      "predicting ensemble 5 : 100%|██████████| 580/580 [00:06<00:00, 91.04it/s]\n",
      "predicting ensemble 6 : 100%|██████████| 581/581 [00:06<00:00, 92.13it/s] \n",
      "predicting ensemble 7 : 100%|██████████| 601/601 [00:06<00:00, 93.51it/s]\n"
     ]
    },
    {
     "name": "stdout",
     "output_type": "stream",
     "text": [
      "17 eastness_std 2\n"
     ]
    },
    {
     "name": "stderr",
     "output_type": "stream",
     "text": [
      "predicting ensemble 0 : 100%|██████████| 684/684 [00:07<00:00, 91.73it/s]\n",
      "predicting ensemble 1 : 100%|██████████| 666/666 [00:07<00:00, 92.69it/s] \n",
      "predicting ensemble 2 : 100%|██████████| 426/426 [00:04<00:00, 88.47it/s]\n",
      "predicting ensemble 3 : 100%|██████████| 403/403 [00:04<00:00, 88.16it/s]\n",
      "predicting ensemble 4 : 100%|██████████| 553/553 [00:06<00:00, 82.94it/s] \n",
      "predicting ensemble 5 : 100%|██████████| 580/580 [00:06<00:00, 91.55it/s] \n",
      "predicting ensemble 6 : 100%|██████████| 581/581 [00:06<00:00, 93.53it/s] \n",
      "predicting ensemble 7 : 100%|██████████| 601/601 [00:06<00:00, 94.55it/s] \n"
     ]
    },
    {
     "name": "stdout",
     "output_type": "stream",
     "text": [
      "17 eastness_std 3\n"
     ]
    },
    {
     "name": "stderr",
     "output_type": "stream",
     "text": [
      "predicting ensemble 0 : 100%|██████████| 684/684 [00:07<00:00, 91.00it/s] \n",
      "predicting ensemble 1 : 100%|██████████| 666/666 [00:07<00:00, 93.05it/s] \n",
      "predicting ensemble 2 : 100%|██████████| 426/426 [00:04<00:00, 88.78it/s]\n",
      "predicting ensemble 3 : 100%|██████████| 403/403 [00:04<00:00, 90.43it/s] \n",
      "predicting ensemble 4 : 100%|██████████| 553/553 [00:06<00:00, 91.45it/s] \n",
      "predicting ensemble 5 : 100%|██████████| 580/580 [00:06<00:00, 89.99it/s]\n",
      "predicting ensemble 6 : 100%|██████████| 581/581 [00:06<00:00, 93.58it/s] \n",
      "predicting ensemble 7 : 100%|██████████| 601/601 [00:06<00:00, 92.45it/s]\n"
     ]
    },
    {
     "name": "stdout",
     "output_type": "stream",
     "text": [
      "17 eastness_std 4\n"
     ]
    },
    {
     "name": "stderr",
     "output_type": "stream",
     "text": [
      "predicting ensemble 0 : 100%|██████████| 684/684 [00:07<00:00, 88.09it/s] \n",
      "predicting ensemble 1 : 100%|██████████| 666/666 [00:07<00:00, 92.34it/s] \n",
      "predicting ensemble 2 : 100%|██████████| 426/426 [00:04<00:00, 88.62it/s]\n",
      "predicting ensemble 3 : 100%|██████████| 403/403 [00:04<00:00, 91.55it/s] \n",
      "predicting ensemble 4 : 100%|██████████| 553/553 [00:06<00:00, 91.50it/s] \n",
      "predicting ensemble 5 : 100%|██████████| 580/580 [00:06<00:00, 92.83it/s]\n",
      "predicting ensemble 6 : 100%|██████████| 581/581 [00:06<00:00, 93.29it/s] \n",
      "predicting ensemble 7 : 100%|██████████| 601/601 [00:06<00:00, 93.71it/s] \n"
     ]
    },
    {
     "name": "stdout",
     "output_type": "stream",
     "text": [
      "18 northness_std 0\n"
     ]
    },
    {
     "name": "stderr",
     "output_type": "stream",
     "text": [
      "predicting ensemble 0 : 100%|██████████| 684/684 [00:07<00:00, 92.27it/s] \n",
      "predicting ensemble 1 : 100%|██████████| 666/666 [00:07<00:00, 93.01it/s] \n",
      "predicting ensemble 2 : 100%|██████████| 426/426 [00:04<00:00, 88.53it/s]\n",
      "predicting ensemble 3 : 100%|██████████| 403/403 [00:04<00:00, 88.30it/s]\n",
      "predicting ensemble 4 : 100%|██████████| 553/553 [00:06<00:00, 92.02it/s] \n",
      "predicting ensemble 5 : 100%|██████████| 580/580 [00:06<00:00, 91.93it/s]\n",
      "predicting ensemble 6 : 100%|██████████| 581/581 [00:06<00:00, 94.36it/s] \n",
      "predicting ensemble 7 : 100%|██████████| 601/601 [00:06<00:00, 93.73it/s] \n"
     ]
    },
    {
     "name": "stdout",
     "output_type": "stream",
     "text": [
      "18 northness_std 1\n"
     ]
    },
    {
     "name": "stderr",
     "output_type": "stream",
     "text": [
      "predicting ensemble 0 : 100%|██████████| 684/684 [00:07<00:00, 91.20it/s] \n",
      "predicting ensemble 1 : 100%|██████████| 666/666 [00:07<00:00, 93.96it/s] \n",
      "predicting ensemble 2 : 100%|██████████| 426/426 [00:04<00:00, 88.68it/s]\n",
      "predicting ensemble 3 : 100%|██████████| 403/403 [00:04<00:00, 92.85it/s] \n",
      "predicting ensemble 4 : 100%|██████████| 553/553 [00:05<00:00, 93.21it/s] \n",
      "predicting ensemble 5 : 100%|██████████| 580/580 [00:06<00:00, 91.44it/s]\n",
      "predicting ensemble 6 : 100%|██████████| 581/581 [00:06<00:00, 93.87it/s] \n",
      "predicting ensemble 7 : 100%|██████████| 601/601 [00:06<00:00, 89.93it/s] \n"
     ]
    },
    {
     "name": "stdout",
     "output_type": "stream",
     "text": [
      "18 northness_std 2\n"
     ]
    },
    {
     "name": "stderr",
     "output_type": "stream",
     "text": [
      "predicting ensemble 0 : 100%|██████████| 684/684 [00:07<00:00, 92.13it/s] \n",
      "predicting ensemble 1 : 100%|██████████| 666/666 [00:07<00:00, 91.98it/s] \n",
      "predicting ensemble 2 : 100%|██████████| 426/426 [00:04<00:00, 88.17it/s]\n",
      "predicting ensemble 3 : 100%|██████████| 403/403 [00:04<00:00, 91.70it/s] \n",
      "predicting ensemble 4 : 100%|██████████| 553/553 [00:06<00:00, 90.74it/s]\n",
      "predicting ensemble 5 : 100%|██████████| 580/580 [00:06<00:00, 93.69it/s]\n",
      "predicting ensemble 6 : 100%|██████████| 581/581 [00:06<00:00, 93.71it/s] \n",
      "predicting ensemble 7 : 100%|██████████| 601/601 [00:06<00:00, 93.81it/s] \n"
     ]
    },
    {
     "name": "stdout",
     "output_type": "stream",
     "text": [
      "18 northness_std 3\n"
     ]
    },
    {
     "name": "stderr",
     "output_type": "stream",
     "text": [
      "predicting ensemble 0 : 100%|██████████| 684/684 [00:07<00:00, 92.08it/s] \n",
      "predicting ensemble 1 : 100%|██████████| 666/666 [00:07<00:00, 92.36it/s] \n",
      "predicting ensemble 2 : 100%|██████████| 426/426 [00:04<00:00, 89.93it/s]\n",
      "predicting ensemble 3 : 100%|██████████| 403/403 [00:04<00:00, 89.53it/s]\n",
      "predicting ensemble 4 : 100%|██████████| 553/553 [00:06<00:00, 90.11it/s] \n",
      "predicting ensemble 5 : 100%|██████████| 580/580 [00:06<00:00, 92.51it/s]\n",
      "predicting ensemble 6 : 100%|██████████| 581/581 [00:06<00:00, 93.81it/s] \n",
      "predicting ensemble 7 : 100%|██████████| 601/601 [00:06<00:00, 94.33it/s] \n"
     ]
    },
    {
     "name": "stdout",
     "output_type": "stream",
     "text": [
      "18 northness_std 4\n"
     ]
    },
    {
     "name": "stderr",
     "output_type": "stream",
     "text": [
      "predicting ensemble 0 : 100%|██████████| 684/684 [00:07<00:00, 90.73it/s] \n",
      "predicting ensemble 1 : 100%|██████████| 666/666 [00:07<00:00, 93.59it/s] \n",
      "predicting ensemble 2 : 100%|██████████| 426/426 [00:04<00:00, 89.18it/s]\n",
      "predicting ensemble 3 : 100%|██████████| 403/403 [00:04<00:00, 91.11it/s] \n",
      "predicting ensemble 4 : 100%|██████████| 553/553 [00:06<00:00, 91.62it/s] \n",
      "predicting ensemble 5 : 100%|██████████| 580/580 [00:07<00:00, 76.74it/s]\n",
      "predicting ensemble 6 : 100%|██████████| 581/581 [00:06<00:00, 90.24it/s] \n",
      "predicting ensemble 7 : 100%|██████████| 601/601 [00:06<00:00, 89.46it/s] \n"
     ]
    },
    {
     "name": "stdout",
     "output_type": "stream",
     "text": [
      "19 prec 0\n"
     ]
    },
    {
     "name": "stderr",
     "output_type": "stream",
     "text": [
      "predicting ensemble 0 : 100%|██████████| 684/684 [00:08<00:00, 81.06it/s] \n",
      "predicting ensemble 1 : 100%|██████████| 666/666 [00:08<00:00, 81.19it/s]\n",
      "predicting ensemble 2 : 100%|██████████| 426/426 [00:04<00:00, 88.40it/s]\n",
      "predicting ensemble 3 : 100%|██████████| 403/403 [00:04<00:00, 88.73it/s]\n",
      "predicting ensemble 4 : 100%|██████████| 553/553 [00:06<00:00, 92.04it/s] \n",
      "predicting ensemble 5 : 100%|██████████| 580/580 [00:06<00:00, 93.56it/s]\n",
      "predicting ensemble 6 : 100%|██████████| 581/581 [00:06<00:00, 89.67it/s]\n",
      "predicting ensemble 7 : 100%|██████████| 601/601 [00:06<00:00, 92.15it/s] \n"
     ]
    },
    {
     "name": "stdout",
     "output_type": "stream",
     "text": [
      "19 prec 1\n"
     ]
    },
    {
     "name": "stderr",
     "output_type": "stream",
     "text": [
      "predicting ensemble 0 : 100%|██████████| 684/684 [00:07<00:00, 91.07it/s]\n",
      "predicting ensemble 1 : 100%|██████████| 666/666 [00:08<00:00, 82.74it/s] \n",
      "predicting ensemble 2 : 100%|██████████| 426/426 [00:05<00:00, 77.70it/s]\n",
      "predicting ensemble 3 : 100%|██████████| 403/403 [00:04<00:00, 92.55it/s] \n",
      "predicting ensemble 4 : 100%|██████████| 553/553 [00:05<00:00, 93.18it/s] \n",
      "predicting ensemble 5 : 100%|██████████| 580/580 [00:06<00:00, 94.22it/s] \n",
      "predicting ensemble 6 : 100%|██████████| 581/581 [00:06<00:00, 94.09it/s] \n",
      "predicting ensemble 7 : 100%|██████████| 601/601 [00:06<00:00, 94.46it/s] \n"
     ]
    },
    {
     "name": "stdout",
     "output_type": "stream",
     "text": [
      "19 prec 2\n"
     ]
    },
    {
     "name": "stderr",
     "output_type": "stream",
     "text": [
      "predicting ensemble 0 : 100%|██████████| 684/684 [00:07<00:00, 92.67it/s] \n",
      "predicting ensemble 1 : 100%|██████████| 666/666 [00:07<00:00, 91.53it/s] \n",
      "predicting ensemble 2 : 100%|██████████| 426/426 [00:04<00:00, 85.25it/s]\n",
      "predicting ensemble 3 : 100%|██████████| 403/403 [00:04<00:00, 92.52it/s] \n",
      "predicting ensemble 4 : 100%|██████████| 553/553 [00:05<00:00, 94.49it/s] \n",
      "predicting ensemble 5 : 100%|██████████| 580/580 [00:06<00:00, 94.75it/s] \n",
      "predicting ensemble 6 : 100%|██████████| 581/581 [00:06<00:00, 94.93it/s] \n",
      "predicting ensemble 7 : 100%|██████████| 601/601 [00:06<00:00, 91.77it/s] \n"
     ]
    },
    {
     "name": "stdout",
     "output_type": "stream",
     "text": [
      "19 prec 3\n"
     ]
    },
    {
     "name": "stderr",
     "output_type": "stream",
     "text": [
      "predicting ensemble 0 : 100%|██████████| 684/684 [00:07<00:00, 94.26it/s] \n",
      "predicting ensemble 1 : 100%|██████████| 666/666 [00:07<00:00, 94.53it/s] \n",
      "predicting ensemble 2 : 100%|██████████| 426/426 [00:04<00:00, 89.85it/s]\n",
      "predicting ensemble 3 : 100%|██████████| 403/403 [00:04<00:00, 92.52it/s] \n",
      "predicting ensemble 4 : 100%|██████████| 553/553 [00:05<00:00, 92.22it/s] \n",
      "predicting ensemble 5 : 100%|██████████| 580/580 [00:06<00:00, 93.66it/s] \n",
      "predicting ensemble 6 : 100%|██████████| 581/581 [00:06<00:00, 95.66it/s] \n",
      "predicting ensemble 7 : 100%|██████████| 601/601 [00:06<00:00, 94.79it/s] \n"
     ]
    },
    {
     "name": "stdout",
     "output_type": "stream",
     "text": [
      "19 prec 4\n"
     ]
    },
    {
     "name": "stderr",
     "output_type": "stream",
     "text": [
      "predicting ensemble 0 : 100%|██████████| 684/684 [00:07<00:00, 93.31it/s] \n",
      "predicting ensemble 1 : 100%|██████████| 666/666 [00:07<00:00, 92.56it/s] \n",
      "predicting ensemble 2 : 100%|██████████| 426/426 [00:04<00:00, 88.91it/s]\n",
      "predicting ensemble 3 : 100%|██████████| 403/403 [00:04<00:00, 93.18it/s] \n",
      "predicting ensemble 4 : 100%|██████████| 553/553 [00:05<00:00, 94.30it/s] \n",
      "predicting ensemble 5 : 100%|██████████| 580/580 [00:06<00:00, 92.98it/s] \n",
      "predicting ensemble 6 : 100%|██████████| 581/581 [00:06<00:00, 94.12it/s] \n",
      "predicting ensemble 7 : 100%|██████████| 601/601 [00:06<00:00, 94.28it/s] \n"
     ]
    },
    {
     "name": "stdout",
     "output_type": "stream",
     "text": [
      "20 tmax 0\n"
     ]
    },
    {
     "name": "stderr",
     "output_type": "stream",
     "text": [
      "predicting ensemble 0 : 100%|██████████| 684/684 [00:07<00:00, 93.38it/s] \n",
      "predicting ensemble 1 : 100%|██████████| 666/666 [00:06<00:00, 95.64it/s] \n",
      "predicting ensemble 2 : 100%|██████████| 426/426 [00:04<00:00, 88.03it/s]\n",
      "predicting ensemble 3 : 100%|██████████| 403/403 [00:04<00:00, 92.92it/s] \n",
      "predicting ensemble 4 : 100%|██████████| 553/553 [00:05<00:00, 93.42it/s] \n",
      "predicting ensemble 5 : 100%|██████████| 580/580 [00:06<00:00, 91.15it/s]\n",
      "predicting ensemble 6 : 100%|██████████| 581/581 [00:06<00:00, 92.42it/s] \n",
      "predicting ensemble 7 : 100%|██████████| 601/601 [00:06<00:00, 93.49it/s] \n"
     ]
    },
    {
     "name": "stdout",
     "output_type": "stream",
     "text": [
      "20 tmax 1\n"
     ]
    },
    {
     "name": "stderr",
     "output_type": "stream",
     "text": [
      "predicting ensemble 0 : 100%|██████████| 684/684 [00:07<00:00, 94.41it/s] \n",
      "predicting ensemble 1 : 100%|██████████| 666/666 [00:06<00:00, 95.39it/s] \n",
      "predicting ensemble 2 : 100%|██████████| 426/426 [00:04<00:00, 89.05it/s]\n",
      "predicting ensemble 3 : 100%|██████████| 403/403 [00:04<00:00, 93.14it/s] \n",
      "predicting ensemble 4 : 100%|██████████| 553/553 [00:06<00:00, 91.78it/s] \n",
      "predicting ensemble 5 : 100%|██████████| 580/580 [00:06<00:00, 93.86it/s] \n",
      "predicting ensemble 6 : 100%|██████████| 581/581 [00:06<00:00, 95.31it/s] \n",
      "predicting ensemble 7 : 100%|██████████| 601/601 [00:06<00:00, 95.25it/s] \n"
     ]
    },
    {
     "name": "stdout",
     "output_type": "stream",
     "text": [
      "20 tmax 2\n"
     ]
    },
    {
     "name": "stderr",
     "output_type": "stream",
     "text": [
      "predicting ensemble 0 : 100%|██████████| 684/684 [00:07<00:00, 93.06it/s] \n",
      "predicting ensemble 1 : 100%|██████████| 666/666 [00:07<00:00, 94.02it/s] \n",
      "predicting ensemble 2 : 100%|██████████| 426/426 [00:04<00:00, 86.66it/s]\n",
      "predicting ensemble 3 : 100%|██████████| 403/403 [00:04<00:00, 90.29it/s] \n",
      "predicting ensemble 4 : 100%|██████████| 553/553 [00:05<00:00, 92.99it/s] \n",
      "predicting ensemble 5 : 100%|██████████| 580/580 [00:06<00:00, 91.74it/s]\n",
      "predicting ensemble 6 : 100%|██████████| 581/581 [00:06<00:00, 93.31it/s] \n",
      "predicting ensemble 7 : 100%|██████████| 601/601 [00:06<00:00, 95.08it/s] \n"
     ]
    },
    {
     "name": "stdout",
     "output_type": "stream",
     "text": [
      "20 tmax 3\n"
     ]
    },
    {
     "name": "stderr",
     "output_type": "stream",
     "text": [
      "predicting ensemble 0 : 100%|██████████| 684/684 [00:07<00:00, 93.36it/s] \n",
      "predicting ensemble 1 : 100%|██████████| 666/666 [00:07<00:00, 94.36it/s] \n",
      "predicting ensemble 2 : 100%|██████████| 426/426 [00:04<00:00, 90.89it/s]\n",
      "predicting ensemble 3 : 100%|██████████| 403/403 [00:04<00:00, 90.90it/s] \n",
      "predicting ensemble 4 : 100%|██████████| 553/553 [00:05<00:00, 94.11it/s] \n",
      "predicting ensemble 5 : 100%|██████████| 580/580 [00:06<00:00, 86.38it/s]\n",
      "predicting ensemble 6 : 100%|██████████| 581/581 [00:06<00:00, 84.85it/s]\n",
      "predicting ensemble 7 : 100%|██████████| 601/601 [00:06<00:00, 92.64it/s]\n"
     ]
    },
    {
     "name": "stdout",
     "output_type": "stream",
     "text": [
      "20 tmax 4\n"
     ]
    },
    {
     "name": "stderr",
     "output_type": "stream",
     "text": [
      "predicting ensemble 0 : 100%|██████████| 684/684 [00:07<00:00, 92.65it/s] \n",
      "predicting ensemble 1 : 100%|██████████| 666/666 [00:07<00:00, 92.71it/s] \n",
      "predicting ensemble 2 : 100%|██████████| 426/426 [00:04<00:00, 88.32it/s]\n",
      "predicting ensemble 3 : 100%|██████████| 403/403 [00:04<00:00, 91.38it/s] \n",
      "predicting ensemble 4 : 100%|██████████| 553/553 [00:05<00:00, 93.52it/s] \n",
      "predicting ensemble 5 : 100%|██████████| 580/580 [00:06<00:00, 93.16it/s] \n",
      "predicting ensemble 6 : 100%|██████████| 581/581 [00:06<00:00, 94.69it/s] \n",
      "predicting ensemble 7 : 100%|██████████| 601/601 [00:06<00:00, 94.01it/s] \n"
     ]
    },
    {
     "name": "stdout",
     "output_type": "stream",
     "text": [
      "21 tmin 0\n"
     ]
    },
    {
     "name": "stderr",
     "output_type": "stream",
     "text": [
      "predicting ensemble 0 : 100%|██████████| 684/684 [00:07<00:00, 94.02it/s] \n",
      "predicting ensemble 1 : 100%|██████████| 666/666 [00:07<00:00, 90.05it/s] \n",
      "predicting ensemble 2 : 100%|██████████| 426/426 [00:04<00:00, 90.20it/s]\n",
      "predicting ensemble 3 : 100%|██████████| 403/403 [00:04<00:00, 91.55it/s] \n",
      "predicting ensemble 4 : 100%|██████████| 553/553 [00:05<00:00, 93.74it/s] \n",
      "predicting ensemble 5 : 100%|██████████| 580/580 [00:06<00:00, 92.67it/s]\n",
      "predicting ensemble 6 : 100%|██████████| 581/581 [00:06<00:00, 94.41it/s] \n",
      "predicting ensemble 7 : 100%|██████████| 601/601 [00:06<00:00, 94.83it/s] \n"
     ]
    },
    {
     "name": "stdout",
     "output_type": "stream",
     "text": [
      "21 tmin 1\n"
     ]
    },
    {
     "name": "stderr",
     "output_type": "stream",
     "text": [
      "predicting ensemble 0 : 100%|██████████| 684/684 [00:07<00:00, 93.62it/s] \n",
      "predicting ensemble 1 : 100%|██████████| 666/666 [00:07<00:00, 94.53it/s] \n",
      "predicting ensemble 2 : 100%|██████████| 426/426 [00:04<00:00, 89.76it/s]\n",
      "predicting ensemble 3 : 100%|██████████| 403/403 [00:04<00:00, 91.12it/s] \n",
      "predicting ensemble 4 : 100%|██████████| 553/553 [00:05<00:00, 93.48it/s] \n",
      "predicting ensemble 5 : 100%|██████████| 580/580 [00:06<00:00, 91.93it/s]\n",
      "predicting ensemble 6 : 100%|██████████| 581/581 [00:06<00:00, 95.86it/s] \n",
      "predicting ensemble 7 : 100%|██████████| 601/601 [00:06<00:00, 95.02it/s] \n"
     ]
    },
    {
     "name": "stdout",
     "output_type": "stream",
     "text": [
      "21 tmin 2\n"
     ]
    },
    {
     "name": "stderr",
     "output_type": "stream",
     "text": [
      "predicting ensemble 0 : 100%|██████████| 684/684 [00:07<00:00, 93.85it/s] \n",
      "predicting ensemble 1 : 100%|██████████| 666/666 [00:06<00:00, 95.15it/s] \n",
      "predicting ensemble 2 : 100%|██████████| 426/426 [00:04<00:00, 90.55it/s]\n",
      "predicting ensemble 3 : 100%|██████████| 403/403 [00:04<00:00, 91.92it/s]\n",
      "predicting ensemble 4 : 100%|██████████| 553/553 [00:05<00:00, 94.34it/s] \n",
      "predicting ensemble 5 : 100%|██████████| 580/580 [00:06<00:00, 92.97it/s]\n",
      "predicting ensemble 6 : 100%|██████████| 581/581 [00:06<00:00, 95.14it/s] \n",
      "predicting ensemble 7 : 100%|██████████| 601/601 [00:06<00:00, 95.29it/s] \n"
     ]
    },
    {
     "name": "stdout",
     "output_type": "stream",
     "text": [
      "21 tmin 3\n"
     ]
    },
    {
     "name": "stderr",
     "output_type": "stream",
     "text": [
      "predicting ensemble 0 : 100%|██████████| 684/684 [00:07<00:00, 92.18it/s] \n",
      "predicting ensemble 1 : 100%|██████████| 666/666 [00:07<00:00, 93.40it/s] \n",
      "predicting ensemble 2 : 100%|██████████| 426/426 [00:04<00:00, 90.82it/s]\n",
      "predicting ensemble 3 : 100%|██████████| 403/403 [00:04<00:00, 91.86it/s] \n",
      "predicting ensemble 4 : 100%|██████████| 553/553 [00:05<00:00, 95.02it/s] \n",
      "predicting ensemble 5 : 100%|██████████| 580/580 [00:06<00:00, 92.89it/s]\n",
      "predicting ensemble 6 : 100%|██████████| 581/581 [00:06<00:00, 95.38it/s] \n",
      "predicting ensemble 7 : 100%|██████████| 601/601 [00:06<00:00, 94.66it/s] \n"
     ]
    },
    {
     "name": "stdout",
     "output_type": "stream",
     "text": [
      "21 tmin 4\n"
     ]
    },
    {
     "name": "stderr",
     "output_type": "stream",
     "text": [
      "predicting ensemble 0 : 100%|██████████| 684/684 [00:07<00:00, 93.94it/s] \n",
      "predicting ensemble 1 : 100%|██████████| 666/666 [00:07<00:00, 94.60it/s] \n",
      "predicting ensemble 2 : 100%|██████████| 426/426 [00:04<00:00, 91.50it/s]\n",
      "predicting ensemble 3 : 100%|██████████| 403/403 [00:04<00:00, 91.79it/s] \n",
      "predicting ensemble 4 : 100%|██████████| 553/553 [00:06<00:00, 89.98it/s] \n",
      "predicting ensemble 5 : 100%|██████████| 580/580 [00:06<00:00, 93.92it/s] \n",
      "predicting ensemble 6 : 100%|██████████| 581/581 [00:06<00:00, 95.20it/s] \n",
      "predicting ensemble 7 : 100%|██████████| 601/601 [00:06<00:00, 94.93it/s] \n"
     ]
    },
    {
     "name": "stdout",
     "output_type": "stream",
     "text": [
      "22 bio1 0\n"
     ]
    },
    {
     "name": "stderr",
     "output_type": "stream",
     "text": [
      "predicting ensemble 0 : 100%|██████████| 684/684 [00:07<00:00, 93.54it/s] \n",
      "predicting ensemble 1 : 100%|██████████| 666/666 [00:06<00:00, 95.22it/s] \n",
      "predicting ensemble 2 : 100%|██████████| 426/426 [00:04<00:00, 89.93it/s]\n",
      "predicting ensemble 3 : 100%|██████████| 403/403 [00:04<00:00, 93.04it/s] \n",
      "predicting ensemble 4 : 100%|██████████| 553/553 [00:05<00:00, 93.90it/s] \n",
      "predicting ensemble 5 : 100%|██████████| 580/580 [00:06<00:00, 92.89it/s] \n",
      "predicting ensemble 6 : 100%|██████████| 581/581 [00:06<00:00, 95.95it/s] \n",
      "predicting ensemble 7 : 100%|██████████| 601/601 [00:06<00:00, 95.56it/s] \n"
     ]
    },
    {
     "name": "stdout",
     "output_type": "stream",
     "text": [
      "22 bio1 1\n"
     ]
    },
    {
     "name": "stderr",
     "output_type": "stream",
     "text": [
      "predicting ensemble 0 : 100%|██████████| 684/684 [00:07<00:00, 91.37it/s] \n",
      "predicting ensemble 1 : 100%|██████████| 666/666 [00:07<00:00, 94.50it/s] \n",
      "predicting ensemble 2 : 100%|██████████| 426/426 [00:04<00:00, 87.24it/s]\n",
      "predicting ensemble 3 : 100%|██████████| 403/403 [00:04<00:00, 92.34it/s] \n",
      "predicting ensemble 4 : 100%|██████████| 553/553 [00:05<00:00, 93.55it/s] \n",
      "predicting ensemble 5 : 100%|██████████| 580/580 [00:06<00:00, 92.87it/s]\n",
      "predicting ensemble 6 : 100%|██████████| 581/581 [00:06<00:00, 94.99it/s] \n",
      "predicting ensemble 7 : 100%|██████████| 601/601 [00:06<00:00, 93.51it/s] \n"
     ]
    },
    {
     "name": "stdout",
     "output_type": "stream",
     "text": [
      "22 bio1 2\n"
     ]
    },
    {
     "name": "stderr",
     "output_type": "stream",
     "text": [
      "predicting ensemble 0 : 100%|██████████| 684/684 [00:07<00:00, 93.84it/s] \n",
      "predicting ensemble 1 : 100%|██████████| 666/666 [00:07<00:00, 93.48it/s] \n",
      "predicting ensemble 2 : 100%|██████████| 426/426 [00:04<00:00, 90.08it/s]\n",
      "predicting ensemble 3 : 100%|██████████| 403/403 [00:04<00:00, 93.03it/s] \n",
      "predicting ensemble 4 : 100%|██████████| 553/553 [00:06<00:00, 90.18it/s] \n",
      "predicting ensemble 5 : 100%|██████████| 580/580 [00:06<00:00, 92.00it/s]\n",
      "predicting ensemble 6 : 100%|██████████| 581/581 [00:06<00:00, 95.02it/s] \n",
      "predicting ensemble 7 : 100%|██████████| 601/601 [00:06<00:00, 95.43it/s] \n"
     ]
    },
    {
     "name": "stdout",
     "output_type": "stream",
     "text": [
      "22 bio1 3\n"
     ]
    },
    {
     "name": "stderr",
     "output_type": "stream",
     "text": [
      "predicting ensemble 0 : 100%|██████████| 684/684 [00:07<00:00, 94.06it/s] \n",
      "predicting ensemble 1 : 100%|██████████| 666/666 [00:07<00:00, 93.77it/s] \n",
      "predicting ensemble 2 : 100%|██████████| 426/426 [00:04<00:00, 89.92it/s]\n",
      "predicting ensemble 3 : 100%|██████████| 403/403 [00:04<00:00, 91.91it/s] \n",
      "predicting ensemble 4 : 100%|██████████| 553/553 [00:05<00:00, 93.35it/s] \n",
      "predicting ensemble 5 : 100%|██████████| 580/580 [00:06<00:00, 93.36it/s] \n",
      "predicting ensemble 6 : 100%|██████████| 581/581 [00:06<00:00, 93.88it/s] \n",
      "predicting ensemble 7 : 100%|██████████| 601/601 [00:06<00:00, 95.27it/s] \n"
     ]
    },
    {
     "name": "stdout",
     "output_type": "stream",
     "text": [
      "22 bio1 4\n"
     ]
    },
    {
     "name": "stderr",
     "output_type": "stream",
     "text": [
      "predicting ensemble 0 : 100%|██████████| 684/684 [00:07<00:00, 90.85it/s] \n",
      "predicting ensemble 1 : 100%|██████████| 666/666 [00:06<00:00, 95.23it/s] \n",
      "predicting ensemble 2 : 100%|██████████| 426/426 [00:04<00:00, 89.78it/s]\n",
      "predicting ensemble 3 : 100%|██████████| 403/403 [00:04<00:00, 91.91it/s] \n",
      "predicting ensemble 4 : 100%|██████████| 553/553 [00:05<00:00, 94.41it/s] \n",
      "predicting ensemble 5 : 100%|██████████| 580/580 [00:06<00:00, 93.75it/s] \n",
      "predicting ensemble 6 : 100%|██████████| 581/581 [00:06<00:00, 95.50it/s] \n",
      "predicting ensemble 7 : 100%|██████████| 601/601 [00:06<00:00, 95.52it/s] \n"
     ]
    },
    {
     "name": "stdout",
     "output_type": "stream",
     "text": [
      "23 bio2 0\n"
     ]
    },
    {
     "name": "stderr",
     "output_type": "stream",
     "text": [
      "predicting ensemble 0 : 100%|██████████| 684/684 [00:07<00:00, 92.98it/s] \n",
      "predicting ensemble 1 : 100%|██████████| 666/666 [00:06<00:00, 95.81it/s] \n",
      "predicting ensemble 2 : 100%|██████████| 426/426 [00:04<00:00, 89.65it/s]\n",
      "predicting ensemble 3 : 100%|██████████| 403/403 [00:04<00:00, 92.53it/s] \n",
      "predicting ensemble 4 : 100%|██████████| 553/553 [00:06<00:00, 90.09it/s] \n",
      "predicting ensemble 5 : 100%|██████████| 580/580 [00:06<00:00, 90.79it/s] \n",
      "predicting ensemble 6 : 100%|██████████| 581/581 [00:06<00:00, 94.75it/s] \n",
      "predicting ensemble 7 : 100%|██████████| 601/601 [00:06<00:00, 95.04it/s] \n"
     ]
    },
    {
     "name": "stdout",
     "output_type": "stream",
     "text": [
      "23 bio2 1\n"
     ]
    },
    {
     "name": "stderr",
     "output_type": "stream",
     "text": [
      "predicting ensemble 0 : 100%|██████████| 684/684 [00:07<00:00, 92.95it/s] \n",
      "predicting ensemble 1 : 100%|██████████| 666/666 [00:06<00:00, 95.36it/s] \n",
      "predicting ensemble 2 : 100%|██████████| 426/426 [00:04<00:00, 88.19it/s]\n",
      "predicting ensemble 3 : 100%|██████████| 403/403 [00:04<00:00, 92.45it/s] \n",
      "predicting ensemble 4 : 100%|██████████| 553/553 [00:07<00:00, 75.52it/s] \n",
      "predicting ensemble 5 : 100%|██████████| 580/580 [00:07<00:00, 82.46it/s]\n",
      "predicting ensemble 6 : 100%|██████████| 581/581 [00:06<00:00, 84.34it/s]\n",
      "predicting ensemble 7 : 100%|██████████| 601/601 [00:06<00:00, 93.62it/s] \n"
     ]
    },
    {
     "name": "stdout",
     "output_type": "stream",
     "text": [
      "23 bio2 2\n"
     ]
    },
    {
     "name": "stderr",
     "output_type": "stream",
     "text": [
      "predicting ensemble 0 : 100%|██████████| 684/684 [00:07<00:00, 91.37it/s] \n",
      "predicting ensemble 1 : 100%|██████████| 666/666 [00:07<00:00, 94.46it/s] \n",
      "predicting ensemble 2 : 100%|██████████| 426/426 [00:04<00:00, 89.27it/s]\n",
      "predicting ensemble 3 : 100%|██████████| 403/403 [00:04<00:00, 91.79it/s] \n",
      "predicting ensemble 4 : 100%|██████████| 553/553 [00:05<00:00, 93.19it/s] \n",
      "predicting ensemble 5 : 100%|██████████| 580/580 [00:06<00:00, 93.58it/s] \n",
      "predicting ensemble 6 : 100%|██████████| 581/581 [00:06<00:00, 93.28it/s] \n",
      "predicting ensemble 7 : 100%|██████████| 601/601 [00:06<00:00, 93.53it/s] \n"
     ]
    },
    {
     "name": "stdout",
     "output_type": "stream",
     "text": [
      "23 bio2 3\n"
     ]
    },
    {
     "name": "stderr",
     "output_type": "stream",
     "text": [
      "predicting ensemble 0 : 100%|██████████| 684/684 [00:07<00:00, 91.36it/s] \n",
      "predicting ensemble 1 : 100%|██████████| 666/666 [00:07<00:00, 93.80it/s] \n",
      "predicting ensemble 2 : 100%|██████████| 426/426 [00:04<00:00, 88.05it/s]\n",
      "predicting ensemble 3 : 100%|██████████| 403/403 [00:04<00:00, 89.09it/s] \n",
      "predicting ensemble 4 : 100%|██████████| 553/553 [00:05<00:00, 92.39it/s] \n",
      "predicting ensemble 5 : 100%|██████████| 580/580 [00:06<00:00, 92.15it/s]\n",
      "predicting ensemble 6 : 100%|██████████| 581/581 [00:06<00:00, 94.18it/s] \n",
      "predicting ensemble 7 : 100%|██████████| 601/601 [00:06<00:00, 94.45it/s] \n"
     ]
    },
    {
     "name": "stdout",
     "output_type": "stream",
     "text": [
      "23 bio2 4\n"
     ]
    },
    {
     "name": "stderr",
     "output_type": "stream",
     "text": [
      "predicting ensemble 0 : 100%|██████████| 684/684 [00:07<00:00, 93.56it/s] \n",
      "predicting ensemble 1 : 100%|██████████| 666/666 [00:07<00:00, 93.74it/s] \n",
      "predicting ensemble 2 : 100%|██████████| 426/426 [00:04<00:00, 88.91it/s]\n",
      "predicting ensemble 3 : 100%|██████████| 403/403 [00:04<00:00, 92.20it/s] \n",
      "predicting ensemble 4 : 100%|██████████| 553/553 [00:05<00:00, 93.99it/s] \n",
      "predicting ensemble 5 : 100%|██████████| 580/580 [00:06<00:00, 93.20it/s]\n",
      "predicting ensemble 6 : 100%|██████████| 581/581 [00:06<00:00, 95.53it/s] \n",
      "predicting ensemble 7 : 100%|██████████| 601/601 [00:06<00:00, 94.64it/s] \n"
     ]
    },
    {
     "name": "stdout",
     "output_type": "stream",
     "text": [
      "24 bio3 0\n"
     ]
    },
    {
     "name": "stderr",
     "output_type": "stream",
     "text": [
      "predicting ensemble 0 : 100%|██████████| 684/684 [00:07<00:00, 89.33it/s] \n",
      "predicting ensemble 1 : 100%|██████████| 666/666 [00:07<00:00, 92.96it/s] \n",
      "predicting ensemble 2 : 100%|██████████| 426/426 [00:04<00:00, 89.90it/s]\n",
      "predicting ensemble 3 : 100%|██████████| 403/403 [00:04<00:00, 89.73it/s] \n",
      "predicting ensemble 4 : 100%|██████████| 553/553 [00:05<00:00, 92.45it/s] \n",
      "predicting ensemble 5 : 100%|██████████| 580/580 [00:06<00:00, 93.06it/s] \n",
      "predicting ensemble 6 : 100%|██████████| 581/581 [00:06<00:00, 95.50it/s] \n",
      "predicting ensemble 7 : 100%|██████████| 601/601 [00:06<00:00, 95.04it/s] \n"
     ]
    },
    {
     "name": "stdout",
     "output_type": "stream",
     "text": [
      "24 bio3 1\n"
     ]
    },
    {
     "name": "stderr",
     "output_type": "stream",
     "text": [
      "predicting ensemble 0 : 100%|██████████| 684/684 [00:07<00:00, 93.03it/s] \n",
      "predicting ensemble 1 : 100%|██████████| 666/666 [00:06<00:00, 95.22it/s] \n",
      "predicting ensemble 2 : 100%|██████████| 426/426 [00:04<00:00, 90.43it/s]\n",
      "predicting ensemble 3 : 100%|██████████| 403/403 [00:04<00:00, 91.38it/s] \n",
      "predicting ensemble 4 : 100%|██████████| 553/553 [00:05<00:00, 94.60it/s] \n",
      "predicting ensemble 5 : 100%|██████████| 580/580 [00:06<00:00, 89.09it/s]\n",
      "predicting ensemble 6 : 100%|██████████| 581/581 [00:06<00:00, 92.95it/s] \n",
      "predicting ensemble 7 : 100%|██████████| 601/601 [00:06<00:00, 93.98it/s] \n"
     ]
    },
    {
     "name": "stdout",
     "output_type": "stream",
     "text": [
      "24 bio3 2\n"
     ]
    },
    {
     "name": "stderr",
     "output_type": "stream",
     "text": [
      "predicting ensemble 0 : 100%|██████████| 684/684 [00:07<00:00, 93.00it/s] \n",
      "predicting ensemble 1 : 100%|██████████| 666/666 [00:07<00:00, 93.86it/s] \n",
      "predicting ensemble 2 : 100%|██████████| 426/426 [00:04<00:00, 88.54it/s]\n",
      "predicting ensemble 3 : 100%|██████████| 403/403 [00:04<00:00, 92.18it/s] \n",
      "predicting ensemble 4 : 100%|██████████| 553/553 [00:05<00:00, 93.08it/s] \n",
      "predicting ensemble 5 : 100%|██████████| 580/580 [00:06<00:00, 92.97it/s] \n",
      "predicting ensemble 6 : 100%|██████████| 581/581 [00:06<00:00, 86.09it/s] \n",
      "predicting ensemble 7 : 100%|██████████| 601/601 [00:06<00:00, 90.37it/s]\n"
     ]
    },
    {
     "name": "stdout",
     "output_type": "stream",
     "text": [
      "24 bio3 3\n"
     ]
    },
    {
     "name": "stderr",
     "output_type": "stream",
     "text": [
      "predicting ensemble 0 : 100%|██████████| 684/684 [00:07<00:00, 87.15it/s] \n",
      "predicting ensemble 1 : 100%|██████████| 666/666 [00:07<00:00, 92.99it/s] \n",
      "predicting ensemble 2 : 100%|██████████| 426/426 [00:04<00:00, 87.63it/s]\n",
      "predicting ensemble 3 : 100%|██████████| 403/403 [00:04<00:00, 89.36it/s] \n",
      "predicting ensemble 4 : 100%|██████████| 553/553 [00:06<00:00, 91.21it/s] \n",
      "predicting ensemble 5 : 100%|██████████| 580/580 [00:06<00:00, 93.00it/s] \n",
      "predicting ensemble 6 : 100%|██████████| 581/581 [00:06<00:00, 94.22it/s] \n",
      "predicting ensemble 7 : 100%|██████████| 601/601 [00:06<00:00, 93.66it/s] \n"
     ]
    },
    {
     "name": "stdout",
     "output_type": "stream",
     "text": [
      "24 bio3 4\n"
     ]
    },
    {
     "name": "stderr",
     "output_type": "stream",
     "text": [
      "predicting ensemble 0 : 100%|██████████| 684/684 [00:07<00:00, 91.89it/s] \n",
      "predicting ensemble 1 : 100%|██████████| 666/666 [00:07<00:00, 93.80it/s] \n",
      "predicting ensemble 2 : 100%|██████████| 426/426 [00:04<00:00, 89.82it/s]\n",
      "predicting ensemble 3 : 100%|██████████| 403/403 [00:04<00:00, 86.67it/s]\n",
      "predicting ensemble 4 : 100%|██████████| 553/553 [00:05<00:00, 92.99it/s] \n",
      "predicting ensemble 5 : 100%|██████████| 580/580 [00:06<00:00, 92.14it/s]\n",
      "predicting ensemble 6 : 100%|██████████| 581/581 [00:06<00:00, 93.57it/s] \n",
      "predicting ensemble 7 : 100%|██████████| 601/601 [00:06<00:00, 93.97it/s] \n"
     ]
    },
    {
     "name": "stdout",
     "output_type": "stream",
     "text": [
      "25 bio4 0\n"
     ]
    },
    {
     "name": "stderr",
     "output_type": "stream",
     "text": [
      "predicting ensemble 0 : 100%|██████████| 684/684 [00:07<00:00, 92.93it/s] \n",
      "predicting ensemble 1 : 100%|██████████| 666/666 [00:07<00:00, 93.21it/s] \n",
      "predicting ensemble 2 : 100%|██████████| 426/426 [00:04<00:00, 87.02it/s]\n",
      "predicting ensemble 3 : 100%|██████████| 403/403 [00:04<00:00, 92.34it/s] \n",
      "predicting ensemble 4 : 100%|██████████| 553/553 [00:05<00:00, 93.66it/s] \n",
      "predicting ensemble 5 : 100%|██████████| 580/580 [00:06<00:00, 92.74it/s] \n",
      "predicting ensemble 6 : 100%|██████████| 581/581 [00:06<00:00, 93.91it/s] \n",
      "predicting ensemble 7 : 100%|██████████| 601/601 [00:06<00:00, 94.27it/s] \n"
     ]
    },
    {
     "name": "stdout",
     "output_type": "stream",
     "text": [
      "25 bio4 1\n"
     ]
    },
    {
     "name": "stderr",
     "output_type": "stream",
     "text": [
      "predicting ensemble 0 : 100%|██████████| 684/684 [00:07<00:00, 90.07it/s] \n",
      "predicting ensemble 1 : 100%|██████████| 666/666 [00:07<00:00, 94.08it/s] \n",
      "predicting ensemble 2 : 100%|██████████| 426/426 [00:04<00:00, 89.61it/s]\n",
      "predicting ensemble 3 : 100%|██████████| 403/403 [00:04<00:00, 91.45it/s] \n",
      "predicting ensemble 4 : 100%|██████████| 553/553 [00:06<00:00, 91.95it/s] \n",
      "predicting ensemble 5 : 100%|██████████| 580/580 [00:06<00:00, 93.56it/s] \n",
      "predicting ensemble 6 : 100%|██████████| 581/581 [00:06<00:00, 94.98it/s] \n",
      "predicting ensemble 7 : 100%|██████████| 601/601 [00:06<00:00, 94.84it/s] \n"
     ]
    },
    {
     "name": "stdout",
     "output_type": "stream",
     "text": [
      "25 bio4 2\n"
     ]
    },
    {
     "name": "stderr",
     "output_type": "stream",
     "text": [
      "predicting ensemble 0 : 100%|██████████| 684/684 [00:07<00:00, 93.54it/s] \n",
      "predicting ensemble 1 : 100%|██████████| 666/666 [00:07<00:00, 94.25it/s] \n",
      "predicting ensemble 2 : 100%|██████████| 426/426 [00:04<00:00, 89.60it/s]\n",
      "predicting ensemble 3 : 100%|██████████| 403/403 [00:04<00:00, 92.28it/s] \n",
      "predicting ensemble 4 : 100%|██████████| 553/553 [00:06<00:00, 91.41it/s] \n",
      "predicting ensemble 5 : 100%|██████████| 580/580 [00:06<00:00, 93.86it/s] \n",
      "predicting ensemble 6 : 100%|██████████| 581/581 [00:06<00:00, 93.99it/s] \n",
      "predicting ensemble 7 : 100%|██████████| 601/601 [00:06<00:00, 94.23it/s] \n"
     ]
    },
    {
     "name": "stdout",
     "output_type": "stream",
     "text": [
      "25 bio4 3\n"
     ]
    },
    {
     "name": "stderr",
     "output_type": "stream",
     "text": [
      "predicting ensemble 0 : 100%|██████████| 684/684 [00:07<00:00, 93.73it/s] \n",
      "predicting ensemble 1 : 100%|██████████| 666/666 [00:07<00:00, 94.48it/s] \n",
      "predicting ensemble 2 : 100%|██████████| 426/426 [00:04<00:00, 89.63it/s]\n",
      "predicting ensemble 3 : 100%|██████████| 403/403 [00:04<00:00, 92.48it/s] \n",
      "predicting ensemble 4 : 100%|██████████| 553/553 [00:05<00:00, 94.03it/s] \n",
      "predicting ensemble 5 : 100%|██████████| 580/580 [00:06<00:00, 93.84it/s]\n",
      "predicting ensemble 6 : 100%|██████████| 581/581 [00:06<00:00, 93.17it/s] \n",
      "predicting ensemble 7 : 100%|██████████| 601/601 [00:06<00:00, 91.54it/s] \n"
     ]
    },
    {
     "name": "stdout",
     "output_type": "stream",
     "text": [
      "25 bio4 4\n"
     ]
    },
    {
     "name": "stderr",
     "output_type": "stream",
     "text": [
      "predicting ensemble 0 : 100%|██████████| 684/684 [00:07<00:00, 93.58it/s] \n",
      "predicting ensemble 1 : 100%|██████████| 666/666 [00:07<00:00, 93.94it/s] \n",
      "predicting ensemble 2 : 100%|██████████| 426/426 [00:04<00:00, 90.11it/s]\n",
      "predicting ensemble 3 : 100%|██████████| 403/403 [00:04<00:00, 92.98it/s] \n",
      "predicting ensemble 4 : 100%|██████████| 553/553 [00:05<00:00, 94.00it/s] \n",
      "predicting ensemble 5 : 100%|██████████| 580/580 [00:06<00:00, 92.38it/s] \n",
      "predicting ensemble 6 : 100%|██████████| 581/581 [00:06<00:00, 94.97it/s] \n",
      "predicting ensemble 7 : 100%|██████████| 601/601 [00:06<00:00, 94.79it/s] \n"
     ]
    },
    {
     "name": "stdout",
     "output_type": "stream",
     "text": [
      "26 bio5 0\n"
     ]
    },
    {
     "name": "stderr",
     "output_type": "stream",
     "text": [
      "predicting ensemble 0 : 100%|██████████| 684/684 [00:07<00:00, 93.52it/s] \n",
      "predicting ensemble 1 : 100%|██████████| 666/666 [00:07<00:00, 93.60it/s] \n",
      "predicting ensemble 2 : 100%|██████████| 426/426 [00:04<00:00, 89.20it/s]\n",
      "predicting ensemble 3 : 100%|██████████| 403/403 [00:04<00:00, 88.06it/s] \n",
      "predicting ensemble 4 : 100%|██████████| 553/553 [00:05<00:00, 93.64it/s] \n",
      "predicting ensemble 5 : 100%|██████████| 580/580 [00:06<00:00, 94.10it/s] \n",
      "predicting ensemble 6 : 100%|██████████| 581/581 [00:06<00:00, 94.19it/s] \n",
      "predicting ensemble 7 : 100%|██████████| 601/601 [00:06<00:00, 96.26it/s] \n"
     ]
    },
    {
     "name": "stdout",
     "output_type": "stream",
     "text": [
      "26 bio5 1\n"
     ]
    },
    {
     "name": "stderr",
     "output_type": "stream",
     "text": [
      "predicting ensemble 0 : 100%|██████████| 684/684 [00:07<00:00, 93.45it/s] \n",
      "predicting ensemble 1 : 100%|██████████| 666/666 [00:07<00:00, 94.52it/s] \n",
      "predicting ensemble 2 : 100%|██████████| 426/426 [00:04<00:00, 89.77it/s]\n",
      "predicting ensemble 3 : 100%|██████████| 403/403 [00:04<00:00, 91.16it/s] \n",
      "predicting ensemble 4 : 100%|██████████| 553/553 [00:05<00:00, 94.22it/s] \n",
      "predicting ensemble 5 : 100%|██████████| 580/580 [00:06<00:00, 93.77it/s]\n",
      "predicting ensemble 6 : 100%|██████████| 581/581 [00:06<00:00, 95.16it/s] \n",
      "predicting ensemble 7 : 100%|██████████| 601/601 [00:06<00:00, 92.96it/s] \n"
     ]
    },
    {
     "name": "stdout",
     "output_type": "stream",
     "text": [
      "26 bio5 2\n"
     ]
    },
    {
     "name": "stderr",
     "output_type": "stream",
     "text": [
      "predicting ensemble 0 : 100%|██████████| 684/684 [00:07<00:00, 92.47it/s] \n",
      "predicting ensemble 1 : 100%|██████████| 666/666 [00:07<00:00, 93.09it/s] \n",
      "predicting ensemble 2 : 100%|██████████| 426/426 [00:04<00:00, 87.35it/s]\n",
      "predicting ensemble 3 : 100%|██████████| 403/403 [00:04<00:00, 90.93it/s] \n",
      "predicting ensemble 4 : 100%|██████████| 553/553 [00:05<00:00, 93.68it/s] \n",
      "predicting ensemble 5 : 100%|██████████| 580/580 [00:06<00:00, 92.81it/s] \n",
      "predicting ensemble 6 : 100%|██████████| 581/581 [00:06<00:00, 94.64it/s] \n",
      "predicting ensemble 7 : 100%|██████████| 601/601 [00:06<00:00, 95.05it/s] \n"
     ]
    },
    {
     "name": "stdout",
     "output_type": "stream",
     "text": [
      "26 bio5 3\n"
     ]
    },
    {
     "name": "stderr",
     "output_type": "stream",
     "text": [
      "predicting ensemble 0 : 100%|██████████| 684/684 [00:07<00:00, 92.59it/s] \n",
      "predicting ensemble 1 : 100%|██████████| 666/666 [00:07<00:00, 93.91it/s] \n",
      "predicting ensemble 2 : 100%|██████████| 426/426 [00:04<00:00, 85.75it/s]\n",
      "predicting ensemble 3 : 100%|██████████| 403/403 [00:04<00:00, 92.64it/s] \n",
      "predicting ensemble 4 : 100%|██████████| 553/553 [00:05<00:00, 93.39it/s] \n",
      "predicting ensemble 5 : 100%|██████████| 580/580 [00:06<00:00, 93.65it/s]\n",
      "predicting ensemble 6 : 100%|██████████| 581/581 [00:06<00:00, 95.58it/s] \n",
      "predicting ensemble 7 : 100%|██████████| 601/601 [00:06<00:00, 94.05it/s] \n"
     ]
    },
    {
     "name": "stdout",
     "output_type": "stream",
     "text": [
      "26 bio5 4\n"
     ]
    },
    {
     "name": "stderr",
     "output_type": "stream",
     "text": [
      "predicting ensemble 0 : 100%|██████████| 684/684 [00:07<00:00, 92.66it/s]\n",
      "predicting ensemble 1 : 100%|██████████| 666/666 [00:07<00:00, 94.35it/s] \n",
      "predicting ensemble 2 : 100%|██████████| 426/426 [00:04<00:00, 88.44it/s]\n",
      "predicting ensemble 3 : 100%|██████████| 403/403 [00:04<00:00, 91.95it/s] \n",
      "predicting ensemble 4 : 100%|██████████| 553/553 [00:05<00:00, 92.54it/s] \n",
      "predicting ensemble 5 : 100%|██████████| 580/580 [00:06<00:00, 93.81it/s] \n",
      "predicting ensemble 6 : 100%|██████████| 581/581 [00:06<00:00, 92.22it/s] \n",
      "predicting ensemble 7 : 100%|██████████| 601/601 [00:06<00:00, 94.53it/s] \n"
     ]
    },
    {
     "name": "stdout",
     "output_type": "stream",
     "text": [
      "27 bio6 0\n"
     ]
    },
    {
     "name": "stderr",
     "output_type": "stream",
     "text": [
      "predicting ensemble 0 : 100%|██████████| 684/684 [00:07<00:00, 93.02it/s] \n",
      "predicting ensemble 1 : 100%|██████████| 666/666 [00:07<00:00, 94.75it/s] \n",
      "predicting ensemble 2 : 100%|██████████| 426/426 [00:04<00:00, 88.69it/s]\n",
      "predicting ensemble 3 : 100%|██████████| 403/403 [00:04<00:00, 92.75it/s] \n",
      "predicting ensemble 4 : 100%|██████████| 553/553 [00:05<00:00, 94.01it/s] \n",
      "predicting ensemble 5 : 100%|██████████| 580/580 [00:06<00:00, 92.55it/s] \n",
      "predicting ensemble 6 : 100%|██████████| 581/581 [00:06<00:00, 92.63it/s] \n",
      "predicting ensemble 7 : 100%|██████████| 601/601 [00:06<00:00, 95.83it/s] \n"
     ]
    },
    {
     "name": "stdout",
     "output_type": "stream",
     "text": [
      "27 bio6 1\n"
     ]
    },
    {
     "name": "stderr",
     "output_type": "stream",
     "text": [
      "predicting ensemble 0 : 100%|██████████| 684/684 [00:07<00:00, 92.94it/s] \n",
      "predicting ensemble 1 : 100%|██████████| 666/666 [00:07<00:00, 91.72it/s] \n",
      "predicting ensemble 2 : 100%|██████████| 426/426 [00:04<00:00, 88.42it/s]\n",
      "predicting ensemble 3 : 100%|██████████| 403/403 [00:04<00:00, 91.94it/s] \n",
      "predicting ensemble 4 : 100%|██████████| 553/553 [00:05<00:00, 93.46it/s] \n",
      "predicting ensemble 5 : 100%|██████████| 580/580 [00:06<00:00, 93.26it/s] \n",
      "predicting ensemble 6 : 100%|██████████| 581/581 [00:06<00:00, 94.72it/s] \n",
      "predicting ensemble 7 : 100%|██████████| 601/601 [00:06<00:00, 94.29it/s] \n"
     ]
    },
    {
     "name": "stdout",
     "output_type": "stream",
     "text": [
      "27 bio6 2\n"
     ]
    },
    {
     "name": "stderr",
     "output_type": "stream",
     "text": [
      "predicting ensemble 0 : 100%|██████████| 684/684 [00:07<00:00, 93.57it/s] \n",
      "predicting ensemble 1 : 100%|██████████| 666/666 [00:07<00:00, 93.90it/s] \n",
      "predicting ensemble 2 : 100%|██████████| 426/426 [00:04<00:00, 91.02it/s]\n",
      "predicting ensemble 3 : 100%|██████████| 403/403 [00:04<00:00, 91.99it/s] \n",
      "predicting ensemble 4 : 100%|██████████| 553/553 [00:06<00:00, 81.67it/s] \n",
      "predicting ensemble 5 : 100%|██████████| 580/580 [00:06<00:00, 91.78it/s]\n",
      "predicting ensemble 6 : 100%|██████████| 581/581 [00:06<00:00, 90.24it/s] \n",
      "predicting ensemble 7 : 100%|██████████| 601/601 [00:06<00:00, 93.44it/s] \n"
     ]
    },
    {
     "name": "stdout",
     "output_type": "stream",
     "text": [
      "27 bio6 3\n"
     ]
    },
    {
     "name": "stderr",
     "output_type": "stream",
     "text": [
      "predicting ensemble 0 : 100%|██████████| 684/684 [00:07<00:00, 93.00it/s] \n",
      "predicting ensemble 1 : 100%|██████████| 666/666 [00:07<00:00, 93.82it/s] \n",
      "predicting ensemble 2 : 100%|██████████| 426/426 [00:04<00:00, 90.79it/s]\n",
      "predicting ensemble 3 : 100%|██████████| 403/403 [00:04<00:00, 91.88it/s] \n",
      "predicting ensemble 4 : 100%|██████████| 553/553 [00:05<00:00, 94.23it/s] \n",
      "predicting ensemble 5 : 100%|██████████| 580/580 [00:06<00:00, 93.17it/s]\n",
      "predicting ensemble 6 : 100%|██████████| 581/581 [00:06<00:00, 95.21it/s] \n",
      "predicting ensemble 7 : 100%|██████████| 601/601 [00:06<00:00, 95.00it/s] \n"
     ]
    },
    {
     "name": "stdout",
     "output_type": "stream",
     "text": [
      "27 bio6 4\n"
     ]
    },
    {
     "name": "stderr",
     "output_type": "stream",
     "text": [
      "predicting ensemble 0 : 100%|██████████| 684/684 [00:07<00:00, 93.25it/s] \n",
      "predicting ensemble 1 : 100%|██████████| 666/666 [00:07<00:00, 92.27it/s] \n",
      "predicting ensemble 2 : 100%|██████████| 426/426 [00:04<00:00, 88.87it/s]\n",
      "predicting ensemble 3 : 100%|██████████| 403/403 [00:04<00:00, 90.98it/s] \n",
      "predicting ensemble 4 : 100%|██████████| 553/553 [00:05<00:00, 94.21it/s] \n",
      "predicting ensemble 5 : 100%|██████████| 580/580 [00:06<00:00, 93.42it/s]\n",
      "predicting ensemble 6 : 100%|██████████| 581/581 [00:06<00:00, 95.87it/s] \n",
      "predicting ensemble 7 : 100%|██████████| 601/601 [00:06<00:00, 93.75it/s] \n"
     ]
    },
    {
     "name": "stdout",
     "output_type": "stream",
     "text": [
      "28 bio7 0\n"
     ]
    },
    {
     "name": "stderr",
     "output_type": "stream",
     "text": [
      "predicting ensemble 0 : 100%|██████████| 684/684 [00:07<00:00, 94.04it/s] \n",
      "predicting ensemble 1 : 100%|██████████| 666/666 [00:07<00:00, 94.60it/s] \n",
      "predicting ensemble 2 : 100%|██████████| 426/426 [00:04<00:00, 89.80it/s]\n",
      "predicting ensemble 3 : 100%|██████████| 403/403 [00:04<00:00, 91.30it/s] \n",
      "predicting ensemble 4 : 100%|██████████| 553/553 [00:05<00:00, 92.94it/s] \n",
      "predicting ensemble 5 : 100%|██████████| 580/580 [00:06<00:00, 91.13it/s] \n",
      "predicting ensemble 6 : 100%|██████████| 581/581 [00:06<00:00, 95.49it/s] \n",
      "predicting ensemble 7 : 100%|██████████| 601/601 [00:06<00:00, 94.57it/s] \n"
     ]
    },
    {
     "name": "stdout",
     "output_type": "stream",
     "text": [
      "28 bio7 1\n"
     ]
    },
    {
     "name": "stderr",
     "output_type": "stream",
     "text": [
      "predicting ensemble 0 : 100%|██████████| 684/684 [00:07<00:00, 94.44it/s] \n",
      "predicting ensemble 1 : 100%|██████████| 666/666 [00:07<00:00, 92.98it/s] \n",
      "predicting ensemble 2 : 100%|██████████| 426/426 [00:04<00:00, 90.03it/s]\n",
      "predicting ensemble 3 : 100%|██████████| 403/403 [00:04<00:00, 91.67it/s] \n",
      "predicting ensemble 4 : 100%|██████████| 553/553 [00:05<00:00, 93.61it/s] \n",
      "predicting ensemble 5 : 100%|██████████| 580/580 [00:06<00:00, 93.78it/s] \n",
      "predicting ensemble 6 : 100%|██████████| 581/581 [00:06<00:00, 95.26it/s] \n",
      "predicting ensemble 7 : 100%|██████████| 601/601 [00:06<00:00, 94.85it/s] \n"
     ]
    },
    {
     "name": "stdout",
     "output_type": "stream",
     "text": [
      "28 bio7 2\n"
     ]
    },
    {
     "name": "stderr",
     "output_type": "stream",
     "text": [
      "predicting ensemble 0 : 100%|██████████| 684/684 [00:07<00:00, 93.34it/s] \n",
      "predicting ensemble 1 : 100%|██████████| 666/666 [00:07<00:00, 91.97it/s] \n",
      "predicting ensemble 2 : 100%|██████████| 426/426 [00:04<00:00, 90.26it/s]\n",
      "predicting ensemble 3 : 100%|██████████| 403/403 [00:04<00:00, 89.48it/s]\n",
      "predicting ensemble 4 : 100%|██████████| 553/553 [00:05<00:00, 94.66it/s] \n",
      "predicting ensemble 5 : 100%|██████████| 580/580 [00:06<00:00, 93.32it/s] \n",
      "predicting ensemble 6 : 100%|██████████| 581/581 [00:06<00:00, 95.66it/s] \n",
      "predicting ensemble 7 : 100%|██████████| 601/601 [00:06<00:00, 92.04it/s] \n"
     ]
    },
    {
     "name": "stdout",
     "output_type": "stream",
     "text": [
      "28 bio7 3\n"
     ]
    },
    {
     "name": "stderr",
     "output_type": "stream",
     "text": [
      "predicting ensemble 0 : 100%|██████████| 684/684 [00:07<00:00, 93.49it/s] \n",
      "predicting ensemble 1 : 100%|██████████| 666/666 [00:07<00:00, 94.24it/s] \n",
      "predicting ensemble 2 : 100%|██████████| 426/426 [00:04<00:00, 90.72it/s]\n",
      "predicting ensemble 3 : 100%|██████████| 403/403 [00:04<00:00, 92.73it/s] \n",
      "predicting ensemble 4 : 100%|██████████| 553/553 [00:06<00:00, 90.45it/s] \n",
      "predicting ensemble 5 : 100%|██████████| 580/580 [00:06<00:00, 92.11it/s] \n",
      "predicting ensemble 6 : 100%|██████████| 581/581 [00:06<00:00, 95.80it/s] \n",
      "predicting ensemble 7 : 100%|██████████| 601/601 [00:06<00:00, 94.45it/s] \n"
     ]
    },
    {
     "name": "stdout",
     "output_type": "stream",
     "text": [
      "28 bio7 4\n"
     ]
    },
    {
     "name": "stderr",
     "output_type": "stream",
     "text": [
      "predicting ensemble 0 : 100%|██████████| 684/684 [00:07<00:00, 93.52it/s] \n",
      "predicting ensemble 1 : 100%|██████████| 666/666 [00:07<00:00, 93.42it/s] \n",
      "predicting ensemble 2 : 100%|██████████| 426/426 [00:04<00:00, 90.05it/s]\n",
      "predicting ensemble 3 : 100%|██████████| 403/403 [00:04<00:00, 91.77it/s] \n",
      "predicting ensemble 4 : 100%|██████████| 553/553 [00:05<00:00, 94.30it/s] \n",
      "predicting ensemble 5 : 100%|██████████| 580/580 [00:06<00:00, 94.20it/s] \n",
      "predicting ensemble 6 : 100%|██████████| 581/581 [00:06<00:00, 95.86it/s] \n",
      "predicting ensemble 7 : 100%|██████████| 601/601 [00:06<00:00, 93.78it/s] \n"
     ]
    },
    {
     "name": "stdout",
     "output_type": "stream",
     "text": [
      "29 bio8 0\n"
     ]
    },
    {
     "name": "stderr",
     "output_type": "stream",
     "text": [
      "predicting ensemble 0 : 100%|██████████| 684/684 [00:07<00:00, 91.84it/s] \n",
      "predicting ensemble 1 : 100%|██████████| 666/666 [00:07<00:00, 94.76it/s] \n",
      "predicting ensemble 2 : 100%|██████████| 426/426 [00:04<00:00, 89.53it/s]\n",
      "predicting ensemble 3 : 100%|██████████| 403/403 [00:04<00:00, 91.30it/s] \n",
      "predicting ensemble 4 : 100%|██████████| 553/553 [00:05<00:00, 92.28it/s] \n",
      "predicting ensemble 5 : 100%|██████████| 580/580 [00:06<00:00, 93.63it/s] \n",
      "predicting ensemble 6 : 100%|██████████| 581/581 [00:06<00:00, 95.28it/s] \n",
      "predicting ensemble 7 : 100%|██████████| 601/601 [00:06<00:00, 94.56it/s] \n"
     ]
    },
    {
     "name": "stdout",
     "output_type": "stream",
     "text": [
      "29 bio8 1\n"
     ]
    },
    {
     "name": "stderr",
     "output_type": "stream",
     "text": [
      "predicting ensemble 0 : 100%|██████████| 684/684 [00:07<00:00, 92.91it/s] \n",
      "predicting ensemble 1 : 100%|██████████| 666/666 [00:07<00:00, 95.10it/s] \n",
      "predicting ensemble 2 : 100%|██████████| 426/426 [00:04<00:00, 91.05it/s]\n",
      "predicting ensemble 3 : 100%|██████████| 403/403 [00:04<00:00, 88.46it/s]\n",
      "predicting ensemble 4 : 100%|██████████| 553/553 [00:06<00:00, 88.92it/s] \n",
      "predicting ensemble 5 : 100%|██████████| 580/580 [00:06<00:00, 91.59it/s]\n",
      "predicting ensemble 6 : 100%|██████████| 581/581 [00:06<00:00, 94.09it/s] \n",
      "predicting ensemble 7 : 100%|██████████| 601/601 [00:06<00:00, 93.68it/s] \n"
     ]
    },
    {
     "name": "stdout",
     "output_type": "stream",
     "text": [
      "29 bio8 2\n"
     ]
    },
    {
     "name": "stderr",
     "output_type": "stream",
     "text": [
      "predicting ensemble 0 : 100%|██████████| 684/684 [00:07<00:00, 92.84it/s] \n",
      "predicting ensemble 1 : 100%|██████████| 666/666 [00:07<00:00, 92.95it/s] \n",
      "predicting ensemble 2 : 100%|██████████| 426/426 [00:04<00:00, 88.92it/s]\n",
      "predicting ensemble 3 : 100%|██████████| 403/403 [00:04<00:00, 91.85it/s]\n",
      "predicting ensemble 4 : 100%|██████████| 553/553 [00:05<00:00, 94.20it/s] \n",
      "predicting ensemble 5 : 100%|██████████| 580/580 [00:06<00:00, 83.77it/s]\n",
      "predicting ensemble 6 : 100%|██████████| 581/581 [00:08<00:00, 69.12it/s]\n",
      "predicting ensemble 7 : 100%|██████████| 601/601 [00:07<00:00, 75.89it/s]\n"
     ]
    },
    {
     "name": "stdout",
     "output_type": "stream",
     "text": [
      "29 bio8 3\n"
     ]
    },
    {
     "name": "stderr",
     "output_type": "stream",
     "text": [
      "predicting ensemble 0 : 100%|██████████| 684/684 [00:08<00:00, 82.24it/s]\n",
      "predicting ensemble 1 : 100%|██████████| 666/666 [00:07<00:00, 91.68it/s] \n",
      "predicting ensemble 2 : 100%|██████████| 426/426 [00:05<00:00, 85.17it/s]\n",
      "predicting ensemble 3 : 100%|██████████| 403/403 [00:05<00:00, 76.92it/s]\n",
      "predicting ensemble 4 : 100%|██████████| 553/553 [00:06<00:00, 88.45it/s] \n",
      "predicting ensemble 5 : 100%|██████████| 580/580 [00:06<00:00, 83.78it/s]\n",
      "predicting ensemble 6 : 100%|██████████| 581/581 [00:07<00:00, 81.70it/s]\n",
      "predicting ensemble 7 : 100%|██████████| 601/601 [00:07<00:00, 81.52it/s]\n"
     ]
    },
    {
     "name": "stdout",
     "output_type": "stream",
     "text": [
      "29 bio8 4\n"
     ]
    },
    {
     "name": "stderr",
     "output_type": "stream",
     "text": [
      "predicting ensemble 0 : 100%|██████████| 684/684 [00:08<00:00, 80.65it/s] \n",
      "predicting ensemble 1 : 100%|██████████| 666/666 [00:07<00:00, 93.94it/s] \n",
      "predicting ensemble 2 : 100%|██████████| 426/426 [00:04<00:00, 91.41it/s]\n",
      "predicting ensemble 3 : 100%|██████████| 403/403 [00:04<00:00, 84.67it/s]\n",
      "predicting ensemble 4 : 100%|██████████| 553/553 [00:05<00:00, 92.92it/s] \n",
      "predicting ensemble 5 : 100%|██████████| 580/580 [00:06<00:00, 87.50it/s]\n",
      "predicting ensemble 6 : 100%|██████████| 581/581 [00:07<00:00, 76.10it/s]\n",
      "predicting ensemble 7 : 100%|██████████| 601/601 [00:06<00:00, 87.01it/s]\n"
     ]
    },
    {
     "name": "stdout",
     "output_type": "stream",
     "text": [
      "30 bio9 0\n"
     ]
    },
    {
     "name": "stderr",
     "output_type": "stream",
     "text": [
      "predicting ensemble 0 : 100%|██████████| 684/684 [00:07<00:00, 91.74it/s] \n",
      "predicting ensemble 1 : 100%|██████████| 666/666 [00:07<00:00, 93.46it/s] \n",
      "predicting ensemble 2 : 100%|██████████| 426/426 [00:04<00:00, 90.08it/s]\n",
      "predicting ensemble 3 : 100%|██████████| 403/403 [00:04<00:00, 91.32it/s] \n",
      "predicting ensemble 4 : 100%|██████████| 553/553 [00:05<00:00, 93.49it/s] \n",
      "predicting ensemble 5 : 100%|██████████| 580/580 [00:06<00:00, 91.00it/s]\n",
      "predicting ensemble 6 : 100%|██████████| 581/581 [00:06<00:00, 94.91it/s] \n",
      "predicting ensemble 7 : 100%|██████████| 601/601 [00:06<00:00, 90.85it/s] \n"
     ]
    },
    {
     "name": "stdout",
     "output_type": "stream",
     "text": [
      "30 bio9 1\n"
     ]
    },
    {
     "name": "stderr",
     "output_type": "stream",
     "text": [
      "predicting ensemble 0 : 100%|██████████| 684/684 [00:07<00:00, 92.27it/s] \n",
      "predicting ensemble 1 : 100%|██████████| 666/666 [00:07<00:00, 93.71it/s] \n",
      "predicting ensemble 2 : 100%|██████████| 426/426 [00:04<00:00, 89.31it/s]\n",
      "predicting ensemble 3 : 100%|██████████| 403/403 [00:04<00:00, 91.91it/s] \n",
      "predicting ensemble 4 : 100%|██████████| 553/553 [00:05<00:00, 92.77it/s] \n",
      "predicting ensemble 5 : 100%|██████████| 580/580 [00:06<00:00, 92.74it/s]\n",
      "predicting ensemble 6 : 100%|██████████| 581/581 [00:06<00:00, 94.79it/s] \n",
      "predicting ensemble 7 : 100%|██████████| 601/601 [00:06<00:00, 93.23it/s] \n"
     ]
    },
    {
     "name": "stdout",
     "output_type": "stream",
     "text": [
      "30 bio9 2\n"
     ]
    },
    {
     "name": "stderr",
     "output_type": "stream",
     "text": [
      "predicting ensemble 0 : 100%|██████████| 684/684 [00:07<00:00, 92.04it/s] \n",
      "predicting ensemble 1 : 100%|██████████| 666/666 [00:07<00:00, 94.37it/s] \n",
      "predicting ensemble 2 : 100%|██████████| 426/426 [00:04<00:00, 90.48it/s]\n",
      "predicting ensemble 3 : 100%|██████████| 403/403 [00:04<00:00, 88.66it/s]\n",
      "predicting ensemble 4 : 100%|██████████| 553/553 [00:05<00:00, 92.19it/s] \n",
      "predicting ensemble 5 : 100%|██████████| 580/580 [00:06<00:00, 93.56it/s]\n",
      "predicting ensemble 6 : 100%|██████████| 581/581 [00:06<00:00, 94.33it/s] \n",
      "predicting ensemble 7 : 100%|██████████| 601/601 [00:06<00:00, 94.06it/s] \n"
     ]
    },
    {
     "name": "stdout",
     "output_type": "stream",
     "text": [
      "30 bio9 3\n"
     ]
    },
    {
     "name": "stderr",
     "output_type": "stream",
     "text": [
      "predicting ensemble 0 : 100%|██████████| 684/684 [00:07<00:00, 91.99it/s] \n",
      "predicting ensemble 1 : 100%|██████████| 666/666 [00:07<00:00, 89.08it/s] \n",
      "predicting ensemble 2 : 100%|██████████| 426/426 [00:04<00:00, 89.11it/s]\n",
      "predicting ensemble 3 : 100%|██████████| 403/403 [00:04<00:00, 92.66it/s] \n",
      "predicting ensemble 4 : 100%|██████████| 553/553 [00:05<00:00, 93.17it/s] \n",
      "predicting ensemble 5 : 100%|██████████| 580/580 [00:06<00:00, 93.57it/s] \n",
      "predicting ensemble 6 : 100%|██████████| 581/581 [00:06<00:00, 93.22it/s] \n",
      "predicting ensemble 7 : 100%|██████████| 601/601 [00:06<00:00, 92.52it/s] \n"
     ]
    },
    {
     "name": "stdout",
     "output_type": "stream",
     "text": [
      "30 bio9 4\n"
     ]
    },
    {
     "name": "stderr",
     "output_type": "stream",
     "text": [
      "predicting ensemble 0 : 100%|██████████| 684/684 [00:07<00:00, 93.10it/s] \n",
      "predicting ensemble 1 : 100%|██████████| 666/666 [00:07<00:00, 90.45it/s] \n",
      "predicting ensemble 2 : 100%|██████████| 426/426 [00:04<00:00, 88.22it/s]\n",
      "predicting ensemble 3 : 100%|██████████| 403/403 [00:04<00:00, 88.68it/s] \n",
      "predicting ensemble 4 : 100%|██████████| 553/553 [00:05<00:00, 93.50it/s] \n",
      "predicting ensemble 5 : 100%|██████████| 580/580 [00:06<00:00, 93.04it/s]\n",
      "predicting ensemble 6 : 100%|██████████| 581/581 [00:06<00:00, 93.03it/s] \n",
      "predicting ensemble 7 : 100%|██████████| 601/601 [00:06<00:00, 94.82it/s] \n"
     ]
    },
    {
     "name": "stdout",
     "output_type": "stream",
     "text": [
      "31 bio10 0\n"
     ]
    },
    {
     "name": "stderr",
     "output_type": "stream",
     "text": [
      "predicting ensemble 0 : 100%|██████████| 684/684 [00:07<00:00, 91.99it/s] \n",
      "predicting ensemble 1 : 100%|██████████| 666/666 [00:07<00:00, 94.82it/s] \n",
      "predicting ensemble 2 : 100%|██████████| 426/426 [00:04<00:00, 90.19it/s]\n",
      "predicting ensemble 3 : 100%|██████████| 403/403 [00:04<00:00, 91.51it/s] \n",
      "predicting ensemble 4 : 100%|██████████| 553/553 [00:06<00:00, 90.79it/s] \n",
      "predicting ensemble 5 : 100%|██████████| 580/580 [00:06<00:00, 92.57it/s]\n",
      "predicting ensemble 6 : 100%|██████████| 581/581 [00:06<00:00, 94.27it/s] \n",
      "predicting ensemble 7 : 100%|██████████| 601/601 [00:06<00:00, 95.44it/s] \n"
     ]
    },
    {
     "name": "stdout",
     "output_type": "stream",
     "text": [
      "31 bio10 1\n"
     ]
    },
    {
     "name": "stderr",
     "output_type": "stream",
     "text": [
      "predicting ensemble 0 : 100%|██████████| 684/684 [00:07<00:00, 92.39it/s] \n",
      "predicting ensemble 1 : 100%|██████████| 666/666 [00:07<00:00, 93.16it/s] \n",
      "predicting ensemble 2 : 100%|██████████| 426/426 [00:04<00:00, 90.24it/s]\n",
      "predicting ensemble 3 : 100%|██████████| 403/403 [00:04<00:00, 89.89it/s]\n",
      "predicting ensemble 4 : 100%|██████████| 553/553 [00:05<00:00, 94.45it/s] \n",
      "predicting ensemble 5 : 100%|██████████| 580/580 [00:06<00:00, 93.48it/s] \n",
      "predicting ensemble 6 : 100%|██████████| 581/581 [00:06<00:00, 94.26it/s] \n",
      "predicting ensemble 7 : 100%|██████████| 601/601 [00:06<00:00, 92.44it/s] \n"
     ]
    },
    {
     "name": "stdout",
     "output_type": "stream",
     "text": [
      "31 bio10 2\n"
     ]
    },
    {
     "name": "stderr",
     "output_type": "stream",
     "text": [
      "predicting ensemble 0 : 100%|██████████| 684/684 [00:07<00:00, 93.01it/s] \n",
      "predicting ensemble 1 : 100%|██████████| 666/666 [00:07<00:00, 94.28it/s] \n",
      "predicting ensemble 2 : 100%|██████████| 426/426 [00:04<00:00, 90.00it/s]\n",
      "predicting ensemble 3 : 100%|██████████| 403/403 [00:04<00:00, 88.79it/s] \n",
      "predicting ensemble 4 : 100%|██████████| 553/553 [00:06<00:00, 89.28it/s] \n",
      "predicting ensemble 5 : 100%|██████████| 580/580 [00:06<00:00, 92.38it/s]\n",
      "predicting ensemble 6 : 100%|██████████| 581/581 [00:06<00:00, 94.93it/s] \n",
      "predicting ensemble 7 : 100%|██████████| 601/601 [00:06<00:00, 91.79it/s] \n"
     ]
    },
    {
     "name": "stdout",
     "output_type": "stream",
     "text": [
      "31 bio10 3\n"
     ]
    },
    {
     "name": "stderr",
     "output_type": "stream",
     "text": [
      "predicting ensemble 0 : 100%|██████████| 684/684 [00:07<00:00, 90.44it/s] \n",
      "predicting ensemble 1 : 100%|██████████| 666/666 [00:07<00:00, 91.67it/s] \n",
      "predicting ensemble 2 : 100%|██████████| 426/426 [00:05<00:00, 84.59it/s]\n",
      "predicting ensemble 3 : 100%|██████████| 403/403 [00:04<00:00, 84.14it/s]\n",
      "predicting ensemble 4 : 100%|██████████| 553/553 [00:07<00:00, 77.71it/s]\n",
      "predicting ensemble 5 : 100%|██████████| 580/580 [00:07<00:00, 77.06it/s]\n",
      "predicting ensemble 6 : 100%|██████████| 581/581 [00:08<00:00, 70.94it/s]\n",
      "predicting ensemble 7 : 100%|██████████| 601/601 [00:07<00:00, 85.27it/s]\n"
     ]
    },
    {
     "name": "stdout",
     "output_type": "stream",
     "text": [
      "31 bio10 4\n"
     ]
    },
    {
     "name": "stderr",
     "output_type": "stream",
     "text": [
      "predicting ensemble 0 : 100%|██████████| 684/684 [00:08<00:00, 81.34it/s] \n",
      "predicting ensemble 1 : 100%|██████████| 666/666 [00:07<00:00, 86.16it/s] \n",
      "predicting ensemble 2 : 100%|██████████| 426/426 [00:04<00:00, 85.91it/s]\n",
      "predicting ensemble 3 : 100%|██████████| 403/403 [00:04<00:00, 84.69it/s]\n",
      "predicting ensemble 4 : 100%|██████████| 553/553 [00:06<00:00, 79.54it/s]\n",
      "predicting ensemble 5 : 100%|██████████| 580/580 [00:06<00:00, 89.94it/s]\n",
      "predicting ensemble 6 : 100%|██████████| 581/581 [00:06<00:00, 90.51it/s]\n",
      "predicting ensemble 7 : 100%|██████████| 601/601 [00:06<00:00, 88.97it/s]\n"
     ]
    },
    {
     "name": "stdout",
     "output_type": "stream",
     "text": [
      "32 bio11 0\n"
     ]
    },
    {
     "name": "stderr",
     "output_type": "stream",
     "text": [
      "predicting ensemble 0 : 100%|██████████| 684/684 [00:07<00:00, 87.89it/s]\n",
      "predicting ensemble 1 : 100%|██████████| 666/666 [00:07<00:00, 91.54it/s] \n",
      "predicting ensemble 2 : 100%|██████████| 426/426 [00:04<00:00, 87.94it/s]\n",
      "predicting ensemble 3 : 100%|██████████| 403/403 [00:04<00:00, 90.81it/s]\n",
      "predicting ensemble 4 : 100%|██████████| 553/553 [00:06<00:00, 88.78it/s]\n",
      "predicting ensemble 5 : 100%|██████████| 580/580 [00:06<00:00, 87.32it/s]\n",
      "predicting ensemble 6 : 100%|██████████| 581/581 [00:06<00:00, 92.71it/s] \n",
      "predicting ensemble 7 : 100%|██████████| 601/601 [00:06<00:00, 92.84it/s]\n"
     ]
    },
    {
     "name": "stdout",
     "output_type": "stream",
     "text": [
      "32 bio11 1\n"
     ]
    },
    {
     "name": "stderr",
     "output_type": "stream",
     "text": [
      "predicting ensemble 0 : 100%|██████████| 684/684 [00:07<00:00, 93.12it/s] \n",
      "predicting ensemble 1 : 100%|██████████| 666/666 [00:07<00:00, 93.14it/s] \n",
      "predicting ensemble 2 : 100%|██████████| 426/426 [00:04<00:00, 87.95it/s]\n",
      "predicting ensemble 3 : 100%|██████████| 403/403 [00:04<00:00, 83.95it/s]\n",
      "predicting ensemble 4 : 100%|██████████| 553/553 [00:06<00:00, 91.70it/s] \n",
      "predicting ensemble 5 : 100%|██████████| 580/580 [00:06<00:00, 92.35it/s] \n",
      "predicting ensemble 6 : 100%|██████████| 581/581 [00:06<00:00, 94.49it/s] \n",
      "predicting ensemble 7 : 100%|██████████| 601/601 [00:06<00:00, 94.71it/s] \n"
     ]
    },
    {
     "name": "stdout",
     "output_type": "stream",
     "text": [
      "32 bio11 2\n"
     ]
    },
    {
     "name": "stderr",
     "output_type": "stream",
     "text": [
      "predicting ensemble 0 : 100%|██████████| 684/684 [00:07<00:00, 91.84it/s] \n",
      "predicting ensemble 1 : 100%|██████████| 666/666 [00:07<00:00, 93.65it/s] \n",
      "predicting ensemble 2 : 100%|██████████| 426/426 [00:04<00:00, 89.94it/s]\n",
      "predicting ensemble 3 : 100%|██████████| 403/403 [00:04<00:00, 91.68it/s] \n",
      "predicting ensemble 4 : 100%|██████████| 553/553 [00:05<00:00, 93.87it/s] \n",
      "predicting ensemble 5 : 100%|██████████| 580/580 [00:06<00:00, 91.91it/s]\n",
      "predicting ensemble 6 : 100%|██████████| 581/581 [00:06<00:00, 95.34it/s] \n",
      "predicting ensemble 7 : 100%|██████████| 601/601 [00:06<00:00, 90.97it/s] \n"
     ]
    },
    {
     "name": "stdout",
     "output_type": "stream",
     "text": [
      "32 bio11 3\n"
     ]
    },
    {
     "name": "stderr",
     "output_type": "stream",
     "text": [
      "predicting ensemble 0 : 100%|██████████| 684/684 [00:07<00:00, 93.01it/s] \n",
      "predicting ensemble 1 : 100%|██████████| 666/666 [00:07<00:00, 93.96it/s] \n",
      "predicting ensemble 2 : 100%|██████████| 426/426 [00:04<00:00, 90.23it/s]\n",
      "predicting ensemble 3 : 100%|██████████| 403/403 [00:04<00:00, 91.87it/s] \n",
      "predicting ensemble 4 : 100%|██████████| 553/553 [00:05<00:00, 93.59it/s] \n",
      "predicting ensemble 5 : 100%|██████████| 580/580 [00:06<00:00, 92.29it/s] \n",
      "predicting ensemble 6 : 100%|██████████| 581/581 [00:06<00:00, 93.58it/s] \n",
      "predicting ensemble 7 : 100%|██████████| 601/601 [00:06<00:00, 93.17it/s] \n"
     ]
    },
    {
     "name": "stdout",
     "output_type": "stream",
     "text": [
      "32 bio11 4\n"
     ]
    },
    {
     "name": "stderr",
     "output_type": "stream",
     "text": [
      "predicting ensemble 0 : 100%|██████████| 684/684 [00:07<00:00, 93.32it/s] \n",
      "predicting ensemble 1 : 100%|██████████| 666/666 [00:07<00:00, 94.19it/s] \n",
      "predicting ensemble 2 : 100%|██████████| 426/426 [00:04<00:00, 89.83it/s]\n",
      "predicting ensemble 3 : 100%|██████████| 403/403 [00:04<00:00, 92.87it/s] \n",
      "predicting ensemble 4 : 100%|██████████| 553/553 [00:05<00:00, 92.32it/s] \n",
      "predicting ensemble 5 : 100%|██████████| 580/580 [00:06<00:00, 93.17it/s] \n",
      "predicting ensemble 6 : 100%|██████████| 581/581 [00:06<00:00, 94.38it/s] \n",
      "predicting ensemble 7 : 100%|██████████| 601/601 [00:06<00:00, 94.14it/s] \n"
     ]
    },
    {
     "name": "stdout",
     "output_type": "stream",
     "text": [
      "33 bio12 0\n"
     ]
    },
    {
     "name": "stderr",
     "output_type": "stream",
     "text": [
      "predicting ensemble 0 : 100%|██████████| 684/684 [00:07<00:00, 92.75it/s] \n",
      "predicting ensemble 1 : 100%|██████████| 666/666 [00:07<00:00, 92.96it/s] \n",
      "predicting ensemble 2 : 100%|██████████| 426/426 [00:04<00:00, 89.39it/s]\n",
      "predicting ensemble 3 : 100%|██████████| 403/403 [00:04<00:00, 92.45it/s] \n",
      "predicting ensemble 4 : 100%|██████████| 553/553 [00:05<00:00, 92.66it/s] \n",
      "predicting ensemble 5 : 100%|██████████| 580/580 [00:06<00:00, 92.52it/s]\n",
      "predicting ensemble 6 : 100%|██████████| 581/581 [00:06<00:00, 94.29it/s] \n",
      "predicting ensemble 7 : 100%|██████████| 601/601 [00:06<00:00, 91.66it/s] \n"
     ]
    },
    {
     "name": "stdout",
     "output_type": "stream",
     "text": [
      "33 bio12 1\n"
     ]
    },
    {
     "name": "stderr",
     "output_type": "stream",
     "text": [
      "predicting ensemble 0 : 100%|██████████| 684/684 [00:07<00:00, 93.97it/s] \n",
      "predicting ensemble 1 : 100%|██████████| 666/666 [00:07<00:00, 93.49it/s] \n",
      "predicting ensemble 2 : 100%|██████████| 426/426 [00:04<00:00, 87.84it/s]\n",
      "predicting ensemble 3 : 100%|██████████| 403/403 [00:04<00:00, 91.95it/s] \n",
      "predicting ensemble 4 : 100%|██████████| 553/553 [00:05<00:00, 93.50it/s] \n",
      "predicting ensemble 5 : 100%|██████████| 580/580 [00:06<00:00, 93.08it/s] \n",
      "predicting ensemble 6 : 100%|██████████| 581/581 [00:06<00:00, 94.16it/s] \n",
      "predicting ensemble 7 : 100%|██████████| 601/601 [00:06<00:00, 94.54it/s] \n"
     ]
    },
    {
     "name": "stdout",
     "output_type": "stream",
     "text": [
      "33 bio12 2\n"
     ]
    },
    {
     "name": "stderr",
     "output_type": "stream",
     "text": [
      "predicting ensemble 0 : 100%|██████████| 684/684 [00:07<00:00, 93.09it/s] \n",
      "predicting ensemble 1 : 100%|██████████| 666/666 [00:07<00:00, 94.35it/s] \n",
      "predicting ensemble 2 : 100%|██████████| 426/426 [00:04<00:00, 90.18it/s]\n",
      "predicting ensemble 3 : 100%|██████████| 403/403 [00:04<00:00, 87.06it/s] \n",
      "predicting ensemble 4 : 100%|██████████| 553/553 [00:05<00:00, 92.94it/s] \n",
      "predicting ensemble 5 : 100%|██████████| 580/580 [00:06<00:00, 93.18it/s] \n",
      "predicting ensemble 6 : 100%|██████████| 581/581 [00:06<00:00, 95.11it/s] \n",
      "predicting ensemble 7 : 100%|██████████| 601/601 [00:06<00:00, 94.64it/s] \n"
     ]
    },
    {
     "name": "stdout",
     "output_type": "stream",
     "text": [
      "33 bio12 3\n"
     ]
    },
    {
     "name": "stderr",
     "output_type": "stream",
     "text": [
      "predicting ensemble 0 : 100%|██████████| 684/684 [00:07<00:00, 92.93it/s] \n",
      "predicting ensemble 1 : 100%|██████████| 666/666 [00:07<00:00, 93.32it/s] \n",
      "predicting ensemble 2 : 100%|██████████| 426/426 [00:04<00:00, 89.22it/s]\n",
      "predicting ensemble 3 : 100%|██████████| 403/403 [00:04<00:00, 92.21it/s]\n",
      "predicting ensemble 4 : 100%|██████████| 553/553 [00:05<00:00, 94.19it/s] \n",
      "predicting ensemble 5 : 100%|██████████| 580/580 [00:06<00:00, 92.41it/s] \n",
      "predicting ensemble 6 : 100%|██████████| 581/581 [00:06<00:00, 94.40it/s] \n",
      "predicting ensemble 7 : 100%|██████████| 601/601 [00:06<00:00, 92.52it/s] \n"
     ]
    },
    {
     "name": "stdout",
     "output_type": "stream",
     "text": [
      "33 bio12 4\n"
     ]
    },
    {
     "name": "stderr",
     "output_type": "stream",
     "text": [
      "predicting ensemble 0 : 100%|██████████| 684/684 [00:07<00:00, 92.40it/s] \n",
      "predicting ensemble 1 : 100%|██████████| 666/666 [00:07<00:00, 93.25it/s] \n",
      "predicting ensemble 2 : 100%|██████████| 426/426 [00:04<00:00, 89.24it/s]\n",
      "predicting ensemble 3 : 100%|██████████| 403/403 [00:04<00:00, 91.93it/s] \n",
      "predicting ensemble 4 : 100%|██████████| 553/553 [00:05<00:00, 92.85it/s] \n",
      "predicting ensemble 5 : 100%|██████████| 580/580 [00:06<00:00, 91.85it/s]\n",
      "predicting ensemble 6 : 100%|██████████| 581/581 [00:06<00:00, 95.45it/s] \n",
      "predicting ensemble 7 : 100%|██████████| 601/601 [00:06<00:00, 94.30it/s] \n"
     ]
    },
    {
     "name": "stdout",
     "output_type": "stream",
     "text": [
      "34 bio13 0\n"
     ]
    },
    {
     "name": "stderr",
     "output_type": "stream",
     "text": [
      "predicting ensemble 0 : 100%|██████████| 684/684 [00:07<00:00, 93.02it/s] \n",
      "predicting ensemble 1 : 100%|██████████| 666/666 [00:07<00:00, 94.74it/s] \n",
      "predicting ensemble 2 : 100%|██████████| 426/426 [00:04<00:00, 88.89it/s]\n",
      "predicting ensemble 3 : 100%|██████████| 403/403 [00:04<00:00, 92.50it/s] \n",
      "predicting ensemble 4 : 100%|██████████| 553/553 [00:05<00:00, 92.71it/s] \n",
      "predicting ensemble 5 : 100%|██████████| 580/580 [00:06<00:00, 93.34it/s] \n",
      "predicting ensemble 6 : 100%|██████████| 581/581 [00:06<00:00, 94.50it/s] \n",
      "predicting ensemble 7 : 100%|██████████| 601/601 [00:06<00:00, 93.88it/s] \n"
     ]
    },
    {
     "name": "stdout",
     "output_type": "stream",
     "text": [
      "34 bio13 1\n"
     ]
    },
    {
     "name": "stderr",
     "output_type": "stream",
     "text": [
      "predicting ensemble 0 : 100%|██████████| 684/684 [00:07<00:00, 93.22it/s] \n",
      "predicting ensemble 1 : 100%|██████████| 666/666 [00:07<00:00, 88.19it/s] \n",
      "predicting ensemble 2 : 100%|██████████| 426/426 [00:04<00:00, 89.11it/s]\n",
      "predicting ensemble 3 : 100%|██████████| 403/403 [00:04<00:00, 93.35it/s] \n",
      "predicting ensemble 4 : 100%|██████████| 553/553 [00:05<00:00, 93.22it/s] \n",
      "predicting ensemble 5 : 100%|██████████| 580/580 [00:06<00:00, 94.13it/s] \n",
      "predicting ensemble 6 : 100%|██████████| 581/581 [00:06<00:00, 93.84it/s] \n",
      "predicting ensemble 7 : 100%|██████████| 601/601 [00:06<00:00, 91.28it/s] \n"
     ]
    },
    {
     "name": "stdout",
     "output_type": "stream",
     "text": [
      "34 bio13 2\n"
     ]
    },
    {
     "name": "stderr",
     "output_type": "stream",
     "text": [
      "predicting ensemble 0 : 100%|██████████| 684/684 [00:07<00:00, 93.01it/s] \n",
      "predicting ensemble 1 : 100%|██████████| 666/666 [00:07<00:00, 94.22it/s] \n",
      "predicting ensemble 2 : 100%|██████████| 426/426 [00:04<00:00, 90.83it/s]\n",
      "predicting ensemble 3 : 100%|██████████| 403/403 [00:04<00:00, 89.95it/s] \n",
      "predicting ensemble 4 : 100%|██████████| 553/553 [00:05<00:00, 93.03it/s] \n",
      "predicting ensemble 5 : 100%|██████████| 580/580 [00:06<00:00, 93.64it/s] \n",
      "predicting ensemble 6 : 100%|██████████| 581/581 [00:06<00:00, 94.98it/s] \n",
      "predicting ensemble 7 : 100%|██████████| 601/601 [00:06<00:00, 94.72it/s] \n"
     ]
    },
    {
     "name": "stdout",
     "output_type": "stream",
     "text": [
      "34 bio13 3\n"
     ]
    },
    {
     "name": "stderr",
     "output_type": "stream",
     "text": [
      "predicting ensemble 0 : 100%|██████████| 684/684 [00:07<00:00, 92.84it/s] \n",
      "predicting ensemble 1 : 100%|██████████| 666/666 [00:07<00:00, 94.20it/s] \n",
      "predicting ensemble 2 : 100%|██████████| 426/426 [00:04<00:00, 89.59it/s]\n",
      "predicting ensemble 3 : 100%|██████████| 403/403 [00:04<00:00, 86.94it/s]\n",
      "predicting ensemble 4 : 100%|██████████| 553/553 [00:05<00:00, 93.66it/s] \n",
      "predicting ensemble 5 : 100%|██████████| 580/580 [00:06<00:00, 92.58it/s]\n",
      "predicting ensemble 6 : 100%|██████████| 581/581 [00:06<00:00, 94.35it/s] \n",
      "predicting ensemble 7 : 100%|██████████| 601/601 [00:06<00:00, 95.54it/s] \n"
     ]
    },
    {
     "name": "stdout",
     "output_type": "stream",
     "text": [
      "34 bio13 4\n"
     ]
    },
    {
     "name": "stderr",
     "output_type": "stream",
     "text": [
      "predicting ensemble 0 : 100%|██████████| 684/684 [00:07<00:00, 93.00it/s] \n",
      "predicting ensemble 1 : 100%|██████████| 666/666 [00:07<00:00, 93.80it/s] \n",
      "predicting ensemble 2 : 100%|██████████| 426/426 [00:04<00:00, 89.61it/s]\n",
      "predicting ensemble 3 : 100%|██████████| 403/403 [00:04<00:00, 92.13it/s] \n",
      "predicting ensemble 4 : 100%|██████████| 553/553 [00:05<00:00, 93.92it/s] \n",
      "predicting ensemble 5 : 100%|██████████| 580/580 [00:06<00:00, 92.42it/s]\n",
      "predicting ensemble 6 : 100%|██████████| 581/581 [00:06<00:00, 94.71it/s] \n",
      "predicting ensemble 7 : 100%|██████████| 601/601 [00:06<00:00, 93.51it/s]\n"
     ]
    },
    {
     "name": "stdout",
     "output_type": "stream",
     "text": [
      "35 bio14 0\n"
     ]
    },
    {
     "name": "stderr",
     "output_type": "stream",
     "text": [
      "predicting ensemble 0 : 100%|██████████| 684/684 [00:07<00:00, 93.17it/s] \n",
      "predicting ensemble 1 : 100%|██████████| 666/666 [00:07<00:00, 95.02it/s] \n",
      "predicting ensemble 2 : 100%|██████████| 426/426 [00:04<00:00, 89.46it/s]\n",
      "predicting ensemble 3 : 100%|██████████| 403/403 [00:04<00:00, 91.88it/s] \n",
      "predicting ensemble 4 : 100%|██████████| 553/553 [00:05<00:00, 92.47it/s] \n",
      "predicting ensemble 5 : 100%|██████████| 580/580 [00:06<00:00, 93.79it/s] \n",
      "predicting ensemble 6 : 100%|██████████| 581/581 [00:06<00:00, 93.90it/s] \n",
      "predicting ensemble 7 : 100%|██████████| 601/601 [00:06<00:00, 95.23it/s] \n"
     ]
    },
    {
     "name": "stdout",
     "output_type": "stream",
     "text": [
      "35 bio14 1\n"
     ]
    },
    {
     "name": "stderr",
     "output_type": "stream",
     "text": [
      "predicting ensemble 0 : 100%|██████████| 684/684 [00:07<00:00, 92.62it/s] \n",
      "predicting ensemble 1 : 100%|██████████| 666/666 [00:07<00:00, 94.06it/s] \n",
      "predicting ensemble 2 : 100%|██████████| 426/426 [00:04<00:00, 85.86it/s]\n",
      "predicting ensemble 3 : 100%|██████████| 403/403 [00:04<00:00, 92.09it/s] \n",
      "predicting ensemble 4 : 100%|██████████| 553/553 [00:05<00:00, 93.95it/s] \n",
      "predicting ensemble 5 : 100%|██████████| 580/580 [00:06<00:00, 92.96it/s]\n",
      "predicting ensemble 6 : 100%|██████████| 581/581 [00:06<00:00, 94.47it/s] \n",
      "predicting ensemble 7 : 100%|██████████| 601/601 [00:06<00:00, 94.72it/s] \n"
     ]
    },
    {
     "name": "stdout",
     "output_type": "stream",
     "text": [
      "35 bio14 2\n"
     ]
    },
    {
     "name": "stderr",
     "output_type": "stream",
     "text": [
      "predicting ensemble 0 : 100%|██████████| 684/684 [00:07<00:00, 93.64it/s] \n",
      "predicting ensemble 1 : 100%|██████████| 666/666 [00:07<00:00, 94.11it/s] \n",
      "predicting ensemble 2 : 100%|██████████| 426/426 [00:04<00:00, 87.99it/s]\n",
      "predicting ensemble 3 : 100%|██████████| 403/403 [00:04<00:00, 93.28it/s] \n",
      "predicting ensemble 4 : 100%|██████████| 553/553 [00:05<00:00, 93.46it/s] \n",
      "predicting ensemble 5 : 100%|██████████| 580/580 [00:06<00:00, 94.20it/s] \n",
      "predicting ensemble 6 : 100%|██████████| 581/581 [00:06<00:00, 95.02it/s] \n",
      "predicting ensemble 7 : 100%|██████████| 601/601 [00:06<00:00, 90.99it/s]\n"
     ]
    },
    {
     "name": "stdout",
     "output_type": "stream",
     "text": [
      "35 bio14 3\n"
     ]
    },
    {
     "name": "stderr",
     "output_type": "stream",
     "text": [
      "predicting ensemble 0 : 100%|██████████| 684/684 [00:07<00:00, 87.32it/s] \n",
      "predicting ensemble 1 : 100%|██████████| 666/666 [00:07<00:00, 88.81it/s] \n",
      "predicting ensemble 2 : 100%|██████████| 426/426 [00:04<00:00, 87.37it/s]\n",
      "predicting ensemble 3 : 100%|██████████| 403/403 [00:04<00:00, 91.23it/s] \n",
      "predicting ensemble 4 : 100%|██████████| 553/553 [00:05<00:00, 92.31it/s] \n",
      "predicting ensemble 5 : 100%|██████████| 580/580 [00:06<00:00, 90.93it/s]\n",
      "predicting ensemble 6 : 100%|██████████| 581/581 [00:06<00:00, 93.59it/s] \n",
      "predicting ensemble 7 : 100%|██████████| 601/601 [00:06<00:00, 93.69it/s] \n"
     ]
    },
    {
     "name": "stdout",
     "output_type": "stream",
     "text": [
      "35 bio14 4\n"
     ]
    },
    {
     "name": "stderr",
     "output_type": "stream",
     "text": [
      "predicting ensemble 0 : 100%|██████████| 684/684 [00:07<00:00, 92.96it/s] \n",
      "predicting ensemble 1 : 100%|██████████| 666/666 [00:07<00:00, 93.80it/s] \n",
      "predicting ensemble 2 : 100%|██████████| 426/426 [00:04<00:00, 89.27it/s]\n",
      "predicting ensemble 3 : 100%|██████████| 403/403 [00:04<00:00, 86.91it/s] \n",
      "predicting ensemble 4 : 100%|██████████| 553/553 [00:05<00:00, 93.04it/s] \n",
      "predicting ensemble 5 : 100%|██████████| 580/580 [00:06<00:00, 92.79it/s]\n",
      "predicting ensemble 6 : 100%|██████████| 581/581 [00:06<00:00, 93.86it/s] \n",
      "predicting ensemble 7 : 100%|██████████| 601/601 [00:06<00:00, 94.12it/s] \n"
     ]
    },
    {
     "name": "stdout",
     "output_type": "stream",
     "text": [
      "36 bio15 0\n"
     ]
    },
    {
     "name": "stderr",
     "output_type": "stream",
     "text": [
      "predicting ensemble 0 : 100%|██████████| 684/684 [00:07<00:00, 93.37it/s] \n",
      "predicting ensemble 1 : 100%|██████████| 666/666 [00:07<00:00, 94.09it/s] \n",
      "predicting ensemble 2 : 100%|██████████| 426/426 [00:04<00:00, 89.10it/s]\n",
      "predicting ensemble 3 : 100%|██████████| 403/403 [00:04<00:00, 91.02it/s] \n",
      "predicting ensemble 4 : 100%|██████████| 553/553 [00:05<00:00, 93.95it/s] \n",
      "predicting ensemble 5 : 100%|██████████| 580/580 [00:06<00:00, 92.85it/s]\n",
      "predicting ensemble 6 : 100%|██████████| 581/581 [00:06<00:00, 92.54it/s] \n",
      "predicting ensemble 7 : 100%|██████████| 601/601 [00:06<00:00, 93.71it/s]\n"
     ]
    },
    {
     "name": "stdout",
     "output_type": "stream",
     "text": [
      "36 bio15 1\n"
     ]
    },
    {
     "name": "stderr",
     "output_type": "stream",
     "text": [
      "predicting ensemble 0 : 100%|██████████| 684/684 [00:07<00:00, 92.94it/s] \n",
      "predicting ensemble 1 : 100%|██████████| 666/666 [00:07<00:00, 93.25it/s] \n",
      "predicting ensemble 2 : 100%|██████████| 426/426 [00:04<00:00, 88.87it/s]\n",
      "predicting ensemble 3 : 100%|██████████| 403/403 [00:04<00:00, 92.13it/s] \n",
      "predicting ensemble 4 : 100%|██████████| 553/553 [00:05<00:00, 92.45it/s] \n",
      "predicting ensemble 5 : 100%|██████████| 580/580 [00:06<00:00, 92.45it/s] \n",
      "predicting ensemble 6 : 100%|██████████| 581/581 [00:06<00:00, 94.94it/s] \n",
      "predicting ensemble 7 : 100%|██████████| 601/601 [00:06<00:00, 94.18it/s] \n"
     ]
    },
    {
     "name": "stdout",
     "output_type": "stream",
     "text": [
      "36 bio15 2\n"
     ]
    },
    {
     "name": "stderr",
     "output_type": "stream",
     "text": [
      "predicting ensemble 0 : 100%|██████████| 684/684 [00:07<00:00, 92.57it/s] \n",
      "predicting ensemble 1 : 100%|██████████| 666/666 [00:07<00:00, 94.59it/s] \n",
      "predicting ensemble 2 : 100%|██████████| 426/426 [00:04<00:00, 85.95it/s]\n",
      "predicting ensemble 3 : 100%|██████████| 403/403 [00:04<00:00, 91.73it/s] \n",
      "predicting ensemble 4 : 100%|██████████| 553/553 [00:05<00:00, 93.13it/s] \n",
      "predicting ensemble 5 : 100%|██████████| 580/580 [00:06<00:00, 91.74it/s] \n",
      "predicting ensemble 6 : 100%|██████████| 581/581 [00:06<00:00, 89.43it/s]\n",
      "predicting ensemble 7 : 100%|██████████| 601/601 [00:06<00:00, 91.02it/s] \n"
     ]
    },
    {
     "name": "stdout",
     "output_type": "stream",
     "text": [
      "36 bio15 3\n"
     ]
    },
    {
     "name": "stderr",
     "output_type": "stream",
     "text": [
      "predicting ensemble 0 : 100%|██████████| 684/684 [00:07<00:00, 93.53it/s] \n",
      "predicting ensemble 1 : 100%|██████████| 666/666 [00:07<00:00, 92.73it/s] \n",
      "predicting ensemble 2 : 100%|██████████| 426/426 [00:04<00:00, 89.44it/s]\n",
      "predicting ensemble 3 : 100%|██████████| 403/403 [00:04<00:00, 89.25it/s]\n",
      "predicting ensemble 4 : 100%|██████████| 553/553 [00:06<00:00, 80.36it/s]\n",
      "predicting ensemble 5 : 100%|██████████| 580/580 [00:06<00:00, 93.14it/s] \n",
      "predicting ensemble 6 : 100%|██████████| 581/581 [00:06<00:00, 91.31it/s] \n",
      "predicting ensemble 7 : 100%|██████████| 601/601 [00:06<00:00, 93.92it/s] \n"
     ]
    },
    {
     "name": "stdout",
     "output_type": "stream",
     "text": [
      "36 bio15 4\n"
     ]
    },
    {
     "name": "stderr",
     "output_type": "stream",
     "text": [
      "predicting ensemble 0 : 100%|██████████| 684/684 [00:07<00:00, 92.52it/s] \n",
      "predicting ensemble 1 : 100%|██████████| 666/666 [00:07<00:00, 93.76it/s] \n",
      "predicting ensemble 2 : 100%|██████████| 426/426 [00:04<00:00, 89.16it/s]\n",
      "predicting ensemble 3 : 100%|██████████| 403/403 [00:04<00:00, 91.75it/s] \n",
      "predicting ensemble 4 : 100%|██████████| 553/553 [00:07<00:00, 70.43it/s] \n",
      "predicting ensemble 5 : 100%|██████████| 580/580 [00:06<00:00, 93.47it/s] \n",
      "predicting ensemble 6 : 100%|██████████| 581/581 [00:06<00:00, 94.74it/s] \n",
      "predicting ensemble 7 : 100%|██████████| 601/601 [00:06<00:00, 91.88it/s]\n"
     ]
    },
    {
     "name": "stdout",
     "output_type": "stream",
     "text": [
      "37 bio16 0\n"
     ]
    },
    {
     "name": "stderr",
     "output_type": "stream",
     "text": [
      "predicting ensemble 0 : 100%|██████████| 684/684 [00:07<00:00, 92.51it/s] \n",
      "predicting ensemble 1 : 100%|██████████| 666/666 [00:07<00:00, 89.67it/s] \n",
      "predicting ensemble 2 : 100%|██████████| 426/426 [00:04<00:00, 89.19it/s]\n",
      "predicting ensemble 3 : 100%|██████████| 403/403 [00:04<00:00, 89.66it/s] \n",
      "predicting ensemble 4 : 100%|██████████| 553/553 [00:05<00:00, 93.98it/s] \n",
      "predicting ensemble 5 : 100%|██████████| 580/580 [00:06<00:00, 93.39it/s]\n",
      "predicting ensemble 6 : 100%|██████████| 581/581 [00:06<00:00, 94.23it/s] \n",
      "predicting ensemble 7 : 100%|██████████| 601/601 [00:06<00:00, 93.78it/s] \n"
     ]
    },
    {
     "name": "stdout",
     "output_type": "stream",
     "text": [
      "37 bio16 1\n"
     ]
    },
    {
     "name": "stderr",
     "output_type": "stream",
     "text": [
      "predicting ensemble 0 : 100%|██████████| 684/684 [00:07<00:00, 92.94it/s] \n",
      "predicting ensemble 1 : 100%|██████████| 666/666 [00:07<00:00, 94.68it/s] \n",
      "predicting ensemble 2 : 100%|██████████| 426/426 [00:04<00:00, 88.51it/s]\n",
      "predicting ensemble 3 : 100%|██████████| 403/403 [00:04<00:00, 92.90it/s] \n",
      "predicting ensemble 4 : 100%|██████████| 553/553 [00:05<00:00, 95.11it/s] \n",
      "predicting ensemble 5 : 100%|██████████| 580/580 [00:06<00:00, 93.38it/s] \n",
      "predicting ensemble 6 : 100%|██████████| 581/581 [00:06<00:00, 91.98it/s] \n",
      "predicting ensemble 7 : 100%|██████████| 601/601 [00:08<00:00, 74.14it/s] \n"
     ]
    },
    {
     "name": "stdout",
     "output_type": "stream",
     "text": [
      "37 bio16 2\n"
     ]
    },
    {
     "name": "stderr",
     "output_type": "stream",
     "text": [
      "predicting ensemble 0 : 100%|██████████| 684/684 [00:07<00:00, 92.19it/s] \n",
      "predicting ensemble 1 : 100%|██████████| 666/666 [00:07<00:00, 94.22it/s] \n",
      "predicting ensemble 2 : 100%|██████████| 426/426 [00:04<00:00, 90.40it/s]\n",
      "predicting ensemble 3 : 100%|██████████| 403/403 [00:04<00:00, 91.63it/s] \n",
      "predicting ensemble 4 : 100%|██████████| 553/553 [00:05<00:00, 92.56it/s] \n",
      "predicting ensemble 5 : 100%|██████████| 580/580 [00:06<00:00, 93.72it/s] \n",
      "predicting ensemble 6 : 100%|██████████| 581/581 [00:06<00:00, 94.55it/s] \n",
      "predicting ensemble 7 : 100%|██████████| 601/601 [00:06<00:00, 95.17it/s] \n"
     ]
    },
    {
     "name": "stdout",
     "output_type": "stream",
     "text": [
      "37 bio16 3\n"
     ]
    },
    {
     "name": "stderr",
     "output_type": "stream",
     "text": [
      "predicting ensemble 0 : 100%|██████████| 684/684 [00:07<00:00, 93.44it/s] \n",
      "predicting ensemble 1 : 100%|██████████| 666/666 [00:07<00:00, 94.65it/s] \n",
      "predicting ensemble 2 : 100%|██████████| 426/426 [00:04<00:00, 88.35it/s]\n",
      "predicting ensemble 3 : 100%|██████████| 403/403 [00:04<00:00, 91.71it/s] \n",
      "predicting ensemble 4 : 100%|██████████| 553/553 [00:06<00:00, 88.89it/s] \n",
      "predicting ensemble 5 : 100%|██████████| 580/580 [00:06<00:00, 93.03it/s] \n",
      "predicting ensemble 6 : 100%|██████████| 581/581 [00:06<00:00, 94.85it/s] \n",
      "predicting ensemble 7 : 100%|██████████| 601/601 [00:06<00:00, 96.68it/s] \n"
     ]
    },
    {
     "name": "stdout",
     "output_type": "stream",
     "text": [
      "37 bio16 4\n"
     ]
    },
    {
     "name": "stderr",
     "output_type": "stream",
     "text": [
      "predicting ensemble 0 : 100%|██████████| 684/684 [00:07<00:00, 87.57it/s] \n",
      "predicting ensemble 1 : 100%|██████████| 666/666 [00:07<00:00, 90.65it/s] \n",
      "predicting ensemble 2 : 100%|██████████| 426/426 [00:04<00:00, 85.49it/s]\n",
      "predicting ensemble 3 : 100%|██████████| 403/403 [00:04<00:00, 81.01it/s]\n",
      "predicting ensemble 4 : 100%|██████████| 553/553 [00:05<00:00, 93.22it/s] \n",
      "predicting ensemble 5 : 100%|██████████| 580/580 [00:06<00:00, 92.84it/s] \n",
      "predicting ensemble 6 : 100%|██████████| 581/581 [00:06<00:00, 90.60it/s] \n",
      "predicting ensemble 7 : 100%|██████████| 601/601 [00:06<00:00, 93.83it/s] \n"
     ]
    },
    {
     "name": "stdout",
     "output_type": "stream",
     "text": [
      "38 bio17 0\n"
     ]
    },
    {
     "name": "stderr",
     "output_type": "stream",
     "text": [
      "predicting ensemble 0 : 100%|██████████| 684/684 [00:08<00:00, 83.34it/s] \n",
      "predicting ensemble 1 : 100%|██████████| 666/666 [00:08<00:00, 75.36it/s]\n",
      "predicting ensemble 2 : 100%|██████████| 426/426 [00:04<00:00, 88.65it/s]\n",
      "predicting ensemble 3 : 100%|██████████| 403/403 [00:04<00:00, 88.37it/s] \n",
      "predicting ensemble 4 : 100%|██████████| 553/553 [00:05<00:00, 92.50it/s] \n",
      "predicting ensemble 5 : 100%|██████████| 580/580 [00:06<00:00, 85.39it/s]\n",
      "predicting ensemble 6 : 100%|██████████| 581/581 [00:06<00:00, 83.02it/s]\n",
      "predicting ensemble 7 : 100%|██████████| 601/601 [00:06<00:00, 90.20it/s] \n"
     ]
    },
    {
     "name": "stdout",
     "output_type": "stream",
     "text": [
      "38 bio17 1\n"
     ]
    },
    {
     "name": "stderr",
     "output_type": "stream",
     "text": [
      "predicting ensemble 0 : 100%|██████████| 684/684 [00:07<00:00, 88.59it/s]\n",
      "predicting ensemble 1 : 100%|██████████| 666/666 [00:07<00:00, 92.74it/s] \n",
      "predicting ensemble 2 : 100%|██████████| 426/426 [00:04<00:00, 88.26it/s]\n",
      "predicting ensemble 3 : 100%|██████████| 403/403 [00:04<00:00, 91.53it/s] \n",
      "predicting ensemble 4 : 100%|██████████| 553/553 [00:05<00:00, 93.53it/s] \n",
      "predicting ensemble 5 : 100%|██████████| 580/580 [00:06<00:00, 92.91it/s] \n",
      "predicting ensemble 6 : 100%|██████████| 581/581 [00:06<00:00, 92.38it/s] \n",
      "predicting ensemble 7 : 100%|██████████| 601/601 [00:06<00:00, 94.39it/s] \n"
     ]
    },
    {
     "name": "stdout",
     "output_type": "stream",
     "text": [
      "38 bio17 2\n"
     ]
    },
    {
     "name": "stderr",
     "output_type": "stream",
     "text": [
      "predicting ensemble 0 : 100%|██████████| 684/684 [00:07<00:00, 91.27it/s]\n",
      "predicting ensemble 1 : 100%|██████████| 666/666 [00:07<00:00, 93.46it/s] \n",
      "predicting ensemble 2 : 100%|██████████| 426/426 [00:04<00:00, 89.27it/s]\n",
      "predicting ensemble 3 : 100%|██████████| 403/403 [00:04<00:00, 92.40it/s] \n",
      "predicting ensemble 4 : 100%|██████████| 553/553 [00:05<00:00, 93.03it/s] \n",
      "predicting ensemble 5 : 100%|██████████| 580/580 [00:06<00:00, 91.76it/s] \n",
      "predicting ensemble 6 : 100%|██████████| 581/581 [00:06<00:00, 92.01it/s] \n",
      "predicting ensemble 7 : 100%|██████████| 601/601 [00:06<00:00, 93.43it/s] \n"
     ]
    },
    {
     "name": "stdout",
     "output_type": "stream",
     "text": [
      "38 bio17 3\n"
     ]
    },
    {
     "name": "stderr",
     "output_type": "stream",
     "text": [
      "predicting ensemble 0 : 100%|██████████| 684/684 [00:07<00:00, 88.58it/s] \n",
      "predicting ensemble 1 : 100%|██████████| 666/666 [00:08<00:00, 78.52it/s]\n",
      "predicting ensemble 2 : 100%|██████████| 426/426 [00:05<00:00, 76.70it/s]\n",
      "predicting ensemble 3 : 100%|██████████| 403/403 [00:04<00:00, 84.94it/s] \n",
      "predicting ensemble 4 : 100%|██████████| 553/553 [00:06<00:00, 80.71it/s]\n",
      "predicting ensemble 5 : 100%|██████████| 580/580 [00:06<00:00, 91.08it/s]\n",
      "predicting ensemble 6 : 100%|██████████| 581/581 [00:06<00:00, 93.58it/s] \n",
      "predicting ensemble 7 : 100%|██████████| 601/601 [00:06<00:00, 93.97it/s] \n"
     ]
    },
    {
     "name": "stdout",
     "output_type": "stream",
     "text": [
      "38 bio17 4\n"
     ]
    },
    {
     "name": "stderr",
     "output_type": "stream",
     "text": [
      "predicting ensemble 0 : 100%|██████████| 684/684 [00:07<00:00, 92.12it/s]\n",
      "predicting ensemble 1 : 100%|██████████| 666/666 [00:07<00:00, 83.96it/s] \n",
      "predicting ensemble 2 : 100%|██████████| 426/426 [00:04<00:00, 89.89it/s]\n",
      "predicting ensemble 3 : 100%|██████████| 403/403 [00:04<00:00, 89.88it/s] \n",
      "predicting ensemble 4 : 100%|██████████| 553/553 [00:06<00:00, 91.66it/s] \n",
      "predicting ensemble 5 : 100%|██████████| 580/580 [00:07<00:00, 74.45it/s]\n",
      "predicting ensemble 6 : 100%|██████████| 581/581 [00:06<00:00, 91.72it/s] \n",
      "predicting ensemble 7 : 100%|██████████| 601/601 [00:06<00:00, 92.35it/s] \n"
     ]
    },
    {
     "name": "stdout",
     "output_type": "stream",
     "text": [
      "39 bio18 0\n"
     ]
    },
    {
     "name": "stderr",
     "output_type": "stream",
     "text": [
      "predicting ensemble 0 : 100%|██████████| 684/684 [00:07<00:00, 91.99it/s] \n",
      "predicting ensemble 1 : 100%|██████████| 666/666 [00:07<00:00, 92.17it/s] \n",
      "predicting ensemble 2 : 100%|██████████| 426/426 [00:04<00:00, 86.54it/s]\n",
      "predicting ensemble 3 : 100%|██████████| 403/403 [00:04<00:00, 88.33it/s]\n",
      "predicting ensemble 4 : 100%|██████████| 553/553 [00:06<00:00, 88.73it/s]\n",
      "predicting ensemble 5 : 100%|██████████| 580/580 [00:06<00:00, 90.05it/s]\n",
      "predicting ensemble 6 : 100%|██████████| 581/581 [00:06<00:00, 86.94it/s] \n",
      "predicting ensemble 7 : 100%|██████████| 601/601 [00:07<00:00, 84.93it/s] \n"
     ]
    },
    {
     "name": "stdout",
     "output_type": "stream",
     "text": [
      "39 bio18 1\n"
     ]
    },
    {
     "name": "stderr",
     "output_type": "stream",
     "text": [
      "predicting ensemble 0 : 100%|██████████| 684/684 [00:07<00:00, 92.01it/s] \n",
      "predicting ensemble 1 : 100%|██████████| 666/666 [00:07<00:00, 91.05it/s] \n",
      "predicting ensemble 2 : 100%|██████████| 426/426 [00:04<00:00, 86.80it/s]\n",
      "predicting ensemble 3 : 100%|██████████| 403/403 [00:04<00:00, 89.89it/s] \n",
      "predicting ensemble 4 : 100%|██████████| 553/553 [00:06<00:00, 91.36it/s] \n",
      "predicting ensemble 5 : 100%|██████████| 580/580 [00:06<00:00, 93.64it/s] \n",
      "predicting ensemble 6 : 100%|██████████| 581/581 [00:06<00:00, 90.26it/s]\n",
      "predicting ensemble 7 : 100%|██████████| 601/601 [00:06<00:00, 94.13it/s] \n"
     ]
    },
    {
     "name": "stdout",
     "output_type": "stream",
     "text": [
      "39 bio18 2\n"
     ]
    },
    {
     "name": "stderr",
     "output_type": "stream",
     "text": [
      "predicting ensemble 0 : 100%|██████████| 684/684 [00:07<00:00, 90.49it/s] \n",
      "predicting ensemble 1 : 100%|██████████| 666/666 [00:07<00:00, 91.05it/s]\n",
      "predicting ensemble 2 : 100%|██████████| 426/426 [00:05<00:00, 83.99it/s]\n",
      "predicting ensemble 3 : 100%|██████████| 403/403 [00:04<00:00, 87.37it/s] \n",
      "predicting ensemble 4 : 100%|██████████| 553/553 [00:06<00:00, 91.94it/s]\n",
      "predicting ensemble 5 : 100%|██████████| 580/580 [00:06<00:00, 92.73it/s] \n",
      "predicting ensemble 6 : 100%|██████████| 581/581 [00:06<00:00, 93.70it/s] \n",
      "predicting ensemble 7 : 100%|██████████| 601/601 [00:06<00:00, 94.06it/s] \n"
     ]
    },
    {
     "name": "stdout",
     "output_type": "stream",
     "text": [
      "39 bio18 3\n"
     ]
    },
    {
     "name": "stderr",
     "output_type": "stream",
     "text": [
      "predicting ensemble 0 : 100%|██████████| 684/684 [00:07<00:00, 90.61it/s] \n",
      "predicting ensemble 1 : 100%|██████████| 666/666 [00:07<00:00, 94.22it/s] \n",
      "predicting ensemble 2 : 100%|██████████| 426/426 [00:04<00:00, 89.16it/s]\n",
      "predicting ensemble 3 : 100%|██████████| 403/403 [00:04<00:00, 90.27it/s] \n",
      "predicting ensemble 4 : 100%|██████████| 553/553 [00:05<00:00, 92.70it/s] \n",
      "predicting ensemble 5 : 100%|██████████| 580/580 [00:06<00:00, 92.10it/s]\n",
      "predicting ensemble 6 : 100%|██████████| 581/581 [00:06<00:00, 89.20it/s] \n",
      "predicting ensemble 7 : 100%|██████████| 601/601 [00:06<00:00, 95.66it/s] \n"
     ]
    },
    {
     "name": "stdout",
     "output_type": "stream",
     "text": [
      "39 bio18 4\n"
     ]
    },
    {
     "name": "stderr",
     "output_type": "stream",
     "text": [
      "predicting ensemble 0 : 100%|██████████| 684/684 [00:07<00:00, 93.34it/s] \n",
      "predicting ensemble 1 : 100%|██████████| 666/666 [00:08<00:00, 76.32it/s]\n",
      "predicting ensemble 2 : 100%|██████████| 426/426 [00:05<00:00, 79.02it/s]\n",
      "predicting ensemble 3 : 100%|██████████| 403/403 [00:05<00:00, 78.74it/s]\n",
      "predicting ensemble 4 : 100%|██████████| 553/553 [00:06<00:00, 86.94it/s]\n",
      "predicting ensemble 5 : 100%|██████████| 580/580 [00:07<00:00, 81.42it/s]\n",
      "predicting ensemble 6 : 100%|██████████| 581/581 [00:06<00:00, 83.05it/s]\n",
      "predicting ensemble 7 : 100%|██████████| 601/601 [00:06<00:00, 90.53it/s]\n"
     ]
    },
    {
     "name": "stdout",
     "output_type": "stream",
     "text": [
      "40 bio19 0\n"
     ]
    },
    {
     "name": "stderr",
     "output_type": "stream",
     "text": [
      "predicting ensemble 0 : 100%|██████████| 684/684 [00:07<00:00, 92.69it/s] \n",
      "predicting ensemble 1 : 100%|██████████| 666/666 [00:07<00:00, 83.98it/s] \n",
      "predicting ensemble 2 : 100%|██████████| 426/426 [00:04<00:00, 85.48it/s]\n",
      "predicting ensemble 3 : 100%|██████████| 403/403 [00:04<00:00, 89.33it/s] \n",
      "predicting ensemble 4 : 100%|██████████| 553/553 [00:06<00:00, 90.78it/s] \n",
      "predicting ensemble 5 : 100%|██████████| 580/580 [00:06<00:00, 88.18it/s]\n",
      "predicting ensemble 6 : 100%|██████████| 581/581 [00:07<00:00, 79.19it/s]\n",
      "predicting ensemble 7 : 100%|██████████| 601/601 [00:06<00:00, 86.05it/s]\n"
     ]
    },
    {
     "name": "stdout",
     "output_type": "stream",
     "text": [
      "40 bio19 1\n"
     ]
    },
    {
     "name": "stderr",
     "output_type": "stream",
     "text": [
      "predicting ensemble 0 : 100%|██████████| 684/684 [00:07<00:00, 86.45it/s] \n",
      "predicting ensemble 1 : 100%|██████████| 666/666 [00:07<00:00, 86.68it/s] \n",
      "predicting ensemble 2 : 100%|██████████| 426/426 [00:04<00:00, 89.40it/s]\n",
      "predicting ensemble 3 : 100%|██████████| 403/403 [00:04<00:00, 90.69it/s] \n",
      "predicting ensemble 4 : 100%|██████████| 553/553 [00:06<00:00, 91.39it/s] \n",
      "predicting ensemble 5 : 100%|██████████| 580/580 [00:08<00:00, 71.58it/s]\n",
      "predicting ensemble 6 : 100%|██████████| 581/581 [00:07<00:00, 82.92it/s]\n",
      "predicting ensemble 7 : 100%|██████████| 601/601 [00:07<00:00, 76.48it/s]\n"
     ]
    },
    {
     "name": "stdout",
     "output_type": "stream",
     "text": [
      "40 bio19 2\n"
     ]
    },
    {
     "name": "stderr",
     "output_type": "stream",
     "text": [
      "predicting ensemble 0 : 100%|██████████| 684/684 [00:08<00:00, 77.27it/s]\n",
      "predicting ensemble 1 : 100%|██████████| 666/666 [00:07<00:00, 90.84it/s] \n",
      "predicting ensemble 2 : 100%|██████████| 426/426 [00:04<00:00, 87.63it/s]\n",
      "predicting ensemble 3 : 100%|██████████| 403/403 [00:04<00:00, 87.92it/s]\n",
      "predicting ensemble 4 : 100%|██████████| 553/553 [00:06<00:00, 87.91it/s]\n",
      "predicting ensemble 5 : 100%|██████████| 580/580 [00:08<00:00, 67.61it/s]\n",
      "predicting ensemble 6 : 100%|██████████| 581/581 [00:06<00:00, 84.95it/s]\n",
      "predicting ensemble 7 : 100%|██████████| 601/601 [00:06<00:00, 91.18it/s]\n"
     ]
    },
    {
     "name": "stdout",
     "output_type": "stream",
     "text": [
      "40 bio19 3\n"
     ]
    },
    {
     "name": "stderr",
     "output_type": "stream",
     "text": [
      "predicting ensemble 0 : 100%|██████████| 684/684 [00:07<00:00, 90.37it/s]\n",
      "predicting ensemble 1 : 100%|██████████| 666/666 [00:07<00:00, 86.48it/s] \n",
      "predicting ensemble 2 : 100%|██████████| 426/426 [00:04<00:00, 85.90it/s]\n",
      "predicting ensemble 3 : 100%|██████████| 403/403 [00:05<00:00, 76.22it/s]\n",
      "predicting ensemble 4 : 100%|██████████| 553/553 [00:06<00:00, 84.72it/s] \n",
      "predicting ensemble 5 : 100%|██████████| 580/580 [00:07<00:00, 80.90it/s]\n",
      "predicting ensemble 6 : 100%|██████████| 581/581 [00:07<00:00, 81.16it/s]\n",
      "predicting ensemble 7 : 100%|██████████| 601/601 [00:06<00:00, 90.09it/s]\n"
     ]
    },
    {
     "name": "stdout",
     "output_type": "stream",
     "text": [
      "40 bio19 4\n"
     ]
    },
    {
     "name": "stderr",
     "output_type": "stream",
     "text": [
      "predicting ensemble 0 : 100%|██████████| 684/684 [00:07<00:00, 89.18it/s]\n",
      "predicting ensemble 1 : 100%|██████████| 666/666 [00:08<00:00, 82.38it/s]\n",
      "predicting ensemble 2 : 100%|██████████| 426/426 [00:05<00:00, 80.07it/s]\n",
      "predicting ensemble 3 : 100%|██████████| 403/403 [00:04<00:00, 89.61it/s] \n",
      "predicting ensemble 4 : 100%|██████████| 553/553 [00:06<00:00, 82.23it/s]\n",
      "predicting ensemble 5 : 100%|██████████| 580/580 [00:06<00:00, 86.88it/s]\n",
      "predicting ensemble 6 : 100%|██████████| 581/581 [00:06<00:00, 91.20it/s] \n",
      "predicting ensemble 7 : 100%|██████████| 601/601 [00:06<00:00, 92.69it/s] \n"
     ]
    },
    {
     "name": "stdout",
     "output_type": "stream",
     "text": [
      "41 closed_shrublands 0\n"
     ]
    },
    {
     "name": "stderr",
     "output_type": "stream",
     "text": [
      "predicting ensemble 0 : 100%|██████████| 684/684 [00:07<00:00, 90.68it/s] \n",
      "predicting ensemble 1 : 100%|██████████| 666/666 [00:07<00:00, 91.44it/s] \n",
      "predicting ensemble 2 : 100%|██████████| 426/426 [00:04<00:00, 88.01it/s]\n",
      "predicting ensemble 3 : 100%|██████████| 403/403 [00:04<00:00, 87.10it/s]\n",
      "predicting ensemble 4 : 100%|██████████| 553/553 [00:06<00:00, 91.50it/s] \n",
      "predicting ensemble 5 : 100%|██████████| 580/580 [00:06<00:00, 89.81it/s]\n",
      "predicting ensemble 6 : 100%|██████████| 581/581 [00:06<00:00, 94.39it/s] \n",
      "predicting ensemble 7 : 100%|██████████| 601/601 [00:06<00:00, 93.01it/s]\n"
     ]
    },
    {
     "name": "stdout",
     "output_type": "stream",
     "text": [
      "41 closed_shrublands 1\n"
     ]
    },
    {
     "name": "stderr",
     "output_type": "stream",
     "text": [
      "predicting ensemble 0 : 100%|██████████| 684/684 [00:07<00:00, 87.35it/s] \n",
      "predicting ensemble 1 : 100%|██████████| 666/666 [00:07<00:00, 90.02it/s] \n",
      "predicting ensemble 2 : 100%|██████████| 426/426 [00:04<00:00, 85.31it/s]\n",
      "predicting ensemble 3 : 100%|██████████| 403/403 [00:04<00:00, 90.99it/s] \n",
      "predicting ensemble 4 : 100%|██████████| 553/553 [00:06<00:00, 91.76it/s] \n",
      "predicting ensemble 5 : 100%|██████████| 580/580 [00:06<00:00, 90.45it/s]\n",
      "predicting ensemble 6 : 100%|██████████| 581/581 [00:06<00:00, 94.27it/s] \n",
      "predicting ensemble 7 : 100%|██████████| 601/601 [00:06<00:00, 92.55it/s]\n"
     ]
    },
    {
     "name": "stdout",
     "output_type": "stream",
     "text": [
      "41 closed_shrublands 2\n"
     ]
    },
    {
     "name": "stderr",
     "output_type": "stream",
     "text": [
      "predicting ensemble 0 : 100%|██████████| 684/684 [00:07<00:00, 92.59it/s] \n",
      "predicting ensemble 1 : 100%|██████████| 666/666 [00:07<00:00, 92.48it/s] \n",
      "predicting ensemble 2 : 100%|██████████| 426/426 [00:04<00:00, 87.19it/s]\n",
      "predicting ensemble 3 : 100%|██████████| 403/403 [00:04<00:00, 89.95it/s] \n",
      "predicting ensemble 4 : 100%|██████████| 553/553 [00:07<00:00, 76.99it/s]\n",
      "predicting ensemble 5 : 100%|██████████| 580/580 [00:08<00:00, 70.70it/s]\n",
      "predicting ensemble 6 : 100%|██████████| 581/581 [00:07<00:00, 80.00it/s]\n",
      "predicting ensemble 7 : 100%|██████████| 601/601 [00:07<00:00, 83.43it/s]\n"
     ]
    },
    {
     "name": "stdout",
     "output_type": "stream",
     "text": [
      "41 closed_shrublands 3\n"
     ]
    },
    {
     "name": "stderr",
     "output_type": "stream",
     "text": [
      "predicting ensemble 0 : 100%|██████████| 684/684 [00:08<00:00, 81.13it/s]\n",
      "predicting ensemble 1 : 100%|██████████| 666/666 [00:07<00:00, 88.68it/s] \n",
      "predicting ensemble 2 : 100%|██████████| 426/426 [00:05<00:00, 80.22it/s]\n",
      "predicting ensemble 3 : 100%|██████████| 403/403 [00:04<00:00, 84.50it/s]\n",
      "predicting ensemble 4 : 100%|██████████| 553/553 [00:06<00:00, 88.29it/s] \n",
      "predicting ensemble 5 : 100%|██████████| 580/580 [00:06<00:00, 91.08it/s]\n",
      "predicting ensemble 6 : 100%|██████████| 581/581 [00:06<00:00, 93.87it/s] \n",
      "predicting ensemble 7 : 100%|██████████| 601/601 [00:06<00:00, 94.03it/s] \n"
     ]
    },
    {
     "name": "stdout",
     "output_type": "stream",
     "text": [
      "41 closed_shrublands 4\n"
     ]
    },
    {
     "name": "stderr",
     "output_type": "stream",
     "text": [
      "predicting ensemble 0 : 100%|██████████| 684/684 [00:07<00:00, 89.03it/s] \n",
      "predicting ensemble 1 : 100%|██████████| 666/666 [00:07<00:00, 89.60it/s] \n",
      "predicting ensemble 2 : 100%|██████████| 426/426 [00:04<00:00, 90.35it/s]\n",
      "predicting ensemble 3 : 100%|██████████| 403/403 [00:04<00:00, 90.19it/s] \n",
      "predicting ensemble 4 : 100%|██████████| 553/553 [00:06<00:00, 89.69it/s] \n",
      "predicting ensemble 5 : 100%|██████████| 580/580 [00:06<00:00, 93.16it/s] \n",
      "predicting ensemble 6 : 100%|██████████| 581/581 [00:06<00:00, 91.29it/s] \n",
      "predicting ensemble 7 : 100%|██████████| 601/601 [00:07<00:00, 80.62it/s]\n"
     ]
    },
    {
     "name": "stdout",
     "output_type": "stream",
     "text": [
      "42 closed_shrublands_ed 0\n"
     ]
    },
    {
     "name": "stderr",
     "output_type": "stream",
     "text": [
      "predicting ensemble 0 : 100%|██████████| 684/684 [00:07<00:00, 86.40it/s]\n",
      "predicting ensemble 1 : 100%|██████████| 666/666 [00:07<00:00, 93.74it/s] \n",
      "predicting ensemble 2 : 100%|██████████| 426/426 [00:05<00:00, 71.05it/s]\n",
      "predicting ensemble 3 : 100%|██████████| 403/403 [00:05<00:00, 75.61it/s]\n",
      "predicting ensemble 4 : 100%|██████████| 553/553 [00:06<00:00, 81.69it/s]\n",
      "predicting ensemble 5 : 100%|██████████| 580/580 [00:07<00:00, 76.75it/s]\n",
      "predicting ensemble 6 : 100%|██████████| 581/581 [00:06<00:00, 84.83it/s]\n",
      "predicting ensemble 7 : 100%|██████████| 601/601 [00:08<00:00, 73.15it/s]\n"
     ]
    },
    {
     "name": "stdout",
     "output_type": "stream",
     "text": [
      "42 closed_shrublands_ed 1\n"
     ]
    },
    {
     "name": "stderr",
     "output_type": "stream",
     "text": [
      "predicting ensemble 0 : 100%|██████████| 684/684 [00:07<00:00, 90.19it/s] \n",
      "predicting ensemble 1 : 100%|██████████| 666/666 [00:07<00:00, 93.27it/s] \n",
      "predicting ensemble 2 : 100%|██████████| 426/426 [00:04<00:00, 88.11it/s]\n",
      "predicting ensemble 3 : 100%|██████████| 403/403 [00:04<00:00, 90.75it/s] \n",
      "predicting ensemble 4 : 100%|██████████| 553/553 [00:06<00:00, 91.84it/s] \n",
      "predicting ensemble 5 : 100%|██████████| 580/580 [00:06<00:00, 92.05it/s]\n",
      "predicting ensemble 6 : 100%|██████████| 581/581 [00:06<00:00, 89.88it/s] \n",
      "predicting ensemble 7 : 100%|██████████| 601/601 [00:06<00:00, 93.63it/s] \n"
     ]
    },
    {
     "name": "stdout",
     "output_type": "stream",
     "text": [
      "42 closed_shrublands_ed 2\n"
     ]
    },
    {
     "name": "stderr",
     "output_type": "stream",
     "text": [
      "predicting ensemble 0 : 100%|██████████| 684/684 [00:07<00:00, 91.74it/s] \n",
      "predicting ensemble 1 : 100%|██████████| 666/666 [00:07<00:00, 93.47it/s] \n",
      "predicting ensemble 2 : 100%|██████████| 426/426 [00:05<00:00, 85.19it/s]\n",
      "predicting ensemble 3 : 100%|██████████| 403/403 [00:04<00:00, 91.15it/s]\n",
      "predicting ensemble 4 : 100%|██████████| 553/553 [00:05<00:00, 93.14it/s] \n",
      "predicting ensemble 5 : 100%|██████████| 580/580 [00:06<00:00, 93.11it/s] \n",
      "predicting ensemble 6 : 100%|██████████| 581/581 [00:06<00:00, 94.41it/s] \n",
      "predicting ensemble 7 : 100%|██████████| 601/601 [00:06<00:00, 93.54it/s] \n"
     ]
    },
    {
     "name": "stdout",
     "output_type": "stream",
     "text": [
      "42 closed_shrublands_ed 3\n"
     ]
    },
    {
     "name": "stderr",
     "output_type": "stream",
     "text": [
      "predicting ensemble 0 : 100%|██████████| 684/684 [00:07<00:00, 92.39it/s] \n",
      "predicting ensemble 1 : 100%|██████████| 666/666 [00:07<00:00, 93.95it/s] \n",
      "predicting ensemble 2 : 100%|██████████| 426/426 [00:04<00:00, 88.84it/s]\n",
      "predicting ensemble 3 : 100%|██████████| 403/403 [00:04<00:00, 91.65it/s] \n",
      "predicting ensemble 4 : 100%|██████████| 553/553 [00:05<00:00, 92.35it/s] \n",
      "predicting ensemble 5 : 100%|██████████| 580/580 [00:06<00:00, 93.37it/s] \n",
      "predicting ensemble 6 : 100%|██████████| 581/581 [00:06<00:00, 89.70it/s] \n",
      "predicting ensemble 7 : 100%|██████████| 601/601 [00:06<00:00, 93.58it/s] \n"
     ]
    },
    {
     "name": "stdout",
     "output_type": "stream",
     "text": [
      "42 closed_shrublands_ed 4\n"
     ]
    },
    {
     "name": "stderr",
     "output_type": "stream",
     "text": [
      "predicting ensemble 0 : 100%|██████████| 684/684 [00:07<00:00, 91.21it/s] \n",
      "predicting ensemble 1 : 100%|██████████| 666/666 [00:07<00:00, 93.63it/s] \n",
      "predicting ensemble 2 : 100%|██████████| 426/426 [00:04<00:00, 89.56it/s]\n",
      "predicting ensemble 3 : 100%|██████████| 403/403 [00:04<00:00, 91.51it/s] \n",
      "predicting ensemble 4 : 100%|██████████| 553/553 [00:05<00:00, 93.10it/s] \n",
      "predicting ensemble 5 : 100%|██████████| 580/580 [00:06<00:00, 92.22it/s] \n",
      "predicting ensemble 6 : 100%|██████████| 581/581 [00:06<00:00, 94.30it/s] \n",
      "predicting ensemble 7 : 100%|██████████| 601/601 [00:06<00:00, 94.94it/s] \n"
     ]
    },
    {
     "name": "stdout",
     "output_type": "stream",
     "text": [
      "43 closed_shrublands_lpi 0\n"
     ]
    },
    {
     "name": "stderr",
     "output_type": "stream",
     "text": [
      "predicting ensemble 0 : 100%|██████████| 684/684 [00:07<00:00, 92.48it/s]\n",
      "predicting ensemble 1 : 100%|██████████| 666/666 [00:07<00:00, 90.32it/s]\n",
      "predicting ensemble 2 : 100%|██████████| 426/426 [00:04<00:00, 87.36it/s]\n",
      "predicting ensemble 3 : 100%|██████████| 403/403 [00:04<00:00, 88.36it/s]\n",
      "predicting ensemble 4 : 100%|██████████| 553/553 [00:06<00:00, 92.06it/s] \n",
      "predicting ensemble 5 : 100%|██████████| 580/580 [00:06<00:00, 91.90it/s]\n",
      "predicting ensemble 6 : 100%|██████████| 581/581 [00:06<00:00, 93.31it/s] \n",
      "predicting ensemble 7 : 100%|██████████| 601/601 [00:06<00:00, 93.26it/s] \n"
     ]
    },
    {
     "name": "stdout",
     "output_type": "stream",
     "text": [
      "43 closed_shrublands_lpi 1\n"
     ]
    },
    {
     "name": "stderr",
     "output_type": "stream",
     "text": [
      "predicting ensemble 0 : 100%|██████████| 684/684 [00:07<00:00, 92.10it/s] \n",
      "predicting ensemble 1 : 100%|██████████| 666/666 [00:07<00:00, 93.13it/s] \n",
      "predicting ensemble 2 : 100%|██████████| 426/426 [00:04<00:00, 89.25it/s]\n",
      "predicting ensemble 3 : 100%|██████████| 403/403 [00:04<00:00, 89.33it/s] \n",
      "predicting ensemble 4 : 100%|██████████| 553/553 [00:05<00:00, 92.50it/s] \n",
      "predicting ensemble 5 : 100%|██████████| 580/580 [00:06<00:00, 88.69it/s]\n",
      "predicting ensemble 6 : 100%|██████████| 581/581 [00:06<00:00, 94.10it/s] \n",
      "predicting ensemble 7 : 100%|██████████| 601/601 [00:06<00:00, 93.39it/s] \n"
     ]
    },
    {
     "name": "stdout",
     "output_type": "stream",
     "text": [
      "43 closed_shrublands_lpi 2\n"
     ]
    },
    {
     "name": "stderr",
     "output_type": "stream",
     "text": [
      "predicting ensemble 0 : 100%|██████████| 684/684 [00:07<00:00, 91.86it/s] \n",
      "predicting ensemble 1 : 100%|██████████| 666/666 [00:07<00:00, 93.65it/s] \n",
      "predicting ensemble 2 : 100%|██████████| 426/426 [00:04<00:00, 88.79it/s]\n",
      "predicting ensemble 3 : 100%|██████████| 403/403 [00:04<00:00, 91.51it/s] \n",
      "predicting ensemble 4 : 100%|██████████| 553/553 [00:05<00:00, 93.06it/s] \n",
      "predicting ensemble 5 : 100%|██████████| 580/580 [00:06<00:00, 91.39it/s]\n",
      "predicting ensemble 6 : 100%|██████████| 581/581 [00:06<00:00, 94.46it/s] \n",
      "predicting ensemble 7 : 100%|██████████| 601/601 [00:06<00:00, 93.06it/s]\n"
     ]
    },
    {
     "name": "stdout",
     "output_type": "stream",
     "text": [
      "43 closed_shrublands_lpi 3\n"
     ]
    },
    {
     "name": "stderr",
     "output_type": "stream",
     "text": [
      "predicting ensemble 0 : 100%|██████████| 684/684 [00:07<00:00, 92.75it/s] \n",
      "predicting ensemble 1 : 100%|██████████| 666/666 [00:07<00:00, 90.74it/s] \n",
      "predicting ensemble 2 : 100%|██████████| 426/426 [00:04<00:00, 86.08it/s]\n",
      "predicting ensemble 3 : 100%|██████████| 403/403 [00:04<00:00, 92.14it/s] \n",
      "predicting ensemble 4 : 100%|██████████| 553/553 [00:06<00:00, 92.14it/s] \n",
      "predicting ensemble 5 : 100%|██████████| 580/580 [00:06<00:00, 93.49it/s]\n",
      "predicting ensemble 6 : 100%|██████████| 581/581 [00:06<00:00, 94.00it/s] \n",
      "predicting ensemble 7 : 100%|██████████| 601/601 [00:06<00:00, 93.28it/s] \n"
     ]
    },
    {
     "name": "stdout",
     "output_type": "stream",
     "text": [
      "43 closed_shrublands_lpi 4\n"
     ]
    },
    {
     "name": "stderr",
     "output_type": "stream",
     "text": [
      "predicting ensemble 0 : 100%|██████████| 684/684 [00:07<00:00, 92.19it/s] \n",
      "predicting ensemble 1 : 100%|██████████| 666/666 [00:07<00:00, 93.43it/s] \n",
      "predicting ensemble 2 : 100%|██████████| 426/426 [00:04<00:00, 88.65it/s]\n",
      "predicting ensemble 3 : 100%|██████████| 403/403 [00:04<00:00, 91.41it/s] \n",
      "predicting ensemble 4 : 100%|██████████| 553/553 [00:06<00:00, 88.28it/s]\n",
      "predicting ensemble 5 : 100%|██████████| 580/580 [00:06<00:00, 92.74it/s]\n",
      "predicting ensemble 6 : 100%|██████████| 581/581 [00:06<00:00, 94.38it/s] \n",
      "predicting ensemble 7 : 100%|██████████| 601/601 [00:06<00:00, 93.74it/s] \n"
     ]
    },
    {
     "name": "stdout",
     "output_type": "stream",
     "text": [
      "44 closed_shrublands_pd 0\n"
     ]
    },
    {
     "name": "stderr",
     "output_type": "stream",
     "text": [
      "predicting ensemble 0 : 100%|██████████| 684/684 [00:07<00:00, 92.30it/s] \n",
      "predicting ensemble 1 : 100%|██████████| 666/666 [00:07<00:00, 92.12it/s] \n",
      "predicting ensemble 2 : 100%|██████████| 426/426 [00:04<00:00, 87.11it/s]\n",
      "predicting ensemble 3 : 100%|██████████| 403/403 [00:04<00:00, 92.36it/s] \n",
      "predicting ensemble 4 : 100%|██████████| 553/553 [00:05<00:00, 92.20it/s] \n",
      "predicting ensemble 5 : 100%|██████████| 580/580 [00:06<00:00, 92.57it/s]\n",
      "predicting ensemble 6 : 100%|██████████| 581/581 [00:06<00:00, 93.12it/s] \n",
      "predicting ensemble 7 : 100%|██████████| 601/601 [00:06<00:00, 94.63it/s] \n"
     ]
    },
    {
     "name": "stdout",
     "output_type": "stream",
     "text": [
      "44 closed_shrublands_pd 1\n"
     ]
    },
    {
     "name": "stderr",
     "output_type": "stream",
     "text": [
      "predicting ensemble 0 : 100%|██████████| 684/684 [00:07<00:00, 90.61it/s]\n",
      "predicting ensemble 1 : 100%|██████████| 666/666 [00:07<00:00, 93.37it/s] \n",
      "predicting ensemble 2 : 100%|██████████| 426/426 [00:04<00:00, 89.15it/s]\n",
      "predicting ensemble 3 : 100%|██████████| 403/403 [00:04<00:00, 90.77it/s] \n",
      "predicting ensemble 4 : 100%|██████████| 553/553 [00:05<00:00, 92.82it/s] \n",
      "predicting ensemble 5 : 100%|██████████| 580/580 [00:06<00:00, 92.89it/s]\n",
      "predicting ensemble 6 : 100%|██████████| 581/581 [00:06<00:00, 94.17it/s] \n",
      "predicting ensemble 7 : 100%|██████████| 601/601 [00:06<00:00, 94.08it/s] \n"
     ]
    },
    {
     "name": "stdout",
     "output_type": "stream",
     "text": [
      "44 closed_shrublands_pd 2\n"
     ]
    },
    {
     "name": "stderr",
     "output_type": "stream",
     "text": [
      "predicting ensemble 0 : 100%|██████████| 684/684 [00:07<00:00, 92.32it/s] \n",
      "predicting ensemble 1 : 100%|██████████| 666/666 [00:07<00:00, 93.49it/s] \n",
      "predicting ensemble 2 : 100%|██████████| 426/426 [00:04<00:00, 88.57it/s]\n",
      "predicting ensemble 3 : 100%|██████████| 403/403 [00:04<00:00, 90.37it/s] \n",
      "predicting ensemble 4 : 100%|██████████| 553/553 [00:05<00:00, 92.45it/s] \n",
      "predicting ensemble 5 : 100%|██████████| 580/580 [00:06<00:00, 92.79it/s]\n",
      "predicting ensemble 6 : 100%|██████████| 581/581 [00:06<00:00, 93.15it/s] \n",
      "predicting ensemble 7 : 100%|██████████| 601/601 [00:06<00:00, 94.84it/s] \n"
     ]
    },
    {
     "name": "stdout",
     "output_type": "stream",
     "text": [
      "44 closed_shrublands_pd 3\n"
     ]
    },
    {
     "name": "stderr",
     "output_type": "stream",
     "text": [
      "predicting ensemble 0 : 100%|██████████| 684/684 [00:07<00:00, 92.20it/s] \n",
      "predicting ensemble 1 : 100%|██████████| 666/666 [00:07<00:00, 91.83it/s] \n",
      "predicting ensemble 2 : 100%|██████████| 426/426 [00:04<00:00, 89.69it/s]\n",
      "predicting ensemble 3 : 100%|██████████| 403/403 [00:04<00:00, 89.39it/s]\n",
      "predicting ensemble 4 : 100%|██████████| 553/553 [00:05<00:00, 93.11it/s] \n",
      "predicting ensemble 5 : 100%|██████████| 580/580 [00:06<00:00, 92.27it/s]\n",
      "predicting ensemble 6 : 100%|██████████| 581/581 [00:06<00:00, 93.98it/s] \n",
      "predicting ensemble 7 : 100%|██████████| 601/601 [00:06<00:00, 94.15it/s] \n"
     ]
    },
    {
     "name": "stdout",
     "output_type": "stream",
     "text": [
      "44 closed_shrublands_pd 4\n"
     ]
    },
    {
     "name": "stderr",
     "output_type": "stream",
     "text": [
      "predicting ensemble 0 : 100%|██████████| 684/684 [00:07<00:00, 92.25it/s] \n",
      "predicting ensemble 1 : 100%|██████████| 666/666 [00:07<00:00, 93.77it/s] \n",
      "predicting ensemble 2 : 100%|██████████| 426/426 [00:04<00:00, 88.58it/s]\n",
      "predicting ensemble 3 : 100%|██████████| 403/403 [00:04<00:00, 92.44it/s] \n",
      "predicting ensemble 4 : 100%|██████████| 553/553 [00:05<00:00, 93.99it/s] \n",
      "predicting ensemble 5 : 100%|██████████| 580/580 [00:06<00:00, 92.51it/s]\n",
      "predicting ensemble 6 : 100%|██████████| 581/581 [00:06<00:00, 94.31it/s] \n",
      "predicting ensemble 7 : 100%|██████████| 601/601 [00:06<00:00, 93.68it/s] \n"
     ]
    },
    {
     "name": "stdout",
     "output_type": "stream",
     "text": [
      "45 cropland_or_natural_vegetation_mosaics 0\n"
     ]
    },
    {
     "name": "stderr",
     "output_type": "stream",
     "text": [
      "predicting ensemble 0 : 100%|██████████| 684/684 [00:07<00:00, 92.14it/s] \n",
      "predicting ensemble 1 : 100%|██████████| 666/666 [00:07<00:00, 93.52it/s] \n",
      "predicting ensemble 2 : 100%|██████████| 426/426 [00:04<00:00, 89.67it/s]\n",
      "predicting ensemble 3 : 100%|██████████| 403/403 [00:04<00:00, 92.02it/s] \n",
      "predicting ensemble 4 : 100%|██████████| 553/553 [00:05<00:00, 92.68it/s] \n",
      "predicting ensemble 5 : 100%|██████████| 580/580 [00:06<00:00, 87.28it/s]\n",
      "predicting ensemble 6 : 100%|██████████| 581/581 [00:06<00:00, 94.80it/s] \n",
      "predicting ensemble 7 : 100%|██████████| 601/601 [00:06<00:00, 93.59it/s] \n"
     ]
    },
    {
     "name": "stdout",
     "output_type": "stream",
     "text": [
      "45 cropland_or_natural_vegetation_mosaics 1\n"
     ]
    },
    {
     "name": "stderr",
     "output_type": "stream",
     "text": [
      "predicting ensemble 0 : 100%|██████████| 684/684 [00:07<00:00, 92.65it/s] \n",
      "predicting ensemble 1 : 100%|██████████| 666/666 [00:07<00:00, 93.46it/s] \n",
      "predicting ensemble 2 : 100%|██████████| 426/426 [00:04<00:00, 88.51it/s]\n",
      "predicting ensemble 3 : 100%|██████████| 403/403 [00:04<00:00, 90.59it/s] \n",
      "predicting ensemble 4 : 100%|██████████| 553/553 [00:05<00:00, 92.46it/s] \n",
      "predicting ensemble 5 : 100%|██████████| 580/580 [00:06<00:00, 93.30it/s] \n",
      "predicting ensemble 6 : 100%|██████████| 581/581 [00:06<00:00, 93.54it/s] \n",
      "predicting ensemble 7 : 100%|██████████| 601/601 [00:06<00:00, 93.98it/s] \n"
     ]
    },
    {
     "name": "stdout",
     "output_type": "stream",
     "text": [
      "45 cropland_or_natural_vegetation_mosaics 2\n"
     ]
    },
    {
     "name": "stderr",
     "output_type": "stream",
     "text": [
      "predicting ensemble 0 : 100%|██████████| 684/684 [00:07<00:00, 93.29it/s] \n",
      "predicting ensemble 1 : 100%|██████████| 666/666 [00:07<00:00, 92.95it/s] \n",
      "predicting ensemble 2 : 100%|██████████| 426/426 [00:04<00:00, 88.28it/s]\n",
      "predicting ensemble 3 : 100%|██████████| 403/403 [00:04<00:00, 91.23it/s] \n",
      "predicting ensemble 4 : 100%|██████████| 553/553 [00:05<00:00, 92.53it/s]\n",
      "predicting ensemble 5 : 100%|██████████| 580/580 [00:06<00:00, 91.61it/s]\n",
      "predicting ensemble 6 : 100%|██████████| 581/581 [00:06<00:00, 92.37it/s] \n",
      "predicting ensemble 7 : 100%|██████████| 601/601 [00:06<00:00, 94.11it/s] \n"
     ]
    },
    {
     "name": "stdout",
     "output_type": "stream",
     "text": [
      "45 cropland_or_natural_vegetation_mosaics 3\n"
     ]
    },
    {
     "name": "stderr",
     "output_type": "stream",
     "text": [
      "predicting ensemble 0 : 100%|██████████| 684/684 [00:07<00:00, 93.03it/s] \n",
      "predicting ensemble 1 : 100%|██████████| 666/666 [00:07<00:00, 93.58it/s] \n",
      "predicting ensemble 2 : 100%|██████████| 426/426 [00:04<00:00, 89.41it/s]\n",
      "predicting ensemble 3 : 100%|██████████| 403/403 [00:04<00:00, 91.74it/s] \n",
      "predicting ensemble 4 : 100%|██████████| 553/553 [00:05<00:00, 92.86it/s] \n",
      "predicting ensemble 5 : 100%|██████████| 580/580 [00:06<00:00, 88.97it/s]\n",
      "predicting ensemble 6 : 100%|██████████| 581/581 [00:06<00:00, 93.41it/s] \n",
      "predicting ensemble 7 : 100%|██████████| 601/601 [00:06<00:00, 94.56it/s] \n"
     ]
    },
    {
     "name": "stdout",
     "output_type": "stream",
     "text": [
      "45 cropland_or_natural_vegetation_mosaics 4\n"
     ]
    },
    {
     "name": "stderr",
     "output_type": "stream",
     "text": [
      "predicting ensemble 0 : 100%|██████████| 684/684 [00:07<00:00, 92.01it/s]\n",
      "predicting ensemble 1 : 100%|██████████| 666/666 [00:07<00:00, 92.76it/s] \n",
      "predicting ensemble 2 : 100%|██████████| 426/426 [00:04<00:00, 89.36it/s]\n",
      "predicting ensemble 3 : 100%|██████████| 403/403 [00:04<00:00, 89.81it/s] \n",
      "predicting ensemble 4 : 100%|██████████| 553/553 [00:05<00:00, 93.68it/s] \n",
      "predicting ensemble 5 : 100%|██████████| 580/580 [00:06<00:00, 92.28it/s]\n",
      "predicting ensemble 6 : 100%|██████████| 581/581 [00:06<00:00, 93.59it/s] \n",
      "predicting ensemble 7 : 100%|██████████| 601/601 [00:06<00:00, 94.02it/s] \n"
     ]
    },
    {
     "name": "stdout",
     "output_type": "stream",
     "text": [
      "46 cropland_or_natural_vegetation_mosaics_ed 0\n"
     ]
    },
    {
     "name": "stderr",
     "output_type": "stream",
     "text": [
      "predicting ensemble 0 : 100%|██████████| 684/684 [00:07<00:00, 92.57it/s] \n",
      "predicting ensemble 1 : 100%|██████████| 666/666 [00:07<00:00, 90.27it/s] \n",
      "predicting ensemble 2 : 100%|██████████| 426/426 [00:04<00:00, 89.01it/s]\n",
      "predicting ensemble 3 : 100%|██████████| 403/403 [00:04<00:00, 88.64it/s]\n",
      "predicting ensemble 4 : 100%|██████████| 553/553 [00:05<00:00, 93.16it/s] \n",
      "predicting ensemble 5 : 100%|██████████| 580/580 [00:06<00:00, 88.46it/s]\n",
      "predicting ensemble 6 : 100%|██████████| 581/581 [00:06<00:00, 94.02it/s] \n",
      "predicting ensemble 7 : 100%|██████████| 601/601 [00:06<00:00, 93.93it/s] \n"
     ]
    },
    {
     "name": "stdout",
     "output_type": "stream",
     "text": [
      "46 cropland_or_natural_vegetation_mosaics_ed 1\n"
     ]
    },
    {
     "name": "stderr",
     "output_type": "stream",
     "text": [
      "predicting ensemble 0 : 100%|██████████| 684/684 [00:07<00:00, 91.05it/s]\n",
      "predicting ensemble 1 : 100%|██████████| 666/666 [00:07<00:00, 92.32it/s] \n",
      "predicting ensemble 2 : 100%|██████████| 426/426 [00:04<00:00, 89.41it/s]\n",
      "predicting ensemble 3 : 100%|██████████| 403/403 [00:04<00:00, 90.96it/s] \n",
      "predicting ensemble 4 : 100%|██████████| 553/553 [00:05<00:00, 92.56it/s] \n",
      "predicting ensemble 5 : 100%|██████████| 580/580 [00:06<00:00, 88.36it/s]\n",
      "predicting ensemble 6 : 100%|██████████| 581/581 [00:06<00:00, 94.49it/s] \n",
      "predicting ensemble 7 : 100%|██████████| 601/601 [00:06<00:00, 94.00it/s] \n"
     ]
    },
    {
     "name": "stdout",
     "output_type": "stream",
     "text": [
      "46 cropland_or_natural_vegetation_mosaics_ed 2\n"
     ]
    },
    {
     "name": "stderr",
     "output_type": "stream",
     "text": [
      "predicting ensemble 0 : 100%|██████████| 684/684 [00:07<00:00, 89.87it/s] \n",
      "predicting ensemble 1 : 100%|██████████| 666/666 [00:07<00:00, 92.65it/s] \n",
      "predicting ensemble 2 : 100%|██████████| 426/426 [00:04<00:00, 88.31it/s]\n",
      "predicting ensemble 3 : 100%|██████████| 403/403 [00:04<00:00, 87.97it/s] \n",
      "predicting ensemble 4 : 100%|██████████| 553/553 [00:06<00:00, 89.58it/s] \n",
      "predicting ensemble 5 : 100%|██████████| 580/580 [00:06<00:00, 89.41it/s]\n",
      "predicting ensemble 6 : 100%|██████████| 581/581 [00:06<00:00, 90.37it/s]\n",
      "predicting ensemble 7 : 100%|██████████| 601/601 [00:06<00:00, 92.61it/s] \n"
     ]
    },
    {
     "name": "stdout",
     "output_type": "stream",
     "text": [
      "46 cropland_or_natural_vegetation_mosaics_ed 3\n"
     ]
    },
    {
     "name": "stderr",
     "output_type": "stream",
     "text": [
      "predicting ensemble 0 : 100%|██████████| 684/684 [00:07<00:00, 91.07it/s]\n",
      "predicting ensemble 1 : 100%|██████████| 666/666 [00:07<00:00, 90.20it/s] \n",
      "predicting ensemble 2 : 100%|██████████| 426/426 [00:04<00:00, 88.61it/s]\n",
      "predicting ensemble 3 : 100%|██████████| 403/403 [00:04<00:00, 88.29it/s] \n",
      "predicting ensemble 4 : 100%|██████████| 553/553 [00:05<00:00, 92.53it/s] \n",
      "predicting ensemble 5 : 100%|██████████| 580/580 [00:06<00:00, 83.93it/s]\n",
      "predicting ensemble 6 : 100%|██████████| 581/581 [00:06<00:00, 87.13it/s] \n",
      "predicting ensemble 7 : 100%|██████████| 601/601 [00:06<00:00, 93.64it/s] \n"
     ]
    },
    {
     "name": "stdout",
     "output_type": "stream",
     "text": [
      "46 cropland_or_natural_vegetation_mosaics_ed 4\n"
     ]
    },
    {
     "name": "stderr",
     "output_type": "stream",
     "text": [
      "predicting ensemble 0 : 100%|██████████| 684/684 [00:07<00:00, 89.49it/s] \n",
      "predicting ensemble 1 : 100%|██████████| 666/666 [00:07<00:00, 91.60it/s] \n",
      "predicting ensemble 2 : 100%|██████████| 426/426 [00:04<00:00, 87.23it/s]\n",
      "predicting ensemble 3 : 100%|██████████| 403/403 [00:04<00:00, 91.20it/s] \n",
      "predicting ensemble 4 : 100%|██████████| 553/553 [00:06<00:00, 90.94it/s] \n",
      "predicting ensemble 5 : 100%|██████████| 580/580 [00:06<00:00, 88.29it/s]\n",
      "predicting ensemble 6 : 100%|██████████| 581/581 [00:06<00:00, 94.53it/s] \n",
      "predicting ensemble 7 : 100%|██████████| 601/601 [00:06<00:00, 92.70it/s] \n"
     ]
    },
    {
     "name": "stdout",
     "output_type": "stream",
     "text": [
      "47 cropland_or_natural_vegetation_mosaics_lpi 0\n"
     ]
    },
    {
     "name": "stderr",
     "output_type": "stream",
     "text": [
      "predicting ensemble 0 : 100%|██████████| 684/684 [00:07<00:00, 92.62it/s] \n",
      "predicting ensemble 1 : 100%|██████████| 666/666 [00:07<00:00, 94.29it/s] \n",
      "predicting ensemble 2 : 100%|██████████| 426/426 [00:04<00:00, 88.69it/s]\n",
      "predicting ensemble 3 : 100%|██████████| 403/403 [00:04<00:00, 91.42it/s] \n",
      "predicting ensemble 4 : 100%|██████████| 553/553 [00:06<00:00, 91.50it/s] \n",
      "predicting ensemble 5 : 100%|██████████| 580/580 [00:06<00:00, 93.12it/s] \n",
      "predicting ensemble 6 : 100%|██████████| 581/581 [00:06<00:00, 92.79it/s] \n",
      "predicting ensemble 7 : 100%|██████████| 601/601 [00:06<00:00, 93.04it/s]\n"
     ]
    },
    {
     "name": "stdout",
     "output_type": "stream",
     "text": [
      "47 cropland_or_natural_vegetation_mosaics_lpi 1\n"
     ]
    },
    {
     "name": "stderr",
     "output_type": "stream",
     "text": [
      "predicting ensemble 0 : 100%|██████████| 684/684 [00:07<00:00, 91.24it/s] \n",
      "predicting ensemble 1 : 100%|██████████| 666/666 [00:07<00:00, 89.03it/s] \n",
      "predicting ensemble 2 : 100%|██████████| 426/426 [00:04<00:00, 87.53it/s]\n",
      "predicting ensemble 3 : 100%|██████████| 403/403 [00:04<00:00, 90.72it/s] \n",
      "predicting ensemble 4 : 100%|██████████| 553/553 [00:06<00:00, 91.32it/s] \n",
      "predicting ensemble 5 : 100%|██████████| 580/580 [00:06<00:00, 91.11it/s]\n",
      "predicting ensemble 6 : 100%|██████████| 581/581 [00:06<00:00, 93.15it/s] \n",
      "predicting ensemble 7 : 100%|██████████| 601/601 [00:06<00:00, 91.66it/s] \n"
     ]
    },
    {
     "name": "stdout",
     "output_type": "stream",
     "text": [
      "47 cropland_or_natural_vegetation_mosaics_lpi 2\n"
     ]
    },
    {
     "name": "stderr",
     "output_type": "stream",
     "text": [
      "predicting ensemble 0 : 100%|██████████| 684/684 [00:07<00:00, 92.07it/s] \n",
      "predicting ensemble 1 : 100%|██████████| 666/666 [00:07<00:00, 92.30it/s] \n",
      "predicting ensemble 2 : 100%|██████████| 426/426 [00:04<00:00, 85.87it/s]\n",
      "predicting ensemble 3 : 100%|██████████| 403/403 [00:04<00:00, 90.35it/s] \n",
      "predicting ensemble 4 : 100%|██████████| 553/553 [00:06<00:00, 90.88it/s] \n",
      "predicting ensemble 5 : 100%|██████████| 580/580 [00:06<00:00, 88.63it/s]\n",
      "predicting ensemble 6 : 100%|██████████| 581/581 [00:06<00:00, 92.96it/s] \n",
      "predicting ensemble 7 : 100%|██████████| 601/601 [00:06<00:00, 92.38it/s] \n"
     ]
    },
    {
     "name": "stdout",
     "output_type": "stream",
     "text": [
      "47 cropland_or_natural_vegetation_mosaics_lpi 3\n"
     ]
    },
    {
     "name": "stderr",
     "output_type": "stream",
     "text": [
      "predicting ensemble 0 : 100%|██████████| 684/684 [00:07<00:00, 92.40it/s] \n",
      "predicting ensemble 1 : 100%|██████████| 666/666 [00:07<00:00, 92.33it/s] \n",
      "predicting ensemble 2 : 100%|██████████| 426/426 [00:04<00:00, 87.91it/s]\n",
      "predicting ensemble 3 : 100%|██████████| 403/403 [00:04<00:00, 90.76it/s] \n",
      "predicting ensemble 4 : 100%|██████████| 553/553 [00:06<00:00, 91.00it/s]\n",
      "predicting ensemble 5 : 100%|██████████| 580/580 [00:06<00:00, 92.03it/s]\n",
      "predicting ensemble 6 : 100%|██████████| 581/581 [00:06<00:00, 92.50it/s] \n",
      "predicting ensemble 7 : 100%|██████████| 601/601 [00:06<00:00, 92.64it/s] \n"
     ]
    },
    {
     "name": "stdout",
     "output_type": "stream",
     "text": [
      "47 cropland_or_natural_vegetation_mosaics_lpi 4\n"
     ]
    },
    {
     "name": "stderr",
     "output_type": "stream",
     "text": [
      "predicting ensemble 0 : 100%|██████████| 684/684 [00:07<00:00, 87.47it/s] \n",
      "predicting ensemble 1 : 100%|██████████| 666/666 [00:07<00:00, 92.04it/s] \n",
      "predicting ensemble 2 : 100%|██████████| 426/426 [00:04<00:00, 88.98it/s]\n",
      "predicting ensemble 3 : 100%|██████████| 403/403 [00:04<00:00, 90.04it/s] \n",
      "predicting ensemble 4 : 100%|██████████| 553/553 [00:06<00:00, 91.48it/s] \n",
      "predicting ensemble 5 : 100%|██████████| 580/580 [00:06<00:00, 90.52it/s]\n",
      "predicting ensemble 6 : 100%|██████████| 581/581 [00:06<00:00, 91.97it/s] \n",
      "predicting ensemble 7 : 100%|██████████| 601/601 [00:06<00:00, 94.16it/s] \n"
     ]
    },
    {
     "name": "stdout",
     "output_type": "stream",
     "text": [
      "48 cropland_or_natural_vegetation_mosaics_pd 0\n"
     ]
    },
    {
     "name": "stderr",
     "output_type": "stream",
     "text": [
      "predicting ensemble 0 : 100%|██████████| 684/684 [00:07<00:00, 91.65it/s] \n",
      "predicting ensemble 1 : 100%|██████████| 666/666 [00:07<00:00, 91.96it/s] \n",
      "predicting ensemble 2 : 100%|██████████| 426/426 [00:04<00:00, 87.74it/s]\n",
      "predicting ensemble 3 : 100%|██████████| 403/403 [00:04<00:00, 87.92it/s] \n",
      "predicting ensemble 4 : 100%|██████████| 553/553 [00:05<00:00, 92.25it/s] \n",
      "predicting ensemble 5 : 100%|██████████| 580/580 [00:06<00:00, 89.02it/s]\n",
      "predicting ensemble 6 : 100%|██████████| 581/581 [00:06<00:00, 92.36it/s] \n",
      "predicting ensemble 7 : 100%|██████████| 601/601 [00:06<00:00, 92.34it/s] \n"
     ]
    },
    {
     "name": "stdout",
     "output_type": "stream",
     "text": [
      "48 cropland_or_natural_vegetation_mosaics_pd 1\n"
     ]
    },
    {
     "name": "stderr",
     "output_type": "stream",
     "text": [
      "predicting ensemble 0 : 100%|██████████| 684/684 [00:07<00:00, 90.83it/s] \n",
      "predicting ensemble 1 : 100%|██████████| 666/666 [00:07<00:00, 92.07it/s] \n",
      "predicting ensemble 2 : 100%|██████████| 426/426 [00:04<00:00, 89.15it/s]\n",
      "predicting ensemble 3 : 100%|██████████| 403/403 [00:04<00:00, 89.71it/s] \n",
      "predicting ensemble 4 : 100%|██████████| 553/553 [00:06<00:00, 90.77it/s] \n",
      "predicting ensemble 5 : 100%|██████████| 580/580 [00:06<00:00, 91.52it/s]\n",
      "predicting ensemble 6 : 100%|██████████| 581/581 [00:06<00:00, 93.13it/s] \n",
      "predicting ensemble 7 : 100%|██████████| 601/601 [00:06<00:00, 93.34it/s] \n"
     ]
    },
    {
     "name": "stdout",
     "output_type": "stream",
     "text": [
      "48 cropland_or_natural_vegetation_mosaics_pd 2\n"
     ]
    },
    {
     "name": "stderr",
     "output_type": "stream",
     "text": [
      "predicting ensemble 0 : 100%|██████████| 684/684 [00:07<00:00, 89.38it/s] \n",
      "predicting ensemble 1 : 100%|██████████| 666/666 [00:07<00:00, 91.58it/s] \n",
      "predicting ensemble 2 : 100%|██████████| 426/426 [00:04<00:00, 87.90it/s]\n",
      "predicting ensemble 3 : 100%|██████████| 403/403 [00:04<00:00, 89.21it/s] \n",
      "predicting ensemble 4 : 100%|██████████| 553/553 [00:05<00:00, 92.20it/s] \n",
      "predicting ensemble 5 : 100%|██████████| 580/580 [00:06<00:00, 91.13it/s]\n",
      "predicting ensemble 6 : 100%|██████████| 581/581 [00:06<00:00, 93.17it/s] \n",
      "predicting ensemble 7 : 100%|██████████| 601/601 [00:06<00:00, 93.07it/s]\n"
     ]
    },
    {
     "name": "stdout",
     "output_type": "stream",
     "text": [
      "48 cropland_or_natural_vegetation_mosaics_pd 3\n"
     ]
    },
    {
     "name": "stderr",
     "output_type": "stream",
     "text": [
      "predicting ensemble 0 : 100%|██████████| 684/684 [00:07<00:00, 90.64it/s]\n",
      "predicting ensemble 1 : 100%|██████████| 666/666 [00:07<00:00, 91.78it/s] \n",
      "predicting ensemble 2 : 100%|██████████| 426/426 [00:04<00:00, 87.59it/s]\n",
      "predicting ensemble 3 : 100%|██████████| 403/403 [00:04<00:00, 89.29it/s] \n",
      "predicting ensemble 4 : 100%|██████████| 553/553 [00:06<00:00, 89.79it/s] \n",
      "predicting ensemble 5 : 100%|██████████| 580/580 [00:06<00:00, 82.89it/s]\n",
      "predicting ensemble 6 : 100%|██████████| 581/581 [00:06<00:00, 90.63it/s]\n",
      "predicting ensemble 7 : 100%|██████████| 601/601 [00:06<00:00, 92.14it/s]\n"
     ]
    },
    {
     "name": "stdout",
     "output_type": "stream",
     "text": [
      "48 cropland_or_natural_vegetation_mosaics_pd 4\n"
     ]
    },
    {
     "name": "stderr",
     "output_type": "stream",
     "text": [
      "predicting ensemble 0 : 100%|██████████| 684/684 [00:07<00:00, 91.12it/s]\n",
      "predicting ensemble 1 : 100%|██████████| 666/666 [00:07<00:00, 89.80it/s] \n",
      "predicting ensemble 2 : 100%|██████████| 426/426 [00:04<00:00, 86.73it/s]\n",
      "predicting ensemble 3 : 100%|██████████| 403/403 [00:04<00:00, 90.03it/s] \n",
      "predicting ensemble 4 : 100%|██████████| 553/553 [00:06<00:00, 91.64it/s] \n",
      "predicting ensemble 5 : 100%|██████████| 580/580 [00:06<00:00, 91.63it/s]\n",
      "predicting ensemble 6 : 100%|██████████| 581/581 [00:06<00:00, 93.27it/s] \n",
      "predicting ensemble 7 : 100%|██████████| 601/601 [00:06<00:00, 92.49it/s] \n"
     ]
    },
    {
     "name": "stdout",
     "output_type": "stream",
     "text": [
      "49 croplands 0\n"
     ]
    },
    {
     "name": "stderr",
     "output_type": "stream",
     "text": [
      "predicting ensemble 0 : 100%|██████████| 684/684 [00:07<00:00, 92.05it/s] \n",
      "predicting ensemble 1 : 100%|██████████| 666/666 [00:07<00:00, 93.42it/s] \n",
      "predicting ensemble 2 : 100%|██████████| 426/426 [00:04<00:00, 88.92it/s]\n",
      "predicting ensemble 3 : 100%|██████████| 403/403 [00:04<00:00, 89.92it/s] \n",
      "predicting ensemble 4 : 100%|██████████| 553/553 [00:06<00:00, 90.48it/s] \n",
      "predicting ensemble 5 : 100%|██████████| 580/580 [00:06<00:00, 90.37it/s]\n",
      "predicting ensemble 6 : 100%|██████████| 581/581 [00:06<00:00, 94.04it/s] \n",
      "predicting ensemble 7 : 100%|██████████| 601/601 [00:06<00:00, 92.30it/s]\n"
     ]
    },
    {
     "name": "stdout",
     "output_type": "stream",
     "text": [
      "49 croplands 1\n"
     ]
    },
    {
     "name": "stderr",
     "output_type": "stream",
     "text": [
      "predicting ensemble 0 : 100%|██████████| 684/684 [00:07<00:00, 90.74it/s] \n",
      "predicting ensemble 1 : 100%|██████████| 666/666 [00:07<00:00, 93.12it/s] \n",
      "predicting ensemble 2 : 100%|██████████| 426/426 [00:04<00:00, 87.19it/s]\n",
      "predicting ensemble 3 : 100%|██████████| 403/403 [00:04<00:00, 89.66it/s]\n",
      "predicting ensemble 4 : 100%|██████████| 553/553 [00:06<00:00, 89.37it/s]\n",
      "predicting ensemble 5 : 100%|██████████| 580/580 [00:06<00:00, 88.14it/s]\n",
      "predicting ensemble 6 : 100%|██████████| 581/581 [00:06<00:00, 92.99it/s] \n",
      "predicting ensemble 7 : 100%|██████████| 601/601 [00:06<00:00, 92.67it/s] \n"
     ]
    },
    {
     "name": "stdout",
     "output_type": "stream",
     "text": [
      "49 croplands 2\n"
     ]
    },
    {
     "name": "stderr",
     "output_type": "stream",
     "text": [
      "predicting ensemble 0 : 100%|██████████| 684/684 [00:07<00:00, 91.56it/s] \n",
      "predicting ensemble 1 : 100%|██████████| 666/666 [00:07<00:00, 92.07it/s] \n",
      "predicting ensemble 2 : 100%|██████████| 426/426 [00:04<00:00, 87.66it/s]\n",
      "predicting ensemble 3 : 100%|██████████| 403/403 [00:04<00:00, 90.65it/s] \n",
      "predicting ensemble 4 : 100%|██████████| 553/553 [00:06<00:00, 92.05it/s] \n",
      "predicting ensemble 5 : 100%|██████████| 580/580 [00:06<00:00, 92.45it/s] \n",
      "predicting ensemble 6 : 100%|██████████| 581/581 [00:06<00:00, 93.28it/s] \n",
      "predicting ensemble 7 : 100%|██████████| 601/601 [00:06<00:00, 93.09it/s] \n"
     ]
    },
    {
     "name": "stdout",
     "output_type": "stream",
     "text": [
      "49 croplands 3\n"
     ]
    },
    {
     "name": "stderr",
     "output_type": "stream",
     "text": [
      "predicting ensemble 0 : 100%|██████████| 684/684 [00:07<00:00, 92.14it/s] \n",
      "predicting ensemble 1 : 100%|██████████| 666/666 [00:07<00:00, 93.71it/s] \n",
      "predicting ensemble 2 : 100%|██████████| 426/426 [00:04<00:00, 86.24it/s]\n",
      "predicting ensemble 3 : 100%|██████████| 403/403 [00:04<00:00, 88.57it/s]\n",
      "predicting ensemble 4 : 100%|██████████| 553/553 [00:06<00:00, 91.09it/s] \n",
      "predicting ensemble 5 : 100%|██████████| 580/580 [00:06<00:00, 92.78it/s]\n",
      "predicting ensemble 6 : 100%|██████████| 581/581 [00:06<00:00, 92.55it/s]\n",
      "predicting ensemble 7 : 100%|██████████| 601/601 [00:06<00:00, 93.39it/s] \n"
     ]
    },
    {
     "name": "stdout",
     "output_type": "stream",
     "text": [
      "49 croplands 4\n"
     ]
    },
    {
     "name": "stderr",
     "output_type": "stream",
     "text": [
      "predicting ensemble 0 : 100%|██████████| 684/684 [00:07<00:00, 91.42it/s] \n",
      "predicting ensemble 1 : 100%|██████████| 666/666 [00:07<00:00, 93.04it/s] \n",
      "predicting ensemble 2 : 100%|██████████| 426/426 [00:04<00:00, 88.55it/s]\n",
      "predicting ensemble 3 : 100%|██████████| 403/403 [00:04<00:00, 87.95it/s] \n",
      "predicting ensemble 4 : 100%|██████████| 553/553 [00:06<00:00, 91.72it/s] \n",
      "predicting ensemble 5 : 100%|██████████| 580/580 [00:06<00:00, 90.55it/s]\n",
      "predicting ensemble 6 : 100%|██████████| 581/581 [00:06<00:00, 90.24it/s] \n",
      "predicting ensemble 7 : 100%|██████████| 601/601 [00:06<00:00, 91.85it/s]\n"
     ]
    },
    {
     "name": "stdout",
     "output_type": "stream",
     "text": [
      "50 croplands_ed 0\n"
     ]
    },
    {
     "name": "stderr",
     "output_type": "stream",
     "text": [
      "predicting ensemble 0 : 100%|██████████| 684/684 [00:07<00:00, 92.68it/s] \n",
      "predicting ensemble 1 : 100%|██████████| 666/666 [00:07<00:00, 93.20it/s] \n",
      "predicting ensemble 2 : 100%|██████████| 426/426 [00:04<00:00, 89.23it/s]\n",
      "predicting ensemble 3 : 100%|██████████| 403/403 [00:04<00:00, 92.08it/s] \n",
      "predicting ensemble 4 : 100%|██████████| 553/553 [00:06<00:00, 91.84it/s] \n",
      "predicting ensemble 5 : 100%|██████████| 580/580 [00:06<00:00, 92.46it/s]\n",
      "predicting ensemble 6 : 100%|██████████| 581/581 [00:06<00:00, 93.98it/s] \n",
      "predicting ensemble 7 : 100%|██████████| 601/601 [00:06<00:00, 93.86it/s] \n"
     ]
    },
    {
     "name": "stdout",
     "output_type": "stream",
     "text": [
      "50 croplands_ed 1\n"
     ]
    },
    {
     "name": "stderr",
     "output_type": "stream",
     "text": [
      "predicting ensemble 0 : 100%|██████████| 684/684 [00:07<00:00, 92.34it/s] \n",
      "predicting ensemble 1 : 100%|██████████| 666/666 [00:07<00:00, 90.44it/s] \n",
      "predicting ensemble 2 : 100%|██████████| 426/426 [00:04<00:00, 86.08it/s]\n",
      "predicting ensemble 3 : 100%|██████████| 403/403 [00:04<00:00, 88.39it/s]\n",
      "predicting ensemble 4 : 100%|██████████| 553/553 [00:06<00:00, 91.65it/s] \n",
      "predicting ensemble 5 : 100%|██████████| 580/580 [00:06<00:00, 91.89it/s]\n",
      "predicting ensemble 6 : 100%|██████████| 581/581 [00:06<00:00, 92.94it/s] \n",
      "predicting ensemble 7 : 100%|██████████| 601/601 [00:06<00:00, 93.76it/s] \n"
     ]
    },
    {
     "name": "stdout",
     "output_type": "stream",
     "text": [
      "50 croplands_ed 2\n"
     ]
    },
    {
     "name": "stderr",
     "output_type": "stream",
     "text": [
      "predicting ensemble 0 : 100%|██████████| 684/684 [00:07<00:00, 92.03it/s] \n",
      "predicting ensemble 1 : 100%|██████████| 666/666 [00:07<00:00, 92.82it/s] \n",
      "predicting ensemble 2 : 100%|██████████| 426/426 [00:04<00:00, 89.45it/s]\n",
      "predicting ensemble 3 : 100%|██████████| 403/403 [00:04<00:00, 91.75it/s] \n",
      "predicting ensemble 4 : 100%|██████████| 553/553 [00:06<00:00, 92.02it/s] \n",
      "predicting ensemble 5 : 100%|██████████| 580/580 [00:06<00:00, 90.52it/s]\n",
      "predicting ensemble 6 : 100%|██████████| 581/581 [00:06<00:00, 93.97it/s] \n",
      "predicting ensemble 7 : 100%|██████████| 601/601 [00:06<00:00, 94.10it/s] \n"
     ]
    },
    {
     "name": "stdout",
     "output_type": "stream",
     "text": [
      "50 croplands_ed 3\n"
     ]
    },
    {
     "name": "stderr",
     "output_type": "stream",
     "text": [
      "predicting ensemble 0 : 100%|██████████| 684/684 [00:07<00:00, 93.03it/s] \n",
      "predicting ensemble 1 : 100%|██████████| 666/666 [00:07<00:00, 91.53it/s] \n",
      "predicting ensemble 2 : 100%|██████████| 426/426 [00:04<00:00, 88.28it/s]\n",
      "predicting ensemble 3 : 100%|██████████| 403/403 [00:04<00:00, 90.87it/s] \n",
      "predicting ensemble 4 : 100%|██████████| 553/553 [00:05<00:00, 93.03it/s] \n",
      "predicting ensemble 5 : 100%|██████████| 580/580 [00:06<00:00, 93.52it/s] \n",
      "predicting ensemble 6 : 100%|██████████| 581/581 [00:06<00:00, 94.09it/s] \n",
      "predicting ensemble 7 : 100%|██████████| 601/601 [00:06<00:00, 93.78it/s] \n"
     ]
    },
    {
     "name": "stdout",
     "output_type": "stream",
     "text": [
      "50 croplands_ed 4\n"
     ]
    },
    {
     "name": "stderr",
     "output_type": "stream",
     "text": [
      "predicting ensemble 0 : 100%|██████████| 684/684 [00:07<00:00, 92.75it/s] \n",
      "predicting ensemble 1 : 100%|██████████| 666/666 [00:07<00:00, 92.62it/s] \n",
      "predicting ensemble 2 : 100%|██████████| 426/426 [00:04<00:00, 89.28it/s]\n",
      "predicting ensemble 3 : 100%|██████████| 403/403 [00:04<00:00, 92.05it/s] \n",
      "predicting ensemble 4 : 100%|██████████| 553/553 [00:05<00:00, 92.85it/s] \n",
      "predicting ensemble 5 : 100%|██████████| 580/580 [00:06<00:00, 93.17it/s] \n",
      "predicting ensemble 6 : 100%|██████████| 581/581 [00:06<00:00, 95.11it/s] \n",
      "predicting ensemble 7 : 100%|██████████| 601/601 [00:06<00:00, 94.93it/s] \n"
     ]
    },
    {
     "name": "stdout",
     "output_type": "stream",
     "text": [
      "51 croplands_lpi 0\n"
     ]
    },
    {
     "name": "stderr",
     "output_type": "stream",
     "text": [
      "predicting ensemble 0 : 100%|██████████| 684/684 [00:07<00:00, 90.47it/s] \n",
      "predicting ensemble 1 : 100%|██████████| 666/666 [00:07<00:00, 94.53it/s] \n",
      "predicting ensemble 2 : 100%|██████████| 426/426 [00:04<00:00, 89.22it/s]\n",
      "predicting ensemble 3 : 100%|██████████| 403/403 [00:04<00:00, 93.22it/s] \n",
      "predicting ensemble 4 : 100%|██████████| 553/553 [00:06<00:00, 92.12it/s] \n",
      "predicting ensemble 5 : 100%|██████████| 580/580 [00:06<00:00, 90.43it/s]\n",
      "predicting ensemble 6 : 100%|██████████| 581/581 [00:06<00:00, 94.50it/s] \n",
      "predicting ensemble 7 : 100%|██████████| 601/601 [00:06<00:00, 95.30it/s] \n"
     ]
    },
    {
     "name": "stdout",
     "output_type": "stream",
     "text": [
      "51 croplands_lpi 1\n"
     ]
    },
    {
     "name": "stderr",
     "output_type": "stream",
     "text": [
      "predicting ensemble 0 : 100%|██████████| 684/684 [00:07<00:00, 93.85it/s] \n",
      "predicting ensemble 1 : 100%|██████████| 666/666 [00:06<00:00, 95.29it/s] \n",
      "predicting ensemble 2 : 100%|██████████| 426/426 [00:04<00:00, 88.17it/s]\n",
      "predicting ensemble 3 : 100%|██████████| 403/403 [00:04<00:00, 93.07it/s] \n",
      "predicting ensemble 4 : 100%|██████████| 553/553 [00:05<00:00, 93.54it/s] \n",
      "predicting ensemble 5 : 100%|██████████| 580/580 [00:06<00:00, 93.67it/s] \n",
      "predicting ensemble 6 : 100%|██████████| 581/581 [00:06<00:00, 95.37it/s] \n",
      "predicting ensemble 7 : 100%|██████████| 601/601 [00:06<00:00, 93.95it/s] \n"
     ]
    },
    {
     "name": "stdout",
     "output_type": "stream",
     "text": [
      "51 croplands_lpi 2\n"
     ]
    },
    {
     "name": "stderr",
     "output_type": "stream",
     "text": [
      "predicting ensemble 0 : 100%|██████████| 684/684 [00:07<00:00, 92.95it/s] \n",
      "predicting ensemble 1 : 100%|██████████| 666/666 [00:07<00:00, 90.98it/s] \n",
      "predicting ensemble 2 : 100%|██████████| 426/426 [00:04<00:00, 90.46it/s]\n",
      "predicting ensemble 3 : 100%|██████████| 403/403 [00:04<00:00, 90.96it/s] \n",
      "predicting ensemble 4 : 100%|██████████| 553/553 [00:05<00:00, 93.40it/s] \n",
      "predicting ensemble 5 : 100%|██████████| 580/580 [00:06<00:00, 92.86it/s]\n",
      "predicting ensemble 6 : 100%|██████████| 581/581 [00:06<00:00, 94.71it/s] \n",
      "predicting ensemble 7 : 100%|██████████| 601/601 [00:06<00:00, 94.97it/s] \n"
     ]
    },
    {
     "name": "stdout",
     "output_type": "stream",
     "text": [
      "51 croplands_lpi 3\n"
     ]
    },
    {
     "name": "stderr",
     "output_type": "stream",
     "text": [
      "predicting ensemble 0 : 100%|██████████| 684/684 [00:07<00:00, 94.13it/s] \n",
      "predicting ensemble 1 : 100%|██████████| 666/666 [00:07<00:00, 94.22it/s] \n",
      "predicting ensemble 2 : 100%|██████████| 426/426 [00:04<00:00, 90.60it/s]\n",
      "predicting ensemble 3 : 100%|██████████| 403/403 [00:04<00:00, 91.28it/s]\n",
      "predicting ensemble 4 : 100%|██████████| 553/553 [00:05<00:00, 94.82it/s] \n",
      "predicting ensemble 5 : 100%|██████████| 580/580 [00:06<00:00, 88.70it/s]\n",
      "predicting ensemble 6 : 100%|██████████| 581/581 [00:06<00:00, 93.26it/s] \n",
      "predicting ensemble 7 : 100%|██████████| 601/601 [00:06<00:00, 93.12it/s] \n"
     ]
    },
    {
     "name": "stdout",
     "output_type": "stream",
     "text": [
      "51 croplands_lpi 4\n"
     ]
    },
    {
     "name": "stderr",
     "output_type": "stream",
     "text": [
      "predicting ensemble 0 : 100%|██████████| 684/684 [00:07<00:00, 92.87it/s] \n",
      "predicting ensemble 1 : 100%|██████████| 666/666 [00:07<00:00, 94.30it/s] \n",
      "predicting ensemble 2 : 100%|██████████| 426/426 [00:04<00:00, 89.85it/s]\n",
      "predicting ensemble 3 : 100%|██████████| 403/403 [00:04<00:00, 91.23it/s] \n",
      "predicting ensemble 4 : 100%|██████████| 553/553 [00:05<00:00, 93.81it/s] \n",
      "predicting ensemble 5 : 100%|██████████| 580/580 [00:06<00:00, 93.13it/s]\n",
      "predicting ensemble 6 : 100%|██████████| 581/581 [00:06<00:00, 96.19it/s] \n",
      "predicting ensemble 7 : 100%|██████████| 601/601 [00:06<00:00, 94.18it/s] \n"
     ]
    },
    {
     "name": "stdout",
     "output_type": "stream",
     "text": [
      "52 croplands_pd 0\n"
     ]
    },
    {
     "name": "stderr",
     "output_type": "stream",
     "text": [
      "predicting ensemble 0 : 100%|██████████| 684/684 [00:07<00:00, 93.33it/s] \n",
      "predicting ensemble 1 : 100%|██████████| 666/666 [00:07<00:00, 92.37it/s] \n",
      "predicting ensemble 2 : 100%|██████████| 426/426 [00:04<00:00, 90.56it/s]\n",
      "predicting ensemble 3 : 100%|██████████| 403/403 [00:04<00:00, 92.19it/s] \n",
      "predicting ensemble 4 : 100%|██████████| 553/553 [00:05<00:00, 93.29it/s] \n",
      "predicting ensemble 5 : 100%|██████████| 580/580 [00:06<00:00, 93.54it/s]\n",
      "predicting ensemble 6 : 100%|██████████| 581/581 [00:06<00:00, 95.44it/s] \n",
      "predicting ensemble 7 : 100%|██████████| 601/601 [00:06<00:00, 94.80it/s] \n"
     ]
    },
    {
     "name": "stdout",
     "output_type": "stream",
     "text": [
      "52 croplands_pd 1\n"
     ]
    },
    {
     "name": "stderr",
     "output_type": "stream",
     "text": [
      "predicting ensemble 0 : 100%|██████████| 684/684 [00:07<00:00, 94.16it/s] \n",
      "predicting ensemble 1 : 100%|██████████| 666/666 [00:07<00:00, 92.45it/s] \n",
      "predicting ensemble 2 : 100%|██████████| 426/426 [00:04<00:00, 90.00it/s]\n",
      "predicting ensemble 3 : 100%|██████████| 403/403 [00:04<00:00, 92.16it/s] \n",
      "predicting ensemble 4 : 100%|██████████| 553/553 [00:06<00:00, 90.59it/s] \n",
      "predicting ensemble 5 : 100%|██████████| 580/580 [00:06<00:00, 93.67it/s] \n",
      "predicting ensemble 6 : 100%|██████████| 581/581 [00:06<00:00, 93.64it/s] \n",
      "predicting ensemble 7 : 100%|██████████| 601/601 [00:06<00:00, 94.93it/s] \n"
     ]
    },
    {
     "name": "stdout",
     "output_type": "stream",
     "text": [
      "52 croplands_pd 2\n"
     ]
    },
    {
     "name": "stderr",
     "output_type": "stream",
     "text": [
      "predicting ensemble 0 : 100%|██████████| 684/684 [00:07<00:00, 93.80it/s] \n",
      "predicting ensemble 1 : 100%|██████████| 666/666 [00:07<00:00, 91.79it/s] \n",
      "predicting ensemble 2 : 100%|██████████| 426/426 [00:04<00:00, 90.94it/s]\n",
      "predicting ensemble 3 : 100%|██████████| 403/403 [00:04<00:00, 90.27it/s] \n",
      "predicting ensemble 4 : 100%|██████████| 553/553 [00:05<00:00, 93.77it/s] \n",
      "predicting ensemble 5 : 100%|██████████| 580/580 [00:06<00:00, 93.02it/s]\n",
      "predicting ensemble 6 : 100%|██████████| 581/581 [00:06<00:00, 94.86it/s] \n",
      "predicting ensemble 7 : 100%|██████████| 601/601 [00:06<00:00, 95.17it/s] \n"
     ]
    },
    {
     "name": "stdout",
     "output_type": "stream",
     "text": [
      "52 croplands_pd 3\n"
     ]
    },
    {
     "name": "stderr",
     "output_type": "stream",
     "text": [
      "predicting ensemble 0 : 100%|██████████| 684/684 [00:07<00:00, 90.49it/s] \n",
      "predicting ensemble 1 : 100%|██████████| 666/666 [00:07<00:00, 93.96it/s] \n",
      "predicting ensemble 2 : 100%|██████████| 426/426 [00:04<00:00, 89.04it/s]\n",
      "predicting ensemble 3 : 100%|██████████| 403/403 [00:04<00:00, 89.73it/s] \n",
      "predicting ensemble 4 : 100%|██████████| 553/553 [00:05<00:00, 92.37it/s] \n",
      "predicting ensemble 5 : 100%|██████████| 580/580 [00:06<00:00, 90.13it/s]\n",
      "predicting ensemble 6 : 100%|██████████| 581/581 [00:06<00:00, 93.46it/s] \n",
      "predicting ensemble 7 : 100%|██████████| 601/601 [00:06<00:00, 94.54it/s] \n"
     ]
    },
    {
     "name": "stdout",
     "output_type": "stream",
     "text": [
      "52 croplands_pd 4\n"
     ]
    },
    {
     "name": "stderr",
     "output_type": "stream",
     "text": [
      "predicting ensemble 0 : 100%|██████████| 684/684 [00:07<00:00, 92.88it/s] \n",
      "predicting ensemble 1 : 100%|██████████| 666/666 [00:07<00:00, 93.75it/s] \n",
      "predicting ensemble 2 : 100%|██████████| 426/426 [00:04<00:00, 89.05it/s]\n",
      "predicting ensemble 3 : 100%|██████████| 403/403 [00:04<00:00, 92.28it/s] \n",
      "predicting ensemble 4 : 100%|██████████| 553/553 [00:06<00:00, 88.74it/s] \n",
      "predicting ensemble 5 : 100%|██████████| 580/580 [00:06<00:00, 91.82it/s]\n",
      "predicting ensemble 6 : 100%|██████████| 581/581 [00:06<00:00, 94.95it/s] \n",
      "predicting ensemble 7 : 100%|██████████| 601/601 [00:06<00:00, 94.31it/s] \n"
     ]
    },
    {
     "name": "stdout",
     "output_type": "stream",
     "text": [
      "53 deciduous_broadleaf_forests 0\n"
     ]
    },
    {
     "name": "stderr",
     "output_type": "stream",
     "text": [
      "predicting ensemble 0 : 100%|██████████| 684/684 [00:07<00:00, 93.54it/s] \n",
      "predicting ensemble 1 : 100%|██████████| 666/666 [00:06<00:00, 95.26it/s] \n",
      "predicting ensemble 2 : 100%|██████████| 426/426 [00:04<00:00, 88.92it/s]\n",
      "predicting ensemble 3 : 100%|██████████| 403/403 [00:04<00:00, 91.54it/s]\n",
      "predicting ensemble 4 : 100%|██████████| 553/553 [00:06<00:00, 87.63it/s] \n",
      "predicting ensemble 5 : 100%|██████████| 580/580 [00:06<00:00, 93.02it/s] \n",
      "predicting ensemble 6 : 100%|██████████| 581/581 [00:06<00:00, 96.01it/s] \n",
      "predicting ensemble 7 : 100%|██████████| 601/601 [00:06<00:00, 94.29it/s] \n"
     ]
    },
    {
     "name": "stdout",
     "output_type": "stream",
     "text": [
      "53 deciduous_broadleaf_forests 1\n"
     ]
    },
    {
     "name": "stderr",
     "output_type": "stream",
     "text": [
      "predicting ensemble 0 : 100%|██████████| 684/684 [00:07<00:00, 90.11it/s] \n",
      "predicting ensemble 1 : 100%|██████████| 666/666 [00:07<00:00, 94.88it/s] \n",
      "predicting ensemble 2 : 100%|██████████| 426/426 [00:04<00:00, 89.62it/s]\n",
      "predicting ensemble 3 : 100%|██████████| 403/403 [00:04<00:00, 92.43it/s] \n",
      "predicting ensemble 4 : 100%|██████████| 553/553 [00:05<00:00, 92.81it/s] \n",
      "predicting ensemble 5 : 100%|██████████| 580/580 [00:06<00:00, 87.89it/s] \n",
      "predicting ensemble 6 : 100%|██████████| 581/581 [00:06<00:00, 94.50it/s] \n",
      "predicting ensemble 7 : 100%|██████████| 601/601 [00:06<00:00, 94.58it/s] \n"
     ]
    },
    {
     "name": "stdout",
     "output_type": "stream",
     "text": [
      "53 deciduous_broadleaf_forests 2\n"
     ]
    },
    {
     "name": "stderr",
     "output_type": "stream",
     "text": [
      "predicting ensemble 0 : 100%|██████████| 684/684 [00:07<00:00, 93.88it/s] \n",
      "predicting ensemble 1 : 100%|██████████| 666/666 [00:07<00:00, 94.31it/s] \n",
      "predicting ensemble 2 : 100%|██████████| 426/426 [00:04<00:00, 88.71it/s]\n",
      "predicting ensemble 3 : 100%|██████████| 403/403 [00:04<00:00, 89.27it/s] \n",
      "predicting ensemble 4 : 100%|██████████| 553/553 [00:05<00:00, 93.60it/s] \n",
      "predicting ensemble 5 : 100%|██████████| 580/580 [00:06<00:00, 93.48it/s] \n",
      "predicting ensemble 6 : 100%|██████████| 581/581 [00:06<00:00, 94.53it/s] \n",
      "predicting ensemble 7 : 100%|██████████| 601/601 [00:06<00:00, 94.17it/s]\n"
     ]
    },
    {
     "name": "stdout",
     "output_type": "stream",
     "text": [
      "53 deciduous_broadleaf_forests 3\n"
     ]
    },
    {
     "name": "stderr",
     "output_type": "stream",
     "text": [
      "predicting ensemble 0 : 100%|██████████| 684/684 [00:07<00:00, 89.88it/s] \n",
      "predicting ensemble 1 : 100%|██████████| 666/666 [00:07<00:00, 94.34it/s] \n",
      "predicting ensemble 2 : 100%|██████████| 426/426 [00:04<00:00, 89.71it/s]\n",
      "predicting ensemble 3 : 100%|██████████| 403/403 [00:04<00:00, 92.52it/s] \n",
      "predicting ensemble 4 : 100%|██████████| 553/553 [00:07<00:00, 78.48it/s]\n",
      "predicting ensemble 5 : 100%|██████████| 580/580 [00:06<00:00, 89.21it/s]\n",
      "predicting ensemble 6 : 100%|██████████| 581/581 [00:06<00:00, 94.08it/s] \n",
      "predicting ensemble 7 : 100%|██████████| 601/601 [00:06<00:00, 90.69it/s] \n"
     ]
    },
    {
     "name": "stdout",
     "output_type": "stream",
     "text": [
      "53 deciduous_broadleaf_forests 4\n"
     ]
    },
    {
     "name": "stderr",
     "output_type": "stream",
     "text": [
      "predicting ensemble 0 : 100%|██████████| 684/684 [00:07<00:00, 91.79it/s] \n",
      "predicting ensemble 1 : 100%|██████████| 666/666 [00:07<00:00, 93.89it/s] \n",
      "predicting ensemble 2 : 100%|██████████| 426/426 [00:04<00:00, 88.79it/s]\n",
      "predicting ensemble 3 : 100%|██████████| 403/403 [00:04<00:00, 91.58it/s] \n",
      "predicting ensemble 4 : 100%|██████████| 553/553 [00:05<00:00, 92.61it/s] \n",
      "predicting ensemble 5 : 100%|██████████| 580/580 [00:06<00:00, 92.28it/s]\n",
      "predicting ensemble 6 : 100%|██████████| 581/581 [00:06<00:00, 94.14it/s] \n",
      "predicting ensemble 7 : 100%|██████████| 601/601 [00:06<00:00, 95.24it/s] \n"
     ]
    },
    {
     "name": "stdout",
     "output_type": "stream",
     "text": [
      "54 deciduous_broadleaf_forests_ed 0\n"
     ]
    },
    {
     "name": "stderr",
     "output_type": "stream",
     "text": [
      "predicting ensemble 0 : 100%|██████████| 684/684 [00:07<00:00, 90.75it/s] \n",
      "predicting ensemble 1 : 100%|██████████| 666/666 [00:07<00:00, 92.62it/s] \n",
      "predicting ensemble 2 : 100%|██████████| 426/426 [00:04<00:00, 88.50it/s]\n",
      "predicting ensemble 3 : 100%|██████████| 403/403 [00:04<00:00, 85.38it/s]\n",
      "predicting ensemble 4 : 100%|██████████| 553/553 [00:05<00:00, 92.86it/s] \n",
      "predicting ensemble 5 : 100%|██████████| 580/580 [00:06<00:00, 93.35it/s]\n",
      "predicting ensemble 6 : 100%|██████████| 581/581 [00:06<00:00, 93.93it/s] \n",
      "predicting ensemble 7 : 100%|██████████| 601/601 [00:06<00:00, 93.57it/s] \n"
     ]
    },
    {
     "name": "stdout",
     "output_type": "stream",
     "text": [
      "54 deciduous_broadleaf_forests_ed 1\n"
     ]
    },
    {
     "name": "stderr",
     "output_type": "stream",
     "text": [
      "predicting ensemble 0 : 100%|██████████| 684/684 [00:07<00:00, 92.90it/s] \n",
      "predicting ensemble 1 : 100%|██████████| 666/666 [00:07<00:00, 93.72it/s] \n",
      "predicting ensemble 2 : 100%|██████████| 426/426 [00:04<00:00, 89.41it/s]\n",
      "predicting ensemble 3 : 100%|██████████| 403/403 [00:04<00:00, 92.21it/s] \n",
      "predicting ensemble 4 : 100%|██████████| 553/553 [00:05<00:00, 92.48it/s] \n",
      "predicting ensemble 5 : 100%|██████████| 580/580 [00:06<00:00, 93.10it/s] \n",
      "predicting ensemble 6 : 100%|██████████| 581/581 [00:06<00:00, 95.38it/s] \n",
      "predicting ensemble 7 : 100%|██████████| 601/601 [00:06<00:00, 91.63it/s] \n"
     ]
    },
    {
     "name": "stdout",
     "output_type": "stream",
     "text": [
      "54 deciduous_broadleaf_forests_ed 2\n"
     ]
    },
    {
     "name": "stderr",
     "output_type": "stream",
     "text": [
      "predicting ensemble 0 : 100%|██████████| 684/684 [00:07<00:00, 92.77it/s] \n",
      "predicting ensemble 1 : 100%|██████████| 666/666 [00:07<00:00, 95.08it/s] \n",
      "predicting ensemble 2 : 100%|██████████| 426/426 [00:04<00:00, 89.77it/s]\n",
      "predicting ensemble 3 : 100%|██████████| 403/403 [00:04<00:00, 91.52it/s] \n",
      "predicting ensemble 4 : 100%|██████████| 553/553 [00:05<00:00, 93.95it/s] \n",
      "predicting ensemble 5 : 100%|██████████| 580/580 [00:06<00:00, 92.64it/s]\n",
      "predicting ensemble 6 : 100%|██████████| 581/581 [00:06<00:00, 94.89it/s] \n",
      "predicting ensemble 7 : 100%|██████████| 601/601 [00:06<00:00, 94.48it/s] \n"
     ]
    },
    {
     "name": "stdout",
     "output_type": "stream",
     "text": [
      "54 deciduous_broadleaf_forests_ed 3\n"
     ]
    },
    {
     "name": "stderr",
     "output_type": "stream",
     "text": [
      "predicting ensemble 0 : 100%|██████████| 684/684 [00:07<00:00, 92.89it/s] \n",
      "predicting ensemble 1 : 100%|██████████| 666/666 [00:07<00:00, 94.25it/s] \n",
      "predicting ensemble 2 : 100%|██████████| 426/426 [00:05<00:00, 83.70it/s]\n",
      "predicting ensemble 3 : 100%|██████████| 403/403 [00:04<00:00, 91.71it/s] \n",
      "predicting ensemble 4 : 100%|██████████| 553/553 [00:05<00:00, 93.15it/s] \n",
      "predicting ensemble 5 : 100%|██████████| 580/580 [00:06<00:00, 92.38it/s]\n",
      "predicting ensemble 6 : 100%|██████████| 581/581 [00:06<00:00, 95.48it/s] \n",
      "predicting ensemble 7 : 100%|██████████| 601/601 [00:06<00:00, 93.35it/s] \n"
     ]
    },
    {
     "name": "stdout",
     "output_type": "stream",
     "text": [
      "54 deciduous_broadleaf_forests_ed 4\n"
     ]
    },
    {
     "name": "stderr",
     "output_type": "stream",
     "text": [
      "predicting ensemble 0 : 100%|██████████| 684/684 [00:07<00:00, 93.78it/s] \n",
      "predicting ensemble 1 : 100%|██████████| 666/666 [00:07<00:00, 93.64it/s] \n",
      "predicting ensemble 2 : 100%|██████████| 426/426 [00:04<00:00, 89.95it/s]\n",
      "predicting ensemble 3 : 100%|██████████| 403/403 [00:04<00:00, 91.66it/s] \n",
      "predicting ensemble 4 : 100%|██████████| 553/553 [00:05<00:00, 92.70it/s] \n",
      "predicting ensemble 5 : 100%|██████████| 580/580 [00:06<00:00, 93.30it/s] \n",
      "predicting ensemble 6 : 100%|██████████| 581/581 [00:06<00:00, 93.07it/s] \n",
      "predicting ensemble 7 : 100%|██████████| 601/601 [00:06<00:00, 95.09it/s] \n"
     ]
    },
    {
     "name": "stdout",
     "output_type": "stream",
     "text": [
      "55 deciduous_broadleaf_forests_lpi 0\n"
     ]
    },
    {
     "name": "stderr",
     "output_type": "stream",
     "text": [
      "predicting ensemble 0 : 100%|██████████| 684/684 [00:07<00:00, 93.07it/s] \n",
      "predicting ensemble 1 : 100%|██████████| 666/666 [00:07<00:00, 93.10it/s] \n",
      "predicting ensemble 2 : 100%|██████████| 426/426 [00:04<00:00, 89.46it/s]\n",
      "predicting ensemble 3 : 100%|██████████| 403/403 [00:04<00:00, 92.15it/s] \n",
      "predicting ensemble 4 : 100%|██████████| 553/553 [00:05<00:00, 93.81it/s] \n",
      "predicting ensemble 5 : 100%|██████████| 580/580 [00:06<00:00, 93.44it/s] \n",
      "predicting ensemble 6 : 100%|██████████| 581/581 [00:06<00:00, 93.75it/s] \n",
      "predicting ensemble 7 : 100%|██████████| 601/601 [00:06<00:00, 95.24it/s] \n"
     ]
    },
    {
     "name": "stdout",
     "output_type": "stream",
     "text": [
      "55 deciduous_broadleaf_forests_lpi 1\n"
     ]
    },
    {
     "name": "stderr",
     "output_type": "stream",
     "text": [
      "predicting ensemble 0 : 100%|██████████| 684/684 [00:07<00:00, 91.44it/s] \n",
      "predicting ensemble 1 : 100%|██████████| 666/666 [00:09<00:00, 70.30it/s]\n",
      "predicting ensemble 2 : 100%|██████████| 426/426 [00:06<00:00, 66.91it/s]\n",
      "predicting ensemble 3 : 100%|██████████| 403/403 [00:04<00:00, 85.96it/s]\n",
      "predicting ensemble 4 : 100%|██████████| 553/553 [00:05<00:00, 93.08it/s] \n",
      "predicting ensemble 5 : 100%|██████████| 580/580 [00:06<00:00, 93.24it/s]\n",
      "predicting ensemble 6 : 100%|██████████| 581/581 [00:06<00:00, 95.06it/s] \n",
      "predicting ensemble 7 : 100%|██████████| 601/601 [00:06<00:00, 90.80it/s]\n"
     ]
    },
    {
     "name": "stdout",
     "output_type": "stream",
     "text": [
      "55 deciduous_broadleaf_forests_lpi 2\n"
     ]
    },
    {
     "name": "stderr",
     "output_type": "stream",
     "text": [
      "predicting ensemble 0 : 100%|██████████| 684/684 [00:07<00:00, 92.05it/s] \n",
      "predicting ensemble 1 : 100%|██████████| 666/666 [00:07<00:00, 93.99it/s] \n",
      "predicting ensemble 2 : 100%|██████████| 426/426 [00:04<00:00, 89.60it/s]\n",
      "predicting ensemble 3 : 100%|██████████| 403/403 [00:04<00:00, 91.04it/s] \n",
      "predicting ensemble 4 : 100%|██████████| 553/553 [00:05<00:00, 92.90it/s] \n",
      "predicting ensemble 5 : 100%|██████████| 580/580 [00:06<00:00, 89.42it/s]\n",
      "predicting ensemble 6 : 100%|██████████| 581/581 [00:06<00:00, 93.44it/s] \n",
      "predicting ensemble 7 : 100%|██████████| 601/601 [00:06<00:00, 93.30it/s] \n"
     ]
    },
    {
     "name": "stdout",
     "output_type": "stream",
     "text": [
      "55 deciduous_broadleaf_forests_lpi 3\n"
     ]
    },
    {
     "name": "stderr",
     "output_type": "stream",
     "text": [
      "predicting ensemble 0 : 100%|██████████| 684/684 [00:07<00:00, 91.17it/s] \n",
      "predicting ensemble 1 : 100%|██████████| 666/666 [00:07<00:00, 94.52it/s] \n",
      "predicting ensemble 2 : 100%|██████████| 426/426 [00:04<00:00, 90.05it/s]\n",
      "predicting ensemble 3 : 100%|██████████| 403/403 [00:04<00:00, 90.11it/s] \n",
      "predicting ensemble 4 : 100%|██████████| 553/553 [00:05<00:00, 92.69it/s] \n",
      "predicting ensemble 5 : 100%|██████████| 580/580 [00:06<00:00, 91.86it/s]\n",
      "predicting ensemble 6 : 100%|██████████| 581/581 [00:06<00:00, 94.50it/s] \n",
      "predicting ensemble 7 : 100%|██████████| 601/601 [00:06<00:00, 94.50it/s] \n"
     ]
    },
    {
     "name": "stdout",
     "output_type": "stream",
     "text": [
      "55 deciduous_broadleaf_forests_lpi 4\n"
     ]
    },
    {
     "name": "stderr",
     "output_type": "stream",
     "text": [
      "predicting ensemble 0 : 100%|██████████| 684/684 [00:07<00:00, 92.64it/s] \n",
      "predicting ensemble 1 : 100%|██████████| 666/666 [00:07<00:00, 91.75it/s] \n",
      "predicting ensemble 2 : 100%|██████████| 426/426 [00:04<00:00, 87.66it/s]\n",
      "predicting ensemble 3 : 100%|██████████| 403/403 [00:04<00:00, 91.11it/s]\n",
      "predicting ensemble 4 : 100%|██████████| 553/553 [00:05<00:00, 93.29it/s] \n",
      "predicting ensemble 5 : 100%|██████████| 580/580 [00:06<00:00, 92.48it/s] \n",
      "predicting ensemble 6 : 100%|██████████| 581/581 [00:06<00:00, 95.27it/s] \n",
      "predicting ensemble 7 : 100%|██████████| 601/601 [00:06<00:00, 93.30it/s] \n"
     ]
    },
    {
     "name": "stdout",
     "output_type": "stream",
     "text": [
      "56 deciduous_broadleaf_forests_pd 0\n"
     ]
    },
    {
     "name": "stderr",
     "output_type": "stream",
     "text": [
      "predicting ensemble 0 : 100%|██████████| 684/684 [00:07<00:00, 92.46it/s] \n",
      "predicting ensemble 1 : 100%|██████████| 666/666 [00:07<00:00, 93.11it/s] \n",
      "predicting ensemble 2 : 100%|██████████| 426/426 [00:04<00:00, 88.29it/s]\n",
      "predicting ensemble 3 : 100%|██████████| 403/403 [00:04<00:00, 91.82it/s] \n",
      "predicting ensemble 4 : 100%|██████████| 553/553 [00:05<00:00, 92.32it/s] \n",
      "predicting ensemble 5 : 100%|██████████| 580/580 [00:06<00:00, 90.44it/s]\n",
      "predicting ensemble 6 : 100%|██████████| 581/581 [00:06<00:00, 95.16it/s] \n",
      "predicting ensemble 7 : 100%|██████████| 601/601 [00:06<00:00, 94.07it/s] \n"
     ]
    },
    {
     "name": "stdout",
     "output_type": "stream",
     "text": [
      "56 deciduous_broadleaf_forests_pd 1\n"
     ]
    },
    {
     "name": "stderr",
     "output_type": "stream",
     "text": [
      "predicting ensemble 0 : 100%|██████████| 684/684 [00:07<00:00, 91.59it/s] \n",
      "predicting ensemble 1 : 100%|██████████| 666/666 [00:07<00:00, 90.42it/s] \n",
      "predicting ensemble 2 : 100%|██████████| 426/426 [00:04<00:00, 88.16it/s]\n",
      "predicting ensemble 3 : 100%|██████████| 403/403 [00:04<00:00, 92.14it/s] \n",
      "predicting ensemble 4 : 100%|██████████| 553/553 [00:06<00:00, 89.90it/s] \n",
      "predicting ensemble 5 : 100%|██████████| 580/580 [00:06<00:00, 89.78it/s] \n",
      "predicting ensemble 6 : 100%|██████████| 581/581 [00:06<00:00, 87.88it/s]\n",
      "predicting ensemble 7 : 100%|██████████| 601/601 [00:06<00:00, 93.67it/s] \n"
     ]
    },
    {
     "name": "stdout",
     "output_type": "stream",
     "text": [
      "56 deciduous_broadleaf_forests_pd 2\n"
     ]
    },
    {
     "name": "stderr",
     "output_type": "stream",
     "text": [
      "predicting ensemble 0 : 100%|██████████| 684/684 [00:07<00:00, 92.22it/s] \n",
      "predicting ensemble 1 : 100%|██████████| 666/666 [00:06<00:00, 95.15it/s] \n",
      "predicting ensemble 2 : 100%|██████████| 426/426 [00:04<00:00, 89.67it/s]\n",
      "predicting ensemble 3 : 100%|██████████| 403/403 [00:04<00:00, 90.93it/s] \n",
      "predicting ensemble 4 : 100%|██████████| 553/553 [00:05<00:00, 93.27it/s] \n",
      "predicting ensemble 5 : 100%|██████████| 580/580 [00:06<00:00, 92.49it/s] \n",
      "predicting ensemble 6 : 100%|██████████| 581/581 [00:06<00:00, 94.70it/s] \n",
      "predicting ensemble 7 : 100%|██████████| 601/601 [00:06<00:00, 93.30it/s] \n"
     ]
    },
    {
     "name": "stdout",
     "output_type": "stream",
     "text": [
      "56 deciduous_broadleaf_forests_pd 3\n"
     ]
    },
    {
     "name": "stderr",
     "output_type": "stream",
     "text": [
      "predicting ensemble 0 : 100%|██████████| 684/684 [00:07<00:00, 92.40it/s] \n",
      "predicting ensemble 1 : 100%|██████████| 666/666 [00:07<00:00, 94.27it/s] \n",
      "predicting ensemble 2 : 100%|██████████| 426/426 [00:04<00:00, 88.52it/s]\n",
      "predicting ensemble 3 : 100%|██████████| 403/403 [00:04<00:00, 91.21it/s] \n",
      "predicting ensemble 4 : 100%|██████████| 553/553 [00:05<00:00, 93.05it/s] \n",
      "predicting ensemble 5 : 100%|██████████| 580/580 [00:06<00:00, 90.12it/s]\n",
      "predicting ensemble 6 : 100%|██████████| 581/581 [00:06<00:00, 94.43it/s] \n",
      "predicting ensemble 7 : 100%|██████████| 601/601 [00:06<00:00, 91.63it/s] \n"
     ]
    },
    {
     "name": "stdout",
     "output_type": "stream",
     "text": [
      "56 deciduous_broadleaf_forests_pd 4\n"
     ]
    },
    {
     "name": "stderr",
     "output_type": "stream",
     "text": [
      "predicting ensemble 0 : 100%|██████████| 684/684 [00:07<00:00, 88.93it/s]\n",
      "predicting ensemble 1 : 100%|██████████| 666/666 [00:07<00:00, 92.44it/s] \n",
      "predicting ensemble 2 : 100%|██████████| 426/426 [00:05<00:00, 84.65it/s]\n",
      "predicting ensemble 3 : 100%|██████████| 403/403 [00:04<00:00, 88.82it/s] \n",
      "predicting ensemble 4 : 100%|██████████| 553/553 [00:06<00:00, 91.94it/s] \n",
      "predicting ensemble 5 : 100%|██████████| 580/580 [00:06<00:00, 90.97it/s]\n",
      "predicting ensemble 6 : 100%|██████████| 581/581 [00:06<00:00, 85.83it/s] \n",
      "predicting ensemble 7 : 100%|██████████| 601/601 [00:06<00:00, 93.14it/s] \n"
     ]
    },
    {
     "name": "stdout",
     "output_type": "stream",
     "text": [
      "57 deciduous_needleleaf_forests 0\n"
     ]
    },
    {
     "name": "stderr",
     "output_type": "stream",
     "text": [
      "predicting ensemble 0 : 100%|██████████| 684/684 [00:07<00:00, 89.42it/s]\n",
      "predicting ensemble 1 : 100%|██████████| 666/666 [00:07<00:00, 89.52it/s] \n",
      "predicting ensemble 2 : 100%|██████████| 426/426 [00:04<00:00, 86.15it/s]\n",
      "predicting ensemble 3 : 100%|██████████| 403/403 [00:05<00:00, 76.39it/s]\n",
      "predicting ensemble 4 : 100%|██████████| 553/553 [00:05<00:00, 93.19it/s] \n",
      "predicting ensemble 5 : 100%|██████████| 580/580 [00:06<00:00, 94.44it/s] \n",
      "predicting ensemble 6 : 100%|██████████| 581/581 [00:06<00:00, 91.65it/s] \n",
      "predicting ensemble 7 : 100%|██████████| 601/601 [00:06<00:00, 94.02it/s] \n"
     ]
    },
    {
     "name": "stdout",
     "output_type": "stream",
     "text": [
      "57 deciduous_needleleaf_forests 1\n"
     ]
    },
    {
     "name": "stderr",
     "output_type": "stream",
     "text": [
      "predicting ensemble 0 : 100%|██████████| 684/684 [00:07<00:00, 85.83it/s]\n",
      "predicting ensemble 1 : 100%|██████████| 666/666 [00:07<00:00, 92.29it/s] \n",
      "predicting ensemble 2 : 100%|██████████| 426/426 [00:04<00:00, 88.59it/s]\n",
      "predicting ensemble 3 : 100%|██████████| 403/403 [00:04<00:00, 91.56it/s] \n",
      "predicting ensemble 4 : 100%|██████████| 553/553 [00:06<00:00, 88.93it/s] \n",
      "predicting ensemble 5 : 100%|██████████| 580/580 [00:06<00:00, 85.46it/s]\n",
      "predicting ensemble 6 : 100%|██████████| 581/581 [00:06<00:00, 90.48it/s] \n",
      "predicting ensemble 7 : 100%|██████████| 601/601 [00:06<00:00, 95.29it/s] \n"
     ]
    },
    {
     "name": "stdout",
     "output_type": "stream",
     "text": [
      "57 deciduous_needleleaf_forests 2\n"
     ]
    },
    {
     "name": "stderr",
     "output_type": "stream",
     "text": [
      "predicting ensemble 0 : 100%|██████████| 684/684 [00:07<00:00, 93.68it/s] \n",
      "predicting ensemble 1 : 100%|██████████| 666/666 [00:07<00:00, 91.03it/s]\n",
      "predicting ensemble 2 : 100%|██████████| 426/426 [00:04<00:00, 87.23it/s]\n",
      "predicting ensemble 3 : 100%|██████████| 403/403 [00:04<00:00, 83.37it/s]\n",
      "predicting ensemble 4 : 100%|██████████| 553/553 [00:06<00:00, 85.86it/s]\n",
      "predicting ensemble 5 : 100%|██████████| 580/580 [00:06<00:00, 83.30it/s]\n",
      "predicting ensemble 6 : 100%|██████████| 581/581 [00:07<00:00, 80.48it/s]\n",
      "predicting ensemble 7 : 100%|██████████| 601/601 [00:07<00:00, 84.13it/s]\n"
     ]
    },
    {
     "name": "stdout",
     "output_type": "stream",
     "text": [
      "57 deciduous_needleleaf_forests 3\n"
     ]
    },
    {
     "name": "stderr",
     "output_type": "stream",
     "text": [
      "predicting ensemble 0 : 100%|██████████| 684/684 [00:07<00:00, 86.18it/s]\n",
      "predicting ensemble 1 : 100%|██████████| 666/666 [00:07<00:00, 91.22it/s]\n",
      "predicting ensemble 2 : 100%|██████████| 426/426 [00:04<00:00, 86.67it/s]\n",
      "predicting ensemble 3 : 100%|██████████| 403/403 [00:04<00:00, 91.51it/s] \n",
      "predicting ensemble 4 : 100%|██████████| 553/553 [00:06<00:00, 92.03it/s] \n",
      "predicting ensemble 5 : 100%|██████████| 580/580 [00:06<00:00, 92.09it/s] \n",
      "predicting ensemble 6 : 100%|██████████| 581/581 [00:06<00:00, 92.44it/s] \n",
      "predicting ensemble 7 : 100%|██████████| 601/601 [00:06<00:00, 92.67it/s] \n"
     ]
    },
    {
     "name": "stdout",
     "output_type": "stream",
     "text": [
      "57 deciduous_needleleaf_forests 4\n"
     ]
    },
    {
     "name": "stderr",
     "output_type": "stream",
     "text": [
      "predicting ensemble 0 : 100%|██████████| 684/684 [00:07<00:00, 93.09it/s] \n",
      "predicting ensemble 1 : 100%|██████████| 666/666 [00:07<00:00, 92.20it/s] \n",
      "predicting ensemble 2 : 100%|██████████| 426/426 [00:04<00:00, 88.37it/s]\n",
      "predicting ensemble 3 : 100%|██████████| 403/403 [00:04<00:00, 91.67it/s] \n",
      "predicting ensemble 4 : 100%|██████████| 553/553 [00:06<00:00, 91.14it/s] \n",
      "predicting ensemble 5 : 100%|██████████| 580/580 [00:06<00:00, 90.48it/s]\n",
      "predicting ensemble 6 : 100%|██████████| 581/581 [00:06<00:00, 92.24it/s] \n",
      "predicting ensemble 7 : 100%|██████████| 601/601 [00:06<00:00, 93.60it/s]\n"
     ]
    },
    {
     "name": "stdout",
     "output_type": "stream",
     "text": [
      "58 deciduous_needleleaf_forests_ed 0\n"
     ]
    },
    {
     "name": "stderr",
     "output_type": "stream",
     "text": [
      "predicting ensemble 0 : 100%|██████████| 684/684 [00:07<00:00, 91.48it/s] \n",
      "predicting ensemble 1 : 100%|██████████| 666/666 [00:07<00:00, 93.80it/s] \n",
      "predicting ensemble 2 : 100%|██████████| 426/426 [00:04<00:00, 89.47it/s]\n",
      "predicting ensemble 3 : 100%|██████████| 403/403 [00:04<00:00, 90.33it/s] \n",
      "predicting ensemble 4 : 100%|██████████| 553/553 [00:06<00:00, 91.72it/s] \n",
      "predicting ensemble 5 : 100%|██████████| 580/580 [00:06<00:00, 92.40it/s]\n",
      "predicting ensemble 6 : 100%|██████████| 581/581 [00:06<00:00, 94.30it/s] \n",
      "predicting ensemble 7 : 100%|██████████| 601/601 [00:06<00:00, 94.27it/s] \n"
     ]
    },
    {
     "name": "stdout",
     "output_type": "stream",
     "text": [
      "58 deciduous_needleleaf_forests_ed 1\n"
     ]
    },
    {
     "name": "stderr",
     "output_type": "stream",
     "text": [
      "predicting ensemble 0 : 100%|██████████| 684/684 [00:07<00:00, 89.74it/s] \n",
      "predicting ensemble 1 : 100%|██████████| 666/666 [00:07<00:00, 93.43it/s] \n",
      "predicting ensemble 2 : 100%|██████████| 426/426 [00:04<00:00, 87.78it/s]\n",
      "predicting ensemble 3 : 100%|██████████| 403/403 [00:04<00:00, 90.20it/s] \n",
      "predicting ensemble 4 : 100%|██████████| 553/553 [00:05<00:00, 93.03it/s] \n",
      "predicting ensemble 5 : 100%|██████████| 580/580 [00:06<00:00, 91.76it/s]\n",
      "predicting ensemble 6 : 100%|██████████| 581/581 [00:06<00:00, 94.16it/s] \n",
      "predicting ensemble 7 : 100%|██████████| 601/601 [00:06<00:00, 92.65it/s] \n"
     ]
    },
    {
     "name": "stdout",
     "output_type": "stream",
     "text": [
      "58 deciduous_needleleaf_forests_ed 2\n"
     ]
    },
    {
     "name": "stderr",
     "output_type": "stream",
     "text": [
      "predicting ensemble 0 : 100%|██████████| 684/684 [00:07<00:00, 92.32it/s] \n",
      "predicting ensemble 1 : 100%|██████████| 666/666 [00:07<00:00, 92.52it/s] \n",
      "predicting ensemble 2 : 100%|██████████| 426/426 [00:04<00:00, 88.65it/s]\n",
      "predicting ensemble 3 : 100%|██████████| 403/403 [00:04<00:00, 89.80it/s]\n",
      "predicting ensemble 4 : 100%|██████████| 553/553 [00:05<00:00, 92.34it/s] \n",
      "predicting ensemble 5 : 100%|██████████| 580/580 [00:06<00:00, 92.08it/s]\n",
      "predicting ensemble 6 : 100%|██████████| 581/581 [00:06<00:00, 94.76it/s] \n",
      "predicting ensemble 7 : 100%|██████████| 601/601 [00:06<00:00, 93.68it/s] \n"
     ]
    },
    {
     "name": "stdout",
     "output_type": "stream",
     "text": [
      "58 deciduous_needleleaf_forests_ed 3\n"
     ]
    },
    {
     "name": "stderr",
     "output_type": "stream",
     "text": [
      "predicting ensemble 0 : 100%|██████████| 684/684 [00:07<00:00, 92.68it/s] \n",
      "predicting ensemble 1 : 100%|██████████| 666/666 [00:07<00:00, 93.25it/s] \n",
      "predicting ensemble 2 : 100%|██████████| 426/426 [00:04<00:00, 90.15it/s]\n",
      "predicting ensemble 3 : 100%|██████████| 403/403 [00:04<00:00, 90.19it/s] \n",
      "predicting ensemble 4 : 100%|██████████| 553/553 [00:05<00:00, 92.92it/s] \n",
      "predicting ensemble 5 : 100%|██████████| 580/580 [00:06<00:00, 92.07it/s]\n",
      "predicting ensemble 6 : 100%|██████████| 581/581 [00:06<00:00, 93.83it/s] \n",
      "predicting ensemble 7 : 100%|██████████| 601/601 [00:06<00:00, 92.61it/s] \n"
     ]
    },
    {
     "name": "stdout",
     "output_type": "stream",
     "text": [
      "58 deciduous_needleleaf_forests_ed 4\n"
     ]
    },
    {
     "name": "stderr",
     "output_type": "stream",
     "text": [
      "predicting ensemble 0 : 100%|██████████| 684/684 [00:07<00:00, 90.54it/s] \n",
      "predicting ensemble 1 : 100%|██████████| 666/666 [00:07<00:00, 93.47it/s] \n",
      "predicting ensemble 2 : 100%|██████████| 426/426 [00:04<00:00, 87.40it/s]\n",
      "predicting ensemble 3 : 100%|██████████| 403/403 [00:04<00:00, 89.85it/s] \n",
      "predicting ensemble 4 : 100%|██████████| 553/553 [00:05<00:00, 93.13it/s] \n",
      "predicting ensemble 5 : 100%|██████████| 580/580 [00:06<00:00, 92.49it/s] \n",
      "predicting ensemble 6 : 100%|██████████| 581/581 [00:06<00:00, 95.11it/s] \n",
      "predicting ensemble 7 : 100%|██████████| 601/601 [00:06<00:00, 92.74it/s] \n"
     ]
    },
    {
     "name": "stdout",
     "output_type": "stream",
     "text": [
      "59 deciduous_needleleaf_forests_lpi 0\n"
     ]
    },
    {
     "name": "stderr",
     "output_type": "stream",
     "text": [
      "predicting ensemble 0 : 100%|██████████| 684/684 [00:07<00:00, 93.61it/s] \n",
      "predicting ensemble 1 : 100%|██████████| 666/666 [00:07<00:00, 94.61it/s] \n",
      "predicting ensemble 2 : 100%|██████████| 426/426 [00:04<00:00, 88.79it/s]\n",
      "predicting ensemble 3 : 100%|██████████| 403/403 [00:04<00:00, 92.24it/s] \n",
      "predicting ensemble 4 : 100%|██████████| 553/553 [00:06<00:00, 90.18it/s] \n",
      "predicting ensemble 5 : 100%|██████████| 580/580 [00:06<00:00, 92.77it/s] \n",
      "predicting ensemble 6 : 100%|██████████| 581/581 [00:06<00:00, 94.25it/s] \n",
      "predicting ensemble 7 : 100%|██████████| 601/601 [00:06<00:00, 93.34it/s]\n"
     ]
    },
    {
     "name": "stdout",
     "output_type": "stream",
     "text": [
      "59 deciduous_needleleaf_forests_lpi 1\n"
     ]
    },
    {
     "name": "stderr",
     "output_type": "stream",
     "text": [
      "predicting ensemble 0 : 100%|██████████| 684/684 [00:07<00:00, 91.01it/s] \n",
      "predicting ensemble 1 : 100%|██████████| 666/666 [00:07<00:00, 84.45it/s] \n",
      "predicting ensemble 2 : 100%|██████████| 426/426 [00:05<00:00, 83.31it/s]\n",
      "predicting ensemble 3 : 100%|██████████| 403/403 [00:04<00:00, 93.22it/s] \n",
      "predicting ensemble 4 : 100%|██████████| 553/553 [00:05<00:00, 94.60it/s] \n",
      "predicting ensemble 5 : 100%|██████████| 580/580 [00:06<00:00, 93.52it/s] \n",
      "predicting ensemble 6 : 100%|██████████| 581/581 [00:06<00:00, 91.29it/s] \n",
      "predicting ensemble 7 : 100%|██████████| 601/601 [00:06<00:00, 94.70it/s] \n"
     ]
    },
    {
     "name": "stdout",
     "output_type": "stream",
     "text": [
      "59 deciduous_needleleaf_forests_lpi 2\n"
     ]
    },
    {
     "name": "stderr",
     "output_type": "stream",
     "text": [
      "predicting ensemble 0 : 100%|██████████| 684/684 [00:07<00:00, 89.39it/s] \n",
      "predicting ensemble 1 : 100%|██████████| 666/666 [00:07<00:00, 94.24it/s] \n",
      "predicting ensemble 2 : 100%|██████████| 426/426 [00:04<00:00, 85.26it/s]\n",
      "predicting ensemble 3 : 100%|██████████| 403/403 [00:04<00:00, 92.03it/s] \n",
      "predicting ensemble 4 : 100%|██████████| 553/553 [00:05<00:00, 92.58it/s] \n",
      "predicting ensemble 5 : 100%|██████████| 580/580 [00:06<00:00, 93.14it/s]\n",
      "predicting ensemble 6 : 100%|██████████| 581/581 [00:07<00:00, 82.45it/s] \n",
      "predicting ensemble 7 : 100%|██████████| 601/601 [00:06<00:00, 93.68it/s] \n"
     ]
    },
    {
     "name": "stdout",
     "output_type": "stream",
     "text": [
      "59 deciduous_needleleaf_forests_lpi 3\n"
     ]
    },
    {
     "name": "stderr",
     "output_type": "stream",
     "text": [
      "predicting ensemble 0 : 100%|██████████| 684/684 [00:07<00:00, 92.89it/s] \n",
      "predicting ensemble 1 : 100%|██████████| 666/666 [00:07<00:00, 93.49it/s] \n",
      "predicting ensemble 2 : 100%|██████████| 426/426 [00:04<00:00, 88.25it/s]\n",
      "predicting ensemble 3 : 100%|██████████| 403/403 [00:04<00:00, 91.24it/s] \n",
      "predicting ensemble 4 : 100%|██████████| 553/553 [00:06<00:00, 88.81it/s] \n",
      "predicting ensemble 5 : 100%|██████████| 580/580 [00:06<00:00, 92.99it/s]\n",
      "predicting ensemble 6 : 100%|██████████| 581/581 [00:06<00:00, 93.95it/s] \n",
      "predicting ensemble 7 : 100%|██████████| 601/601 [00:06<00:00, 94.75it/s] \n"
     ]
    },
    {
     "name": "stdout",
     "output_type": "stream",
     "text": [
      "59 deciduous_needleleaf_forests_lpi 4\n"
     ]
    },
    {
     "name": "stderr",
     "output_type": "stream",
     "text": [
      "predicting ensemble 0 : 100%|██████████| 684/684 [00:07<00:00, 92.55it/s] \n",
      "predicting ensemble 1 : 100%|██████████| 666/666 [00:07<00:00, 92.54it/s] \n",
      "predicting ensemble 2 : 100%|██████████| 426/426 [00:04<00:00, 89.21it/s]\n",
      "predicting ensemble 3 : 100%|██████████| 403/403 [00:04<00:00, 91.49it/s] \n",
      "predicting ensemble 4 : 100%|██████████| 553/553 [00:05<00:00, 92.40it/s] \n",
      "predicting ensemble 5 : 100%|██████████| 580/580 [00:06<00:00, 92.29it/s]\n",
      "predicting ensemble 6 : 100%|██████████| 581/581 [00:06<00:00, 90.73it/s]\n",
      "predicting ensemble 7 : 100%|██████████| 601/601 [00:06<00:00, 91.95it/s] \n"
     ]
    },
    {
     "name": "stdout",
     "output_type": "stream",
     "text": [
      "60 deciduous_needleleaf_forests_pd 0\n"
     ]
    },
    {
     "name": "stderr",
     "output_type": "stream",
     "text": [
      "predicting ensemble 0 : 100%|██████████| 684/684 [00:07<00:00, 92.14it/s] \n",
      "predicting ensemble 1 : 100%|██████████| 666/666 [00:07<00:00, 92.36it/s] \n",
      "predicting ensemble 2 : 100%|██████████| 426/426 [00:04<00:00, 87.46it/s]\n",
      "predicting ensemble 3 : 100%|██████████| 403/403 [00:04<00:00, 91.80it/s] \n",
      "predicting ensemble 4 : 100%|██████████| 553/553 [00:06<00:00, 89.79it/s] \n",
      "predicting ensemble 5 : 100%|██████████| 580/580 [00:06<00:00, 92.74it/s]\n",
      "predicting ensemble 6 : 100%|██████████| 581/581 [00:06<00:00, 94.19it/s] \n",
      "predicting ensemble 7 : 100%|██████████| 601/601 [00:06<00:00, 94.32it/s] \n"
     ]
    },
    {
     "name": "stdout",
     "output_type": "stream",
     "text": [
      "60 deciduous_needleleaf_forests_pd 1\n"
     ]
    },
    {
     "name": "stderr",
     "output_type": "stream",
     "text": [
      "predicting ensemble 0 : 100%|██████████| 684/684 [00:07<00:00, 92.50it/s] \n",
      "predicting ensemble 1 : 100%|██████████| 666/666 [00:07<00:00, 93.40it/s] \n",
      "predicting ensemble 2 : 100%|██████████| 426/426 [00:04<00:00, 89.45it/s]\n",
      "predicting ensemble 3 : 100%|██████████| 403/403 [00:04<00:00, 88.27it/s] \n",
      "predicting ensemble 4 : 100%|██████████| 553/553 [00:05<00:00, 92.32it/s] \n",
      "predicting ensemble 5 : 100%|██████████| 580/580 [00:06<00:00, 91.49it/s]\n",
      "predicting ensemble 6 : 100%|██████████| 581/581 [00:06<00:00, 93.81it/s] \n",
      "predicting ensemble 7 : 100%|██████████| 601/601 [00:06<00:00, 95.51it/s] \n"
     ]
    },
    {
     "name": "stdout",
     "output_type": "stream",
     "text": [
      "60 deciduous_needleleaf_forests_pd 2\n"
     ]
    },
    {
     "name": "stderr",
     "output_type": "stream",
     "text": [
      "predicting ensemble 0 : 100%|██████████| 684/684 [00:07<00:00, 87.50it/s] \n",
      "predicting ensemble 1 : 100%|██████████| 666/666 [00:07<00:00, 89.40it/s]\n",
      "predicting ensemble 2 : 100%|██████████| 426/426 [00:04<00:00, 87.69it/s]\n",
      "predicting ensemble 3 : 100%|██████████| 403/403 [00:04<00:00, 89.76it/s] \n",
      "predicting ensemble 4 : 100%|██████████| 553/553 [00:06<00:00, 91.67it/s] \n",
      "predicting ensemble 5 : 100%|██████████| 580/580 [00:06<00:00, 91.62it/s] \n",
      "predicting ensemble 6 : 100%|██████████| 581/581 [00:06<00:00, 93.99it/s] \n",
      "predicting ensemble 7 : 100%|██████████| 601/601 [00:06<00:00, 91.26it/s] \n"
     ]
    },
    {
     "name": "stdout",
     "output_type": "stream",
     "text": [
      "60 deciduous_needleleaf_forests_pd 3\n"
     ]
    },
    {
     "name": "stderr",
     "output_type": "stream",
     "text": [
      "predicting ensemble 0 : 100%|██████████| 684/684 [00:07<00:00, 92.20it/s] \n",
      "predicting ensemble 1 : 100%|██████████| 666/666 [00:07<00:00, 94.56it/s] \n",
      "predicting ensemble 2 : 100%|██████████| 426/426 [00:04<00:00, 88.18it/s]\n",
      "predicting ensemble 3 : 100%|██████████| 403/403 [00:04<00:00, 91.04it/s] \n",
      "predicting ensemble 4 : 100%|██████████| 553/553 [00:06<00:00, 91.81it/s] \n",
      "predicting ensemble 5 : 100%|██████████| 580/580 [00:06<00:00, 92.67it/s] \n",
      "predicting ensemble 6 : 100%|██████████| 581/581 [00:06<00:00, 93.59it/s] \n",
      "predicting ensemble 7 : 100%|██████████| 601/601 [00:06<00:00, 94.43it/s] \n"
     ]
    },
    {
     "name": "stdout",
     "output_type": "stream",
     "text": [
      "60 deciduous_needleleaf_forests_pd 4\n"
     ]
    },
    {
     "name": "stderr",
     "output_type": "stream",
     "text": [
      "predicting ensemble 0 : 100%|██████████| 684/684 [00:07<00:00, 93.64it/s] \n",
      "predicting ensemble 1 : 100%|██████████| 666/666 [00:07<00:00, 93.02it/s]\n",
      "predicting ensemble 2 : 100%|██████████| 426/426 [00:04<00:00, 89.06it/s]\n",
      "predicting ensemble 3 : 100%|██████████| 403/403 [00:04<00:00, 88.89it/s] \n",
      "predicting ensemble 4 : 100%|██████████| 553/553 [00:06<00:00, 90.31it/s] \n",
      "predicting ensemble 5 : 100%|██████████| 580/580 [00:06<00:00, 92.37it/s]\n",
      "predicting ensemble 6 : 100%|██████████| 581/581 [00:06<00:00, 91.94it/s] \n",
      "predicting ensemble 7 : 100%|██████████| 601/601 [00:06<00:00, 93.91it/s] \n"
     ]
    },
    {
     "name": "stdout",
     "output_type": "stream",
     "text": [
      "61 evergreen_broadleaf_forests 0\n"
     ]
    },
    {
     "name": "stderr",
     "output_type": "stream",
     "text": [
      "predicting ensemble 0 : 100%|██████████| 684/684 [00:07<00:00, 92.84it/s] \n",
      "predicting ensemble 1 : 100%|██████████| 666/666 [00:07<00:00, 93.92it/s] \n",
      "predicting ensemble 2 : 100%|██████████| 426/426 [00:04<00:00, 88.23it/s]\n",
      "predicting ensemble 3 : 100%|██████████| 403/403 [00:04<00:00, 90.05it/s]\n",
      "predicting ensemble 4 : 100%|██████████| 553/553 [00:05<00:00, 92.44it/s] \n",
      "predicting ensemble 5 : 100%|██████████| 580/580 [00:06<00:00, 93.27it/s] \n",
      "predicting ensemble 6 : 100%|██████████| 581/581 [00:06<00:00, 91.95it/s] \n",
      "predicting ensemble 7 : 100%|██████████| 601/601 [00:06<00:00, 89.69it/s] \n"
     ]
    },
    {
     "name": "stdout",
     "output_type": "stream",
     "text": [
      "61 evergreen_broadleaf_forests 1\n"
     ]
    },
    {
     "name": "stderr",
     "output_type": "stream",
     "text": [
      "predicting ensemble 0 : 100%|██████████| 684/684 [00:07<00:00, 91.58it/s]\n",
      "predicting ensemble 1 : 100%|██████████| 666/666 [00:07<00:00, 94.15it/s] \n",
      "predicting ensemble 2 : 100%|██████████| 426/426 [00:04<00:00, 89.38it/s]\n",
      "predicting ensemble 3 : 100%|██████████| 403/403 [00:04<00:00, 92.58it/s] \n",
      "predicting ensemble 4 : 100%|██████████| 553/553 [00:06<00:00, 91.84it/s] \n",
      "predicting ensemble 5 : 100%|██████████| 580/580 [00:06<00:00, 93.04it/s]\n",
      "predicting ensemble 6 : 100%|██████████| 581/581 [00:06<00:00, 85.88it/s]\n",
      "predicting ensemble 7 : 100%|██████████| 601/601 [00:06<00:00, 94.38it/s] \n"
     ]
    },
    {
     "name": "stdout",
     "output_type": "stream",
     "text": [
      "61 evergreen_broadleaf_forests 2\n"
     ]
    },
    {
     "name": "stderr",
     "output_type": "stream",
     "text": [
      "predicting ensemble 0 : 100%|██████████| 684/684 [00:07<00:00, 92.20it/s] \n",
      "predicting ensemble 1 : 100%|██████████| 666/666 [00:07<00:00, 93.43it/s] \n",
      "predicting ensemble 2 : 100%|██████████| 426/426 [00:04<00:00, 89.29it/s]\n",
      "predicting ensemble 3 : 100%|██████████| 403/403 [00:04<00:00, 86.31it/s]\n",
      "predicting ensemble 4 : 100%|██████████| 553/553 [00:05<00:00, 93.61it/s] \n",
      "predicting ensemble 5 : 100%|██████████| 580/580 [00:06<00:00, 93.23it/s]\n",
      "predicting ensemble 6 : 100%|██████████| 581/581 [00:06<00:00, 93.42it/s] \n",
      "predicting ensemble 7 : 100%|██████████| 601/601 [00:06<00:00, 94.46it/s] \n"
     ]
    },
    {
     "name": "stdout",
     "output_type": "stream",
     "text": [
      "61 evergreen_broadleaf_forests 3\n"
     ]
    },
    {
     "name": "stderr",
     "output_type": "stream",
     "text": [
      "predicting ensemble 0 : 100%|██████████| 684/684 [00:07<00:00, 92.54it/s] \n",
      "predicting ensemble 1 : 100%|██████████| 666/666 [00:07<00:00, 94.25it/s] \n",
      "predicting ensemble 2 : 100%|██████████| 426/426 [00:04<00:00, 90.26it/s]\n",
      "predicting ensemble 3 : 100%|██████████| 403/403 [00:04<00:00, 89.19it/s] \n",
      "predicting ensemble 4 : 100%|██████████| 553/553 [00:05<00:00, 94.28it/s] \n",
      "predicting ensemble 5 : 100%|██████████| 580/580 [00:06<00:00, 92.76it/s]\n",
      "predicting ensemble 6 : 100%|██████████| 581/581 [00:06<00:00, 95.05it/s] \n",
      "predicting ensemble 7 : 100%|██████████| 601/601 [00:06<00:00, 94.29it/s] \n"
     ]
    },
    {
     "name": "stdout",
     "output_type": "stream",
     "text": [
      "61 evergreen_broadleaf_forests 4\n"
     ]
    },
    {
     "name": "stderr",
     "output_type": "stream",
     "text": [
      "predicting ensemble 0 : 100%|██████████| 684/684 [00:07<00:00, 91.94it/s] \n",
      "predicting ensemble 1 : 100%|██████████| 666/666 [00:07<00:00, 93.92it/s] \n",
      "predicting ensemble 2 : 100%|██████████| 426/426 [00:04<00:00, 89.34it/s]\n",
      "predicting ensemble 3 : 100%|██████████| 403/403 [00:04<00:00, 90.85it/s] \n",
      "predicting ensemble 4 : 100%|██████████| 553/553 [00:05<00:00, 93.46it/s] \n",
      "predicting ensemble 5 : 100%|██████████| 580/580 [00:06<00:00, 91.67it/s]\n",
      "predicting ensemble 6 : 100%|██████████| 581/581 [00:06<00:00, 95.13it/s] \n",
      "predicting ensemble 7 : 100%|██████████| 601/601 [00:06<00:00, 94.11it/s] \n"
     ]
    },
    {
     "name": "stdout",
     "output_type": "stream",
     "text": [
      "62 evergreen_broadleaf_forests_ed 0\n"
     ]
    },
    {
     "name": "stderr",
     "output_type": "stream",
     "text": [
      "predicting ensemble 0 : 100%|██████████| 684/684 [00:07<00:00, 93.45it/s] \n",
      "predicting ensemble 1 : 100%|██████████| 666/666 [00:07<00:00, 93.79it/s] \n",
      "predicting ensemble 2 : 100%|██████████| 426/426 [00:04<00:00, 86.22it/s]\n",
      "predicting ensemble 3 : 100%|██████████| 403/403 [00:04<00:00, 91.87it/s] \n",
      "predicting ensemble 4 : 100%|██████████| 553/553 [00:05<00:00, 93.54it/s] \n",
      "predicting ensemble 5 : 100%|██████████| 580/580 [00:06<00:00, 92.27it/s]\n",
      "predicting ensemble 6 : 100%|██████████| 581/581 [00:06<00:00, 93.75it/s]\n",
      "predicting ensemble 7 : 100%|██████████| 601/601 [00:06<00:00, 93.76it/s] \n"
     ]
    },
    {
     "name": "stdout",
     "output_type": "stream",
     "text": [
      "62 evergreen_broadleaf_forests_ed 1\n"
     ]
    },
    {
     "name": "stderr",
     "output_type": "stream",
     "text": [
      "predicting ensemble 0 : 100%|██████████| 684/684 [00:07<00:00, 93.24it/s] \n",
      "predicting ensemble 1 : 100%|██████████| 666/666 [00:07<00:00, 93.52it/s] \n",
      "predicting ensemble 2 : 100%|██████████| 426/426 [00:04<00:00, 89.89it/s]\n",
      "predicting ensemble 3 : 100%|██████████| 403/403 [00:04<00:00, 89.73it/s]\n",
      "predicting ensemble 4 : 100%|██████████| 553/553 [00:05<00:00, 93.18it/s] \n",
      "predicting ensemble 5 : 100%|██████████| 580/580 [00:06<00:00, 93.02it/s] \n",
      "predicting ensemble 6 : 100%|██████████| 581/581 [00:06<00:00, 92.26it/s] \n",
      "predicting ensemble 7 : 100%|██████████| 601/601 [00:06<00:00, 94.19it/s] \n"
     ]
    },
    {
     "name": "stdout",
     "output_type": "stream",
     "text": [
      "62 evergreen_broadleaf_forests_ed 2\n"
     ]
    },
    {
     "name": "stderr",
     "output_type": "stream",
     "text": [
      "predicting ensemble 0 : 100%|██████████| 684/684 [00:07<00:00, 92.66it/s] \n",
      "predicting ensemble 1 : 100%|██████████| 666/666 [00:07<00:00, 94.17it/s] \n",
      "predicting ensemble 2 : 100%|██████████| 426/426 [00:04<00:00, 88.61it/s]\n",
      "predicting ensemble 3 : 100%|██████████| 403/403 [00:04<00:00, 90.20it/s] \n",
      "predicting ensemble 4 : 100%|██████████| 553/553 [00:05<00:00, 94.09it/s] \n",
      "predicting ensemble 5 : 100%|██████████| 580/580 [00:06<00:00, 91.96it/s]\n",
      "predicting ensemble 6 : 100%|██████████| 581/581 [00:06<00:00, 95.05it/s] \n",
      "predicting ensemble 7 : 100%|██████████| 601/601 [00:06<00:00, 94.50it/s] \n"
     ]
    },
    {
     "name": "stdout",
     "output_type": "stream",
     "text": [
      "62 evergreen_broadleaf_forests_ed 3\n"
     ]
    },
    {
     "name": "stderr",
     "output_type": "stream",
     "text": [
      "predicting ensemble 0 : 100%|██████████| 684/684 [00:07<00:00, 93.16it/s] \n",
      "predicting ensemble 1 : 100%|██████████| 666/666 [00:07<00:00, 90.25it/s] \n",
      "predicting ensemble 2 : 100%|██████████| 426/426 [00:04<00:00, 89.68it/s]\n",
      "predicting ensemble 3 : 100%|██████████| 403/403 [00:04<00:00, 91.50it/s] \n",
      "predicting ensemble 4 : 100%|██████████| 553/553 [00:05<00:00, 93.84it/s] \n",
      "predicting ensemble 5 : 100%|██████████| 580/580 [00:06<00:00, 93.26it/s] \n",
      "predicting ensemble 6 : 100%|██████████| 581/581 [00:06<00:00, 95.15it/s] \n",
      "predicting ensemble 7 : 100%|██████████| 601/601 [00:06<00:00, 93.51it/s]\n"
     ]
    },
    {
     "name": "stdout",
     "output_type": "stream",
     "text": [
      "62 evergreen_broadleaf_forests_ed 4\n"
     ]
    },
    {
     "name": "stderr",
     "output_type": "stream",
     "text": [
      "predicting ensemble 0 : 100%|██████████| 684/684 [00:07<00:00, 92.70it/s] \n",
      "predicting ensemble 1 : 100%|██████████| 666/666 [00:07<00:00, 94.36it/s] \n",
      "predicting ensemble 2 : 100%|██████████| 426/426 [00:04<00:00, 88.83it/s]\n",
      "predicting ensemble 3 : 100%|██████████| 403/403 [00:04<00:00, 92.53it/s] \n",
      "predicting ensemble 4 : 100%|██████████| 553/553 [00:05<00:00, 92.57it/s] \n",
      "predicting ensemble 5 : 100%|██████████| 580/580 [00:06<00:00, 92.53it/s]\n",
      "predicting ensemble 6 : 100%|██████████| 581/581 [00:06<00:00, 95.61it/s] \n",
      "predicting ensemble 7 : 100%|██████████| 601/601 [00:06<00:00, 91.85it/s] \n"
     ]
    },
    {
     "name": "stdout",
     "output_type": "stream",
     "text": [
      "63 evergreen_broadleaf_forests_lpi 0\n"
     ]
    },
    {
     "name": "stderr",
     "output_type": "stream",
     "text": [
      "predicting ensemble 0 : 100%|██████████| 684/684 [00:07<00:00, 92.80it/s] \n",
      "predicting ensemble 1 : 100%|██████████| 666/666 [00:07<00:00, 94.42it/s] \n",
      "predicting ensemble 2 : 100%|██████████| 426/426 [00:04<00:00, 89.82it/s]\n",
      "predicting ensemble 3 : 100%|██████████| 403/403 [00:04<00:00, 91.46it/s] \n",
      "predicting ensemble 4 : 100%|██████████| 553/553 [00:05<00:00, 92.96it/s] \n",
      "predicting ensemble 5 : 100%|██████████| 580/580 [00:06<00:00, 92.14it/s] \n",
      "predicting ensemble 6 : 100%|██████████| 581/581 [00:06<00:00, 94.08it/s] \n",
      "predicting ensemble 7 : 100%|██████████| 601/601 [00:06<00:00, 94.18it/s] \n"
     ]
    },
    {
     "name": "stdout",
     "output_type": "stream",
     "text": [
      "63 evergreen_broadleaf_forests_lpi 1\n"
     ]
    },
    {
     "name": "stderr",
     "output_type": "stream",
     "text": [
      "predicting ensemble 0 : 100%|██████████| 684/684 [00:07<00:00, 93.86it/s] \n",
      "predicting ensemble 1 : 100%|██████████| 666/666 [00:07<00:00, 94.12it/s] \n",
      "predicting ensemble 2 : 100%|██████████| 426/426 [00:04<00:00, 88.35it/s]\n",
      "predicting ensemble 3 : 100%|██████████| 403/403 [00:04<00:00, 88.16it/s] \n",
      "predicting ensemble 4 : 100%|██████████| 553/553 [00:05<00:00, 93.43it/s] \n",
      "predicting ensemble 5 : 100%|██████████| 580/580 [00:06<00:00, 93.33it/s]\n",
      "predicting ensemble 6 : 100%|██████████| 581/581 [00:06<00:00, 94.34it/s] \n",
      "predicting ensemble 7 : 100%|██████████| 601/601 [00:06<00:00, 89.48it/s] \n"
     ]
    },
    {
     "name": "stdout",
     "output_type": "stream",
     "text": [
      "63 evergreen_broadleaf_forests_lpi 2\n"
     ]
    },
    {
     "name": "stderr",
     "output_type": "stream",
     "text": [
      "predicting ensemble 0 : 100%|██████████| 684/684 [00:07<00:00, 92.23it/s] \n",
      "predicting ensemble 1 : 100%|██████████| 666/666 [00:07<00:00, 92.89it/s] \n",
      "predicting ensemble 2 : 100%|██████████| 426/426 [00:04<00:00, 90.10it/s]\n",
      "predicting ensemble 3 : 100%|██████████| 403/403 [00:04<00:00, 90.97it/s]\n",
      "predicting ensemble 4 : 100%|██████████| 553/553 [00:05<00:00, 93.06it/s] \n",
      "predicting ensemble 5 : 100%|██████████| 580/580 [00:06<00:00, 91.62it/s]\n",
      "predicting ensemble 6 : 100%|██████████| 581/581 [00:06<00:00, 92.08it/s] \n",
      "predicting ensemble 7 : 100%|██████████| 601/601 [00:06<00:00, 94.74it/s] \n"
     ]
    },
    {
     "name": "stdout",
     "output_type": "stream",
     "text": [
      "63 evergreen_broadleaf_forests_lpi 3\n"
     ]
    },
    {
     "name": "stderr",
     "output_type": "stream",
     "text": [
      "predicting ensemble 0 : 100%|██████████| 684/684 [00:07<00:00, 92.57it/s] \n",
      "predicting ensemble 1 : 100%|██████████| 666/666 [00:07<00:00, 93.54it/s] \n",
      "predicting ensemble 2 : 100%|██████████| 426/426 [00:04<00:00, 89.67it/s]\n",
      "predicting ensemble 3 : 100%|██████████| 403/403 [00:04<00:00, 90.77it/s] \n",
      "predicting ensemble 4 : 100%|██████████| 553/553 [00:05<00:00, 93.75it/s] \n",
      "predicting ensemble 5 : 100%|██████████| 580/580 [00:06<00:00, 92.67it/s]\n",
      "predicting ensemble 6 : 100%|██████████| 581/581 [00:06<00:00, 94.54it/s] \n",
      "predicting ensemble 7 : 100%|██████████| 601/601 [00:06<00:00, 94.84it/s] \n"
     ]
    },
    {
     "name": "stdout",
     "output_type": "stream",
     "text": [
      "63 evergreen_broadleaf_forests_lpi 4\n"
     ]
    },
    {
     "name": "stderr",
     "output_type": "stream",
     "text": [
      "predicting ensemble 0 : 100%|██████████| 684/684 [00:07<00:00, 93.60it/s] \n",
      "predicting ensemble 1 : 100%|██████████| 666/666 [00:07<00:00, 94.02it/s] \n",
      "predicting ensemble 2 : 100%|██████████| 426/426 [00:04<00:00, 86.60it/s]\n",
      "predicting ensemble 3 : 100%|██████████| 403/403 [00:04<00:00, 86.02it/s] \n",
      "predicting ensemble 4 : 100%|██████████| 553/553 [00:05<00:00, 92.87it/s] \n",
      "predicting ensemble 5 : 100%|██████████| 580/580 [00:06<00:00, 93.03it/s]\n",
      "predicting ensemble 6 : 100%|██████████| 581/581 [00:06<00:00, 95.20it/s] \n",
      "predicting ensemble 7 : 100%|██████████| 601/601 [00:06<00:00, 94.31it/s] \n"
     ]
    },
    {
     "name": "stdout",
     "output_type": "stream",
     "text": [
      "64 evergreen_broadleaf_forests_pd 0\n"
     ]
    },
    {
     "name": "stderr",
     "output_type": "stream",
     "text": [
      "predicting ensemble 0 : 100%|██████████| 684/684 [00:07<00:00, 92.97it/s] \n",
      "predicting ensemble 1 : 100%|██████████| 666/666 [00:07<00:00, 94.21it/s] \n",
      "predicting ensemble 2 : 100%|██████████| 426/426 [00:04<00:00, 90.05it/s]\n",
      "predicting ensemble 3 : 100%|██████████| 403/403 [00:04<00:00, 91.69it/s]\n",
      "predicting ensemble 4 : 100%|██████████| 553/553 [00:05<00:00, 93.32it/s] \n",
      "predicting ensemble 5 : 100%|██████████| 580/580 [00:06<00:00, 92.02it/s]\n",
      "predicting ensemble 6 : 100%|██████████| 581/581 [00:06<00:00, 92.00it/s] \n",
      "predicting ensemble 7 : 100%|██████████| 601/601 [00:06<00:00, 94.69it/s] \n"
     ]
    },
    {
     "name": "stdout",
     "output_type": "stream",
     "text": [
      "64 evergreen_broadleaf_forests_pd 1\n"
     ]
    },
    {
     "name": "stderr",
     "output_type": "stream",
     "text": [
      "predicting ensemble 0 : 100%|██████████| 684/684 [00:07<00:00, 93.89it/s] \n",
      "predicting ensemble 1 : 100%|██████████| 666/666 [00:07<00:00, 93.85it/s] \n",
      "predicting ensemble 2 : 100%|██████████| 426/426 [00:04<00:00, 88.31it/s]\n",
      "predicting ensemble 3 : 100%|██████████| 403/403 [00:04<00:00, 92.38it/s] \n",
      "predicting ensemble 4 : 100%|██████████| 553/553 [00:05<00:00, 93.78it/s] \n",
      "predicting ensemble 5 : 100%|██████████| 580/580 [00:06<00:00, 93.78it/s]\n",
      "predicting ensemble 6 : 100%|██████████| 581/581 [00:06<00:00, 94.94it/s] \n",
      "predicting ensemble 7 : 100%|██████████| 601/601 [00:06<00:00, 94.38it/s] \n"
     ]
    },
    {
     "name": "stdout",
     "output_type": "stream",
     "text": [
      "64 evergreen_broadleaf_forests_pd 2\n"
     ]
    },
    {
     "name": "stderr",
     "output_type": "stream",
     "text": [
      "predicting ensemble 0 : 100%|██████████| 684/684 [00:07<00:00, 93.83it/s] \n",
      "predicting ensemble 1 : 100%|██████████| 666/666 [00:07<00:00, 91.46it/s] \n",
      "predicting ensemble 2 : 100%|██████████| 426/426 [00:04<00:00, 88.89it/s]\n",
      "predicting ensemble 3 : 100%|██████████| 403/403 [00:04<00:00, 91.57it/s] \n",
      "predicting ensemble 4 : 100%|██████████| 553/553 [00:05<00:00, 92.64it/s] \n",
      "predicting ensemble 5 : 100%|██████████| 580/580 [00:06<00:00, 93.39it/s]\n",
      "predicting ensemble 6 : 100%|██████████| 581/581 [00:06<00:00, 95.23it/s] \n",
      "predicting ensemble 7 : 100%|██████████| 601/601 [00:06<00:00, 94.83it/s] \n"
     ]
    },
    {
     "name": "stdout",
     "output_type": "stream",
     "text": [
      "64 evergreen_broadleaf_forests_pd 3\n"
     ]
    },
    {
     "name": "stderr",
     "output_type": "stream",
     "text": [
      "predicting ensemble 0 : 100%|██████████| 684/684 [00:07<00:00, 92.42it/s] \n",
      "predicting ensemble 1 : 100%|██████████| 666/666 [00:07<00:00, 93.97it/s] \n",
      "predicting ensemble 2 : 100%|██████████| 426/426 [00:04<00:00, 90.31it/s]\n",
      "predicting ensemble 3 : 100%|██████████| 403/403 [00:04<00:00, 91.66it/s] \n",
      "predicting ensemble 4 : 100%|██████████| 553/553 [00:05<00:00, 94.79it/s] \n",
      "predicting ensemble 5 : 100%|██████████| 580/580 [00:06<00:00, 92.87it/s]\n",
      "predicting ensemble 6 : 100%|██████████| 581/581 [00:06<00:00, 90.52it/s] \n",
      "predicting ensemble 7 : 100%|██████████| 601/601 [00:06<00:00, 95.29it/s] \n"
     ]
    },
    {
     "name": "stdout",
     "output_type": "stream",
     "text": [
      "64 evergreen_broadleaf_forests_pd 4\n"
     ]
    },
    {
     "name": "stderr",
     "output_type": "stream",
     "text": [
      "predicting ensemble 0 : 100%|██████████| 684/684 [00:07<00:00, 93.69it/s] \n",
      "predicting ensemble 1 : 100%|██████████| 666/666 [00:07<00:00, 94.38it/s] \n",
      "predicting ensemble 2 : 100%|██████████| 426/426 [00:04<00:00, 88.85it/s]\n",
      "predicting ensemble 3 : 100%|██████████| 403/403 [00:04<00:00, 91.71it/s] \n",
      "predicting ensemble 4 : 100%|██████████| 553/553 [00:05<00:00, 94.43it/s] \n",
      "predicting ensemble 5 : 100%|██████████| 580/580 [00:06<00:00, 93.21it/s]\n",
      "predicting ensemble 6 : 100%|██████████| 581/581 [00:06<00:00, 95.82it/s] \n",
      "predicting ensemble 7 : 100%|██████████| 601/601 [00:06<00:00, 94.03it/s] \n"
     ]
    },
    {
     "name": "stdout",
     "output_type": "stream",
     "text": [
      "65 evergreen_needleleaf_forests 0\n"
     ]
    },
    {
     "name": "stderr",
     "output_type": "stream",
     "text": [
      "predicting ensemble 0 : 100%|██████████| 684/684 [00:07<00:00, 93.60it/s] \n",
      "predicting ensemble 1 : 100%|██████████| 666/666 [00:07<00:00, 94.94it/s] \n",
      "predicting ensemble 2 : 100%|██████████| 426/426 [00:04<00:00, 86.76it/s]\n",
      "predicting ensemble 3 : 100%|██████████| 403/403 [00:04<00:00, 91.68it/s] \n",
      "predicting ensemble 4 : 100%|██████████| 553/553 [00:05<00:00, 92.91it/s] \n",
      "predicting ensemble 5 : 100%|██████████| 580/580 [00:06<00:00, 93.58it/s] \n",
      "predicting ensemble 6 : 100%|██████████| 581/581 [00:06<00:00, 95.77it/s] \n",
      "predicting ensemble 7 : 100%|██████████| 601/601 [00:06<00:00, 94.85it/s] \n"
     ]
    },
    {
     "name": "stdout",
     "output_type": "stream",
     "text": [
      "65 evergreen_needleleaf_forests 1\n"
     ]
    },
    {
     "name": "stderr",
     "output_type": "stream",
     "text": [
      "predicting ensemble 0 : 100%|██████████| 684/684 [00:07<00:00, 93.74it/s] \n",
      "predicting ensemble 1 : 100%|██████████| 666/666 [00:07<00:00, 94.23it/s] \n",
      "predicting ensemble 2 : 100%|██████████| 426/426 [00:04<00:00, 88.51it/s]\n",
      "predicting ensemble 3 : 100%|██████████| 403/403 [00:04<00:00, 92.30it/s] \n",
      "predicting ensemble 4 : 100%|██████████| 553/553 [00:05<00:00, 94.38it/s] \n",
      "predicting ensemble 5 : 100%|██████████| 580/580 [00:06<00:00, 93.45it/s] \n",
      "predicting ensemble 6 : 100%|██████████| 581/581 [00:06<00:00, 92.16it/s] \n",
      "predicting ensemble 7 : 100%|██████████| 601/601 [00:06<00:00, 95.05it/s] \n"
     ]
    },
    {
     "name": "stdout",
     "output_type": "stream",
     "text": [
      "65 evergreen_needleleaf_forests 2\n"
     ]
    },
    {
     "name": "stderr",
     "output_type": "stream",
     "text": [
      "predicting ensemble 0 : 100%|██████████| 684/684 [00:07<00:00, 94.06it/s] \n",
      "predicting ensemble 1 : 100%|██████████| 666/666 [00:07<00:00, 94.75it/s] \n",
      "predicting ensemble 2 : 100%|██████████| 426/426 [00:04<00:00, 90.61it/s]\n",
      "predicting ensemble 3 : 100%|██████████| 403/403 [00:04<00:00, 90.79it/s] \n",
      "predicting ensemble 4 : 100%|██████████| 553/553 [00:05<00:00, 93.90it/s] \n",
      "predicting ensemble 5 : 100%|██████████| 580/580 [00:06<00:00, 93.49it/s]\n",
      "predicting ensemble 6 : 100%|██████████| 581/581 [00:06<00:00, 94.90it/s] \n",
      "predicting ensemble 7 : 100%|██████████| 601/601 [00:06<00:00, 94.31it/s] \n"
     ]
    },
    {
     "name": "stdout",
     "output_type": "stream",
     "text": [
      "65 evergreen_needleleaf_forests 3\n"
     ]
    },
    {
     "name": "stderr",
     "output_type": "stream",
     "text": [
      "predicting ensemble 0 : 100%|██████████| 684/684 [00:07<00:00, 93.20it/s] \n",
      "predicting ensemble 1 : 100%|██████████| 666/666 [00:07<00:00, 91.02it/s] \n",
      "predicting ensemble 2 : 100%|██████████| 426/426 [00:04<00:00, 89.82it/s]\n",
      "predicting ensemble 3 : 100%|██████████| 403/403 [00:04<00:00, 91.35it/s] \n",
      "predicting ensemble 4 : 100%|██████████| 553/553 [00:05<00:00, 94.29it/s] \n",
      "predicting ensemble 5 : 100%|██████████| 580/580 [00:06<00:00, 91.98it/s]\n",
      "predicting ensemble 6 : 100%|██████████| 581/581 [00:06<00:00, 95.48it/s] \n",
      "predicting ensemble 7 : 100%|██████████| 601/601 [00:06<00:00, 95.13it/s] \n"
     ]
    },
    {
     "name": "stdout",
     "output_type": "stream",
     "text": [
      "65 evergreen_needleleaf_forests 4\n"
     ]
    },
    {
     "name": "stderr",
     "output_type": "stream",
     "text": [
      "predicting ensemble 0 : 100%|██████████| 684/684 [00:07<00:00, 93.84it/s] \n",
      "predicting ensemble 1 : 100%|██████████| 666/666 [00:07<00:00, 93.07it/s] \n",
      "predicting ensemble 2 : 100%|██████████| 426/426 [00:04<00:00, 91.17it/s]\n",
      "predicting ensemble 3 : 100%|██████████| 403/403 [00:04<00:00, 91.71it/s] \n",
      "predicting ensemble 4 : 100%|██████████| 553/553 [00:07<00:00, 78.04it/s] \n",
      "predicting ensemble 5 : 100%|██████████| 580/580 [00:07<00:00, 78.68it/s]\n",
      "predicting ensemble 6 : 100%|██████████| 581/581 [00:07<00:00, 76.24it/s]\n",
      "predicting ensemble 7 : 100%|██████████| 601/601 [00:08<00:00, 68.96it/s]\n"
     ]
    },
    {
     "name": "stdout",
     "output_type": "stream",
     "text": [
      "66 evergreen_needleleaf_forests_ed 0\n"
     ]
    },
    {
     "name": "stderr",
     "output_type": "stream",
     "text": [
      "predicting ensemble 0 : 100%|██████████| 684/684 [00:07<00:00, 87.91it/s]\n",
      "predicting ensemble 1 : 100%|██████████| 666/666 [00:07<00:00, 92.79it/s] \n",
      "predicting ensemble 2 : 100%|██████████| 426/426 [00:04<00:00, 88.46it/s]\n",
      "predicting ensemble 3 : 100%|██████████| 403/403 [00:04<00:00, 91.21it/s] \n",
      "predicting ensemble 4 : 100%|██████████| 553/553 [00:05<00:00, 93.39it/s] \n",
      "predicting ensemble 5 : 100%|██████████| 580/580 [00:06<00:00, 92.34it/s] \n",
      "predicting ensemble 6 : 100%|██████████| 581/581 [00:06<00:00, 94.42it/s] \n",
      "predicting ensemble 7 : 100%|██████████| 601/601 [00:06<00:00, 93.48it/s] \n"
     ]
    },
    {
     "name": "stdout",
     "output_type": "stream",
     "text": [
      "66 evergreen_needleleaf_forests_ed 1\n"
     ]
    },
    {
     "name": "stderr",
     "output_type": "stream",
     "text": [
      "predicting ensemble 0 : 100%|██████████| 684/684 [00:07<00:00, 93.53it/s] \n",
      "predicting ensemble 1 : 100%|██████████| 666/666 [00:07<00:00, 91.73it/s] \n",
      "predicting ensemble 2 : 100%|██████████| 426/426 [00:04<00:00, 89.93it/s]\n",
      "predicting ensemble 3 : 100%|██████████| 403/403 [00:04<00:00, 92.07it/s] \n",
      "predicting ensemble 4 : 100%|██████████| 553/553 [00:05<00:00, 92.43it/s] \n",
      "predicting ensemble 5 : 100%|██████████| 580/580 [00:06<00:00, 92.82it/s] \n",
      "predicting ensemble 6 : 100%|██████████| 581/581 [00:06<00:00, 95.01it/s] \n",
      "predicting ensemble 7 : 100%|██████████| 601/601 [00:06<00:00, 94.46it/s] \n"
     ]
    },
    {
     "name": "stdout",
     "output_type": "stream",
     "text": [
      "66 evergreen_needleleaf_forests_ed 2\n"
     ]
    },
    {
     "name": "stderr",
     "output_type": "stream",
     "text": [
      "predicting ensemble 0 : 100%|██████████| 684/684 [00:07<00:00, 93.79it/s] \n",
      "predicting ensemble 1 : 100%|██████████| 666/666 [00:07<00:00, 92.79it/s] \n",
      "predicting ensemble 2 : 100%|██████████| 426/426 [00:04<00:00, 90.28it/s]\n",
      "predicting ensemble 3 : 100%|██████████| 403/403 [00:04<00:00, 91.91it/s] \n",
      "predicting ensemble 4 : 100%|██████████| 553/553 [00:05<00:00, 94.10it/s] \n",
      "predicting ensemble 5 : 100%|██████████| 580/580 [00:06<00:00, 90.52it/s]\n",
      "predicting ensemble 6 : 100%|██████████| 581/581 [00:06<00:00, 94.28it/s] \n",
      "predicting ensemble 7 : 100%|██████████| 601/601 [00:06<00:00, 94.60it/s] \n"
     ]
    },
    {
     "name": "stdout",
     "output_type": "stream",
     "text": [
      "66 evergreen_needleleaf_forests_ed 3\n"
     ]
    },
    {
     "name": "stderr",
     "output_type": "stream",
     "text": [
      "predicting ensemble 0 : 100%|██████████| 684/684 [00:07<00:00, 93.33it/s] \n",
      "predicting ensemble 1 : 100%|██████████| 666/666 [00:07<00:00, 93.95it/s] \n",
      "predicting ensemble 2 : 100%|██████████| 426/426 [00:04<00:00, 89.20it/s]\n",
      "predicting ensemble 3 : 100%|██████████| 403/403 [00:04<00:00, 90.79it/s] \n",
      "predicting ensemble 4 : 100%|██████████| 553/553 [00:05<00:00, 93.25it/s] \n",
      "predicting ensemble 5 : 100%|██████████| 580/580 [00:06<00:00, 92.07it/s]\n",
      "predicting ensemble 6 : 100%|██████████| 581/581 [00:06<00:00, 94.88it/s] \n",
      "predicting ensemble 7 : 100%|██████████| 601/601 [00:06<00:00, 92.16it/s] \n"
     ]
    },
    {
     "name": "stdout",
     "output_type": "stream",
     "text": [
      "66 evergreen_needleleaf_forests_ed 4\n"
     ]
    },
    {
     "name": "stderr",
     "output_type": "stream",
     "text": [
      "predicting ensemble 0 : 100%|██████████| 684/684 [00:07<00:00, 93.99it/s] \n",
      "predicting ensemble 1 : 100%|██████████| 666/666 [00:07<00:00, 91.00it/s] \n",
      "predicting ensemble 2 : 100%|██████████| 426/426 [00:04<00:00, 89.22it/s]\n",
      "predicting ensemble 3 : 100%|██████████| 403/403 [00:04<00:00, 92.27it/s] \n",
      "predicting ensemble 4 : 100%|██████████| 553/553 [00:05<00:00, 92.39it/s] \n",
      "predicting ensemble 5 : 100%|██████████| 580/580 [00:06<00:00, 90.62it/s]\n",
      "predicting ensemble 6 : 100%|██████████| 581/581 [00:06<00:00, 95.02it/s] \n",
      "predicting ensemble 7 : 100%|██████████| 601/601 [00:06<00:00, 94.84it/s] \n"
     ]
    },
    {
     "name": "stdout",
     "output_type": "stream",
     "text": [
      "67 evergreen_needleleaf_forests_lpi 0\n"
     ]
    },
    {
     "name": "stderr",
     "output_type": "stream",
     "text": [
      "predicting ensemble 0 : 100%|██████████| 684/684 [00:07<00:00, 93.71it/s] \n",
      "predicting ensemble 1 : 100%|██████████| 666/666 [00:07<00:00, 93.86it/s] \n",
      "predicting ensemble 2 : 100%|██████████| 426/426 [00:04<00:00, 88.72it/s]\n",
      "predicting ensemble 3 : 100%|██████████| 403/403 [00:04<00:00, 91.72it/s] \n",
      "predicting ensemble 4 : 100%|██████████| 553/553 [00:05<00:00, 92.20it/s] \n",
      "predicting ensemble 5 : 100%|██████████| 580/580 [00:06<00:00, 91.47it/s] \n",
      "predicting ensemble 6 : 100%|██████████| 581/581 [00:06<00:00, 93.43it/s] \n",
      "predicting ensemble 7 : 100%|██████████| 601/601 [00:06<00:00, 92.15it/s] \n"
     ]
    },
    {
     "name": "stdout",
     "output_type": "stream",
     "text": [
      "67 evergreen_needleleaf_forests_lpi 1\n"
     ]
    },
    {
     "name": "stderr",
     "output_type": "stream",
     "text": [
      "predicting ensemble 0 : 100%|██████████| 684/684 [00:07<00:00, 93.48it/s] \n",
      "predicting ensemble 1 : 100%|██████████| 666/666 [00:07<00:00, 94.19it/s] \n",
      "predicting ensemble 2 : 100%|██████████| 426/426 [00:04<00:00, 88.27it/s]\n",
      "predicting ensemble 3 : 100%|██████████| 403/403 [00:04<00:00, 90.25it/s] \n",
      "predicting ensemble 4 : 100%|██████████| 553/553 [00:05<00:00, 92.55it/s] \n",
      "predicting ensemble 5 : 100%|██████████| 580/580 [00:06<00:00, 93.39it/s] \n",
      "predicting ensemble 6 : 100%|██████████| 581/581 [00:06<00:00, 94.60it/s] \n",
      "predicting ensemble 7 : 100%|██████████| 601/601 [00:06<00:00, 94.93it/s] \n"
     ]
    },
    {
     "name": "stdout",
     "output_type": "stream",
     "text": [
      "67 evergreen_needleleaf_forests_lpi 2\n"
     ]
    },
    {
     "name": "stderr",
     "output_type": "stream",
     "text": [
      "predicting ensemble 0 : 100%|██████████| 684/684 [00:07<00:00, 92.85it/s] \n",
      "predicting ensemble 1 : 100%|██████████| 666/666 [00:07<00:00, 94.08it/s] \n",
      "predicting ensemble 2 : 100%|██████████| 426/426 [00:04<00:00, 89.66it/s]\n",
      "predicting ensemble 3 : 100%|██████████| 403/403 [00:04<00:00, 91.91it/s] \n",
      "predicting ensemble 4 : 100%|██████████| 553/553 [00:06<00:00, 92.07it/s] \n",
      "predicting ensemble 5 : 100%|██████████| 580/580 [00:06<00:00, 92.12it/s] \n",
      "predicting ensemble 6 : 100%|██████████| 581/581 [00:06<00:00, 94.79it/s] \n",
      "predicting ensemble 7 : 100%|██████████| 601/601 [00:06<00:00, 95.13it/s] \n"
     ]
    },
    {
     "name": "stdout",
     "output_type": "stream",
     "text": [
      "67 evergreen_needleleaf_forests_lpi 3\n"
     ]
    },
    {
     "name": "stderr",
     "output_type": "stream",
     "text": [
      "predicting ensemble 0 : 100%|██████████| 684/684 [00:07<00:00, 93.91it/s] \n",
      "predicting ensemble 1 : 100%|██████████| 666/666 [00:07<00:00, 93.59it/s] \n",
      "predicting ensemble 2 : 100%|██████████| 426/426 [00:04<00:00, 90.20it/s]\n",
      "predicting ensemble 3 : 100%|██████████| 403/403 [00:04<00:00, 91.89it/s] \n",
      "predicting ensemble 4 : 100%|██████████| 553/553 [00:05<00:00, 93.90it/s] \n",
      "predicting ensemble 5 : 100%|██████████| 580/580 [00:06<00:00, 90.99it/s]\n",
      "predicting ensemble 6 : 100%|██████████| 581/581 [00:06<00:00, 95.39it/s] \n",
      "predicting ensemble 7 : 100%|██████████| 601/601 [00:06<00:00, 92.86it/s]\n"
     ]
    },
    {
     "name": "stdout",
     "output_type": "stream",
     "text": [
      "67 evergreen_needleleaf_forests_lpi 4\n"
     ]
    },
    {
     "name": "stderr",
     "output_type": "stream",
     "text": [
      "predicting ensemble 0 : 100%|██████████| 684/684 [00:07<00:00, 93.24it/s] \n",
      "predicting ensemble 1 : 100%|██████████| 666/666 [00:07<00:00, 94.51it/s] \n",
      "predicting ensemble 2 : 100%|██████████| 426/426 [00:04<00:00, 88.19it/s]\n",
      "predicting ensemble 3 : 100%|██████████| 403/403 [00:04<00:00, 91.94it/s] \n",
      "predicting ensemble 4 : 100%|██████████| 553/553 [00:05<00:00, 92.90it/s] \n",
      "predicting ensemble 5 : 100%|██████████| 580/580 [00:06<00:00, 93.55it/s] \n",
      "predicting ensemble 6 : 100%|██████████| 581/581 [00:06<00:00, 92.31it/s] \n",
      "predicting ensemble 7 : 100%|██████████| 601/601 [00:06<00:00, 94.93it/s] \n"
     ]
    },
    {
     "name": "stdout",
     "output_type": "stream",
     "text": [
      "68 evergreen_needleleaf_forests_pd 0\n"
     ]
    },
    {
     "name": "stderr",
     "output_type": "stream",
     "text": [
      "predicting ensemble 0 : 100%|██████████| 684/684 [00:07<00:00, 89.99it/s] \n",
      "predicting ensemble 1 : 100%|██████████| 666/666 [00:07<00:00, 94.39it/s] \n",
      "predicting ensemble 2 : 100%|██████████| 426/426 [00:04<00:00, 90.40it/s]\n",
      "predicting ensemble 3 : 100%|██████████| 403/403 [00:04<00:00, 91.46it/s] \n",
      "predicting ensemble 4 : 100%|██████████| 553/553 [00:06<00:00, 92.12it/s] \n",
      "predicting ensemble 5 : 100%|██████████| 580/580 [00:07<00:00, 80.77it/s]\n",
      "predicting ensemble 6 : 100%|██████████| 581/581 [00:06<00:00, 83.20it/s]\n",
      "predicting ensemble 7 : 100%|██████████| 601/601 [00:06<00:00, 92.12it/s]\n"
     ]
    },
    {
     "name": "stdout",
     "output_type": "stream",
     "text": [
      "68 evergreen_needleleaf_forests_pd 1\n"
     ]
    },
    {
     "name": "stderr",
     "output_type": "stream",
     "text": [
      "predicting ensemble 0 : 100%|██████████| 684/684 [00:07<00:00, 90.80it/s] \n",
      "predicting ensemble 1 : 100%|██████████| 666/666 [00:07<00:00, 92.17it/s] \n",
      "predicting ensemble 2 : 100%|██████████| 426/426 [00:04<00:00, 87.35it/s]\n",
      "predicting ensemble 3 : 100%|██████████| 403/403 [00:04<00:00, 92.19it/s] \n",
      "predicting ensemble 4 : 100%|██████████| 553/553 [00:05<00:00, 92.46it/s] \n",
      "predicting ensemble 5 : 100%|██████████| 580/580 [00:06<00:00, 92.81it/s] \n",
      "predicting ensemble 6 : 100%|██████████| 581/581 [00:06<00:00, 94.33it/s] \n",
      "predicting ensemble 7 : 100%|██████████| 601/601 [00:06<00:00, 93.90it/s] \n"
     ]
    },
    {
     "name": "stdout",
     "output_type": "stream",
     "text": [
      "68 evergreen_needleleaf_forests_pd 2\n"
     ]
    },
    {
     "name": "stderr",
     "output_type": "stream",
     "text": [
      "predicting ensemble 0 : 100%|██████████| 684/684 [00:07<00:00, 92.40it/s] \n",
      "predicting ensemble 1 : 100%|██████████| 666/666 [00:07<00:00, 94.69it/s] \n",
      "predicting ensemble 2 : 100%|██████████| 426/426 [00:04<00:00, 88.86it/s]\n",
      "predicting ensemble 3 : 100%|██████████| 403/403 [00:04<00:00, 91.79it/s] \n",
      "predicting ensemble 4 : 100%|██████████| 553/553 [00:05<00:00, 92.33it/s] \n",
      "predicting ensemble 5 : 100%|██████████| 580/580 [00:06<00:00, 92.92it/s] \n",
      "predicting ensemble 6 : 100%|██████████| 581/581 [00:06<00:00, 94.13it/s] \n",
      "predicting ensemble 7 : 100%|██████████| 601/601 [00:06<00:00, 93.27it/s] \n"
     ]
    },
    {
     "name": "stdout",
     "output_type": "stream",
     "text": [
      "68 evergreen_needleleaf_forests_pd 3\n"
     ]
    },
    {
     "name": "stderr",
     "output_type": "stream",
     "text": [
      "predicting ensemble 0 : 100%|██████████| 684/684 [00:07<00:00, 90.75it/s] \n",
      "predicting ensemble 1 : 100%|██████████| 666/666 [00:07<00:00, 93.99it/s] \n",
      "predicting ensemble 2 : 100%|██████████| 426/426 [00:04<00:00, 86.73it/s]\n",
      "predicting ensemble 3 : 100%|██████████| 403/403 [00:04<00:00, 91.97it/s] \n",
      "predicting ensemble 4 : 100%|██████████| 553/553 [00:05<00:00, 92.78it/s] \n",
      "predicting ensemble 5 : 100%|██████████| 580/580 [00:06<00:00, 92.36it/s]\n",
      "predicting ensemble 6 : 100%|██████████| 581/581 [00:06<00:00, 94.12it/s] \n",
      "predicting ensemble 7 : 100%|██████████| 601/601 [00:06<00:00, 94.78it/s] \n"
     ]
    },
    {
     "name": "stdout",
     "output_type": "stream",
     "text": [
      "68 evergreen_needleleaf_forests_pd 4\n"
     ]
    },
    {
     "name": "stderr",
     "output_type": "stream",
     "text": [
      "predicting ensemble 0 : 100%|██████████| 684/684 [00:07<00:00, 93.04it/s] \n",
      "predicting ensemble 1 : 100%|██████████| 666/666 [00:07<00:00, 93.19it/s] \n",
      "predicting ensemble 2 : 100%|██████████| 426/426 [00:04<00:00, 89.44it/s]\n",
      "predicting ensemble 3 : 100%|██████████| 403/403 [00:04<00:00, 92.26it/s] \n",
      "predicting ensemble 4 : 100%|██████████| 553/553 [00:06<00:00, 90.42it/s] \n",
      "predicting ensemble 5 : 100%|██████████| 580/580 [00:06<00:00, 92.66it/s]\n",
      "predicting ensemble 6 : 100%|██████████| 581/581 [00:06<00:00, 94.48it/s] \n",
      "predicting ensemble 7 : 100%|██████████| 601/601 [00:06<00:00, 94.07it/s] \n"
     ]
    },
    {
     "name": "stdout",
     "output_type": "stream",
     "text": [
      "69 grasslands 0\n"
     ]
    },
    {
     "name": "stderr",
     "output_type": "stream",
     "text": [
      "predicting ensemble 0 : 100%|██████████| 684/684 [00:07<00:00, 93.11it/s] \n",
      "predicting ensemble 1 : 100%|██████████| 666/666 [00:07<00:00, 94.17it/s] \n",
      "predicting ensemble 2 : 100%|██████████| 426/426 [00:04<00:00, 89.98it/s]\n",
      "predicting ensemble 3 : 100%|██████████| 403/403 [00:04<00:00, 90.93it/s] \n",
      "predicting ensemble 4 : 100%|██████████| 553/553 [00:05<00:00, 92.58it/s] \n",
      "predicting ensemble 5 : 100%|██████████| 580/580 [00:06<00:00, 93.00it/s]\n",
      "predicting ensemble 6 : 100%|██████████| 581/581 [00:06<00:00, 94.61it/s] \n",
      "predicting ensemble 7 : 100%|██████████| 601/601 [00:06<00:00, 94.52it/s] \n"
     ]
    },
    {
     "name": "stdout",
     "output_type": "stream",
     "text": [
      "69 grasslands 1\n"
     ]
    },
    {
     "name": "stderr",
     "output_type": "stream",
     "text": [
      "predicting ensemble 0 : 100%|██████████| 684/684 [00:07<00:00, 89.45it/s] \n",
      "predicting ensemble 1 : 100%|██████████| 666/666 [00:07<00:00, 93.71it/s] \n",
      "predicting ensemble 2 : 100%|██████████| 426/426 [00:04<00:00, 90.44it/s]\n",
      "predicting ensemble 3 : 100%|██████████| 403/403 [00:04<00:00, 92.26it/s] \n",
      "predicting ensemble 4 : 100%|██████████| 553/553 [00:05<00:00, 94.00it/s] \n",
      "predicting ensemble 5 : 100%|██████████| 580/580 [00:06<00:00, 92.05it/s]\n",
      "predicting ensemble 6 : 100%|██████████| 581/581 [00:06<00:00, 91.71it/s] \n",
      "predicting ensemble 7 : 100%|██████████| 601/601 [00:06<00:00, 93.43it/s] \n"
     ]
    },
    {
     "name": "stdout",
     "output_type": "stream",
     "text": [
      "69 grasslands 2\n"
     ]
    },
    {
     "name": "stderr",
     "output_type": "stream",
     "text": [
      "predicting ensemble 0 : 100%|██████████| 684/684 [00:07<00:00, 93.15it/s] \n",
      "predicting ensemble 1 : 100%|██████████| 666/666 [00:07<00:00, 94.28it/s] \n",
      "predicting ensemble 2 : 100%|██████████| 426/426 [00:04<00:00, 88.44it/s]\n",
      "predicting ensemble 3 : 100%|██████████| 403/403 [00:04<00:00, 87.39it/s] \n",
      "predicting ensemble 4 : 100%|██████████| 553/553 [00:05<00:00, 93.59it/s] \n",
      "predicting ensemble 5 : 100%|██████████| 580/580 [00:06<00:00, 93.04it/s] \n",
      "predicting ensemble 6 : 100%|██████████| 581/581 [00:06<00:00, 95.01it/s] \n",
      "predicting ensemble 7 : 100%|██████████| 601/601 [00:06<00:00, 93.55it/s] \n"
     ]
    },
    {
     "name": "stdout",
     "output_type": "stream",
     "text": [
      "69 grasslands 3\n"
     ]
    },
    {
     "name": "stderr",
     "output_type": "stream",
     "text": [
      "predicting ensemble 0 : 100%|██████████| 684/684 [00:07<00:00, 93.71it/s] \n",
      "predicting ensemble 1 : 100%|██████████| 666/666 [00:07<00:00, 93.95it/s] \n",
      "predicting ensemble 2 : 100%|██████████| 426/426 [00:04<00:00, 89.87it/s]\n",
      "predicting ensemble 3 : 100%|██████████| 403/403 [00:04<00:00, 91.12it/s] \n",
      "predicting ensemble 4 : 100%|██████████| 553/553 [00:05<00:00, 93.02it/s] \n",
      "predicting ensemble 5 : 100%|██████████| 580/580 [00:06<00:00, 93.35it/s] \n",
      "predicting ensemble 6 : 100%|██████████| 581/581 [00:06<00:00, 94.80it/s] \n",
      "predicting ensemble 7 : 100%|██████████| 601/601 [00:06<00:00, 91.35it/s] \n"
     ]
    },
    {
     "name": "stdout",
     "output_type": "stream",
     "text": [
      "69 grasslands 4\n"
     ]
    },
    {
     "name": "stderr",
     "output_type": "stream",
     "text": [
      "predicting ensemble 0 : 100%|██████████| 684/684 [00:07<00:00, 92.64it/s] \n",
      "predicting ensemble 1 : 100%|██████████| 666/666 [00:07<00:00, 93.44it/s] \n",
      "predicting ensemble 2 : 100%|██████████| 426/426 [00:04<00:00, 90.44it/s]\n",
      "predicting ensemble 3 : 100%|██████████| 403/403 [00:04<00:00, 91.61it/s] \n",
      "predicting ensemble 4 : 100%|██████████| 553/553 [00:05<00:00, 93.47it/s] \n",
      "predicting ensemble 5 : 100%|██████████| 580/580 [00:06<00:00, 93.38it/s] \n",
      "predicting ensemble 6 : 100%|██████████| 581/581 [00:06<00:00, 93.69it/s] \n",
      "predicting ensemble 7 : 100%|██████████| 601/601 [00:06<00:00, 95.14it/s] \n"
     ]
    },
    {
     "name": "stdout",
     "output_type": "stream",
     "text": [
      "70 grasslands_ed 0\n"
     ]
    },
    {
     "name": "stderr",
     "output_type": "stream",
     "text": [
      "predicting ensemble 0 : 100%|██████████| 684/684 [00:07<00:00, 92.66it/s]\n",
      "predicting ensemble 1 : 100%|██████████| 666/666 [00:07<00:00, 94.51it/s] \n",
      "predicting ensemble 2 : 100%|██████████| 426/426 [00:04<00:00, 89.04it/s]\n",
      "predicting ensemble 3 : 100%|██████████| 403/403 [00:04<00:00, 87.68it/s] \n",
      "predicting ensemble 4 : 100%|██████████| 553/553 [00:05<00:00, 93.22it/s] \n",
      "predicting ensemble 5 : 100%|██████████| 580/580 [00:06<00:00, 92.91it/s] \n",
      "predicting ensemble 6 : 100%|██████████| 581/581 [00:06<00:00, 94.57it/s] \n",
      "predicting ensemble 7 : 100%|██████████| 601/601 [00:06<00:00, 94.41it/s] \n"
     ]
    },
    {
     "name": "stdout",
     "output_type": "stream",
     "text": [
      "70 grasslands_ed 1\n"
     ]
    },
    {
     "name": "stderr",
     "output_type": "stream",
     "text": [
      "predicting ensemble 0 : 100%|██████████| 684/684 [00:07<00:00, 92.57it/s] \n",
      "predicting ensemble 1 : 100%|██████████| 666/666 [00:07<00:00, 94.38it/s] \n",
      "predicting ensemble 2 : 100%|██████████| 426/426 [00:04<00:00, 89.76it/s]\n",
      "predicting ensemble 3 : 100%|██████████| 403/403 [00:04<00:00, 92.37it/s] \n",
      "predicting ensemble 4 : 100%|██████████| 553/553 [00:05<00:00, 93.65it/s] \n",
      "predicting ensemble 5 : 100%|██████████| 580/580 [00:06<00:00, 93.78it/s] \n",
      "predicting ensemble 6 : 100%|██████████| 581/581 [00:06<00:00, 94.68it/s] \n",
      "predicting ensemble 7 : 100%|██████████| 601/601 [00:06<00:00, 94.55it/s] \n"
     ]
    },
    {
     "name": "stdout",
     "output_type": "stream",
     "text": [
      "70 grasslands_ed 2\n"
     ]
    },
    {
     "name": "stderr",
     "output_type": "stream",
     "text": [
      "predicting ensemble 0 : 100%|██████████| 684/684 [00:07<00:00, 92.35it/s] \n",
      "predicting ensemble 1 : 100%|██████████| 666/666 [00:07<00:00, 93.34it/s] \n",
      "predicting ensemble 2 : 100%|██████████| 426/426 [00:04<00:00, 89.15it/s]\n",
      "predicting ensemble 3 : 100%|██████████| 403/403 [00:04<00:00, 91.83it/s] \n",
      "predicting ensemble 4 : 100%|██████████| 553/553 [00:05<00:00, 93.04it/s] \n",
      "predicting ensemble 5 : 100%|██████████| 580/580 [00:06<00:00, 93.44it/s] \n",
      "predicting ensemble 6 : 100%|██████████| 581/581 [00:06<00:00, 92.71it/s] \n",
      "predicting ensemble 7 : 100%|██████████| 601/601 [00:06<00:00, 94.82it/s] \n"
     ]
    },
    {
     "name": "stdout",
     "output_type": "stream",
     "text": [
      "70 grasslands_ed 3\n"
     ]
    },
    {
     "name": "stderr",
     "output_type": "stream",
     "text": [
      "predicting ensemble 0 : 100%|██████████| 684/684 [00:07<00:00, 93.76it/s] \n",
      "predicting ensemble 1 : 100%|██████████| 666/666 [00:07<00:00, 94.74it/s] \n",
      "predicting ensemble 2 : 100%|██████████| 426/426 [00:04<00:00, 89.06it/s]\n",
      "predicting ensemble 3 : 100%|██████████| 403/403 [00:04<00:00, 92.12it/s] \n",
      "predicting ensemble 4 : 100%|██████████| 553/553 [00:05<00:00, 93.62it/s] \n",
      "predicting ensemble 5 : 100%|██████████| 580/580 [00:06<00:00, 93.11it/s] \n",
      "predicting ensemble 6 : 100%|██████████| 581/581 [00:06<00:00, 94.95it/s] \n",
      "predicting ensemble 7 : 100%|██████████| 601/601 [00:06<00:00, 95.07it/s] \n"
     ]
    },
    {
     "name": "stdout",
     "output_type": "stream",
     "text": [
      "70 grasslands_ed 4\n"
     ]
    },
    {
     "name": "stderr",
     "output_type": "stream",
     "text": [
      "predicting ensemble 0 : 100%|██████████| 684/684 [00:07<00:00, 92.41it/s] \n",
      "predicting ensemble 1 : 100%|██████████| 666/666 [00:07<00:00, 94.61it/s] \n",
      "predicting ensemble 2 : 100%|██████████| 426/426 [00:04<00:00, 89.56it/s]\n",
      "predicting ensemble 3 : 100%|██████████| 403/403 [00:04<00:00, 92.85it/s] \n",
      "predicting ensemble 4 : 100%|██████████| 553/553 [00:05<00:00, 94.11it/s] \n",
      "predicting ensemble 5 : 100%|██████████| 580/580 [00:06<00:00, 92.89it/s]\n",
      "predicting ensemble 6 : 100%|██████████| 581/581 [00:06<00:00, 94.79it/s] \n",
      "predicting ensemble 7 : 100%|██████████| 601/601 [00:06<00:00, 92.57it/s] \n"
     ]
    },
    {
     "name": "stdout",
     "output_type": "stream",
     "text": [
      "71 grasslands_lpi 0\n"
     ]
    },
    {
     "name": "stderr",
     "output_type": "stream",
     "text": [
      "predicting ensemble 0 : 100%|██████████| 684/684 [00:07<00:00, 93.32it/s] \n",
      "predicting ensemble 1 : 100%|██████████| 666/666 [00:07<00:00, 93.60it/s] \n",
      "predicting ensemble 2 : 100%|██████████| 426/426 [00:04<00:00, 90.51it/s]\n",
      "predicting ensemble 3 : 100%|██████████| 403/403 [00:04<00:00, 92.29it/s] \n",
      "predicting ensemble 4 : 100%|██████████| 553/553 [00:05<00:00, 94.15it/s] \n",
      "predicting ensemble 5 : 100%|██████████| 580/580 [00:06<00:00, 94.09it/s] \n",
      "predicting ensemble 6 : 100%|██████████| 581/581 [00:06<00:00, 94.30it/s] \n",
      "predicting ensemble 7 : 100%|██████████| 601/601 [00:06<00:00, 94.22it/s] \n"
     ]
    },
    {
     "name": "stdout",
     "output_type": "stream",
     "text": [
      "71 grasslands_lpi 1\n"
     ]
    },
    {
     "name": "stderr",
     "output_type": "stream",
     "text": [
      "predicting ensemble 0 : 100%|██████████| 684/684 [00:07<00:00, 92.92it/s] \n",
      "predicting ensemble 1 : 100%|██████████| 666/666 [00:07<00:00, 94.37it/s] \n",
      "predicting ensemble 2 : 100%|██████████| 426/426 [00:04<00:00, 90.92it/s]\n",
      "predicting ensemble 3 : 100%|██████████| 403/403 [00:04<00:00, 87.31it/s]\n",
      "predicting ensemble 4 : 100%|██████████| 553/553 [00:05<00:00, 92.72it/s] \n",
      "predicting ensemble 5 : 100%|██████████| 580/580 [00:06<00:00, 93.30it/s]\n",
      "predicting ensemble 6 : 100%|██████████| 581/581 [00:06<00:00, 95.35it/s] \n",
      "predicting ensemble 7 : 100%|██████████| 601/601 [00:06<00:00, 94.12it/s] \n"
     ]
    },
    {
     "name": "stdout",
     "output_type": "stream",
     "text": [
      "71 grasslands_lpi 2\n"
     ]
    },
    {
     "name": "stderr",
     "output_type": "stream",
     "text": [
      "predicting ensemble 0 : 100%|██████████| 684/684 [00:07<00:00, 92.87it/s] \n",
      "predicting ensemble 1 : 100%|██████████| 666/666 [00:07<00:00, 94.53it/s] \n",
      "predicting ensemble 2 : 100%|██████████| 426/426 [00:04<00:00, 89.72it/s]\n",
      "predicting ensemble 3 : 100%|██████████| 403/403 [00:04<00:00, 91.99it/s] \n",
      "predicting ensemble 4 : 100%|██████████| 553/553 [00:05<00:00, 93.74it/s] \n",
      "predicting ensemble 5 : 100%|██████████| 580/580 [00:06<00:00, 92.42it/s] \n",
      "predicting ensemble 6 : 100%|██████████| 581/581 [00:06<00:00, 95.31it/s] \n",
      "predicting ensemble 7 : 100%|██████████| 601/601 [00:06<00:00, 94.99it/s] \n"
     ]
    },
    {
     "name": "stdout",
     "output_type": "stream",
     "text": [
      "71 grasslands_lpi 3\n"
     ]
    },
    {
     "name": "stderr",
     "output_type": "stream",
     "text": [
      "predicting ensemble 0 : 100%|██████████| 684/684 [00:07<00:00, 93.55it/s] \n",
      "predicting ensemble 1 : 100%|██████████| 666/666 [00:07<00:00, 94.94it/s] \n",
      "predicting ensemble 2 : 100%|██████████| 426/426 [00:04<00:00, 88.65it/s]\n",
      "predicting ensemble 3 : 100%|██████████| 403/403 [00:04<00:00, 92.03it/s] \n",
      "predicting ensemble 4 : 100%|██████████| 553/553 [00:05<00:00, 93.75it/s] \n",
      "predicting ensemble 5 : 100%|██████████| 580/580 [00:06<00:00, 93.18it/s] \n",
      "predicting ensemble 6 : 100%|██████████| 581/581 [00:06<00:00, 95.25it/s] \n",
      "predicting ensemble 7 : 100%|██████████| 601/601 [00:06<00:00, 93.63it/s] \n"
     ]
    },
    {
     "name": "stdout",
     "output_type": "stream",
     "text": [
      "71 grasslands_lpi 4\n"
     ]
    },
    {
     "name": "stderr",
     "output_type": "stream",
     "text": [
      "predicting ensemble 0 : 100%|██████████| 684/684 [00:07<00:00, 94.10it/s] \n",
      "predicting ensemble 1 : 100%|██████████| 666/666 [00:07<00:00, 93.99it/s] \n",
      "predicting ensemble 2 : 100%|██████████| 426/426 [00:04<00:00, 86.80it/s]\n",
      "predicting ensemble 3 : 100%|██████████| 403/403 [00:04<00:00, 92.07it/s] \n",
      "predicting ensemble 4 : 100%|██████████| 553/553 [00:05<00:00, 93.07it/s] \n",
      "predicting ensemble 5 : 100%|██████████| 580/580 [00:06<00:00, 93.16it/s] \n",
      "predicting ensemble 6 : 100%|██████████| 581/581 [00:06<00:00, 95.47it/s] \n",
      "predicting ensemble 7 : 100%|██████████| 601/601 [00:06<00:00, 94.81it/s] \n"
     ]
    },
    {
     "name": "stdout",
     "output_type": "stream",
     "text": [
      "72 grasslands_pd 0\n"
     ]
    },
    {
     "name": "stderr",
     "output_type": "stream",
     "text": [
      "predicting ensemble 0 : 100%|██████████| 684/684 [00:07<00:00, 92.95it/s] \n",
      "predicting ensemble 1 : 100%|██████████| 666/666 [00:07<00:00, 93.40it/s] \n",
      "predicting ensemble 2 : 100%|██████████| 426/426 [00:04<00:00, 90.20it/s]\n",
      "predicting ensemble 3 : 100%|██████████| 403/403 [00:04<00:00, 91.58it/s] \n",
      "predicting ensemble 4 : 100%|██████████| 553/553 [00:05<00:00, 94.48it/s] \n",
      "predicting ensemble 5 : 100%|██████████| 580/580 [00:06<00:00, 93.06it/s] \n",
      "predicting ensemble 6 : 100%|██████████| 581/581 [00:06<00:00, 91.98it/s] \n",
      "predicting ensemble 7 : 100%|██████████| 601/601 [00:06<00:00, 94.57it/s] \n"
     ]
    },
    {
     "name": "stdout",
     "output_type": "stream",
     "text": [
      "72 grasslands_pd 1\n"
     ]
    },
    {
     "name": "stderr",
     "output_type": "stream",
     "text": [
      "predicting ensemble 0 : 100%|██████████| 684/684 [00:07<00:00, 90.24it/s] \n",
      "predicting ensemble 1 : 100%|██████████| 666/666 [00:07<00:00, 94.18it/s] \n",
      "predicting ensemble 2 : 100%|██████████| 426/426 [00:04<00:00, 89.68it/s]\n",
      "predicting ensemble 3 : 100%|██████████| 403/403 [00:04<00:00, 91.15it/s] \n",
      "predicting ensemble 4 : 100%|██████████| 553/553 [00:05<00:00, 94.36it/s] \n",
      "predicting ensemble 5 : 100%|██████████| 580/580 [00:06<00:00, 92.35it/s] \n",
      "predicting ensemble 6 : 100%|██████████| 581/581 [00:06<00:00, 96.64it/s] \n",
      "predicting ensemble 7 : 100%|██████████| 601/601 [00:06<00:00, 94.01it/s] \n"
     ]
    },
    {
     "name": "stdout",
     "output_type": "stream",
     "text": [
      "72 grasslands_pd 2\n"
     ]
    },
    {
     "name": "stderr",
     "output_type": "stream",
     "text": [
      "predicting ensemble 0 : 100%|██████████| 684/684 [00:07<00:00, 93.13it/s] \n",
      "predicting ensemble 1 : 100%|██████████| 666/666 [00:07<00:00, 94.87it/s] \n",
      "predicting ensemble 2 : 100%|██████████| 426/426 [00:04<00:00, 89.70it/s]\n",
      "predicting ensemble 3 : 100%|██████████| 403/403 [00:04<00:00, 92.32it/s] \n",
      "predicting ensemble 4 : 100%|██████████| 553/553 [00:05<00:00, 93.89it/s] \n",
      "predicting ensemble 5 : 100%|██████████| 580/580 [00:06<00:00, 92.25it/s]\n",
      "predicting ensemble 6 : 100%|██████████| 581/581 [00:06<00:00, 94.19it/s] \n",
      "predicting ensemble 7 : 100%|██████████| 601/601 [00:06<00:00, 94.11it/s] \n"
     ]
    },
    {
     "name": "stdout",
     "output_type": "stream",
     "text": [
      "72 grasslands_pd 3\n"
     ]
    },
    {
     "name": "stderr",
     "output_type": "stream",
     "text": [
      "predicting ensemble 0 : 100%|██████████| 684/684 [00:07<00:00, 85.69it/s] \n",
      "predicting ensemble 1 : 100%|██████████| 666/666 [00:08<00:00, 78.79it/s] \n",
      "predicting ensemble 2 : 100%|██████████| 426/426 [00:05<00:00, 77.78it/s]\n",
      "predicting ensemble 3 : 100%|██████████| 403/403 [00:04<00:00, 83.66it/s] \n",
      "predicting ensemble 4 : 100%|██████████| 553/553 [00:07<00:00, 78.00it/s]\n",
      "predicting ensemble 5 : 100%|██████████| 580/580 [00:06<00:00, 85.22it/s]\n",
      "predicting ensemble 6 : 100%|██████████| 581/581 [00:07<00:00, 78.54it/s]\n",
      "predicting ensemble 7 : 100%|██████████| 601/601 [00:06<00:00, 86.86it/s]\n"
     ]
    },
    {
     "name": "stdout",
     "output_type": "stream",
     "text": [
      "72 grasslands_pd 4\n"
     ]
    },
    {
     "name": "stderr",
     "output_type": "stream",
     "text": [
      "predicting ensemble 0 : 100%|██████████| 684/684 [00:08<00:00, 81.93it/s]\n",
      "predicting ensemble 1 : 100%|██████████| 666/666 [00:07<00:00, 90.93it/s] \n",
      "predicting ensemble 2 : 100%|██████████| 426/426 [00:04<00:00, 88.14it/s]\n",
      "predicting ensemble 3 : 100%|██████████| 403/403 [00:04<00:00, 85.86it/s]\n",
      "predicting ensemble 4 : 100%|██████████| 553/553 [00:07<00:00, 77.93it/s]\n",
      "predicting ensemble 5 : 100%|██████████| 580/580 [00:06<00:00, 88.87it/s]\n",
      "predicting ensemble 6 : 100%|██████████| 581/581 [00:07<00:00, 82.65it/s]\n",
      "predicting ensemble 7 : 100%|██████████| 601/601 [00:07<00:00, 80.40it/s]\n"
     ]
    },
    {
     "name": "stdout",
     "output_type": "stream",
     "text": [
      "73 mixed_forests 0\n"
     ]
    },
    {
     "name": "stderr",
     "output_type": "stream",
     "text": [
      "predicting ensemble 0 : 100%|██████████| 684/684 [00:07<00:00, 89.10it/s]\n",
      "predicting ensemble 1 : 100%|██████████| 666/666 [00:07<00:00, 93.57it/s] \n",
      "predicting ensemble 2 : 100%|██████████| 426/426 [00:05<00:00, 83.88it/s]\n",
      "predicting ensemble 3 : 100%|██████████| 403/403 [00:04<00:00, 90.80it/s] \n",
      "predicting ensemble 4 : 100%|██████████| 553/553 [00:06<00:00, 91.84it/s] \n",
      "predicting ensemble 5 : 100%|██████████| 580/580 [00:06<00:00, 94.30it/s] \n",
      "predicting ensemble 6 : 100%|██████████| 581/581 [00:06<00:00, 93.96it/s] \n",
      "predicting ensemble 7 : 100%|██████████| 601/601 [00:06<00:00, 88.99it/s] \n"
     ]
    },
    {
     "name": "stdout",
     "output_type": "stream",
     "text": [
      "73 mixed_forests 1\n"
     ]
    },
    {
     "name": "stderr",
     "output_type": "stream",
     "text": [
      "predicting ensemble 0 : 100%|██████████| 684/684 [00:07<00:00, 89.61it/s] \n",
      "predicting ensemble 1 : 100%|██████████| 666/666 [00:07<00:00, 93.76it/s] \n",
      "predicting ensemble 2 : 100%|██████████| 426/426 [00:05<00:00, 78.67it/s]\n",
      "predicting ensemble 3 : 100%|██████████| 403/403 [00:04<00:00, 91.21it/s] \n",
      "predicting ensemble 4 : 100%|██████████| 553/553 [00:06<00:00, 91.50it/s] \n",
      "predicting ensemble 5 : 100%|██████████| 580/580 [00:06<00:00, 92.63it/s] \n",
      "predicting ensemble 6 : 100%|██████████| 581/581 [00:06<00:00, 91.31it/s] \n",
      "predicting ensemble 7 : 100%|██████████| 601/601 [00:06<00:00, 94.09it/s] \n"
     ]
    },
    {
     "name": "stdout",
     "output_type": "stream",
     "text": [
      "73 mixed_forests 2\n"
     ]
    },
    {
     "name": "stderr",
     "output_type": "stream",
     "text": [
      "predicting ensemble 0 : 100%|██████████| 684/684 [00:07<00:00, 93.87it/s] \n",
      "predicting ensemble 1 : 100%|██████████| 666/666 [00:07<00:00, 89.29it/s] \n",
      "predicting ensemble 2 : 100%|██████████| 426/426 [00:04<00:00, 87.76it/s]\n",
      "predicting ensemble 3 : 100%|██████████| 403/403 [00:04<00:00, 88.97it/s] \n",
      "predicting ensemble 4 : 100%|██████████| 553/553 [00:06<00:00, 79.67it/s]\n",
      "predicting ensemble 5 : 100%|██████████| 580/580 [00:07<00:00, 81.47it/s]\n",
      "predicting ensemble 6 : 100%|██████████| 581/581 [00:07<00:00, 77.59it/s]\n",
      "predicting ensemble 7 : 100%|██████████| 601/601 [00:07<00:00, 75.56it/s]\n"
     ]
    },
    {
     "name": "stdout",
     "output_type": "stream",
     "text": [
      "73 mixed_forests 3\n"
     ]
    },
    {
     "name": "stderr",
     "output_type": "stream",
     "text": [
      "predicting ensemble 0 : 100%|██████████| 684/684 [00:07<00:00, 88.02it/s]\n",
      "predicting ensemble 1 : 100%|██████████| 666/666 [00:07<00:00, 89.46it/s] \n",
      "predicting ensemble 2 : 100%|██████████| 426/426 [00:04<00:00, 88.92it/s]\n",
      "predicting ensemble 3 : 100%|██████████| 403/403 [00:04<00:00, 88.45it/s]\n",
      "predicting ensemble 4 : 100%|██████████| 553/553 [00:06<00:00, 91.59it/s] \n",
      "predicting ensemble 5 : 100%|██████████| 580/580 [00:06<00:00, 93.03it/s] \n",
      "predicting ensemble 6 : 100%|██████████| 581/581 [00:06<00:00, 94.59it/s] \n",
      "predicting ensemble 7 : 100%|██████████| 601/601 [00:06<00:00, 93.56it/s] \n"
     ]
    },
    {
     "name": "stdout",
     "output_type": "stream",
     "text": [
      "73 mixed_forests 4\n"
     ]
    },
    {
     "name": "stderr",
     "output_type": "stream",
     "text": [
      "predicting ensemble 0 : 100%|██████████| 684/684 [00:07<00:00, 93.21it/s] \n",
      "predicting ensemble 1 : 100%|██████████| 666/666 [00:07<00:00, 94.92it/s] \n",
      "predicting ensemble 2 : 100%|██████████| 426/426 [00:04<00:00, 89.33it/s]\n",
      "predicting ensemble 3 : 100%|██████████| 403/403 [00:04<00:00, 92.05it/s] \n",
      "predicting ensemble 4 : 100%|██████████| 553/553 [00:06<00:00, 91.18it/s] \n",
      "predicting ensemble 5 : 100%|██████████| 580/580 [00:06<00:00, 91.76it/s] \n",
      "predicting ensemble 6 : 100%|██████████| 581/581 [00:06<00:00, 94.68it/s] \n",
      "predicting ensemble 7 : 100%|██████████| 601/601 [00:06<00:00, 94.46it/s] \n"
     ]
    },
    {
     "name": "stdout",
     "output_type": "stream",
     "text": [
      "74 mixed_forests_ed 0\n"
     ]
    },
    {
     "name": "stderr",
     "output_type": "stream",
     "text": [
      "predicting ensemble 0 : 100%|██████████| 684/684 [00:07<00:00, 92.80it/s]\n",
      "predicting ensemble 1 : 100%|██████████| 666/666 [00:06<00:00, 95.21it/s] \n",
      "predicting ensemble 2 : 100%|██████████| 426/426 [00:04<00:00, 89.23it/s]\n",
      "predicting ensemble 3 : 100%|██████████| 403/403 [00:04<00:00, 92.91it/s] \n",
      "predicting ensemble 4 : 100%|██████████| 553/553 [00:05<00:00, 92.29it/s] \n",
      "predicting ensemble 5 : 100%|██████████| 580/580 [00:06<00:00, 93.68it/s] \n",
      "predicting ensemble 6 : 100%|██████████| 581/581 [00:06<00:00, 95.06it/s] \n",
      "predicting ensemble 7 : 100%|██████████| 601/601 [00:06<00:00, 94.57it/s] \n"
     ]
    },
    {
     "name": "stdout",
     "output_type": "stream",
     "text": [
      "74 mixed_forests_ed 1\n"
     ]
    },
    {
     "name": "stderr",
     "output_type": "stream",
     "text": [
      "predicting ensemble 0 : 100%|██████████| 684/684 [00:07<00:00, 90.54it/s] \n",
      "predicting ensemble 1 : 100%|██████████| 666/666 [00:07<00:00, 94.82it/s] \n",
      "predicting ensemble 2 : 100%|██████████| 426/426 [00:04<00:00, 88.08it/s]\n",
      "predicting ensemble 3 : 100%|██████████| 403/403 [00:04<00:00, 91.74it/s] \n",
      "predicting ensemble 4 : 100%|██████████| 553/553 [00:05<00:00, 94.05it/s] \n",
      "predicting ensemble 5 : 100%|██████████| 580/580 [00:06<00:00, 93.57it/s] \n",
      "predicting ensemble 6 : 100%|██████████| 581/581 [00:06<00:00, 95.24it/s] \n",
      "predicting ensemble 7 : 100%|██████████| 601/601 [00:06<00:00, 92.70it/s] \n"
     ]
    },
    {
     "name": "stdout",
     "output_type": "stream",
     "text": [
      "74 mixed_forests_ed 2\n"
     ]
    },
    {
     "name": "stderr",
     "output_type": "stream",
     "text": [
      "predicting ensemble 0 : 100%|██████████| 684/684 [00:07<00:00, 93.31it/s] \n",
      "predicting ensemble 1 : 100%|██████████| 666/666 [00:07<00:00, 94.70it/s] \n",
      "predicting ensemble 2 : 100%|██████████| 426/426 [00:04<00:00, 90.28it/s]\n",
      "predicting ensemble 3 : 100%|██████████| 403/403 [00:04<00:00, 91.80it/s] \n",
      "predicting ensemble 4 : 100%|██████████| 553/553 [00:05<00:00, 93.47it/s] \n",
      "predicting ensemble 5 : 100%|██████████| 580/580 [00:06<00:00, 90.84it/s]\n",
      "predicting ensemble 6 : 100%|██████████| 581/581 [00:06<00:00, 95.92it/s] \n",
      "predicting ensemble 7 : 100%|██████████| 601/601 [00:06<00:00, 94.13it/s] \n"
     ]
    },
    {
     "name": "stdout",
     "output_type": "stream",
     "text": [
      "74 mixed_forests_ed 3\n"
     ]
    },
    {
     "name": "stderr",
     "output_type": "stream",
     "text": [
      "predicting ensemble 0 : 100%|██████████| 684/684 [00:07<00:00, 92.02it/s] \n",
      "predicting ensemble 1 : 100%|██████████| 666/666 [00:07<00:00, 93.64it/s] \n",
      "predicting ensemble 2 : 100%|██████████| 426/426 [00:04<00:00, 89.76it/s]\n",
      "predicting ensemble 3 : 100%|██████████| 403/403 [00:04<00:00, 91.61it/s] \n",
      "predicting ensemble 4 : 100%|██████████| 553/553 [00:05<00:00, 92.35it/s] \n",
      "predicting ensemble 5 : 100%|██████████| 580/580 [00:06<00:00, 92.48it/s]\n",
      "predicting ensemble 6 : 100%|██████████| 581/581 [00:06<00:00, 94.05it/s] \n",
      "predicting ensemble 7 : 100%|██████████| 601/601 [00:06<00:00, 94.06it/s] \n"
     ]
    },
    {
     "name": "stdout",
     "output_type": "stream",
     "text": [
      "74 mixed_forests_ed 4\n"
     ]
    },
    {
     "name": "stderr",
     "output_type": "stream",
     "text": [
      "predicting ensemble 0 : 100%|██████████| 684/684 [00:07<00:00, 92.79it/s] \n",
      "predicting ensemble 1 : 100%|██████████| 666/666 [00:07<00:00, 92.58it/s] \n",
      "predicting ensemble 2 : 100%|██████████| 426/426 [00:04<00:00, 88.96it/s]\n",
      "predicting ensemble 3 : 100%|██████████| 403/403 [00:04<00:00, 91.88it/s] \n",
      "predicting ensemble 4 : 100%|██████████| 553/553 [00:06<00:00, 91.93it/s] \n",
      "predicting ensemble 5 : 100%|██████████| 580/580 [00:06<00:00, 92.24it/s]\n",
      "predicting ensemble 6 : 100%|██████████| 581/581 [00:06<00:00, 93.79it/s] \n",
      "predicting ensemble 7 : 100%|██████████| 601/601 [00:06<00:00, 92.90it/s] \n"
     ]
    },
    {
     "name": "stdout",
     "output_type": "stream",
     "text": [
      "75 mixed_forests_lpi 0\n"
     ]
    },
    {
     "name": "stderr",
     "output_type": "stream",
     "text": [
      "predicting ensemble 0 : 100%|██████████| 684/684 [00:07<00:00, 91.84it/s] \n",
      "predicting ensemble 1 : 100%|██████████| 666/666 [00:07<00:00, 92.40it/s] \n",
      "predicting ensemble 2 : 100%|██████████| 426/426 [00:04<00:00, 88.99it/s]\n",
      "predicting ensemble 3 : 100%|██████████| 403/403 [00:04<00:00, 91.48it/s] \n",
      "predicting ensemble 4 : 100%|██████████| 553/553 [00:06<00:00, 87.83it/s] \n",
      "predicting ensemble 5 : 100%|██████████| 580/580 [00:06<00:00, 92.00it/s]\n",
      "predicting ensemble 6 : 100%|██████████| 581/581 [00:06<00:00, 91.84it/s]\n",
      "predicting ensemble 7 : 100%|██████████| 601/601 [00:06<00:00, 92.35it/s]\n"
     ]
    },
    {
     "name": "stdout",
     "output_type": "stream",
     "text": [
      "75 mixed_forests_lpi 1\n"
     ]
    },
    {
     "name": "stderr",
     "output_type": "stream",
     "text": [
      "predicting ensemble 0 : 100%|██████████| 684/684 [00:07<00:00, 91.03it/s] \n",
      "predicting ensemble 1 : 100%|██████████| 666/666 [00:07<00:00, 91.59it/s] \n",
      "predicting ensemble 2 : 100%|██████████| 426/426 [00:04<00:00, 87.79it/s]\n",
      "predicting ensemble 3 : 100%|██████████| 403/403 [00:04<00:00, 89.01it/s] \n",
      "predicting ensemble 4 : 100%|██████████| 553/553 [00:05<00:00, 92.39it/s] \n",
      "predicting ensemble 5 : 100%|██████████| 580/580 [00:06<00:00, 88.16it/s]\n",
      "predicting ensemble 6 : 100%|██████████| 581/581 [00:06<00:00, 91.17it/s] \n",
      "predicting ensemble 7 : 100%|██████████| 601/601 [00:06<00:00, 92.17it/s] \n"
     ]
    },
    {
     "name": "stdout",
     "output_type": "stream",
     "text": [
      "75 mixed_forests_lpi 2\n"
     ]
    },
    {
     "name": "stderr",
     "output_type": "stream",
     "text": [
      "predicting ensemble 0 : 100%|██████████| 684/684 [00:07<00:00, 91.51it/s]\n",
      "predicting ensemble 1 : 100%|██████████| 666/666 [00:07<00:00, 91.34it/s] \n",
      "predicting ensemble 2 : 100%|██████████| 426/426 [00:04<00:00, 85.65it/s]\n",
      "predicting ensemble 3 : 100%|██████████| 403/403 [00:04<00:00, 88.89it/s] \n",
      "predicting ensemble 4 : 100%|██████████| 553/553 [00:06<00:00, 91.23it/s] \n",
      "predicting ensemble 5 : 100%|██████████| 580/580 [00:06<00:00, 92.21it/s] \n",
      "predicting ensemble 6 : 100%|██████████| 581/581 [00:06<00:00, 92.48it/s] \n",
      "predicting ensemble 7 : 100%|██████████| 601/601 [00:06<00:00, 92.99it/s]\n"
     ]
    },
    {
     "name": "stdout",
     "output_type": "stream",
     "text": [
      "75 mixed_forests_lpi 3\n"
     ]
    },
    {
     "name": "stderr",
     "output_type": "stream",
     "text": [
      "predicting ensemble 0 : 100%|██████████| 684/684 [00:07<00:00, 91.68it/s] \n",
      "predicting ensemble 1 : 100%|██████████| 666/666 [00:07<00:00, 92.44it/s] \n",
      "predicting ensemble 2 : 100%|██████████| 426/426 [00:04<00:00, 87.29it/s]\n",
      "predicting ensemble 3 : 100%|██████████| 403/403 [00:05<00:00, 71.01it/s]\n",
      "predicting ensemble 4 : 100%|██████████| 553/553 [00:08<00:00, 68.18it/s]\n",
      "predicting ensemble 5 : 100%|██████████| 580/580 [00:08<00:00, 71.47it/s]\n",
      "predicting ensemble 6 : 100%|██████████| 581/581 [00:06<00:00, 88.12it/s]\n",
      "predicting ensemble 7 : 100%|██████████| 601/601 [00:06<00:00, 92.02it/s] \n"
     ]
    },
    {
     "name": "stdout",
     "output_type": "stream",
     "text": [
      "75 mixed_forests_lpi 4\n"
     ]
    },
    {
     "name": "stderr",
     "output_type": "stream",
     "text": [
      "predicting ensemble 0 : 100%|██████████| 684/684 [00:07<00:00, 91.94it/s] \n",
      "predicting ensemble 1 : 100%|██████████| 666/666 [00:08<00:00, 74.57it/s]\n",
      "predicting ensemble 2 : 100%|██████████| 426/426 [00:04<00:00, 86.46it/s]\n",
      "predicting ensemble 3 : 100%|██████████| 403/403 [00:04<00:00, 88.36it/s]\n",
      "predicting ensemble 4 : 100%|██████████| 553/553 [00:06<00:00, 81.41it/s]\n",
      "predicting ensemble 5 : 100%|██████████| 580/580 [00:07<00:00, 75.24it/s]\n",
      "predicting ensemble 6 : 100%|██████████| 581/581 [00:07<00:00, 81.70it/s]\n",
      "predicting ensemble 7 : 100%|██████████| 601/601 [00:08<00:00, 74.93it/s]\n"
     ]
    },
    {
     "name": "stdout",
     "output_type": "stream",
     "text": [
      "76 mixed_forests_pd 0\n"
     ]
    },
    {
     "name": "stderr",
     "output_type": "stream",
     "text": [
      "predicting ensemble 0 : 100%|██████████| 684/684 [00:08<00:00, 76.05it/s]\n",
      "predicting ensemble 1 : 100%|██████████| 666/666 [00:07<00:00, 85.78it/s]\n",
      "predicting ensemble 2 : 100%|██████████| 426/426 [00:05<00:00, 80.61it/s]\n",
      "predicting ensemble 3 : 100%|██████████| 403/403 [00:04<00:00, 85.86it/s]\n",
      "predicting ensemble 4 : 100%|██████████| 553/553 [00:06<00:00, 82.06it/s]\n",
      "predicting ensemble 5 : 100%|██████████| 580/580 [00:07<00:00, 74.17it/s]\n",
      "predicting ensemble 6 : 100%|██████████| 581/581 [00:06<00:00, 92.89it/s] \n",
      "predicting ensemble 7 : 100%|██████████| 601/601 [00:06<00:00, 88.87it/s]\n"
     ]
    },
    {
     "name": "stdout",
     "output_type": "stream",
     "text": [
      "76 mixed_forests_pd 1\n"
     ]
    },
    {
     "name": "stderr",
     "output_type": "stream",
     "text": [
      "predicting ensemble 0 : 100%|██████████| 684/684 [00:08<00:00, 83.86it/s]\n",
      "predicting ensemble 1 : 100%|██████████| 666/666 [00:07<00:00, 92.15it/s]\n",
      "predicting ensemble 2 : 100%|██████████| 426/426 [00:04<00:00, 90.05it/s]\n",
      "predicting ensemble 3 : 100%|██████████| 403/403 [00:04<00:00, 91.10it/s]\n",
      "predicting ensemble 4 : 100%|██████████| 553/553 [00:06<00:00, 87.03it/s] \n",
      "predicting ensemble 5 : 100%|██████████| 580/580 [00:06<00:00, 92.69it/s] \n",
      "predicting ensemble 6 : 100%|██████████| 581/581 [00:06<00:00, 93.09it/s] \n",
      "predicting ensemble 7 : 100%|██████████| 601/601 [00:06<00:00, 93.93it/s] \n"
     ]
    },
    {
     "name": "stdout",
     "output_type": "stream",
     "text": [
      "76 mixed_forests_pd 2\n"
     ]
    },
    {
     "name": "stderr",
     "output_type": "stream",
     "text": [
      "predicting ensemble 0 : 100%|██████████| 684/684 [00:07<00:00, 92.83it/s] \n",
      "predicting ensemble 1 : 100%|██████████| 666/666 [00:07<00:00, 93.43it/s] \n",
      "predicting ensemble 2 : 100%|██████████| 426/426 [00:04<00:00, 88.50it/s]\n",
      "predicting ensemble 3 : 100%|██████████| 403/403 [00:04<00:00, 91.00it/s] \n",
      "predicting ensemble 4 : 100%|██████████| 553/553 [00:06<00:00, 85.38it/s] \n",
      "predicting ensemble 5 : 100%|██████████| 580/580 [00:07<00:00, 79.28it/s]\n",
      "predicting ensemble 6 : 100%|██████████| 581/581 [00:06<00:00, 89.38it/s] \n",
      "predicting ensemble 7 : 100%|██████████| 601/601 [00:06<00:00, 86.14it/s]\n"
     ]
    },
    {
     "name": "stdout",
     "output_type": "stream",
     "text": [
      "76 mixed_forests_pd 3\n"
     ]
    },
    {
     "name": "stderr",
     "output_type": "stream",
     "text": [
      "predicting ensemble 0 : 100%|██████████| 684/684 [00:07<00:00, 90.34it/s]\n",
      "predicting ensemble 1 : 100%|██████████| 666/666 [00:07<00:00, 88.33it/s]\n",
      "predicting ensemble 2 : 100%|██████████| 426/426 [00:05<00:00, 85.11it/s]\n",
      "predicting ensemble 3 : 100%|██████████| 403/403 [00:04<00:00, 88.33it/s]\n",
      "predicting ensemble 4 : 100%|██████████| 553/553 [00:06<00:00, 90.02it/s] \n",
      "predicting ensemble 5 : 100%|██████████| 580/580 [00:06<00:00, 91.82it/s]\n",
      "predicting ensemble 6 : 100%|██████████| 581/581 [00:06<00:00, 91.54it/s] \n",
      "predicting ensemble 7 : 100%|██████████| 601/601 [00:06<00:00, 93.57it/s] \n"
     ]
    },
    {
     "name": "stdout",
     "output_type": "stream",
     "text": [
      "76 mixed_forests_pd 4\n"
     ]
    },
    {
     "name": "stderr",
     "output_type": "stream",
     "text": [
      "predicting ensemble 0 : 100%|██████████| 684/684 [00:07<00:00, 90.76it/s] \n",
      "predicting ensemble 1 : 100%|██████████| 666/666 [00:07<00:00, 92.80it/s] \n",
      "predicting ensemble 2 : 100%|██████████| 426/426 [00:04<00:00, 87.91it/s]\n",
      "predicting ensemble 3 : 100%|██████████| 403/403 [00:04<00:00, 90.65it/s] \n",
      "predicting ensemble 4 : 100%|██████████| 553/553 [00:06<00:00, 88.58it/s]\n",
      "predicting ensemble 5 : 100%|██████████| 580/580 [00:06<00:00, 91.83it/s]\n",
      "predicting ensemble 6 : 100%|██████████| 581/581 [00:06<00:00, 90.61it/s] \n",
      "predicting ensemble 7 : 100%|██████████| 601/601 [00:06<00:00, 93.56it/s] \n"
     ]
    },
    {
     "name": "stdout",
     "output_type": "stream",
     "text": [
      "77 non_vegetated_lands 0\n"
     ]
    },
    {
     "name": "stderr",
     "output_type": "stream",
     "text": [
      "predicting ensemble 0 : 100%|██████████| 684/684 [00:07<00:00, 92.14it/s] \n",
      "predicting ensemble 1 : 100%|██████████| 666/666 [00:07<00:00, 93.76it/s] \n",
      "predicting ensemble 2 : 100%|██████████| 426/426 [00:04<00:00, 88.09it/s]\n",
      "predicting ensemble 3 : 100%|██████████| 403/403 [00:04<00:00, 90.80it/s]\n",
      "predicting ensemble 4 : 100%|██████████| 553/553 [00:05<00:00, 92.26it/s] \n",
      "predicting ensemble 5 : 100%|██████████| 580/580 [00:06<00:00, 92.21it/s]\n",
      "predicting ensemble 6 : 100%|██████████| 581/581 [00:06<00:00, 92.26it/s]\n",
      "predicting ensemble 7 : 100%|██████████| 601/601 [00:06<00:00, 92.23it/s] \n"
     ]
    },
    {
     "name": "stdout",
     "output_type": "stream",
     "text": [
      "77 non_vegetated_lands 1\n"
     ]
    },
    {
     "name": "stderr",
     "output_type": "stream",
     "text": [
      "predicting ensemble 0 : 100%|██████████| 684/684 [00:07<00:00, 90.23it/s] \n",
      "predicting ensemble 1 : 100%|██████████| 666/666 [00:07<00:00, 91.92it/s]\n",
      "predicting ensemble 2 : 100%|██████████| 426/426 [00:04<00:00, 88.36it/s]\n",
      "predicting ensemble 3 : 100%|██████████| 403/403 [00:04<00:00, 91.48it/s]\n",
      "predicting ensemble 4 : 100%|██████████| 553/553 [00:06<00:00, 90.38it/s] \n",
      "predicting ensemble 5 : 100%|██████████| 580/580 [00:06<00:00, 93.22it/s]\n",
      "predicting ensemble 6 : 100%|██████████| 581/581 [00:06<00:00, 93.22it/s] \n",
      "predicting ensemble 7 : 100%|██████████| 601/601 [00:06<00:00, 93.28it/s] \n"
     ]
    },
    {
     "name": "stdout",
     "output_type": "stream",
     "text": [
      "77 non_vegetated_lands 2\n"
     ]
    },
    {
     "name": "stderr",
     "output_type": "stream",
     "text": [
      "predicting ensemble 0 : 100%|██████████| 684/684 [00:07<00:00, 90.93it/s] \n",
      "predicting ensemble 1 : 100%|██████████| 666/666 [00:07<00:00, 92.60it/s] \n",
      "predicting ensemble 2 : 100%|██████████| 426/426 [00:04<00:00, 89.74it/s]\n",
      "predicting ensemble 3 : 100%|██████████| 403/403 [00:04<00:00, 86.02it/s] \n",
      "predicting ensemble 4 : 100%|██████████| 553/553 [00:05<00:00, 92.27it/s] \n",
      "predicting ensemble 5 : 100%|██████████| 580/580 [00:06<00:00, 91.84it/s]\n",
      "predicting ensemble 6 : 100%|██████████| 581/581 [00:06<00:00, 93.98it/s] \n",
      "predicting ensemble 7 : 100%|██████████| 601/601 [00:06<00:00, 93.45it/s] \n"
     ]
    },
    {
     "name": "stdout",
     "output_type": "stream",
     "text": [
      "77 non_vegetated_lands 3\n"
     ]
    },
    {
     "name": "stderr",
     "output_type": "stream",
     "text": [
      "predicting ensemble 0 : 100%|██████████| 684/684 [00:07<00:00, 91.73it/s]\n",
      "predicting ensemble 1 : 100%|██████████| 666/666 [00:07<00:00, 93.28it/s] \n",
      "predicting ensemble 2 : 100%|██████████| 426/426 [00:04<00:00, 87.24it/s]\n",
      "predicting ensemble 3 : 100%|██████████| 403/403 [00:04<00:00, 89.77it/s] \n",
      "predicting ensemble 4 : 100%|██████████| 553/553 [00:05<00:00, 93.02it/s] \n",
      "predicting ensemble 5 : 100%|██████████| 580/580 [00:06<00:00, 91.79it/s] \n",
      "predicting ensemble 6 : 100%|██████████| 581/581 [00:06<00:00, 92.95it/s] \n",
      "predicting ensemble 7 : 100%|██████████| 601/601 [00:06<00:00, 88.65it/s]\n"
     ]
    },
    {
     "name": "stdout",
     "output_type": "stream",
     "text": [
      "77 non_vegetated_lands 4\n"
     ]
    },
    {
     "name": "stderr",
     "output_type": "stream",
     "text": [
      "predicting ensemble 0 : 100%|██████████| 684/684 [00:07<00:00, 90.80it/s]\n",
      "predicting ensemble 1 : 100%|██████████| 666/666 [00:07<00:00, 90.66it/s]\n",
      "predicting ensemble 2 : 100%|██████████| 426/426 [00:04<00:00, 87.16it/s]\n",
      "predicting ensemble 3 : 100%|██████████| 403/403 [00:04<00:00, 84.89it/s]\n",
      "predicting ensemble 4 : 100%|██████████| 553/553 [00:06<00:00, 89.63it/s]\n",
      "predicting ensemble 5 : 100%|██████████| 580/580 [00:06<00:00, 89.48it/s]\n",
      "predicting ensemble 6 : 100%|██████████| 581/581 [00:06<00:00, 91.54it/s] \n",
      "predicting ensemble 7 : 100%|██████████| 601/601 [00:06<00:00, 91.17it/s]\n"
     ]
    },
    {
     "name": "stdout",
     "output_type": "stream",
     "text": [
      "78 non_vegetated_lands_ed 0\n"
     ]
    },
    {
     "name": "stderr",
     "output_type": "stream",
     "text": [
      "predicting ensemble 0 : 100%|██████████| 684/684 [00:07<00:00, 88.46it/s]\n",
      "predicting ensemble 1 : 100%|██████████| 666/666 [00:07<00:00, 91.04it/s]\n",
      "predicting ensemble 2 : 100%|██████████| 426/426 [00:04<00:00, 87.81it/s]\n",
      "predicting ensemble 3 : 100%|██████████| 403/403 [00:04<00:00, 85.11it/s]\n",
      "predicting ensemble 4 : 100%|██████████| 553/553 [00:06<00:00, 91.99it/s] \n",
      "predicting ensemble 5 : 100%|██████████| 580/580 [00:06<00:00, 90.33it/s]\n",
      "predicting ensemble 6 : 100%|██████████| 581/581 [00:06<00:00, 92.63it/s] \n",
      "predicting ensemble 7 : 100%|██████████| 601/601 [00:06<00:00, 93.75it/s] \n"
     ]
    },
    {
     "name": "stdout",
     "output_type": "stream",
     "text": [
      "78 non_vegetated_lands_ed 1\n"
     ]
    },
    {
     "name": "stderr",
     "output_type": "stream",
     "text": [
      "predicting ensemble 0 : 100%|██████████| 684/684 [00:07<00:00, 91.21it/s] \n",
      "predicting ensemble 1 : 100%|██████████| 666/666 [00:07<00:00, 90.40it/s] \n",
      "predicting ensemble 2 : 100%|██████████| 426/426 [00:04<00:00, 86.12it/s]\n",
      "predicting ensemble 3 : 100%|██████████| 403/403 [00:04<00:00, 90.37it/s]\n",
      "predicting ensemble 4 : 100%|██████████| 553/553 [00:05<00:00, 92.23it/s] \n",
      "predicting ensemble 5 : 100%|██████████| 580/580 [00:06<00:00, 91.83it/s]\n",
      "predicting ensemble 6 : 100%|██████████| 581/581 [00:06<00:00, 93.77it/s] \n",
      "predicting ensemble 7 : 100%|██████████| 601/601 [00:06<00:00, 89.40it/s]\n"
     ]
    },
    {
     "name": "stdout",
     "output_type": "stream",
     "text": [
      "78 non_vegetated_lands_ed 2\n"
     ]
    },
    {
     "name": "stderr",
     "output_type": "stream",
     "text": [
      "predicting ensemble 0 : 100%|██████████| 684/684 [00:07<00:00, 91.45it/s]\n",
      "predicting ensemble 1 : 100%|██████████| 666/666 [00:07<00:00, 91.97it/s] \n",
      "predicting ensemble 2 : 100%|██████████| 426/426 [00:04<00:00, 87.70it/s]\n",
      "predicting ensemble 3 : 100%|██████████| 403/403 [00:04<00:00, 88.01it/s] \n",
      "predicting ensemble 4 : 100%|██████████| 553/553 [00:06<00:00, 91.99it/s] \n",
      "predicting ensemble 5 : 100%|██████████| 580/580 [00:06<00:00, 90.61it/s]\n",
      "predicting ensemble 6 : 100%|██████████| 581/581 [00:06<00:00, 92.77it/s] \n",
      "predicting ensemble 7 : 100%|██████████| 601/601 [00:06<00:00, 93.05it/s]\n"
     ]
    },
    {
     "name": "stdout",
     "output_type": "stream",
     "text": [
      "78 non_vegetated_lands_ed 3\n"
     ]
    },
    {
     "name": "stderr",
     "output_type": "stream",
     "text": [
      "predicting ensemble 0 : 100%|██████████| 684/684 [00:07<00:00, 90.49it/s]\n",
      "predicting ensemble 1 : 100%|██████████| 666/666 [00:07<00:00, 91.18it/s] \n",
      "predicting ensemble 2 : 100%|██████████| 426/426 [00:04<00:00, 87.61it/s]\n",
      "predicting ensemble 3 : 100%|██████████| 403/403 [00:04<00:00, 85.64it/s] \n",
      "predicting ensemble 4 : 100%|██████████| 553/553 [00:06<00:00, 89.59it/s]\n",
      "predicting ensemble 5 : 100%|██████████| 580/580 [00:06<00:00, 85.38it/s]\n",
      "predicting ensemble 6 : 100%|██████████| 581/581 [00:06<00:00, 92.40it/s] \n",
      "predicting ensemble 7 : 100%|██████████| 601/601 [00:06<00:00, 91.64it/s]\n"
     ]
    },
    {
     "name": "stdout",
     "output_type": "stream",
     "text": [
      "78 non_vegetated_lands_ed 4\n"
     ]
    },
    {
     "name": "stderr",
     "output_type": "stream",
     "text": [
      "predicting ensemble 0 : 100%|██████████| 684/684 [00:07<00:00, 90.77it/s] \n",
      "predicting ensemble 1 : 100%|██████████| 666/666 [00:07<00:00, 92.25it/s]\n",
      "predicting ensemble 2 : 100%|██████████| 426/426 [00:04<00:00, 87.50it/s]\n",
      "predicting ensemble 3 : 100%|██████████| 403/403 [00:04<00:00, 91.54it/s]\n",
      "predicting ensemble 4 : 100%|██████████| 553/553 [00:06<00:00, 91.89it/s] \n",
      "predicting ensemble 5 : 100%|██████████| 580/580 [00:06<00:00, 91.66it/s]\n",
      "predicting ensemble 6 : 100%|██████████| 581/581 [00:06<00:00, 93.78it/s] \n",
      "predicting ensemble 7 : 100%|██████████| 601/601 [00:06<00:00, 91.87it/s]\n"
     ]
    },
    {
     "name": "stdout",
     "output_type": "stream",
     "text": [
      "79 non_vegetated_lands_lpi 0\n"
     ]
    },
    {
     "name": "stderr",
     "output_type": "stream",
     "text": [
      "predicting ensemble 0 : 100%|██████████| 684/684 [00:07<00:00, 88.65it/s] \n",
      "predicting ensemble 1 : 100%|██████████| 666/666 [00:07<00:00, 93.23it/s] \n",
      "predicting ensemble 2 : 100%|██████████| 426/426 [00:04<00:00, 88.67it/s]\n",
      "predicting ensemble 3 : 100%|██████████| 403/403 [00:04<00:00, 90.74it/s] \n",
      "predicting ensemble 4 : 100%|██████████| 553/553 [00:06<00:00, 91.09it/s]\n",
      "predicting ensemble 5 : 100%|██████████| 580/580 [00:06<00:00, 91.44it/s]\n",
      "predicting ensemble 6 : 100%|██████████| 581/581 [00:06<00:00, 94.06it/s] \n",
      "predicting ensemble 7 : 100%|██████████| 601/601 [00:06<00:00, 93.74it/s]\n"
     ]
    },
    {
     "name": "stdout",
     "output_type": "stream",
     "text": [
      "79 non_vegetated_lands_lpi 1\n"
     ]
    },
    {
     "name": "stderr",
     "output_type": "stream",
     "text": [
      "predicting ensemble 0 : 100%|██████████| 684/684 [00:07<00:00, 90.70it/s] \n",
      "predicting ensemble 1 : 100%|██████████| 666/666 [00:07<00:00, 91.22it/s] \n",
      "predicting ensemble 2 : 100%|██████████| 426/426 [00:04<00:00, 86.59it/s]\n",
      "predicting ensemble 3 : 100%|██████████| 403/403 [00:04<00:00, 86.27it/s] \n",
      "predicting ensemble 4 : 100%|██████████| 553/553 [00:06<00:00, 91.54it/s] \n",
      "predicting ensemble 5 : 100%|██████████| 580/580 [00:06<00:00, 89.54it/s]\n",
      "predicting ensemble 6 : 100%|██████████| 581/581 [00:06<00:00, 90.63it/s] \n",
      "predicting ensemble 7 : 100%|██████████| 601/601 [00:06<00:00, 91.12it/s]\n"
     ]
    },
    {
     "name": "stdout",
     "output_type": "stream",
     "text": [
      "79 non_vegetated_lands_lpi 2\n"
     ]
    },
    {
     "name": "stderr",
     "output_type": "stream",
     "text": [
      "predicting ensemble 0 : 100%|██████████| 684/684 [00:07<00:00, 91.08it/s] \n",
      "predicting ensemble 1 : 100%|██████████| 666/666 [00:07<00:00, 90.69it/s]\n",
      "predicting ensemble 2 : 100%|██████████| 426/426 [00:04<00:00, 87.09it/s]\n",
      "predicting ensemble 3 : 100%|██████████| 403/403 [00:04<00:00, 87.57it/s]\n",
      "predicting ensemble 4 : 100%|██████████| 553/553 [00:06<00:00, 90.66it/s] \n",
      "predicting ensemble 5 : 100%|██████████| 580/580 [00:06<00:00, 90.33it/s]\n",
      "predicting ensemble 6 : 100%|██████████| 581/581 [00:06<00:00, 90.22it/s]\n",
      "predicting ensemble 7 : 100%|██████████| 601/601 [00:06<00:00, 89.31it/s]\n"
     ]
    },
    {
     "name": "stdout",
     "output_type": "stream",
     "text": [
      "79 non_vegetated_lands_lpi 3\n"
     ]
    },
    {
     "name": "stderr",
     "output_type": "stream",
     "text": [
      "predicting ensemble 0 : 100%|██████████| 684/684 [00:07<00:00, 90.95it/s] \n",
      "predicting ensemble 1 : 100%|██████████| 666/666 [00:07<00:00, 92.37it/s] \n",
      "predicting ensemble 2 : 100%|██████████| 426/426 [00:04<00:00, 88.54it/s]\n",
      "predicting ensemble 3 : 100%|██████████| 403/403 [00:04<00:00, 89.03it/s]\n",
      "predicting ensemble 4 : 100%|██████████| 553/553 [00:06<00:00, 90.59it/s] \n",
      "predicting ensemble 5 : 100%|██████████| 580/580 [00:06<00:00, 92.74it/s]\n",
      "predicting ensemble 6 : 100%|██████████| 581/581 [00:06<00:00, 93.72it/s] \n",
      "predicting ensemble 7 : 100%|██████████| 601/601 [00:06<00:00, 93.62it/s] \n"
     ]
    },
    {
     "name": "stdout",
     "output_type": "stream",
     "text": [
      "79 non_vegetated_lands_lpi 4\n"
     ]
    },
    {
     "name": "stderr",
     "output_type": "stream",
     "text": [
      "predicting ensemble 0 : 100%|██████████| 684/684 [00:07<00:00, 91.67it/s] \n",
      "predicting ensemble 1 : 100%|██████████| 666/666 [00:07<00:00, 92.61it/s] \n",
      "predicting ensemble 2 : 100%|██████████| 426/426 [00:04<00:00, 87.65it/s]\n",
      "predicting ensemble 3 : 100%|██████████| 403/403 [00:04<00:00, 86.33it/s] \n",
      "predicting ensemble 4 : 100%|██████████| 553/553 [00:06<00:00, 90.86it/s] \n",
      "predicting ensemble 5 : 100%|██████████| 580/580 [00:06<00:00, 90.63it/s]\n",
      "predicting ensemble 6 : 100%|██████████| 581/581 [00:06<00:00, 92.76it/s] \n",
      "predicting ensemble 7 : 100%|██████████| 601/601 [00:06<00:00, 93.14it/s] \n"
     ]
    },
    {
     "name": "stdout",
     "output_type": "stream",
     "text": [
      "80 non_vegetated_lands_pd 0\n"
     ]
    },
    {
     "name": "stderr",
     "output_type": "stream",
     "text": [
      "predicting ensemble 0 : 100%|██████████| 684/684 [00:07<00:00, 91.29it/s]\n",
      "predicting ensemble 1 : 100%|██████████| 666/666 [00:07<00:00, 90.10it/s] \n",
      "predicting ensemble 2 : 100%|██████████| 426/426 [00:04<00:00, 86.68it/s]\n",
      "predicting ensemble 3 : 100%|██████████| 403/403 [00:04<00:00, 88.24it/s]\n",
      "predicting ensemble 4 : 100%|██████████| 553/553 [00:06<00:00, 92.14it/s]\n",
      "predicting ensemble 5 : 100%|██████████| 580/580 [00:06<00:00, 91.24it/s]\n",
      "predicting ensemble 6 : 100%|██████████| 581/581 [00:06<00:00, 92.47it/s] \n",
      "predicting ensemble 7 : 100%|██████████| 601/601 [00:06<00:00, 90.97it/s] \n"
     ]
    },
    {
     "name": "stdout",
     "output_type": "stream",
     "text": [
      "80 non_vegetated_lands_pd 1\n"
     ]
    },
    {
     "name": "stderr",
     "output_type": "stream",
     "text": [
      "predicting ensemble 0 : 100%|██████████| 684/684 [00:07<00:00, 90.61it/s]\n",
      "predicting ensemble 1 : 100%|██████████| 666/666 [00:07<00:00, 90.28it/s]\n",
      "predicting ensemble 2 : 100%|██████████| 426/426 [00:04<00:00, 86.47it/s]\n",
      "predicting ensemble 3 : 100%|██████████| 403/403 [00:04<00:00, 88.64it/s]\n",
      "predicting ensemble 4 : 100%|██████████| 553/553 [00:06<00:00, 90.15it/s] \n",
      "predicting ensemble 5 : 100%|██████████| 580/580 [00:06<00:00, 91.80it/s]\n",
      "predicting ensemble 6 : 100%|██████████| 581/581 [00:06<00:00, 93.05it/s] \n",
      "predicting ensemble 7 : 100%|██████████| 601/601 [00:06<00:00, 91.92it/s] \n"
     ]
    },
    {
     "name": "stdout",
     "output_type": "stream",
     "text": [
      "80 non_vegetated_lands_pd 2\n"
     ]
    },
    {
     "name": "stderr",
     "output_type": "stream",
     "text": [
      "predicting ensemble 0 : 100%|██████████| 684/684 [00:07<00:00, 91.12it/s]\n",
      "predicting ensemble 1 : 100%|██████████| 666/666 [00:07<00:00, 92.97it/s] \n",
      "predicting ensemble 2 : 100%|██████████| 426/426 [00:04<00:00, 87.94it/s]\n",
      "predicting ensemble 3 : 100%|██████████| 403/403 [00:04<00:00, 85.48it/s]\n",
      "predicting ensemble 4 : 100%|██████████| 553/553 [00:06<00:00, 91.25it/s] \n",
      "predicting ensemble 5 : 100%|██████████| 580/580 [00:06<00:00, 89.97it/s]\n",
      "predicting ensemble 6 : 100%|██████████| 581/581 [00:06<00:00, 92.78it/s] \n",
      "predicting ensemble 7 : 100%|██████████| 601/601 [00:06<00:00, 92.42it/s]\n"
     ]
    },
    {
     "name": "stdout",
     "output_type": "stream",
     "text": [
      "80 non_vegetated_lands_pd 3\n"
     ]
    },
    {
     "name": "stderr",
     "output_type": "stream",
     "text": [
      "predicting ensemble 0 : 100%|██████████| 684/684 [00:07<00:00, 91.74it/s] \n",
      "predicting ensemble 1 : 100%|██████████| 666/666 [00:07<00:00, 83.83it/s]\n",
      "predicting ensemble 2 : 100%|██████████| 426/426 [00:04<00:00, 88.17it/s]\n",
      "predicting ensemble 3 : 100%|██████████| 403/403 [00:04<00:00, 88.04it/s]\n",
      "predicting ensemble 4 : 100%|██████████| 553/553 [00:06<00:00, 89.99it/s]\n",
      "predicting ensemble 5 : 100%|██████████| 580/580 [00:06<00:00, 90.78it/s]\n",
      "predicting ensemble 6 : 100%|██████████| 581/581 [00:06<00:00, 91.01it/s]\n",
      "predicting ensemble 7 : 100%|██████████| 601/601 [00:06<00:00, 92.71it/s] \n"
     ]
    },
    {
     "name": "stdout",
     "output_type": "stream",
     "text": [
      "80 non_vegetated_lands_pd 4\n"
     ]
    },
    {
     "name": "stderr",
     "output_type": "stream",
     "text": [
      "predicting ensemble 0 : 100%|██████████| 684/684 [00:07<00:00, 90.54it/s]\n",
      "predicting ensemble 1 : 100%|██████████| 666/666 [00:07<00:00, 91.53it/s] \n",
      "predicting ensemble 2 : 100%|██████████| 426/426 [00:04<00:00, 87.07it/s]\n",
      "predicting ensemble 3 : 100%|██████████| 403/403 [00:04<00:00, 87.69it/s] \n",
      "predicting ensemble 4 : 100%|██████████| 553/553 [00:06<00:00, 91.02it/s]\n",
      "predicting ensemble 5 : 100%|██████████| 580/580 [00:06<00:00, 90.79it/s]\n",
      "predicting ensemble 6 : 100%|██████████| 581/581 [00:06<00:00, 92.41it/s] \n",
      "predicting ensemble 7 : 100%|██████████| 601/601 [00:06<00:00, 93.24it/s]\n"
     ]
    },
    {
     "name": "stdout",
     "output_type": "stream",
     "text": [
      "81 open_shrublands 0\n"
     ]
    },
    {
     "name": "stderr",
     "output_type": "stream",
     "text": [
      "predicting ensemble 0 : 100%|██████████| 684/684 [00:07<00:00, 91.21it/s] \n",
      "predicting ensemble 1 : 100%|██████████| 666/666 [00:07<00:00, 92.20it/s] \n",
      "predicting ensemble 2 : 100%|██████████| 426/426 [00:05<00:00, 84.30it/s]\n",
      "predicting ensemble 3 : 100%|██████████| 403/403 [00:04<00:00, 87.42it/s]\n",
      "predicting ensemble 4 : 100%|██████████| 553/553 [00:06<00:00, 90.55it/s] \n",
      "predicting ensemble 5 : 100%|██████████| 580/580 [00:06<00:00, 90.61it/s]\n",
      "predicting ensemble 6 : 100%|██████████| 581/581 [00:06<00:00, 92.10it/s] \n",
      "predicting ensemble 7 : 100%|██████████| 601/601 [00:06<00:00, 93.94it/s] \n"
     ]
    },
    {
     "name": "stdout",
     "output_type": "stream",
     "text": [
      "81 open_shrublands 1\n"
     ]
    },
    {
     "name": "stderr",
     "output_type": "stream",
     "text": [
      "predicting ensemble 0 : 100%|██████████| 684/684 [00:07<00:00, 90.73it/s] \n",
      "predicting ensemble 1 : 100%|██████████| 666/666 [00:07<00:00, 88.96it/s] \n",
      "predicting ensemble 2 : 100%|██████████| 426/426 [00:04<00:00, 88.29it/s]\n",
      "predicting ensemble 3 : 100%|██████████| 403/403 [00:04<00:00, 89.02it/s]\n",
      "predicting ensemble 4 : 100%|██████████| 553/553 [00:06<00:00, 90.87it/s] \n",
      "predicting ensemble 5 : 100%|██████████| 580/580 [00:06<00:00, 91.24it/s]\n",
      "predicting ensemble 6 : 100%|██████████| 581/581 [00:06<00:00, 92.61it/s] \n",
      "predicting ensemble 7 : 100%|██████████| 601/601 [00:06<00:00, 88.76it/s]\n"
     ]
    },
    {
     "name": "stdout",
     "output_type": "stream",
     "text": [
      "81 open_shrublands 2\n"
     ]
    },
    {
     "name": "stderr",
     "output_type": "stream",
     "text": [
      "predicting ensemble 0 : 100%|██████████| 684/684 [00:07<00:00, 91.37it/s] \n",
      "predicting ensemble 1 : 100%|██████████| 666/666 [00:07<00:00, 93.38it/s] \n",
      "predicting ensemble 2 : 100%|██████████| 426/426 [00:04<00:00, 88.48it/s]\n",
      "predicting ensemble 3 : 100%|██████████| 403/403 [00:04<00:00, 90.56it/s] \n",
      "predicting ensemble 4 : 100%|██████████| 553/553 [00:06<00:00, 89.04it/s] \n",
      "predicting ensemble 5 : 100%|██████████| 580/580 [00:06<00:00, 90.33it/s]\n",
      "predicting ensemble 6 : 100%|██████████| 581/581 [00:06<00:00, 93.59it/s] \n",
      "predicting ensemble 7 : 100%|██████████| 601/601 [00:06<00:00, 91.65it/s]\n"
     ]
    },
    {
     "name": "stdout",
     "output_type": "stream",
     "text": [
      "81 open_shrublands 3\n"
     ]
    },
    {
     "name": "stderr",
     "output_type": "stream",
     "text": [
      "predicting ensemble 0 : 100%|██████████| 684/684 [00:07<00:00, 90.86it/s]\n",
      "predicting ensemble 1 : 100%|██████████| 666/666 [00:07<00:00, 92.76it/s] \n",
      "predicting ensemble 2 : 100%|██████████| 426/426 [00:04<00:00, 87.78it/s]\n",
      "predicting ensemble 3 : 100%|██████████| 403/403 [00:04<00:00, 89.41it/s] \n",
      "predicting ensemble 4 : 100%|██████████| 553/553 [00:06<00:00, 91.54it/s] \n",
      "predicting ensemble 5 : 100%|██████████| 580/580 [00:06<00:00, 90.69it/s]\n",
      "predicting ensemble 6 : 100%|██████████| 581/581 [00:06<00:00, 93.22it/s] \n",
      "predicting ensemble 7 : 100%|██████████| 601/601 [00:06<00:00, 92.86it/s] \n"
     ]
    },
    {
     "name": "stdout",
     "output_type": "stream",
     "text": [
      "81 open_shrublands 4\n"
     ]
    },
    {
     "name": "stderr",
     "output_type": "stream",
     "text": [
      "predicting ensemble 0 : 100%|██████████| 684/684 [00:07<00:00, 91.56it/s] \n",
      "predicting ensemble 1 : 100%|██████████| 666/666 [00:07<00:00, 92.08it/s] \n",
      "predicting ensemble 2 : 100%|██████████| 426/426 [00:04<00:00, 87.00it/s]\n",
      "predicting ensemble 3 : 100%|██████████| 403/403 [00:04<00:00, 89.52it/s] \n",
      "predicting ensemble 4 : 100%|██████████| 553/553 [00:06<00:00, 90.99it/s] \n",
      "predicting ensemble 5 : 100%|██████████| 580/580 [00:06<00:00, 91.17it/s]\n",
      "predicting ensemble 6 : 100%|██████████| 581/581 [00:06<00:00, 86.84it/s]\n",
      "predicting ensemble 7 : 100%|██████████| 601/601 [00:06<00:00, 88.78it/s]\n"
     ]
    },
    {
     "name": "stdout",
     "output_type": "stream",
     "text": [
      "82 open_shrublands_ed 0\n"
     ]
    },
    {
     "name": "stderr",
     "output_type": "stream",
     "text": [
      "predicting ensemble 0 : 100%|██████████| 684/684 [00:07<00:00, 88.34it/s] \n",
      "predicting ensemble 1 : 100%|██████████| 666/666 [00:07<00:00, 94.04it/s] \n",
      "predicting ensemble 2 : 100%|██████████| 426/426 [00:04<00:00, 88.27it/s]\n",
      "predicting ensemble 3 : 100%|██████████| 403/403 [00:04<00:00, 90.73it/s] \n",
      "predicting ensemble 4 : 100%|██████████| 553/553 [00:06<00:00, 91.82it/s] \n",
      "predicting ensemble 5 : 100%|██████████| 580/580 [00:06<00:00, 91.75it/s]\n",
      "predicting ensemble 6 : 100%|██████████| 581/581 [00:06<00:00, 94.92it/s] \n",
      "predicting ensemble 7 : 100%|██████████| 601/601 [00:06<00:00, 92.82it/s]\n"
     ]
    },
    {
     "name": "stdout",
     "output_type": "stream",
     "text": [
      "82 open_shrublands_ed 1\n"
     ]
    },
    {
     "name": "stderr",
     "output_type": "stream",
     "text": [
      "predicting ensemble 0 : 100%|██████████| 684/684 [00:07<00:00, 89.28it/s]\n",
      "predicting ensemble 1 : 100%|██████████| 666/666 [00:07<00:00, 89.20it/s] \n",
      "predicting ensemble 2 : 100%|██████████| 426/426 [00:04<00:00, 88.28it/s]\n",
      "predicting ensemble 3 : 100%|██████████| 403/403 [00:04<00:00, 90.93it/s] \n",
      "predicting ensemble 4 : 100%|██████████| 553/553 [00:06<00:00, 88.88it/s]\n",
      "predicting ensemble 5 : 100%|██████████| 580/580 [00:06<00:00, 91.56it/s]\n",
      "predicting ensemble 6 : 100%|██████████| 581/581 [00:06<00:00, 93.40it/s] \n",
      "predicting ensemble 7 : 100%|██████████| 601/601 [00:06<00:00, 92.46it/s]\n"
     ]
    },
    {
     "name": "stdout",
     "output_type": "stream",
     "text": [
      "82 open_shrublands_ed 2\n"
     ]
    },
    {
     "name": "stderr",
     "output_type": "stream",
     "text": [
      "predicting ensemble 0 : 100%|██████████| 684/684 [00:07<00:00, 92.54it/s] \n",
      "predicting ensemble 1 : 100%|██████████| 666/666 [00:07<00:00, 91.66it/s]\n",
      "predicting ensemble 2 : 100%|██████████| 426/426 [00:04<00:00, 88.22it/s]\n",
      "predicting ensemble 3 : 100%|██████████| 403/403 [00:04<00:00, 89.25it/s]\n",
      "predicting ensemble 4 : 100%|██████████| 553/553 [00:06<00:00, 90.33it/s] \n",
      "predicting ensemble 5 : 100%|██████████| 580/580 [00:06<00:00, 92.09it/s] \n",
      "predicting ensemble 6 : 100%|██████████| 581/581 [00:06<00:00, 87.33it/s]\n",
      "predicting ensemble 7 : 100%|██████████| 601/601 [00:06<00:00, 93.04it/s] \n"
     ]
    },
    {
     "name": "stdout",
     "output_type": "stream",
     "text": [
      "82 open_shrublands_ed 3\n"
     ]
    },
    {
     "name": "stderr",
     "output_type": "stream",
     "text": [
      "predicting ensemble 0 : 100%|██████████| 684/684 [00:07<00:00, 92.46it/s] \n",
      "predicting ensemble 1 : 100%|██████████| 666/666 [00:07<00:00, 92.87it/s] \n",
      "predicting ensemble 2 : 100%|██████████| 426/426 [00:04<00:00, 86.93it/s]\n",
      "predicting ensemble 3 : 100%|██████████| 403/403 [00:04<00:00, 89.05it/s]\n",
      "predicting ensemble 4 : 100%|██████████| 553/553 [00:06<00:00, 88.78it/s]\n",
      "predicting ensemble 5 : 100%|██████████| 580/580 [00:06<00:00, 91.19it/s]\n",
      "predicting ensemble 6 : 100%|██████████| 581/581 [00:06<00:00, 93.66it/s] \n",
      "predicting ensemble 7 : 100%|██████████| 601/601 [00:06<00:00, 92.28it/s] \n"
     ]
    },
    {
     "name": "stdout",
     "output_type": "stream",
     "text": [
      "82 open_shrublands_ed 4\n"
     ]
    },
    {
     "name": "stderr",
     "output_type": "stream",
     "text": [
      "predicting ensemble 0 : 100%|██████████| 684/684 [00:07<00:00, 92.48it/s] \n",
      "predicting ensemble 1 : 100%|██████████| 666/666 [00:07<00:00, 93.07it/s] \n",
      "predicting ensemble 2 : 100%|██████████| 426/426 [00:05<00:00, 84.24it/s]\n",
      "predicting ensemble 3 : 100%|██████████| 403/403 [00:04<00:00, 90.29it/s] \n",
      "predicting ensemble 4 : 100%|██████████| 553/553 [00:06<00:00, 91.36it/s]\n",
      "predicting ensemble 5 : 100%|██████████| 580/580 [00:06<00:00, 91.50it/s]\n",
      "predicting ensemble 6 : 100%|██████████| 581/581 [00:06<00:00, 93.80it/s] \n",
      "predicting ensemble 7 : 100%|██████████| 601/601 [00:06<00:00, 93.13it/s]\n"
     ]
    },
    {
     "name": "stdout",
     "output_type": "stream",
     "text": [
      "83 open_shrublands_lpi 0\n"
     ]
    },
    {
     "name": "stderr",
     "output_type": "stream",
     "text": [
      "predicting ensemble 0 : 100%|██████████| 684/684 [00:07<00:00, 91.36it/s] \n",
      "predicting ensemble 1 : 100%|██████████| 666/666 [00:07<00:00, 92.17it/s]\n",
      "predicting ensemble 2 : 100%|██████████| 426/426 [00:04<00:00, 88.38it/s]\n",
      "predicting ensemble 3 : 100%|██████████| 403/403 [00:04<00:00, 91.28it/s] \n",
      "predicting ensemble 4 : 100%|██████████| 553/553 [00:05<00:00, 92.74it/s]\n",
      "predicting ensemble 5 : 100%|██████████| 580/580 [00:06<00:00, 92.18it/s]\n",
      "predicting ensemble 6 : 100%|██████████| 581/581 [00:06<00:00, 90.36it/s] \n",
      "predicting ensemble 7 : 100%|██████████| 601/601 [00:06<00:00, 93.44it/s] \n"
     ]
    },
    {
     "name": "stdout",
     "output_type": "stream",
     "text": [
      "83 open_shrublands_lpi 1\n"
     ]
    },
    {
     "name": "stderr",
     "output_type": "stream",
     "text": [
      "predicting ensemble 0 : 100%|██████████| 684/684 [00:07<00:00, 92.17it/s] \n",
      "predicting ensemble 1 : 100%|██████████| 666/666 [00:07<00:00, 92.77it/s] \n",
      "predicting ensemble 2 : 100%|██████████| 426/426 [00:04<00:00, 87.78it/s]\n",
      "predicting ensemble 3 : 100%|██████████| 403/403 [00:04<00:00, 89.62it/s] \n",
      "predicting ensemble 4 : 100%|██████████| 553/553 [00:05<00:00, 92.82it/s] \n",
      "predicting ensemble 5 : 100%|██████████| 580/580 [00:06<00:00, 91.65it/s]\n",
      "predicting ensemble 6 : 100%|██████████| 581/581 [00:06<00:00, 93.66it/s] \n",
      "predicting ensemble 7 : 100%|██████████| 601/601 [00:07<00:00, 85.38it/s]\n"
     ]
    },
    {
     "name": "stdout",
     "output_type": "stream",
     "text": [
      "83 open_shrublands_lpi 2\n"
     ]
    },
    {
     "name": "stderr",
     "output_type": "stream",
     "text": [
      "predicting ensemble 0 : 100%|██████████| 684/684 [00:07<00:00, 90.73it/s] \n",
      "predicting ensemble 1 : 100%|██████████| 666/666 [00:07<00:00, 91.96it/s] \n",
      "predicting ensemble 2 : 100%|██████████| 426/426 [00:05<00:00, 77.12it/s]\n",
      "predicting ensemble 3 : 100%|██████████| 403/403 [00:04<00:00, 89.65it/s] \n",
      "predicting ensemble 4 : 100%|██████████| 553/553 [00:06<00:00, 90.91it/s]\n",
      "predicting ensemble 5 : 100%|██████████| 580/580 [00:06<00:00, 91.13it/s]\n",
      "predicting ensemble 6 : 100%|██████████| 581/581 [00:06<00:00, 91.61it/s] \n",
      "predicting ensemble 7 : 100%|██████████| 601/601 [00:06<00:00, 93.31it/s]\n"
     ]
    },
    {
     "name": "stdout",
     "output_type": "stream",
     "text": [
      "83 open_shrublands_lpi 3\n"
     ]
    },
    {
     "name": "stderr",
     "output_type": "stream",
     "text": [
      "predicting ensemble 0 : 100%|██████████| 684/684 [00:07<00:00, 90.25it/s]\n",
      "predicting ensemble 1 : 100%|██████████| 666/666 [00:07<00:00, 91.79it/s] \n",
      "predicting ensemble 2 : 100%|██████████| 426/426 [00:04<00:00, 88.15it/s]\n",
      "predicting ensemble 3 : 100%|██████████| 403/403 [00:04<00:00, 89.67it/s]\n",
      "predicting ensemble 4 : 100%|██████████| 553/553 [00:05<00:00, 92.33it/s]\n",
      "predicting ensemble 5 : 100%|██████████| 580/580 [00:06<00:00, 91.18it/s]\n",
      "predicting ensemble 6 : 100%|██████████| 581/581 [00:06<00:00, 89.42it/s] \n",
      "predicting ensemble 7 : 100%|██████████| 601/601 [00:06<00:00, 93.77it/s] \n"
     ]
    },
    {
     "name": "stdout",
     "output_type": "stream",
     "text": [
      "83 open_shrublands_lpi 4\n"
     ]
    },
    {
     "name": "stderr",
     "output_type": "stream",
     "text": [
      "predicting ensemble 0 : 100%|██████████| 684/684 [00:07<00:00, 92.40it/s] \n",
      "predicting ensemble 1 : 100%|██████████| 666/666 [00:08<00:00, 81.68it/s]\n",
      "predicting ensemble 2 : 100%|██████████| 426/426 [00:05<00:00, 84.64it/s]\n",
      "predicting ensemble 3 : 100%|██████████| 403/403 [00:04<00:00, 91.12it/s]\n",
      "predicting ensemble 4 : 100%|██████████| 553/553 [00:06<00:00, 91.75it/s] \n",
      "predicting ensemble 5 : 100%|██████████| 580/580 [00:06<00:00, 91.66it/s]\n",
      "predicting ensemble 6 : 100%|██████████| 581/581 [00:06<00:00, 92.95it/s] \n",
      "predicting ensemble 7 : 100%|██████████| 601/601 [00:06<00:00, 92.91it/s]\n"
     ]
    },
    {
     "name": "stdout",
     "output_type": "stream",
     "text": [
      "84 open_shrublands_pd 0\n"
     ]
    },
    {
     "name": "stderr",
     "output_type": "stream",
     "text": [
      "predicting ensemble 0 : 100%|██████████| 684/684 [00:07<00:00, 92.14it/s] \n",
      "predicting ensemble 1 : 100%|██████████| 666/666 [00:07<00:00, 91.10it/s] \n",
      "predicting ensemble 2 : 100%|██████████| 426/426 [00:04<00:00, 89.31it/s]\n",
      "predicting ensemble 3 : 100%|██████████| 403/403 [00:04<00:00, 90.46it/s] \n",
      "predicting ensemble 4 : 100%|██████████| 553/553 [00:06<00:00, 91.72it/s] \n",
      "predicting ensemble 5 : 100%|██████████| 580/580 [00:06<00:00, 91.96it/s]\n",
      "predicting ensemble 6 : 100%|██████████| 581/581 [00:06<00:00, 93.98it/s] \n",
      "predicting ensemble 7 : 100%|██████████| 601/601 [00:06<00:00, 93.41it/s]\n"
     ]
    },
    {
     "name": "stdout",
     "output_type": "stream",
     "text": [
      "84 open_shrublands_pd 1\n"
     ]
    },
    {
     "name": "stderr",
     "output_type": "stream",
     "text": [
      "predicting ensemble 0 : 100%|██████████| 684/684 [00:07<00:00, 91.21it/s]\n",
      "predicting ensemble 1 : 100%|██████████| 666/666 [00:07<00:00, 92.90it/s] \n",
      "predicting ensemble 2 : 100%|██████████| 426/426 [00:04<00:00, 88.38it/s]\n",
      "predicting ensemble 3 : 100%|██████████| 403/403 [00:04<00:00, 91.02it/s] \n",
      "predicting ensemble 4 : 100%|██████████| 553/553 [00:06<00:00, 92.10it/s] \n",
      "predicting ensemble 5 : 100%|██████████| 580/580 [00:06<00:00, 91.68it/s]\n",
      "predicting ensemble 6 : 100%|██████████| 581/581 [00:06<00:00, 89.86it/s]\n",
      "predicting ensemble 7 : 100%|██████████| 601/601 [00:06<00:00, 92.13it/s]\n"
     ]
    },
    {
     "name": "stdout",
     "output_type": "stream",
     "text": [
      "84 open_shrublands_pd 2\n"
     ]
    },
    {
     "name": "stderr",
     "output_type": "stream",
     "text": [
      "predicting ensemble 0 : 100%|██████████| 684/684 [00:07<00:00, 92.02it/s] \n",
      "predicting ensemble 1 : 100%|██████████| 666/666 [00:07<00:00, 93.15it/s] \n",
      "predicting ensemble 2 : 100%|██████████| 426/426 [00:04<00:00, 86.80it/s]\n",
      "predicting ensemble 3 : 100%|██████████| 403/403 [00:04<00:00, 90.62it/s]\n",
      "predicting ensemble 4 : 100%|██████████| 553/553 [00:06<00:00, 91.62it/s] \n",
      "predicting ensemble 5 : 100%|██████████| 580/580 [00:06<00:00, 91.28it/s]\n",
      "predicting ensemble 6 : 100%|██████████| 581/581 [00:06<00:00, 94.29it/s] \n",
      "predicting ensemble 7 : 100%|██████████| 601/601 [00:06<00:00, 92.14it/s]\n"
     ]
    },
    {
     "name": "stdout",
     "output_type": "stream",
     "text": [
      "84 open_shrublands_pd 3\n"
     ]
    },
    {
     "name": "stderr",
     "output_type": "stream",
     "text": [
      "predicting ensemble 0 : 100%|██████████| 684/684 [00:07<00:00, 91.97it/s]\n",
      "predicting ensemble 1 : 100%|██████████| 666/666 [00:07<00:00, 92.57it/s] \n",
      "predicting ensemble 2 : 100%|██████████| 426/426 [00:05<00:00, 84.14it/s]\n",
      "predicting ensemble 3 : 100%|██████████| 403/403 [00:04<00:00, 89.55it/s] \n",
      "predicting ensemble 4 : 100%|██████████| 553/553 [00:06<00:00, 91.14it/s] \n",
      "predicting ensemble 5 : 100%|██████████| 580/580 [00:06<00:00, 91.53it/s]\n",
      "predicting ensemble 6 : 100%|██████████| 581/581 [00:06<00:00, 93.04it/s] \n",
      "predicting ensemble 7 : 100%|██████████| 601/601 [00:06<00:00, 94.24it/s] \n"
     ]
    },
    {
     "name": "stdout",
     "output_type": "stream",
     "text": [
      "84 open_shrublands_pd 4\n"
     ]
    },
    {
     "name": "stderr",
     "output_type": "stream",
     "text": [
      "predicting ensemble 0 : 100%|██████████| 684/684 [00:07<00:00, 91.10it/s] \n",
      "predicting ensemble 1 : 100%|██████████| 666/666 [00:07<00:00, 92.04it/s] \n",
      "predicting ensemble 2 : 100%|██████████| 426/426 [00:04<00:00, 88.43it/s]\n",
      "predicting ensemble 3 : 100%|██████████| 403/403 [00:04<00:00, 91.74it/s] \n",
      "predicting ensemble 4 : 100%|██████████| 553/553 [00:06<00:00, 91.69it/s] \n",
      "predicting ensemble 5 : 100%|██████████| 580/580 [00:06<00:00, 91.69it/s]\n",
      "predicting ensemble 6 : 100%|██████████| 581/581 [00:06<00:00, 89.88it/s] \n",
      "predicting ensemble 7 : 100%|██████████| 601/601 [00:06<00:00, 92.96it/s]\n"
     ]
    },
    {
     "name": "stdout",
     "output_type": "stream",
     "text": [
      "85 permanent_wetlands 0\n"
     ]
    },
    {
     "name": "stderr",
     "output_type": "stream",
     "text": [
      "predicting ensemble 0 : 100%|██████████| 684/684 [00:07<00:00, 90.61it/s] \n",
      "predicting ensemble 1 : 100%|██████████| 666/666 [00:07<00:00, 92.21it/s] \n",
      "predicting ensemble 2 : 100%|██████████| 426/426 [00:04<00:00, 87.14it/s]\n",
      "predicting ensemble 3 : 100%|██████████| 403/403 [00:04<00:00, 91.71it/s]\n",
      "predicting ensemble 4 : 100%|██████████| 553/553 [00:06<00:00, 92.16it/s] \n",
      "predicting ensemble 5 : 100%|██████████| 580/580 [00:06<00:00, 92.01it/s]\n",
      "predicting ensemble 6 : 100%|██████████| 581/581 [00:06<00:00, 93.48it/s] \n",
      "predicting ensemble 7 : 100%|██████████| 601/601 [00:06<00:00, 91.73it/s] \n"
     ]
    },
    {
     "name": "stdout",
     "output_type": "stream",
     "text": [
      "85 permanent_wetlands 1\n"
     ]
    },
    {
     "name": "stderr",
     "output_type": "stream",
     "text": [
      "predicting ensemble 0 : 100%|██████████| 684/684 [00:07<00:00, 90.89it/s]\n",
      "predicting ensemble 1 : 100%|██████████| 666/666 [00:07<00:00, 88.97it/s] \n",
      "predicting ensemble 2 : 100%|██████████| 426/426 [00:04<00:00, 88.68it/s]\n",
      "predicting ensemble 3 : 100%|██████████| 403/403 [00:04<00:00, 88.81it/s]\n",
      "predicting ensemble 4 : 100%|██████████| 553/553 [00:06<00:00, 90.92it/s]\n",
      "predicting ensemble 5 : 100%|██████████| 580/580 [00:06<00:00, 92.10it/s]\n",
      "predicting ensemble 6 : 100%|██████████| 581/581 [00:06<00:00, 92.92it/s] \n",
      "predicting ensemble 7 : 100%|██████████| 601/601 [00:06<00:00, 94.23it/s] \n"
     ]
    },
    {
     "name": "stdout",
     "output_type": "stream",
     "text": [
      "85 permanent_wetlands 2\n"
     ]
    },
    {
     "name": "stderr",
     "output_type": "stream",
     "text": [
      "predicting ensemble 0 : 100%|██████████| 684/684 [00:07<00:00, 91.20it/s] \n",
      "predicting ensemble 1 : 100%|██████████| 666/666 [00:07<00:00, 91.74it/s] \n",
      "predicting ensemble 2 : 100%|██████████| 426/426 [00:04<00:00, 88.04it/s]\n",
      "predicting ensemble 3 : 100%|██████████| 403/403 [00:04<00:00, 90.03it/s] \n",
      "predicting ensemble 4 : 100%|██████████| 553/553 [00:06<00:00, 90.93it/s] \n",
      "predicting ensemble 5 : 100%|██████████| 580/580 [00:06<00:00, 87.69it/s]\n",
      "predicting ensemble 6 : 100%|██████████| 581/581 [00:06<00:00, 91.47it/s]\n",
      "predicting ensemble 7 : 100%|██████████| 601/601 [00:06<00:00, 92.74it/s]\n"
     ]
    },
    {
     "name": "stdout",
     "output_type": "stream",
     "text": [
      "85 permanent_wetlands 3\n"
     ]
    },
    {
     "name": "stderr",
     "output_type": "stream",
     "text": [
      "predicting ensemble 0 : 100%|██████████| 684/684 [00:07<00:00, 90.84it/s] \n",
      "predicting ensemble 1 : 100%|██████████| 666/666 [00:07<00:00, 91.91it/s] \n",
      "predicting ensemble 2 : 100%|██████████| 426/426 [00:04<00:00, 87.26it/s]\n",
      "predicting ensemble 3 : 100%|██████████| 403/403 [00:04<00:00, 90.90it/s] \n",
      "predicting ensemble 4 : 100%|██████████| 553/553 [00:06<00:00, 91.97it/s] \n",
      "predicting ensemble 5 : 100%|██████████| 580/580 [00:06<00:00, 91.42it/s]\n",
      "predicting ensemble 6 : 100%|██████████| 581/581 [00:06<00:00, 92.81it/s] \n",
      "predicting ensemble 7 : 100%|██████████| 601/601 [00:06<00:00, 92.14it/s]\n"
     ]
    },
    {
     "name": "stdout",
     "output_type": "stream",
     "text": [
      "85 permanent_wetlands 4\n"
     ]
    },
    {
     "name": "stderr",
     "output_type": "stream",
     "text": [
      "predicting ensemble 0 : 100%|██████████| 684/684 [00:07<00:00, 91.32it/s] \n",
      "predicting ensemble 1 : 100%|██████████| 666/666 [00:07<00:00, 90.74it/s] \n",
      "predicting ensemble 2 : 100%|██████████| 426/426 [00:04<00:00, 87.78it/s]\n",
      "predicting ensemble 3 : 100%|██████████| 403/403 [00:04<00:00, 87.94it/s]\n",
      "predicting ensemble 4 : 100%|██████████| 553/553 [00:06<00:00, 91.90it/s] \n",
      "predicting ensemble 5 : 100%|██████████| 580/580 [00:06<00:00, 91.09it/s]\n",
      "predicting ensemble 6 : 100%|██████████| 581/581 [00:06<00:00, 94.16it/s] \n",
      "predicting ensemble 7 : 100%|██████████| 601/601 [00:06<00:00, 93.48it/s] \n"
     ]
    },
    {
     "name": "stdout",
     "output_type": "stream",
     "text": [
      "86 permanent_wetlands_ed 0\n"
     ]
    },
    {
     "name": "stderr",
     "output_type": "stream",
     "text": [
      "predicting ensemble 0 : 100%|██████████| 684/684 [00:07<00:00, 90.58it/s]\n",
      "predicting ensemble 1 : 100%|██████████| 666/666 [00:07<00:00, 92.50it/s] \n",
      "predicting ensemble 2 : 100%|██████████| 426/426 [00:04<00:00, 88.12it/s]\n",
      "predicting ensemble 3 : 100%|██████████| 403/403 [00:04<00:00, 89.37it/s] \n",
      "predicting ensemble 4 : 100%|██████████| 553/553 [00:06<00:00, 84.36it/s] \n",
      "predicting ensemble 5 : 100%|██████████| 580/580 [00:06<00:00, 89.07it/s]\n",
      "predicting ensemble 6 : 100%|██████████| 581/581 [00:06<00:00, 88.95it/s] \n",
      "predicting ensemble 7 : 100%|██████████| 601/601 [00:06<00:00, 91.63it/s]\n"
     ]
    },
    {
     "name": "stdout",
     "output_type": "stream",
     "text": [
      "86 permanent_wetlands_ed 1\n"
     ]
    },
    {
     "name": "stderr",
     "output_type": "stream",
     "text": [
      "predicting ensemble 0 : 100%|██████████| 684/684 [00:07<00:00, 89.45it/s]\n",
      "predicting ensemble 1 : 100%|██████████| 666/666 [00:07<00:00, 89.62it/s]\n",
      "predicting ensemble 2 : 100%|██████████| 426/426 [00:04<00:00, 86.47it/s]\n",
      "predicting ensemble 3 : 100%|██████████| 403/403 [00:04<00:00, 88.94it/s] \n",
      "predicting ensemble 4 : 100%|██████████| 553/553 [00:06<00:00, 91.57it/s] \n",
      "predicting ensemble 5 : 100%|██████████| 580/580 [00:06<00:00, 90.64it/s]\n",
      "predicting ensemble 6 : 100%|██████████| 581/581 [00:06<00:00, 92.55it/s] \n",
      "predicting ensemble 7 : 100%|██████████| 601/601 [00:06<00:00, 92.87it/s]\n"
     ]
    },
    {
     "name": "stdout",
     "output_type": "stream",
     "text": [
      "86 permanent_wetlands_ed 2\n"
     ]
    },
    {
     "name": "stderr",
     "output_type": "stream",
     "text": [
      "predicting ensemble 0 : 100%|██████████| 684/684 [00:07<00:00, 89.10it/s]\n",
      "predicting ensemble 1 : 100%|██████████| 666/666 [00:07<00:00, 91.48it/s] \n",
      "predicting ensemble 2 : 100%|██████████| 426/426 [00:04<00:00, 88.24it/s]\n",
      "predicting ensemble 3 : 100%|██████████| 403/403 [00:04<00:00, 88.92it/s] \n",
      "predicting ensemble 4 : 100%|██████████| 553/553 [00:06<00:00, 91.20it/s] \n",
      "predicting ensemble 5 : 100%|██████████| 580/580 [00:06<00:00, 91.83it/s]\n",
      "predicting ensemble 6 : 100%|██████████| 581/581 [00:06<00:00, 93.25it/s] \n",
      "predicting ensemble 7 : 100%|██████████| 601/601 [00:06<00:00, 91.76it/s]\n"
     ]
    },
    {
     "name": "stdout",
     "output_type": "stream",
     "text": [
      "86 permanent_wetlands_ed 3\n"
     ]
    },
    {
     "name": "stderr",
     "output_type": "stream",
     "text": [
      "predicting ensemble 0 : 100%|██████████| 684/684 [00:07<00:00, 85.77it/s] \n",
      "predicting ensemble 1 : 100%|██████████| 666/666 [00:07<00:00, 91.01it/s] \n",
      "predicting ensemble 2 : 100%|██████████| 426/426 [00:04<00:00, 87.93it/s]\n",
      "predicting ensemble 3 : 100%|██████████| 403/403 [00:04<00:00, 89.24it/s] \n",
      "predicting ensemble 4 : 100%|██████████| 553/553 [00:06<00:00, 86.18it/s]\n",
      "predicting ensemble 5 : 100%|██████████| 580/580 [00:06<00:00, 89.71it/s]\n",
      "predicting ensemble 6 : 100%|██████████| 581/581 [00:06<00:00, 91.78it/s]\n",
      "predicting ensemble 7 : 100%|██████████| 601/601 [00:06<00:00, 90.72it/s]\n"
     ]
    },
    {
     "name": "stdout",
     "output_type": "stream",
     "text": [
      "86 permanent_wetlands_ed 4\n"
     ]
    },
    {
     "name": "stderr",
     "output_type": "stream",
     "text": [
      "predicting ensemble 0 : 100%|██████████| 684/684 [00:07<00:00, 88.24it/s] \n",
      "predicting ensemble 1 : 100%|██████████| 666/666 [00:07<00:00, 91.15it/s] \n",
      "predicting ensemble 2 : 100%|██████████| 426/426 [00:04<00:00, 88.12it/s]\n",
      "predicting ensemble 3 : 100%|██████████| 403/403 [00:04<00:00, 90.02it/s]\n",
      "predicting ensemble 4 : 100%|██████████| 553/553 [00:06<00:00, 90.74it/s] \n",
      "predicting ensemble 5 : 100%|██████████| 580/580 [00:06<00:00, 89.47it/s]\n",
      "predicting ensemble 6 : 100%|██████████| 581/581 [00:06<00:00, 93.06it/s] \n",
      "predicting ensemble 7 : 100%|██████████| 601/601 [00:06<00:00, 92.32it/s]\n"
     ]
    },
    {
     "name": "stdout",
     "output_type": "stream",
     "text": [
      "87 permanent_wetlands_lpi 0\n"
     ]
    },
    {
     "name": "stderr",
     "output_type": "stream",
     "text": [
      "predicting ensemble 0 : 100%|██████████| 684/684 [00:07<00:00, 88.20it/s]\n",
      "predicting ensemble 1 : 100%|██████████| 666/666 [00:07<00:00, 89.50it/s]\n",
      "predicting ensemble 2 : 100%|██████████| 426/426 [00:04<00:00, 86.25it/s]\n",
      "predicting ensemble 3 : 100%|██████████| 403/403 [00:04<00:00, 89.96it/s] \n",
      "predicting ensemble 4 : 100%|██████████| 553/553 [00:06<00:00, 90.72it/s] \n",
      "predicting ensemble 5 : 100%|██████████| 580/580 [00:06<00:00, 91.39it/s]\n",
      "predicting ensemble 6 : 100%|██████████| 581/581 [00:06<00:00, 93.37it/s] \n",
      "predicting ensemble 7 : 100%|██████████| 601/601 [00:06<00:00, 92.28it/s] \n"
     ]
    },
    {
     "name": "stdout",
     "output_type": "stream",
     "text": [
      "87 permanent_wetlands_lpi 1\n"
     ]
    },
    {
     "name": "stderr",
     "output_type": "stream",
     "text": [
      "predicting ensemble 0 : 100%|██████████| 684/684 [00:07<00:00, 91.93it/s] \n",
      "predicting ensemble 1 : 100%|██████████| 666/666 [00:08<00:00, 79.82it/s] \n",
      "predicting ensemble 2 : 100%|██████████| 426/426 [00:04<00:00, 89.23it/s]\n",
      "predicting ensemble 3 : 100%|██████████| 403/403 [00:04<00:00, 87.25it/s] \n",
      "predicting ensemble 4 : 100%|██████████| 553/553 [00:06<00:00, 89.52it/s] \n",
      "predicting ensemble 5 : 100%|██████████| 580/580 [00:06<00:00, 92.51it/s]\n",
      "predicting ensemble 6 : 100%|██████████| 581/581 [00:06<00:00, 87.36it/s] \n",
      "predicting ensemble 7 : 100%|██████████| 601/601 [00:06<00:00, 91.43it/s] \n"
     ]
    },
    {
     "name": "stdout",
     "output_type": "stream",
     "text": [
      "87 permanent_wetlands_lpi 2\n"
     ]
    },
    {
     "name": "stderr",
     "output_type": "stream",
     "text": [
      "predicting ensemble 0 : 100%|██████████| 684/684 [00:08<00:00, 78.56it/s]\n",
      "predicting ensemble 1 : 100%|██████████| 666/666 [00:07<00:00, 84.22it/s] \n",
      "predicting ensemble 2 : 100%|██████████| 426/426 [00:04<00:00, 89.49it/s]\n",
      "predicting ensemble 3 : 100%|██████████| 403/403 [00:04<00:00, 88.55it/s]\n",
      "predicting ensemble 4 : 100%|██████████| 553/553 [00:06<00:00, 91.81it/s] \n",
      "predicting ensemble 5 : 100%|██████████| 580/580 [00:06<00:00, 89.36it/s]\n",
      "predicting ensemble 6 : 100%|██████████| 581/581 [00:06<00:00, 90.51it/s] \n",
      "predicting ensemble 7 : 100%|██████████| 601/601 [00:06<00:00, 95.01it/s] \n"
     ]
    },
    {
     "name": "stdout",
     "output_type": "stream",
     "text": [
      "87 permanent_wetlands_lpi 3\n"
     ]
    },
    {
     "name": "stderr",
     "output_type": "stream",
     "text": [
      "predicting ensemble 0 : 100%|██████████| 684/684 [00:07<00:00, 88.56it/s]\n",
      "predicting ensemble 1 : 100%|██████████| 666/666 [00:07<00:00, 92.36it/s] \n",
      "predicting ensemble 2 : 100%|██████████| 426/426 [00:04<00:00, 88.56it/s]\n",
      "predicting ensemble 3 : 100%|██████████| 403/403 [00:04<00:00, 87.89it/s]\n",
      "predicting ensemble 4 : 100%|██████████| 553/553 [00:06<00:00, 88.43it/s] \n",
      "predicting ensemble 5 : 100%|██████████| 580/580 [00:06<00:00, 92.58it/s]\n",
      "predicting ensemble 6 : 100%|██████████| 581/581 [00:06<00:00, 94.12it/s] \n",
      "predicting ensemble 7 : 100%|██████████| 601/601 [00:06<00:00, 95.10it/s] \n"
     ]
    },
    {
     "name": "stdout",
     "output_type": "stream",
     "text": [
      "87 permanent_wetlands_lpi 4\n"
     ]
    },
    {
     "name": "stderr",
     "output_type": "stream",
     "text": [
      "predicting ensemble 0 : 100%|██████████| 684/684 [00:07<00:00, 92.59it/s] \n",
      "predicting ensemble 1 : 100%|██████████| 666/666 [00:07<00:00, 91.86it/s] \n",
      "predicting ensemble 2 : 100%|██████████| 426/426 [00:04<00:00, 87.95it/s]\n",
      "predicting ensemble 3 : 100%|██████████| 403/403 [00:04<00:00, 90.96it/s] \n",
      "predicting ensemble 4 : 100%|██████████| 553/553 [00:06<00:00, 89.28it/s] \n",
      "predicting ensemble 5 : 100%|██████████| 580/580 [00:06<00:00, 91.97it/s]\n",
      "predicting ensemble 6 : 100%|██████████| 581/581 [00:06<00:00, 89.98it/s] \n",
      "predicting ensemble 7 : 100%|██████████| 601/601 [00:06<00:00, 93.26it/s] \n"
     ]
    },
    {
     "name": "stdout",
     "output_type": "stream",
     "text": [
      "88 permanent_wetlands_pd 0\n"
     ]
    },
    {
     "name": "stderr",
     "output_type": "stream",
     "text": [
      "predicting ensemble 0 : 100%|██████████| 684/684 [00:07<00:00, 90.81it/s] \n",
      "predicting ensemble 1 : 100%|██████████| 666/666 [00:07<00:00, 93.62it/s] \n",
      "predicting ensemble 2 : 100%|██████████| 426/426 [00:04<00:00, 88.39it/s]\n",
      "predicting ensemble 3 : 100%|██████████| 403/403 [00:04<00:00, 90.37it/s] \n",
      "predicting ensemble 4 : 100%|██████████| 553/553 [00:06<00:00, 91.21it/s] \n",
      "predicting ensemble 5 : 100%|██████████| 580/580 [00:06<00:00, 86.40it/s]\n",
      "predicting ensemble 6 : 100%|██████████| 581/581 [00:06<00:00, 88.20it/s] \n",
      "predicting ensemble 7 : 100%|██████████| 601/601 [00:07<00:00, 77.50it/s]\n"
     ]
    },
    {
     "name": "stdout",
     "output_type": "stream",
     "text": [
      "88 permanent_wetlands_pd 1\n"
     ]
    },
    {
     "name": "stderr",
     "output_type": "stream",
     "text": [
      "predicting ensemble 0 : 100%|██████████| 684/684 [00:09<00:00, 69.19it/s]\n",
      "predicting ensemble 1 : 100%|██████████| 666/666 [00:08<00:00, 77.37it/s]\n",
      "predicting ensemble 2 : 100%|██████████| 426/426 [00:06<00:00, 68.64it/s]\n",
      "predicting ensemble 3 : 100%|██████████| 403/403 [00:04<00:00, 82.80it/s] \n",
      "predicting ensemble 4 : 100%|██████████| 553/553 [00:06<00:00, 90.82it/s] \n",
      "predicting ensemble 5 : 100%|██████████| 580/580 [00:06<00:00, 88.27it/s]\n",
      "predicting ensemble 6 : 100%|██████████| 581/581 [00:06<00:00, 88.93it/s]\n",
      "predicting ensemble 7 : 100%|██████████| 601/601 [00:07<00:00, 78.30it/s]\n"
     ]
    },
    {
     "name": "stdout",
     "output_type": "stream",
     "text": [
      "88 permanent_wetlands_pd 2\n"
     ]
    },
    {
     "name": "stderr",
     "output_type": "stream",
     "text": [
      "predicting ensemble 0 : 100%|██████████| 684/684 [00:07<00:00, 85.87it/s]\n",
      "predicting ensemble 1 : 100%|██████████| 666/666 [00:09<00:00, 72.90it/s]\n",
      "predicting ensemble 2 : 100%|██████████| 426/426 [00:05<00:00, 82.22it/s]\n",
      "predicting ensemble 3 : 100%|██████████| 403/403 [00:05<00:00, 78.57it/s] \n",
      "predicting ensemble 4 : 100%|██████████| 553/553 [00:06<00:00, 89.86it/s] \n",
      "predicting ensemble 5 : 100%|██████████| 580/580 [00:06<00:00, 93.47it/s] \n",
      "predicting ensemble 6 : 100%|██████████| 581/581 [00:06<00:00, 95.02it/s] \n",
      "predicting ensemble 7 : 100%|██████████| 601/601 [00:06<00:00, 94.11it/s] \n"
     ]
    },
    {
     "name": "stdout",
     "output_type": "stream",
     "text": [
      "88 permanent_wetlands_pd 3\n"
     ]
    },
    {
     "name": "stderr",
     "output_type": "stream",
     "text": [
      "predicting ensemble 0 : 100%|██████████| 684/684 [00:07<00:00, 93.60it/s] \n",
      "predicting ensemble 1 : 100%|██████████| 666/666 [00:07<00:00, 86.43it/s] \n",
      "predicting ensemble 2 : 100%|██████████| 426/426 [00:05<00:00, 75.76it/s]\n",
      "predicting ensemble 3 : 100%|██████████| 403/403 [00:05<00:00, 69.22it/s]\n",
      "predicting ensemble 4 : 100%|██████████| 553/553 [00:06<00:00, 82.73it/s] \n",
      "predicting ensemble 5 : 100%|██████████| 580/580 [00:06<00:00, 93.45it/s] \n",
      "predicting ensemble 6 : 100%|██████████| 581/581 [00:06<00:00, 89.68it/s] \n",
      "predicting ensemble 7 : 100%|██████████| 601/601 [00:07<00:00, 81.69it/s]\n"
     ]
    },
    {
     "name": "stdout",
     "output_type": "stream",
     "text": [
      "88 permanent_wetlands_pd 4\n"
     ]
    },
    {
     "name": "stderr",
     "output_type": "stream",
     "text": [
      "predicting ensemble 0 : 100%|██████████| 684/684 [00:07<00:00, 88.07it/s]\n",
      "predicting ensemble 1 : 100%|██████████| 666/666 [00:07<00:00, 93.42it/s] \n",
      "predicting ensemble 2 : 100%|██████████| 426/426 [00:05<00:00, 80.53it/s]\n",
      "predicting ensemble 3 : 100%|██████████| 403/403 [00:05<00:00, 76.38it/s]\n",
      "predicting ensemble 4 : 100%|██████████| 553/553 [00:06<00:00, 84.38it/s] \n",
      "predicting ensemble 5 : 100%|██████████| 580/580 [00:06<00:00, 93.98it/s]\n",
      "predicting ensemble 6 : 100%|██████████| 581/581 [00:06<00:00, 91.54it/s] \n",
      "predicting ensemble 7 : 100%|██████████| 601/601 [00:07<00:00, 82.30it/s]\n"
     ]
    },
    {
     "name": "stdout",
     "output_type": "stream",
     "text": [
      "89 savannas 0\n"
     ]
    },
    {
     "name": "stderr",
     "output_type": "stream",
     "text": [
      "predicting ensemble 0 : 100%|██████████| 684/684 [00:08<00:00, 84.96it/s] \n",
      "predicting ensemble 1 : 100%|██████████| 666/666 [00:07<00:00, 87.71it/s] \n",
      "predicting ensemble 2 : 100%|██████████| 426/426 [00:05<00:00, 82.25it/s]\n",
      "predicting ensemble 3 : 100%|██████████| 403/403 [00:04<00:00, 85.70it/s] \n",
      "predicting ensemble 4 : 100%|██████████| 553/553 [00:06<00:00, 89.50it/s] \n",
      "predicting ensemble 5 : 100%|██████████| 580/580 [00:06<00:00, 92.08it/s]\n",
      "predicting ensemble 6 : 100%|██████████| 581/581 [00:06<00:00, 90.08it/s] \n",
      "predicting ensemble 7 : 100%|██████████| 601/601 [00:07<00:00, 79.31it/s] \n"
     ]
    },
    {
     "name": "stdout",
     "output_type": "stream",
     "text": [
      "89 savannas 1\n"
     ]
    },
    {
     "name": "stderr",
     "output_type": "stream",
     "text": [
      "predicting ensemble 0 : 100%|██████████| 684/684 [00:08<00:00, 80.74it/s] \n",
      "predicting ensemble 1 : 100%|██████████| 666/666 [00:08<00:00, 80.94it/s] \n",
      "predicting ensemble 2 : 100%|██████████| 426/426 [00:05<00:00, 75.01it/s]\n",
      "predicting ensemble 3 : 100%|██████████| 403/403 [00:04<00:00, 85.72it/s] \n",
      "predicting ensemble 4 : 100%|██████████| 553/553 [00:07<00:00, 78.01it/s]\n",
      "predicting ensemble 5 : 100%|██████████| 580/580 [00:07<00:00, 78.06it/s]\n",
      "predicting ensemble 6 : 100%|██████████| 581/581 [00:07<00:00, 75.83it/s]\n",
      "predicting ensemble 7 : 100%|██████████| 601/601 [00:08<00:00, 71.17it/s]\n"
     ]
    },
    {
     "name": "stdout",
     "output_type": "stream",
     "text": [
      "89 savannas 2\n"
     ]
    },
    {
     "name": "stderr",
     "output_type": "stream",
     "text": [
      "predicting ensemble 0 : 100%|██████████| 684/684 [00:07<00:00, 86.01it/s] \n",
      "predicting ensemble 1 : 100%|██████████| 666/666 [00:10<00:00, 65.87it/s]\n",
      "predicting ensemble 2 : 100%|██████████| 426/426 [00:06<00:00, 63.88it/s]\n",
      "predicting ensemble 3 : 100%|██████████| 403/403 [00:05<00:00, 73.56it/s]\n",
      "predicting ensemble 4 : 100%|██████████| 553/553 [00:06<00:00, 86.05it/s]\n",
      "predicting ensemble 5 : 100%|██████████| 580/580 [00:07<00:00, 81.82it/s]\n",
      "predicting ensemble 6 : 100%|██████████| 581/581 [00:06<00:00, 87.65it/s]\n",
      "predicting ensemble 7 : 100%|██████████| 601/601 [00:06<00:00, 88.99it/s] \n"
     ]
    },
    {
     "name": "stdout",
     "output_type": "stream",
     "text": [
      "89 savannas 3\n"
     ]
    },
    {
     "name": "stderr",
     "output_type": "stream",
     "text": [
      "predicting ensemble 0 : 100%|██████████| 684/684 [00:07<00:00, 90.76it/s] \n",
      "predicting ensemble 1 : 100%|██████████| 666/666 [00:07<00:00, 87.49it/s]\n",
      "predicting ensemble 2 : 100%|██████████| 426/426 [00:05<00:00, 82.93it/s]\n",
      "predicting ensemble 3 : 100%|██████████| 403/403 [00:04<00:00, 81.48it/s]\n",
      "predicting ensemble 4 : 100%|██████████| 553/553 [00:06<00:00, 80.70it/s]\n",
      "predicting ensemble 5 : 100%|██████████| 580/580 [00:07<00:00, 73.55it/s]\n",
      "predicting ensemble 6 : 100%|██████████| 581/581 [00:08<00:00, 71.40it/s]\n",
      "predicting ensemble 7 : 100%|██████████| 601/601 [00:07<00:00, 78.46it/s]\n"
     ]
    },
    {
     "name": "stdout",
     "output_type": "stream",
     "text": [
      "89 savannas 4\n"
     ]
    },
    {
     "name": "stderr",
     "output_type": "stream",
     "text": [
      "predicting ensemble 0 : 100%|██████████| 684/684 [00:09<00:00, 72.36it/s]\n",
      "predicting ensemble 1 : 100%|██████████| 666/666 [00:08<00:00, 74.63it/s]\n",
      "predicting ensemble 2 : 100%|██████████| 426/426 [00:05<00:00, 77.17it/s]\n",
      "predicting ensemble 3 : 100%|██████████| 403/403 [00:05<00:00, 78.26it/s]\n",
      "predicting ensemble 4 : 100%|██████████| 553/553 [00:06<00:00, 81.62it/s]\n",
      "predicting ensemble 5 : 100%|██████████| 580/580 [00:06<00:00, 86.93it/s]\n",
      "predicting ensemble 6 : 100%|██████████| 581/581 [00:07<00:00, 82.04it/s]\n",
      "predicting ensemble 7 : 100%|██████████| 601/601 [00:07<00:00, 76.05it/s]\n"
     ]
    },
    {
     "name": "stdout",
     "output_type": "stream",
     "text": [
      "90 savannas_ed 0\n"
     ]
    },
    {
     "name": "stderr",
     "output_type": "stream",
     "text": [
      "predicting ensemble 0 : 100%|██████████| 684/684 [00:08<00:00, 84.12it/s] \n",
      "predicting ensemble 1 : 100%|██████████| 666/666 [00:08<00:00, 75.65it/s]\n",
      "predicting ensemble 2 : 100%|██████████| 426/426 [00:06<00:00, 71.00it/s]\n",
      "predicting ensemble 3 : 100%|██████████| 403/403 [00:05<00:00, 78.55it/s]\n",
      "predicting ensemble 4 : 100%|██████████| 553/553 [00:07<00:00, 73.44it/s]\n",
      "predicting ensemble 5 : 100%|██████████| 580/580 [00:07<00:00, 80.70it/s]\n",
      "predicting ensemble 6 : 100%|██████████| 581/581 [00:07<00:00, 80.83it/s]\n",
      "predicting ensemble 7 : 100%|██████████| 601/601 [00:06<00:00, 88.21it/s]\n"
     ]
    },
    {
     "name": "stdout",
     "output_type": "stream",
     "text": [
      "90 savannas_ed 1\n"
     ]
    },
    {
     "name": "stderr",
     "output_type": "stream",
     "text": [
      "predicting ensemble 0 : 100%|██████████| 684/684 [00:09<00:00, 71.79it/s]\n",
      "predicting ensemble 1 : 100%|██████████| 666/666 [00:09<00:00, 70.81it/s]\n",
      "predicting ensemble 2 : 100%|██████████| 426/426 [00:05<00:00, 71.51it/s]\n",
      "predicting ensemble 3 : 100%|██████████| 403/403 [00:05<00:00, 71.59it/s]\n",
      "predicting ensemble 4 : 100%|██████████| 553/553 [00:05<00:00, 93.36it/s] \n",
      "predicting ensemble 5 : 100%|██████████| 580/580 [00:06<00:00, 93.25it/s] \n",
      "predicting ensemble 6 : 100%|██████████| 581/581 [00:06<00:00, 93.49it/s] \n",
      "predicting ensemble 7 : 100%|██████████| 601/601 [00:07<00:00, 82.73it/s] \n"
     ]
    },
    {
     "name": "stdout",
     "output_type": "stream",
     "text": [
      "90 savannas_ed 2\n"
     ]
    },
    {
     "name": "stderr",
     "output_type": "stream",
     "text": [
      "predicting ensemble 0 : 100%|██████████| 684/684 [00:07<00:00, 89.67it/s] \n",
      "predicting ensemble 1 : 100%|██████████| 666/666 [00:08<00:00, 79.94it/s] \n",
      "predicting ensemble 2 : 100%|██████████| 426/426 [00:05<00:00, 71.06it/s]\n",
      "predicting ensemble 3 : 100%|██████████| 403/403 [00:05<00:00, 71.21it/s]\n",
      "predicting ensemble 4 : 100%|██████████| 553/553 [00:06<00:00, 80.62it/s]\n",
      "predicting ensemble 5 : 100%|██████████| 580/580 [00:06<00:00, 89.53it/s] \n",
      "predicting ensemble 6 : 100%|██████████| 581/581 [00:06<00:00, 94.46it/s] \n",
      "predicting ensemble 7 : 100%|██████████| 601/601 [00:07<00:00, 77.02it/s]\n"
     ]
    },
    {
     "name": "stdout",
     "output_type": "stream",
     "text": [
      "90 savannas_ed 3\n"
     ]
    },
    {
     "name": "stderr",
     "output_type": "stream",
     "text": [
      "predicting ensemble 0 : 100%|██████████| 684/684 [00:08<00:00, 84.84it/s] \n",
      "predicting ensemble 1 : 100%|██████████| 666/666 [00:07<00:00, 92.70it/s] \n",
      "predicting ensemble 2 : 100%|██████████| 426/426 [00:04<00:00, 87.58it/s]\n",
      "predicting ensemble 3 : 100%|██████████| 403/403 [00:04<00:00, 88.96it/s]\n",
      "predicting ensemble 4 : 100%|██████████| 553/553 [00:06<00:00, 89.53it/s] \n",
      "predicting ensemble 5 : 100%|██████████| 580/580 [00:07<00:00, 77.38it/s]\n",
      "predicting ensemble 6 : 100%|██████████| 581/581 [00:08<00:00, 72.52it/s]\n",
      "predicting ensemble 7 : 100%|██████████| 601/601 [00:08<00:00, 68.92it/s]\n"
     ]
    },
    {
     "name": "stdout",
     "output_type": "stream",
     "text": [
      "90 savannas_ed 4\n"
     ]
    },
    {
     "name": "stderr",
     "output_type": "stream",
     "text": [
      "predicting ensemble 0 : 100%|██████████| 684/684 [00:08<00:00, 82.30it/s]\n",
      "predicting ensemble 1 : 100%|██████████| 666/666 [00:07<00:00, 87.63it/s] \n",
      "predicting ensemble 2 : 100%|██████████| 426/426 [00:05<00:00, 77.98it/s]\n",
      "predicting ensemble 3 : 100%|██████████| 403/403 [00:05<00:00, 77.71it/s]\n",
      "predicting ensemble 4 : 100%|██████████| 553/553 [00:06<00:00, 80.38it/s]\n",
      "predicting ensemble 5 : 100%|██████████| 580/580 [00:07<00:00, 74.96it/s]\n",
      "predicting ensemble 6 : 100%|██████████| 581/581 [00:06<00:00, 83.79it/s]\n",
      "predicting ensemble 7 : 100%|██████████| 601/601 [00:06<00:00, 90.57it/s] \n"
     ]
    },
    {
     "name": "stdout",
     "output_type": "stream",
     "text": [
      "91 savannas_lpi 0\n"
     ]
    },
    {
     "name": "stderr",
     "output_type": "stream",
     "text": [
      "predicting ensemble 0 : 100%|██████████| 684/684 [00:07<00:00, 91.29it/s] \n",
      "predicting ensemble 1 : 100%|██████████| 666/666 [00:07<00:00, 91.11it/s] \n",
      "predicting ensemble 2 : 100%|██████████| 426/426 [00:04<00:00, 89.59it/s]\n",
      "predicting ensemble 3 : 100%|██████████| 403/403 [00:04<00:00, 91.31it/s] \n",
      "predicting ensemble 4 : 100%|██████████| 553/553 [00:06<00:00, 79.17it/s] \n",
      "predicting ensemble 5 : 100%|██████████| 580/580 [00:06<00:00, 92.38it/s] \n",
      "predicting ensemble 6 : 100%|██████████| 581/581 [00:06<00:00, 87.38it/s]\n",
      "predicting ensemble 7 : 100%|██████████| 601/601 [00:06<00:00, 91.89it/s] \n"
     ]
    },
    {
     "name": "stdout",
     "output_type": "stream",
     "text": [
      "91 savannas_lpi 1\n"
     ]
    },
    {
     "name": "stderr",
     "output_type": "stream",
     "text": [
      "predicting ensemble 0 : 100%|██████████| 684/684 [00:07<00:00, 91.93it/s] \n",
      "predicting ensemble 1 : 100%|██████████| 666/666 [00:07<00:00, 93.19it/s] \n",
      "predicting ensemble 2 : 100%|██████████| 426/426 [00:04<00:00, 86.13it/s]\n",
      "predicting ensemble 3 : 100%|██████████| 403/403 [00:04<00:00, 88.66it/s] \n",
      "predicting ensemble 4 : 100%|██████████| 553/553 [00:06<00:00, 88.83it/s]\n",
      "predicting ensemble 5 : 100%|██████████| 580/580 [00:06<00:00, 90.51it/s]\n",
      "predicting ensemble 6 : 100%|██████████| 581/581 [00:06<00:00, 86.45it/s] \n",
      "predicting ensemble 7 : 100%|██████████| 601/601 [00:07<00:00, 83.44it/s] \n"
     ]
    },
    {
     "name": "stdout",
     "output_type": "stream",
     "text": [
      "91 savannas_lpi 2\n"
     ]
    },
    {
     "name": "stderr",
     "output_type": "stream",
     "text": [
      "predicting ensemble 0 : 100%|██████████| 684/684 [00:08<00:00, 83.89it/s]\n",
      "predicting ensemble 1 : 100%|██████████| 666/666 [00:07<00:00, 87.46it/s] \n",
      "predicting ensemble 2 : 100%|██████████| 426/426 [00:04<00:00, 85.31it/s]\n",
      "predicting ensemble 3 : 100%|██████████| 403/403 [00:05<00:00, 78.49it/s]\n",
      "predicting ensemble 4 : 100%|██████████| 553/553 [00:06<00:00, 80.19it/s]\n",
      "predicting ensemble 5 : 100%|██████████| 580/580 [00:07<00:00, 75.71it/s]\n",
      "predicting ensemble 6 : 100%|██████████| 581/581 [00:07<00:00, 82.67it/s]\n",
      "predicting ensemble 7 : 100%|██████████| 601/601 [00:07<00:00, 85.38it/s]\n"
     ]
    },
    {
     "name": "stdout",
     "output_type": "stream",
     "text": [
      "91 savannas_lpi 3\n"
     ]
    },
    {
     "name": "stderr",
     "output_type": "stream",
     "text": [
      "predicting ensemble 0 : 100%|██████████| 684/684 [00:07<00:00, 92.21it/s] \n",
      "predicting ensemble 1 : 100%|██████████| 666/666 [00:07<00:00, 93.77it/s] \n",
      "predicting ensemble 2 : 100%|██████████| 426/426 [00:04<00:00, 85.81it/s]\n",
      "predicting ensemble 3 : 100%|██████████| 403/403 [00:04<00:00, 86.03it/s] \n",
      "predicting ensemble 4 : 100%|██████████| 553/553 [00:07<00:00, 78.47it/s]\n",
      "predicting ensemble 5 : 100%|██████████| 580/580 [00:07<00:00, 75.46it/s]\n",
      "predicting ensemble 6 : 100%|██████████| 581/581 [00:08<00:00, 68.94it/s]\n",
      "predicting ensemble 7 : 100%|██████████| 601/601 [00:07<00:00, 85.26it/s]\n"
     ]
    },
    {
     "name": "stdout",
     "output_type": "stream",
     "text": [
      "91 savannas_lpi 4\n"
     ]
    },
    {
     "name": "stderr",
     "output_type": "stream",
     "text": [
      "predicting ensemble 0 : 100%|██████████| 684/684 [00:08<00:00, 81.59it/s]\n",
      "predicting ensemble 1 : 100%|██████████| 666/666 [00:07<00:00, 86.98it/s] \n",
      "predicting ensemble 2 : 100%|██████████| 426/426 [00:05<00:00, 82.37it/s]\n",
      "predicting ensemble 3 : 100%|██████████| 403/403 [00:05<00:00, 76.29it/s]\n",
      "predicting ensemble 4 : 100%|██████████| 553/553 [00:07<00:00, 74.42it/s]\n",
      "predicting ensemble 5 : 100%|██████████| 580/580 [00:07<00:00, 75.14it/s]\n",
      "predicting ensemble 6 : 100%|██████████| 581/581 [00:06<00:00, 85.35it/s]\n",
      "predicting ensemble 7 : 100%|██████████| 601/601 [00:06<00:00, 91.82it/s] \n"
     ]
    },
    {
     "name": "stdout",
     "output_type": "stream",
     "text": [
      "92 savannas_pd 0\n"
     ]
    },
    {
     "name": "stderr",
     "output_type": "stream",
     "text": [
      "predicting ensemble 0 : 100%|██████████| 684/684 [00:07<00:00, 86.22it/s] \n",
      "predicting ensemble 1 : 100%|██████████| 666/666 [00:08<00:00, 75.40it/s]\n",
      "predicting ensemble 2 : 100%|██████████| 426/426 [00:05<00:00, 77.39it/s]\n",
      "predicting ensemble 3 : 100%|██████████| 403/403 [00:05<00:00, 79.40it/s] \n",
      "predicting ensemble 4 : 100%|██████████| 553/553 [00:06<00:00, 80.61it/s] \n",
      "predicting ensemble 5 : 100%|██████████| 580/580 [00:07<00:00, 77.21it/s]\n",
      "predicting ensemble 6 : 100%|██████████| 581/581 [00:07<00:00, 82.51it/s]\n",
      "predicting ensemble 7 : 100%|██████████| 601/601 [00:07<00:00, 81.35it/s]\n"
     ]
    },
    {
     "name": "stdout",
     "output_type": "stream",
     "text": [
      "92 savannas_pd 1\n"
     ]
    },
    {
     "name": "stderr",
     "output_type": "stream",
     "text": [
      "predicting ensemble 0 : 100%|██████████| 684/684 [00:08<00:00, 77.63it/s]\n",
      "predicting ensemble 1 : 100%|██████████| 666/666 [00:08<00:00, 78.95it/s]\n",
      "predicting ensemble 2 : 100%|██████████| 426/426 [00:05<00:00, 73.67it/s]\n",
      "predicting ensemble 3 : 100%|██████████| 403/403 [00:04<00:00, 84.89it/s] \n",
      "predicting ensemble 4 : 100%|██████████| 553/553 [00:06<00:00, 81.84it/s]\n",
      "predicting ensemble 5 : 100%|██████████| 580/580 [00:06<00:00, 94.04it/s] \n",
      "predicting ensemble 6 : 100%|██████████| 581/581 [00:06<00:00, 86.81it/s] \n",
      "predicting ensemble 7 : 100%|██████████| 601/601 [00:06<00:00, 94.52it/s] \n"
     ]
    },
    {
     "name": "stdout",
     "output_type": "stream",
     "text": [
      "92 savannas_pd 2\n"
     ]
    },
    {
     "name": "stderr",
     "output_type": "stream",
     "text": [
      "predicting ensemble 0 : 100%|██████████| 684/684 [00:07<00:00, 85.99it/s] \n",
      "predicting ensemble 1 : 100%|██████████| 666/666 [00:08<00:00, 77.94it/s]\n",
      "predicting ensemble 2 : 100%|██████████| 426/426 [00:05<00:00, 77.06it/s]\n",
      "predicting ensemble 3 : 100%|██████████| 403/403 [00:05<00:00, 72.40it/s]\n",
      "predicting ensemble 4 : 100%|██████████| 553/553 [00:06<00:00, 84.80it/s] \n",
      "predicting ensemble 5 : 100%|██████████| 580/580 [00:07<00:00, 81.94it/s]\n",
      "predicting ensemble 6 : 100%|██████████| 581/581 [00:07<00:00, 77.93it/s]\n",
      "predicting ensemble 7 : 100%|██████████| 601/601 [00:06<00:00, 89.97it/s]\n"
     ]
    },
    {
     "name": "stdout",
     "output_type": "stream",
     "text": [
      "92 savannas_pd 3\n"
     ]
    },
    {
     "name": "stderr",
     "output_type": "stream",
     "text": [
      "predicting ensemble 0 : 100%|██████████| 684/684 [00:08<00:00, 82.11it/s] \n",
      "predicting ensemble 1 : 100%|██████████| 666/666 [00:09<00:00, 71.83it/s]\n",
      "predicting ensemble 2 : 100%|██████████| 426/426 [00:05<00:00, 80.69it/s]\n",
      "predicting ensemble 3 : 100%|██████████| 403/403 [00:04<00:00, 87.70it/s]\n",
      "predicting ensemble 4 : 100%|██████████| 553/553 [00:06<00:00, 90.85it/s]\n",
      "predicting ensemble 5 : 100%|██████████| 580/580 [00:06<00:00, 87.42it/s]\n",
      "predicting ensemble 6 : 100%|██████████| 581/581 [00:06<00:00, 93.12it/s] \n",
      "predicting ensemble 7 : 100%|██████████| 601/601 [00:06<00:00, 90.63it/s]\n"
     ]
    },
    {
     "name": "stdout",
     "output_type": "stream",
     "text": [
      "92 savannas_pd 4\n"
     ]
    },
    {
     "name": "stderr",
     "output_type": "stream",
     "text": [
      "predicting ensemble 0 : 100%|██████████| 684/684 [00:07<00:00, 91.32it/s] \n",
      "predicting ensemble 1 : 100%|██████████| 666/666 [00:07<00:00, 93.68it/s] \n",
      "predicting ensemble 2 : 100%|██████████| 426/426 [00:04<00:00, 87.01it/s]\n",
      "predicting ensemble 3 : 100%|██████████| 403/403 [00:04<00:00, 89.87it/s] \n",
      "predicting ensemble 4 : 100%|██████████| 553/553 [00:05<00:00, 93.66it/s] \n",
      "predicting ensemble 5 : 100%|██████████| 580/580 [00:06<00:00, 91.80it/s]\n",
      "predicting ensemble 6 : 100%|██████████| 581/581 [00:06<00:00, 89.41it/s] \n",
      "predicting ensemble 7 : 100%|██████████| 601/601 [00:06<00:00, 92.30it/s]\n"
     ]
    },
    {
     "name": "stdout",
     "output_type": "stream",
     "text": [
      "93 urban_and_built_up_lands 0\n"
     ]
    },
    {
     "name": "stderr",
     "output_type": "stream",
     "text": [
      "predicting ensemble 0 : 100%|██████████| 684/684 [00:07<00:00, 88.37it/s]\n",
      "predicting ensemble 1 : 100%|██████████| 666/666 [00:08<00:00, 82.61it/s] \n",
      "predicting ensemble 2 : 100%|██████████| 426/426 [00:05<00:00, 74.66it/s]\n",
      "predicting ensemble 3 : 100%|██████████| 403/403 [00:05<00:00, 72.69it/s]\n",
      "predicting ensemble 4 : 100%|██████████| 553/553 [00:06<00:00, 88.69it/s] \n",
      "predicting ensemble 5 : 100%|██████████| 580/580 [00:06<00:00, 88.88it/s]\n",
      "predicting ensemble 6 : 100%|██████████| 581/581 [00:06<00:00, 94.11it/s] \n",
      "predicting ensemble 7 : 100%|██████████| 601/601 [00:06<00:00, 93.07it/s] \n"
     ]
    },
    {
     "name": "stdout",
     "output_type": "stream",
     "text": [
      "93 urban_and_built_up_lands 1\n"
     ]
    },
    {
     "name": "stderr",
     "output_type": "stream",
     "text": [
      "predicting ensemble 0 : 100%|██████████| 684/684 [00:07<00:00, 90.26it/s]\n",
      "predicting ensemble 1 : 100%|██████████| 666/666 [00:09<00:00, 73.12it/s]\n",
      "predicting ensemble 2 : 100%|██████████| 426/426 [00:05<00:00, 83.85it/s]\n",
      "predicting ensemble 3 : 100%|██████████| 403/403 [00:04<00:00, 89.25it/s] \n",
      "predicting ensemble 4 : 100%|██████████| 553/553 [00:07<00:00, 74.37it/s]\n",
      "predicting ensemble 5 : 100%|██████████| 580/580 [00:07<00:00, 74.68it/s]\n",
      "predicting ensemble 6 : 100%|██████████| 581/581 [00:07<00:00, 74.40it/s]\n",
      "predicting ensemble 7 : 100%|██████████| 601/601 [00:06<00:00, 90.92it/s]\n"
     ]
    },
    {
     "name": "stdout",
     "output_type": "stream",
     "text": [
      "93 urban_and_built_up_lands 2\n"
     ]
    },
    {
     "name": "stderr",
     "output_type": "stream",
     "text": [
      "predicting ensemble 0 : 100%|██████████| 684/684 [00:07<00:00, 88.37it/s] \n",
      "predicting ensemble 1 : 100%|██████████| 666/666 [00:08<00:00, 78.56it/s]\n",
      "predicting ensemble 2 : 100%|██████████| 426/426 [00:05<00:00, 75.85it/s]\n",
      "predicting ensemble 3 : 100%|██████████| 403/403 [00:05<00:00, 71.02it/s]\n",
      "predicting ensemble 4 : 100%|██████████| 553/553 [00:06<00:00, 91.16it/s] \n",
      "predicting ensemble 5 : 100%|██████████| 580/580 [00:06<00:00, 87.22it/s]\n",
      "predicting ensemble 6 : 100%|██████████| 581/581 [00:06<00:00, 91.46it/s] \n",
      "predicting ensemble 7 : 100%|██████████| 601/601 [00:06<00:00, 90.98it/s]\n"
     ]
    },
    {
     "name": "stdout",
     "output_type": "stream",
     "text": [
      "93 urban_and_built_up_lands 3\n"
     ]
    },
    {
     "name": "stderr",
     "output_type": "stream",
     "text": [
      "predicting ensemble 0 : 100%|██████████| 684/684 [00:07<00:00, 89.75it/s]\n",
      "predicting ensemble 1 : 100%|██████████| 666/666 [00:07<00:00, 90.51it/s] \n",
      "predicting ensemble 2 : 100%|██████████| 426/426 [00:04<00:00, 87.60it/s]\n",
      "predicting ensemble 3 : 100%|██████████| 403/403 [00:04<00:00, 86.46it/s] \n",
      "predicting ensemble 4 : 100%|██████████| 553/553 [00:06<00:00, 91.01it/s] \n",
      "predicting ensemble 5 : 100%|██████████| 580/580 [00:06<00:00, 91.27it/s]\n",
      "predicting ensemble 6 : 100%|██████████| 581/581 [00:06<00:00, 93.09it/s] \n",
      "predicting ensemble 7 : 100%|██████████| 601/601 [00:07<00:00, 77.08it/s]\n"
     ]
    },
    {
     "name": "stdout",
     "output_type": "stream",
     "text": [
      "93 urban_and_built_up_lands 4\n"
     ]
    },
    {
     "name": "stderr",
     "output_type": "stream",
     "text": [
      "predicting ensemble 0 : 100%|██████████| 684/684 [00:09<00:00, 73.72it/s]\n",
      "predicting ensemble 1 : 100%|██████████| 666/666 [00:08<00:00, 83.24it/s]\n",
      "predicting ensemble 2 : 100%|██████████| 426/426 [00:04<00:00, 87.57it/s]\n",
      "predicting ensemble 3 : 100%|██████████| 403/403 [00:04<00:00, 88.06it/s]\n",
      "predicting ensemble 4 : 100%|██████████| 553/553 [00:06<00:00, 90.47it/s]\n",
      "predicting ensemble 5 : 100%|██████████| 580/580 [00:06<00:00, 90.27it/s]\n",
      "predicting ensemble 6 : 100%|██████████| 581/581 [00:06<00:00, 92.92it/s] \n",
      "predicting ensemble 7 : 100%|██████████| 601/601 [00:06<00:00, 91.93it/s] \n"
     ]
    },
    {
     "name": "stdout",
     "output_type": "stream",
     "text": [
      "94 urban_and_built_up_lands_ed 0\n"
     ]
    },
    {
     "name": "stderr",
     "output_type": "stream",
     "text": [
      "predicting ensemble 0 : 100%|██████████| 684/684 [00:07<00:00, 90.80it/s] \n",
      "predicting ensemble 1 : 100%|██████████| 666/666 [00:07<00:00, 93.07it/s] \n",
      "predicting ensemble 2 : 100%|██████████| 426/426 [00:04<00:00, 88.73it/s]\n",
      "predicting ensemble 3 : 100%|██████████| 403/403 [00:04<00:00, 89.51it/s]\n",
      "predicting ensemble 4 : 100%|██████████| 553/553 [00:06<00:00, 91.39it/s]\n",
      "predicting ensemble 5 : 100%|██████████| 580/580 [00:06<00:00, 88.04it/s]\n",
      "predicting ensemble 6 : 100%|██████████| 581/581 [00:06<00:00, 91.72it/s] \n",
      "predicting ensemble 7 : 100%|██████████| 601/601 [00:06<00:00, 93.12it/s] \n"
     ]
    },
    {
     "name": "stdout",
     "output_type": "stream",
     "text": [
      "94 urban_and_built_up_lands_ed 1\n"
     ]
    },
    {
     "name": "stderr",
     "output_type": "stream",
     "text": [
      "predicting ensemble 0 : 100%|██████████| 684/684 [00:07<00:00, 91.91it/s]\n",
      "predicting ensemble 1 : 100%|██████████| 666/666 [00:07<00:00, 91.96it/s] \n",
      "predicting ensemble 2 : 100%|██████████| 426/426 [00:04<00:00, 86.68it/s]\n",
      "predicting ensemble 3 : 100%|██████████| 403/403 [00:04<00:00, 89.74it/s] \n",
      "predicting ensemble 4 : 100%|██████████| 553/553 [00:06<00:00, 91.95it/s] \n",
      "predicting ensemble 5 : 100%|██████████| 580/580 [00:06<00:00, 91.08it/s]\n",
      "predicting ensemble 6 : 100%|██████████| 581/581 [00:06<00:00, 93.08it/s] \n",
      "predicting ensemble 7 : 100%|██████████| 601/601 [00:06<00:00, 89.96it/s]\n"
     ]
    },
    {
     "name": "stdout",
     "output_type": "stream",
     "text": [
      "94 urban_and_built_up_lands_ed 2\n"
     ]
    },
    {
     "name": "stderr",
     "output_type": "stream",
     "text": [
      "predicting ensemble 0 : 100%|██████████| 684/684 [00:07<00:00, 91.03it/s] \n",
      "predicting ensemble 1 : 100%|██████████| 666/666 [00:07<00:00, 90.33it/s] \n",
      "predicting ensemble 2 : 100%|██████████| 426/426 [00:04<00:00, 89.96it/s]\n",
      "predicting ensemble 3 : 100%|██████████| 403/403 [00:04<00:00, 91.69it/s]\n",
      "predicting ensemble 4 : 100%|██████████| 553/553 [00:06<00:00, 91.99it/s] \n",
      "predicting ensemble 5 : 100%|██████████| 580/580 [00:06<00:00, 93.36it/s] \n",
      "predicting ensemble 6 : 100%|██████████| 581/581 [00:06<00:00, 95.73it/s] \n",
      "predicting ensemble 7 : 100%|██████████| 601/601 [00:06<00:00, 93.38it/s] \n"
     ]
    },
    {
     "name": "stdout",
     "output_type": "stream",
     "text": [
      "94 urban_and_built_up_lands_ed 3\n"
     ]
    },
    {
     "name": "stderr",
     "output_type": "stream",
     "text": [
      "predicting ensemble 0 : 100%|██████████| 684/684 [00:07<00:00, 92.04it/s] \n",
      "predicting ensemble 1 : 100%|██████████| 666/666 [00:07<00:00, 94.91it/s] \n",
      "predicting ensemble 2 : 100%|██████████| 426/426 [00:04<00:00, 90.91it/s]\n",
      "predicting ensemble 3 : 100%|██████████| 403/403 [00:04<00:00, 93.23it/s] \n",
      "predicting ensemble 4 : 100%|██████████| 553/553 [00:05<00:00, 93.52it/s] \n",
      "predicting ensemble 5 : 100%|██████████| 580/580 [00:06<00:00, 86.25it/s]\n",
      "predicting ensemble 6 : 100%|██████████| 581/581 [00:06<00:00, 83.31it/s] \n",
      "predicting ensemble 7 : 100%|██████████| 601/601 [00:06<00:00, 91.34it/s] \n"
     ]
    },
    {
     "name": "stdout",
     "output_type": "stream",
     "text": [
      "94 urban_and_built_up_lands_ed 4\n"
     ]
    },
    {
     "name": "stderr",
     "output_type": "stream",
     "text": [
      "predicting ensemble 0 : 100%|██████████| 684/684 [00:07<00:00, 94.84it/s] \n",
      "predicting ensemble 1 : 100%|██████████| 666/666 [00:06<00:00, 95.99it/s] \n",
      "predicting ensemble 2 : 100%|██████████| 426/426 [00:04<00:00, 89.78it/s]\n",
      "predicting ensemble 3 : 100%|██████████| 403/403 [00:04<00:00, 92.83it/s] \n",
      "predicting ensemble 4 : 100%|██████████| 553/553 [00:05<00:00, 95.58it/s] \n",
      "predicting ensemble 5 : 100%|██████████| 580/580 [00:06<00:00, 94.39it/s] \n",
      "predicting ensemble 6 : 100%|██████████| 581/581 [00:05<00:00, 97.52it/s] \n",
      "predicting ensemble 7 : 100%|██████████| 601/601 [00:06<00:00, 94.04it/s] \n"
     ]
    },
    {
     "name": "stdout",
     "output_type": "stream",
     "text": [
      "95 urban_and_built_up_lands_lpi 0\n"
     ]
    },
    {
     "name": "stderr",
     "output_type": "stream",
     "text": [
      "predicting ensemble 0 : 100%|██████████| 684/684 [00:07<00:00, 92.66it/s] \n",
      "predicting ensemble 1 : 100%|██████████| 666/666 [00:06<00:00, 95.48it/s] \n",
      "predicting ensemble 2 : 100%|██████████| 426/426 [00:04<00:00, 91.04it/s]\n",
      "predicting ensemble 3 : 100%|██████████| 403/403 [00:04<00:00, 93.55it/s] \n",
      "predicting ensemble 4 : 100%|██████████| 553/553 [00:05<00:00, 94.49it/s] \n",
      "predicting ensemble 5 : 100%|██████████| 580/580 [00:06<00:00, 94.68it/s] \n",
      "predicting ensemble 6 : 100%|██████████| 581/581 [00:06<00:00, 96.64it/s] \n",
      "predicting ensemble 7 : 100%|██████████| 601/601 [00:06<00:00, 94.81it/s] \n"
     ]
    },
    {
     "name": "stdout",
     "output_type": "stream",
     "text": [
      "95 urban_and_built_up_lands_lpi 1\n"
     ]
    },
    {
     "name": "stderr",
     "output_type": "stream",
     "text": [
      "predicting ensemble 0 : 100%|██████████| 684/684 [00:07<00:00, 94.17it/s] \n",
      "predicting ensemble 1 : 100%|██████████| 666/666 [00:07<00:00, 93.49it/s] \n",
      "predicting ensemble 2 : 100%|██████████| 426/426 [00:04<00:00, 90.95it/s]\n",
      "predicting ensemble 3 : 100%|██████████| 403/403 [00:04<00:00, 92.40it/s] \n",
      "predicting ensemble 4 : 100%|██████████| 553/553 [00:05<00:00, 94.40it/s] \n",
      "predicting ensemble 5 : 100%|██████████| 580/580 [00:06<00:00, 94.46it/s] \n",
      "predicting ensemble 6 : 100%|██████████| 581/581 [00:06<00:00, 94.17it/s] \n",
      "predicting ensemble 7 : 100%|██████████| 601/601 [00:06<00:00, 93.56it/s] \n"
     ]
    },
    {
     "name": "stdout",
     "output_type": "stream",
     "text": [
      "95 urban_and_built_up_lands_lpi 2\n"
     ]
    },
    {
     "name": "stderr",
     "output_type": "stream",
     "text": [
      "predicting ensemble 0 : 100%|██████████| 684/684 [00:07<00:00, 93.88it/s] \n",
      "predicting ensemble 1 : 100%|██████████| 666/666 [00:06<00:00, 96.59it/s] \n",
      "predicting ensemble 2 : 100%|██████████| 426/426 [00:05<00:00, 78.92it/s]\n",
      "predicting ensemble 3 : 100%|██████████| 403/403 [00:05<00:00, 79.54it/s]\n",
      "predicting ensemble 4 : 100%|██████████| 553/553 [00:06<00:00, 85.59it/s] \n",
      "predicting ensemble 5 : 100%|██████████| 580/580 [00:07<00:00, 79.76it/s]\n",
      "predicting ensemble 6 : 100%|██████████| 581/581 [00:07<00:00, 82.26it/s]\n",
      "predicting ensemble 7 : 100%|██████████| 601/601 [00:06<00:00, 90.82it/s] \n"
     ]
    },
    {
     "name": "stdout",
     "output_type": "stream",
     "text": [
      "95 urban_and_built_up_lands_lpi 3\n"
     ]
    },
    {
     "name": "stderr",
     "output_type": "stream",
     "text": [
      "predicting ensemble 0 : 100%|██████████| 684/684 [00:07<00:00, 92.85it/s] \n",
      "predicting ensemble 1 : 100%|██████████| 666/666 [00:07<00:00, 94.57it/s] \n",
      "predicting ensemble 2 : 100%|██████████| 426/426 [00:04<00:00, 91.06it/s]\n",
      "predicting ensemble 3 : 100%|██████████| 403/403 [00:04<00:00, 91.43it/s] \n",
      "predicting ensemble 4 : 100%|██████████| 553/553 [00:05<00:00, 94.04it/s] \n",
      "predicting ensemble 5 : 100%|██████████| 580/580 [00:06<00:00, 93.22it/s] \n",
      "predicting ensemble 6 : 100%|██████████| 581/581 [00:06<00:00, 95.77it/s] \n",
      "predicting ensemble 7 : 100%|██████████| 601/601 [00:06<00:00, 95.41it/s] \n"
     ]
    },
    {
     "name": "stdout",
     "output_type": "stream",
     "text": [
      "95 urban_and_built_up_lands_lpi 4\n"
     ]
    },
    {
     "name": "stderr",
     "output_type": "stream",
     "text": [
      "predicting ensemble 0 : 100%|██████████| 684/684 [00:07<00:00, 93.55it/s] \n",
      "predicting ensemble 1 : 100%|██████████| 666/666 [00:07<00:00, 94.63it/s] \n",
      "predicting ensemble 2 : 100%|██████████| 426/426 [00:04<00:00, 90.68it/s]\n",
      "predicting ensemble 3 : 100%|██████████| 403/403 [00:04<00:00, 92.13it/s] \n",
      "predicting ensemble 4 : 100%|██████████| 553/553 [00:05<00:00, 92.93it/s] \n",
      "predicting ensemble 5 : 100%|██████████| 580/580 [00:06<00:00, 87.19it/s] \n",
      "predicting ensemble 6 : 100%|██████████| 581/581 [00:06<00:00, 92.85it/s] \n",
      "predicting ensemble 7 : 100%|██████████| 601/601 [00:06<00:00, 87.58it/s] \n"
     ]
    },
    {
     "name": "stdout",
     "output_type": "stream",
     "text": [
      "96 urban_and_built_up_lands_pd 0\n"
     ]
    },
    {
     "name": "stderr",
     "output_type": "stream",
     "text": [
      "predicting ensemble 0 : 100%|██████████| 684/684 [00:07<00:00, 93.91it/s] \n",
      "predicting ensemble 1 : 100%|██████████| 666/666 [00:07<00:00, 93.73it/s] \n",
      "predicting ensemble 2 : 100%|██████████| 426/426 [00:04<00:00, 88.59it/s]\n",
      "predicting ensemble 3 : 100%|██████████| 403/403 [00:04<00:00, 92.49it/s] \n",
      "predicting ensemble 4 : 100%|██████████| 553/553 [00:05<00:00, 94.02it/s] \n",
      "predicting ensemble 5 : 100%|██████████| 580/580 [00:06<00:00, 92.67it/s]\n",
      "predicting ensemble 6 : 100%|██████████| 581/581 [00:06<00:00, 91.44it/s] \n",
      "predicting ensemble 7 : 100%|██████████| 601/601 [00:08<00:00, 71.41it/s]\n"
     ]
    },
    {
     "name": "stdout",
     "output_type": "stream",
     "text": [
      "96 urban_and_built_up_lands_pd 1\n"
     ]
    },
    {
     "name": "stderr",
     "output_type": "stream",
     "text": [
      "predicting ensemble 0 : 100%|██████████| 684/684 [00:07<00:00, 89.23it/s] \n",
      "predicting ensemble 1 : 100%|██████████| 666/666 [00:07<00:00, 89.08it/s] \n",
      "predicting ensemble 2 : 100%|██████████| 426/426 [00:04<00:00, 88.64it/s]\n",
      "predicting ensemble 3 : 100%|██████████| 403/403 [00:04<00:00, 89.12it/s]\n",
      "predicting ensemble 4 : 100%|██████████| 553/553 [00:06<00:00, 90.45it/s] \n",
      "predicting ensemble 5 : 100%|██████████| 580/580 [00:06<00:00, 91.99it/s] \n",
      "predicting ensemble 6 : 100%|██████████| 581/581 [00:06<00:00, 95.55it/s] \n",
      "predicting ensemble 7 : 100%|██████████| 601/601 [00:06<00:00, 94.70it/s] \n"
     ]
    },
    {
     "name": "stdout",
     "output_type": "stream",
     "text": [
      "96 urban_and_built_up_lands_pd 2\n"
     ]
    },
    {
     "name": "stderr",
     "output_type": "stream",
     "text": [
      "predicting ensemble 0 : 100%|██████████| 684/684 [00:07<00:00, 92.56it/s] \n",
      "predicting ensemble 1 : 100%|██████████| 666/666 [00:07<00:00, 93.70it/s] \n",
      "predicting ensemble 2 : 100%|██████████| 426/426 [00:04<00:00, 90.12it/s]\n",
      "predicting ensemble 3 : 100%|██████████| 403/403 [00:04<00:00, 92.06it/s] \n",
      "predicting ensemble 4 : 100%|██████████| 553/553 [00:05<00:00, 93.43it/s] \n",
      "predicting ensemble 5 : 100%|██████████| 580/580 [00:06<00:00, 85.10it/s]\n",
      "predicting ensemble 6 : 100%|██████████| 581/581 [00:06<00:00, 91.71it/s] \n",
      "predicting ensemble 7 : 100%|██████████| 601/601 [00:06<00:00, 89.81it/s] \n"
     ]
    },
    {
     "name": "stdout",
     "output_type": "stream",
     "text": [
      "96 urban_and_built_up_lands_pd 3\n"
     ]
    },
    {
     "name": "stderr",
     "output_type": "stream",
     "text": [
      "predicting ensemble 0 : 100%|██████████| 684/684 [00:07<00:00, 93.44it/s] \n",
      "predicting ensemble 1 : 100%|██████████| 666/666 [00:07<00:00, 94.29it/s] \n",
      "predicting ensemble 2 : 100%|██████████| 426/426 [00:04<00:00, 88.58it/s]\n",
      "predicting ensemble 3 : 100%|██████████| 403/403 [00:04<00:00, 90.27it/s] \n",
      "predicting ensemble 4 : 100%|██████████| 553/553 [00:05<00:00, 94.09it/s] \n",
      "predicting ensemble 5 : 100%|██████████| 580/580 [00:06<00:00, 93.01it/s] \n",
      "predicting ensemble 6 : 100%|██████████| 581/581 [00:06<00:00, 95.76it/s] \n",
      "predicting ensemble 7 : 100%|██████████| 601/601 [00:06<00:00, 93.94it/s] \n"
     ]
    },
    {
     "name": "stdout",
     "output_type": "stream",
     "text": [
      "96 urban_and_built_up_lands_pd 4\n"
     ]
    },
    {
     "name": "stderr",
     "output_type": "stream",
     "text": [
      "predicting ensemble 0 : 100%|██████████| 684/684 [00:07<00:00, 88.47it/s] \n",
      "predicting ensemble 1 : 100%|██████████| 666/666 [00:07<00:00, 94.41it/s] \n",
      "predicting ensemble 2 : 100%|██████████| 426/426 [00:04<00:00, 89.23it/s]\n",
      "predicting ensemble 3 : 100%|██████████| 403/403 [00:04<00:00, 93.11it/s] \n",
      "predicting ensemble 4 : 100%|██████████| 553/553 [00:05<00:00, 92.41it/s] \n",
      "predicting ensemble 5 : 100%|██████████| 580/580 [00:06<00:00, 93.89it/s] \n",
      "predicting ensemble 6 : 100%|██████████| 581/581 [00:06<00:00, 94.71it/s] \n",
      "predicting ensemble 7 : 100%|██████████| 601/601 [00:06<00:00, 94.94it/s] \n"
     ]
    },
    {
     "name": "stdout",
     "output_type": "stream",
     "text": [
      "97 water_bodies 0\n"
     ]
    },
    {
     "name": "stderr",
     "output_type": "stream",
     "text": [
      "predicting ensemble 0 : 100%|██████████| 684/684 [00:07<00:00, 92.81it/s] \n",
      "predicting ensemble 1 : 100%|██████████| 666/666 [00:07<00:00, 94.67it/s] \n",
      "predicting ensemble 2 : 100%|██████████| 426/426 [00:04<00:00, 87.27it/s]\n",
      "predicting ensemble 3 : 100%|██████████| 403/403 [00:04<00:00, 89.71it/s]\n",
      "predicting ensemble 4 : 100%|██████████| 553/553 [00:06<00:00, 87.26it/s] \n",
      "predicting ensemble 5 : 100%|██████████| 580/580 [00:06<00:00, 92.66it/s] \n",
      "predicting ensemble 6 : 100%|██████████| 581/581 [00:06<00:00, 94.45it/s] \n",
      "predicting ensemble 7 : 100%|██████████| 601/601 [00:06<00:00, 94.57it/s] \n"
     ]
    },
    {
     "name": "stdout",
     "output_type": "stream",
     "text": [
      "97 water_bodies 1\n"
     ]
    },
    {
     "name": "stderr",
     "output_type": "stream",
     "text": [
      "predicting ensemble 0 : 100%|██████████| 684/684 [00:07<00:00, 91.42it/s]\n",
      "predicting ensemble 1 : 100%|██████████| 666/666 [00:07<00:00, 93.01it/s] \n",
      "predicting ensemble 2 : 100%|██████████| 426/426 [00:04<00:00, 87.74it/s]\n",
      "predicting ensemble 3 : 100%|██████████| 403/403 [00:04<00:00, 90.45it/s] \n",
      "predicting ensemble 4 : 100%|██████████| 553/553 [00:05<00:00, 92.52it/s] \n",
      "predicting ensemble 5 : 100%|██████████| 580/580 [00:06<00:00, 94.13it/s] \n",
      "predicting ensemble 6 : 100%|██████████| 581/581 [00:06<00:00, 94.06it/s] \n",
      "predicting ensemble 7 : 100%|██████████| 601/601 [00:06<00:00, 95.02it/s] \n"
     ]
    },
    {
     "name": "stdout",
     "output_type": "stream",
     "text": [
      "97 water_bodies 2\n"
     ]
    },
    {
     "name": "stderr",
     "output_type": "stream",
     "text": [
      "predicting ensemble 0 : 100%|██████████| 684/684 [00:07<00:00, 91.44it/s] \n",
      "predicting ensemble 1 : 100%|██████████| 666/666 [00:07<00:00, 94.90it/s] \n",
      "predicting ensemble 2 : 100%|██████████| 426/426 [00:04<00:00, 89.37it/s]\n",
      "predicting ensemble 3 : 100%|██████████| 403/403 [00:04<00:00, 92.07it/s] \n",
      "predicting ensemble 4 : 100%|██████████| 553/553 [00:05<00:00, 93.68it/s] \n",
      "predicting ensemble 5 : 100%|██████████| 580/580 [00:06<00:00, 93.21it/s] \n",
      "predicting ensemble 6 : 100%|██████████| 581/581 [00:06<00:00, 95.65it/s] \n",
      "predicting ensemble 7 : 100%|██████████| 601/601 [00:06<00:00, 94.97it/s] \n"
     ]
    },
    {
     "name": "stdout",
     "output_type": "stream",
     "text": [
      "97 water_bodies 3\n"
     ]
    },
    {
     "name": "stderr",
     "output_type": "stream",
     "text": [
      "predicting ensemble 0 : 100%|██████████| 684/684 [00:07<00:00, 93.27it/s] \n",
      "predicting ensemble 1 : 100%|██████████| 666/666 [00:07<00:00, 93.87it/s] \n",
      "predicting ensemble 2 : 100%|██████████| 426/426 [00:04<00:00, 89.85it/s]\n",
      "predicting ensemble 3 : 100%|██████████| 403/403 [00:04<00:00, 88.79it/s] \n",
      "predicting ensemble 4 : 100%|██████████| 553/553 [00:05<00:00, 93.07it/s] \n",
      "predicting ensemble 5 : 100%|██████████| 580/580 [00:06<00:00, 93.27it/s]\n",
      "predicting ensemble 6 : 100%|██████████| 581/581 [00:06<00:00, 94.78it/s] \n",
      "predicting ensemble 7 : 100%|██████████| 601/601 [00:06<00:00, 95.09it/s] \n"
     ]
    },
    {
     "name": "stdout",
     "output_type": "stream",
     "text": [
      "97 water_bodies 4\n"
     ]
    },
    {
     "name": "stderr",
     "output_type": "stream",
     "text": [
      "predicting ensemble 0 : 100%|██████████| 684/684 [00:07<00:00, 94.25it/s] \n",
      "predicting ensemble 1 : 100%|██████████| 666/666 [00:07<00:00, 94.93it/s] \n",
      "predicting ensemble 2 : 100%|██████████| 426/426 [00:04<00:00, 89.91it/s]\n",
      "predicting ensemble 3 : 100%|██████████| 403/403 [00:04<00:00, 90.51it/s] \n",
      "predicting ensemble 4 : 100%|██████████| 553/553 [00:05<00:00, 93.46it/s] \n",
      "predicting ensemble 5 : 100%|██████████| 580/580 [00:06<00:00, 93.78it/s] \n",
      "predicting ensemble 6 : 100%|██████████| 581/581 [00:06<00:00, 96.03it/s] \n",
      "predicting ensemble 7 : 100%|██████████| 601/601 [00:06<00:00, 92.22it/s] \n"
     ]
    },
    {
     "name": "stdout",
     "output_type": "stream",
     "text": [
      "98 water_bodies_ed 0\n"
     ]
    },
    {
     "name": "stderr",
     "output_type": "stream",
     "text": [
      "predicting ensemble 0 : 100%|██████████| 684/684 [00:07<00:00, 92.12it/s]\n",
      "predicting ensemble 1 : 100%|██████████| 666/666 [00:07<00:00, 92.80it/s] \n",
      "predicting ensemble 2 : 100%|██████████| 426/426 [00:04<00:00, 89.88it/s]\n",
      "predicting ensemble 3 : 100%|██████████| 403/403 [00:04<00:00, 92.87it/s] \n",
      "predicting ensemble 4 : 100%|██████████| 553/553 [00:05<00:00, 93.19it/s] \n",
      "predicting ensemble 5 : 100%|██████████| 580/580 [00:06<00:00, 93.10it/s] \n",
      "predicting ensemble 6 : 100%|██████████| 581/581 [00:06<00:00, 94.17it/s] \n",
      "predicting ensemble 7 : 100%|██████████| 601/601 [00:06<00:00, 95.52it/s] \n"
     ]
    },
    {
     "name": "stdout",
     "output_type": "stream",
     "text": [
      "98 water_bodies_ed 1\n"
     ]
    },
    {
     "name": "stderr",
     "output_type": "stream",
     "text": [
      "predicting ensemble 0 : 100%|██████████| 684/684 [00:07<00:00, 93.70it/s] \n",
      "predicting ensemble 1 : 100%|██████████| 666/666 [00:07<00:00, 93.98it/s] \n",
      "predicting ensemble 2 : 100%|██████████| 426/426 [00:04<00:00, 90.61it/s]\n",
      "predicting ensemble 3 : 100%|██████████| 403/403 [00:04<00:00, 88.45it/s] \n",
      "predicting ensemble 4 : 100%|██████████| 553/553 [00:05<00:00, 93.57it/s] \n",
      "predicting ensemble 5 : 100%|██████████| 580/580 [00:06<00:00, 93.17it/s] \n",
      "predicting ensemble 6 : 100%|██████████| 581/581 [00:06<00:00, 94.53it/s] \n",
      "predicting ensemble 7 : 100%|██████████| 601/601 [00:06<00:00, 95.66it/s] \n"
     ]
    },
    {
     "name": "stdout",
     "output_type": "stream",
     "text": [
      "98 water_bodies_ed 2\n"
     ]
    },
    {
     "name": "stderr",
     "output_type": "stream",
     "text": [
      "predicting ensemble 0 : 100%|██████████| 684/684 [00:07<00:00, 93.61it/s] \n",
      "predicting ensemble 1 : 100%|██████████| 666/666 [00:06<00:00, 95.33it/s] \n",
      "predicting ensemble 2 : 100%|██████████| 426/426 [00:04<00:00, 91.27it/s]\n",
      "predicting ensemble 3 : 100%|██████████| 403/403 [00:04<00:00, 92.17it/s]\n",
      "predicting ensemble 4 : 100%|██████████| 553/553 [00:05<00:00, 93.90it/s] \n",
      "predicting ensemble 5 : 100%|██████████| 580/580 [00:06<00:00, 94.13it/s] \n",
      "predicting ensemble 6 : 100%|██████████| 581/581 [00:06<00:00, 95.78it/s] \n",
      "predicting ensemble 7 : 100%|██████████| 601/601 [00:06<00:00, 92.59it/s] \n"
     ]
    },
    {
     "name": "stdout",
     "output_type": "stream",
     "text": [
      "98 water_bodies_ed 3\n"
     ]
    },
    {
     "name": "stderr",
     "output_type": "stream",
     "text": [
      "predicting ensemble 0 : 100%|██████████| 684/684 [00:07<00:00, 92.32it/s] \n",
      "predicting ensemble 1 : 100%|██████████| 666/666 [00:07<00:00, 94.93it/s] \n",
      "predicting ensemble 2 : 100%|██████████| 426/426 [00:04<00:00, 89.49it/s]\n",
      "predicting ensemble 3 : 100%|██████████| 403/403 [00:04<00:00, 93.28it/s] \n",
      "predicting ensemble 4 : 100%|██████████| 553/553 [00:05<00:00, 94.19it/s] \n",
      "predicting ensemble 5 : 100%|██████████| 580/580 [00:06<00:00, 90.92it/s]\n",
      "predicting ensemble 6 : 100%|██████████| 581/581 [00:06<00:00, 96.02it/s] \n",
      "predicting ensemble 7 : 100%|██████████| 601/601 [00:06<00:00, 93.91it/s] \n"
     ]
    },
    {
     "name": "stdout",
     "output_type": "stream",
     "text": [
      "98 water_bodies_ed 4\n"
     ]
    },
    {
     "name": "stderr",
     "output_type": "stream",
     "text": [
      "predicting ensemble 0 : 100%|██████████| 684/684 [00:07<00:00, 93.62it/s] \n",
      "predicting ensemble 1 : 100%|██████████| 666/666 [00:06<00:00, 95.16it/s] \n",
      "predicting ensemble 2 : 100%|██████████| 426/426 [00:04<00:00, 85.75it/s]\n",
      "predicting ensemble 3 : 100%|██████████| 403/403 [00:04<00:00, 91.19it/s] \n",
      "predicting ensemble 4 : 100%|██████████| 553/553 [00:05<00:00, 93.13it/s] \n",
      "predicting ensemble 5 : 100%|██████████| 580/580 [00:06<00:00, 92.91it/s]\n",
      "predicting ensemble 6 : 100%|██████████| 581/581 [00:06<00:00, 93.61it/s] \n",
      "predicting ensemble 7 : 100%|██████████| 601/601 [00:06<00:00, 92.08it/s] \n"
     ]
    },
    {
     "name": "stdout",
     "output_type": "stream",
     "text": [
      "99 water_bodies_lpi 0\n"
     ]
    },
    {
     "name": "stderr",
     "output_type": "stream",
     "text": [
      "predicting ensemble 0 : 100%|██████████| 684/684 [00:07<00:00, 91.99it/s] \n",
      "predicting ensemble 1 : 100%|██████████| 666/666 [00:07<00:00, 94.19it/s] \n",
      "predicting ensemble 2 : 100%|██████████| 426/426 [00:04<00:00, 90.66it/s]\n",
      "predicting ensemble 3 : 100%|██████████| 403/403 [00:04<00:00, 91.40it/s] \n",
      "predicting ensemble 4 : 100%|██████████| 553/553 [00:06<00:00, 91.70it/s] \n",
      "predicting ensemble 5 : 100%|██████████| 580/580 [00:06<00:00, 93.63it/s] \n",
      "predicting ensemble 6 : 100%|██████████| 581/581 [00:06<00:00, 94.58it/s] \n",
      "predicting ensemble 7 : 100%|██████████| 601/601 [00:06<00:00, 91.56it/s] \n"
     ]
    },
    {
     "name": "stdout",
     "output_type": "stream",
     "text": [
      "99 water_bodies_lpi 1\n"
     ]
    },
    {
     "name": "stderr",
     "output_type": "stream",
     "text": [
      "predicting ensemble 0 : 100%|██████████| 684/684 [00:07<00:00, 93.12it/s] \n",
      "predicting ensemble 1 : 100%|██████████| 666/666 [00:07<00:00, 93.64it/s] \n",
      "predicting ensemble 2 : 100%|██████████| 426/426 [00:04<00:00, 90.52it/s]\n",
      "predicting ensemble 3 : 100%|██████████| 403/403 [00:04<00:00, 91.96it/s] \n",
      "predicting ensemble 4 : 100%|██████████| 553/553 [00:05<00:00, 94.31it/s] \n",
      "predicting ensemble 5 : 100%|██████████| 580/580 [00:06<00:00, 93.21it/s] \n",
      "predicting ensemble 6 : 100%|██████████| 581/581 [00:06<00:00, 94.70it/s] \n",
      "predicting ensemble 7 : 100%|██████████| 601/601 [00:06<00:00, 95.47it/s] \n"
     ]
    },
    {
     "name": "stdout",
     "output_type": "stream",
     "text": [
      "99 water_bodies_lpi 2\n"
     ]
    },
    {
     "name": "stderr",
     "output_type": "stream",
     "text": [
      "predicting ensemble 0 : 100%|██████████| 684/684 [00:07<00:00, 93.31it/s] \n",
      "predicting ensemble 1 : 100%|██████████| 666/666 [00:07<00:00, 94.35it/s] \n",
      "predicting ensemble 2 : 100%|██████████| 426/426 [00:04<00:00, 89.28it/s]\n",
      "predicting ensemble 3 : 100%|██████████| 403/403 [00:04<00:00, 91.32it/s]\n",
      "predicting ensemble 4 : 100%|██████████| 553/553 [00:05<00:00, 94.26it/s] \n",
      "predicting ensemble 5 : 100%|██████████| 580/580 [00:06<00:00, 91.36it/s]\n",
      "predicting ensemble 6 : 100%|██████████| 581/581 [00:06<00:00, 95.69it/s] \n",
      "predicting ensemble 7 : 100%|██████████| 601/601 [00:06<00:00, 94.15it/s] \n"
     ]
    },
    {
     "name": "stdout",
     "output_type": "stream",
     "text": [
      "99 water_bodies_lpi 3\n"
     ]
    },
    {
     "name": "stderr",
     "output_type": "stream",
     "text": [
      "predicting ensemble 0 : 100%|██████████| 684/684 [00:07<00:00, 93.46it/s] \n",
      "predicting ensemble 1 : 100%|██████████| 666/666 [00:07<00:00, 93.03it/s] \n",
      "predicting ensemble 2 : 100%|██████████| 426/426 [00:04<00:00, 91.31it/s]\n",
      "predicting ensemble 3 : 100%|██████████| 403/403 [00:04<00:00, 93.30it/s] \n",
      "predicting ensemble 4 : 100%|██████████| 553/553 [00:05<00:00, 92.97it/s] \n",
      "predicting ensemble 5 : 100%|██████████| 580/580 [00:06<00:00, 94.24it/s]\n",
      "predicting ensemble 6 : 100%|██████████| 581/581 [00:06<00:00, 92.65it/s] \n",
      "predicting ensemble 7 : 100%|██████████| 601/601 [00:06<00:00, 94.54it/s] \n"
     ]
    },
    {
     "name": "stdout",
     "output_type": "stream",
     "text": [
      "99 water_bodies_lpi 4\n"
     ]
    },
    {
     "name": "stderr",
     "output_type": "stream",
     "text": [
      "predicting ensemble 0 : 100%|██████████| 684/684 [00:07<00:00, 93.22it/s] \n",
      "predicting ensemble 1 : 100%|██████████| 666/666 [00:07<00:00, 94.11it/s] \n",
      "predicting ensemble 2 : 100%|██████████| 426/426 [00:04<00:00, 90.25it/s]\n",
      "predicting ensemble 3 : 100%|██████████| 403/403 [00:04<00:00, 93.04it/s] \n",
      "predicting ensemble 4 : 100%|██████████| 553/553 [00:05<00:00, 93.87it/s] \n",
      "predicting ensemble 5 : 100%|██████████| 580/580 [00:06<00:00, 94.31it/s] \n",
      "predicting ensemble 6 : 100%|██████████| 581/581 [00:06<00:00, 94.31it/s] \n",
      "predicting ensemble 7 : 100%|██████████| 601/601 [00:06<00:00, 95.58it/s] \n"
     ]
    },
    {
     "name": "stdout",
     "output_type": "stream",
     "text": [
      "100 water_bodies_pd 0\n"
     ]
    },
    {
     "name": "stderr",
     "output_type": "stream",
     "text": [
      "predicting ensemble 0 : 100%|██████████| 684/684 [00:07<00:00, 93.39it/s] \n",
      "predicting ensemble 1 : 100%|██████████| 666/666 [00:07<00:00, 93.56it/s] \n",
      "predicting ensemble 2 : 100%|██████████| 426/426 [00:04<00:00, 90.70it/s]\n",
      "predicting ensemble 3 : 100%|██████████| 403/403 [00:04<00:00, 92.40it/s] \n",
      "predicting ensemble 4 : 100%|██████████| 553/553 [00:05<00:00, 93.79it/s] \n",
      "predicting ensemble 5 : 100%|██████████| 580/580 [00:06<00:00, 93.95it/s] \n",
      "predicting ensemble 6 : 100%|██████████| 581/581 [00:06<00:00, 94.94it/s] \n",
      "predicting ensemble 7 : 100%|██████████| 601/601 [00:06<00:00, 95.59it/s] \n"
     ]
    },
    {
     "name": "stdout",
     "output_type": "stream",
     "text": [
      "100 water_bodies_pd 1\n"
     ]
    },
    {
     "name": "stderr",
     "output_type": "stream",
     "text": [
      "predicting ensemble 0 : 100%|██████████| 684/684 [00:07<00:00, 93.38it/s] \n",
      "predicting ensemble 1 : 100%|██████████| 666/666 [00:06<00:00, 95.39it/s] \n",
      "predicting ensemble 2 : 100%|██████████| 426/426 [00:04<00:00, 90.52it/s]\n",
      "predicting ensemble 3 : 100%|██████████| 403/403 [00:04<00:00, 92.42it/s] \n",
      "predicting ensemble 4 : 100%|██████████| 553/553 [00:05<00:00, 95.08it/s] \n",
      "predicting ensemble 5 : 100%|██████████| 580/580 [00:06<00:00, 89.27it/s] \n",
      "predicting ensemble 6 : 100%|██████████| 581/581 [00:06<00:00, 95.12it/s] \n",
      "predicting ensemble 7 : 100%|██████████| 601/601 [00:06<00:00, 94.49it/s] \n"
     ]
    },
    {
     "name": "stdout",
     "output_type": "stream",
     "text": [
      "100 water_bodies_pd 2\n"
     ]
    },
    {
     "name": "stderr",
     "output_type": "stream",
     "text": [
      "predicting ensemble 0 : 100%|██████████| 684/684 [00:07<00:00, 93.48it/s] \n",
      "predicting ensemble 1 : 100%|██████████| 666/666 [00:07<00:00, 92.26it/s] \n",
      "predicting ensemble 2 : 100%|██████████| 426/426 [00:04<00:00, 90.33it/s]\n",
      "predicting ensemble 3 : 100%|██████████| 403/403 [00:04<00:00, 92.07it/s] \n",
      "predicting ensemble 4 : 100%|██████████| 553/553 [00:05<00:00, 94.22it/s] \n",
      "predicting ensemble 5 : 100%|██████████| 580/580 [00:06<00:00, 93.67it/s] \n",
      "predicting ensemble 6 : 100%|██████████| 581/581 [00:06<00:00, 96.05it/s] \n",
      "predicting ensemble 7 : 100%|██████████| 601/601 [00:06<00:00, 94.14it/s] \n"
     ]
    },
    {
     "name": "stdout",
     "output_type": "stream",
     "text": [
      "100 water_bodies_pd 3\n"
     ]
    },
    {
     "name": "stderr",
     "output_type": "stream",
     "text": [
      "predicting ensemble 0 : 100%|██████████| 684/684 [00:07<00:00, 94.14it/s] \n",
      "predicting ensemble 1 : 100%|██████████| 666/666 [00:07<00:00, 94.46it/s] \n",
      "predicting ensemble 2 : 100%|██████████| 426/426 [00:04<00:00, 88.24it/s]\n",
      "predicting ensemble 3 : 100%|██████████| 403/403 [00:04<00:00, 91.78it/s] \n",
      "predicting ensemble 4 : 100%|██████████| 553/553 [00:05<00:00, 92.43it/s] \n",
      "predicting ensemble 5 : 100%|██████████| 580/580 [00:06<00:00, 93.25it/s] \n",
      "predicting ensemble 6 : 100%|██████████| 581/581 [00:06<00:00, 96.21it/s] \n",
      "predicting ensemble 7 : 100%|██████████| 601/601 [00:06<00:00, 94.74it/s] \n"
     ]
    },
    {
     "name": "stdout",
     "output_type": "stream",
     "text": [
      "100 water_bodies_pd 4\n"
     ]
    },
    {
     "name": "stderr",
     "output_type": "stream",
     "text": [
      "predicting ensemble 0 : 100%|██████████| 684/684 [00:07<00:00, 93.35it/s] \n",
      "predicting ensemble 1 : 100%|██████████| 666/666 [00:07<00:00, 94.44it/s] \n",
      "predicting ensemble 2 : 100%|██████████| 426/426 [00:04<00:00, 89.08it/s]\n",
      "predicting ensemble 3 : 100%|██████████| 403/403 [00:04<00:00, 93.04it/s] \n",
      "predicting ensemble 4 : 100%|██████████| 553/553 [00:05<00:00, 94.10it/s] \n",
      "predicting ensemble 5 : 100%|██████████| 580/580 [00:06<00:00, 94.05it/s] \n",
      "predicting ensemble 6 : 100%|██████████| 581/581 [00:06<00:00, 91.73it/s] \n",
      "predicting ensemble 7 : 100%|██████████| 601/601 [00:06<00:00, 95.54it/s] \n"
     ]
    },
    {
     "name": "stdout",
     "output_type": "stream",
     "text": [
      "101 woody_savannas 0\n"
     ]
    },
    {
     "name": "stderr",
     "output_type": "stream",
     "text": [
      "predicting ensemble 0 : 100%|██████████| 684/684 [00:07<00:00, 94.21it/s] \n",
      "predicting ensemble 1 : 100%|██████████| 666/666 [00:07<00:00, 94.91it/s] \n",
      "predicting ensemble 2 : 100%|██████████| 426/426 [00:04<00:00, 89.99it/s]\n",
      "predicting ensemble 3 : 100%|██████████| 403/403 [00:04<00:00, 92.80it/s] \n",
      "predicting ensemble 4 : 100%|██████████| 553/553 [00:05<00:00, 94.46it/s] \n",
      "predicting ensemble 5 : 100%|██████████| 580/580 [00:06<00:00, 93.52it/s] \n",
      "predicting ensemble 6 : 100%|██████████| 581/581 [00:06<00:00, 94.69it/s] \n",
      "predicting ensemble 7 : 100%|██████████| 601/601 [00:06<00:00, 94.73it/s] \n"
     ]
    },
    {
     "name": "stdout",
     "output_type": "stream",
     "text": [
      "101 woody_savannas 1\n"
     ]
    },
    {
     "name": "stderr",
     "output_type": "stream",
     "text": [
      "predicting ensemble 0 : 100%|██████████| 684/684 [00:07<00:00, 93.96it/s] \n",
      "predicting ensemble 1 : 100%|██████████| 666/666 [00:07<00:00, 92.49it/s] \n",
      "predicting ensemble 2 : 100%|██████████| 426/426 [00:04<00:00, 90.97it/s]\n",
      "predicting ensemble 3 : 100%|██████████| 403/403 [00:04<00:00, 91.53it/s] \n",
      "predicting ensemble 4 : 100%|██████████| 553/553 [00:05<00:00, 93.02it/s] \n",
      "predicting ensemble 5 : 100%|██████████| 580/580 [00:06<00:00, 94.11it/s] \n",
      "predicting ensemble 6 : 100%|██████████| 581/581 [00:06<00:00, 95.59it/s] \n",
      "predicting ensemble 7 : 100%|██████████| 601/601 [00:06<00:00, 95.04it/s] \n"
     ]
    },
    {
     "name": "stdout",
     "output_type": "stream",
     "text": [
      "101 woody_savannas 2\n"
     ]
    },
    {
     "name": "stderr",
     "output_type": "stream",
     "text": [
      "predicting ensemble 0 : 100%|██████████| 684/684 [00:07<00:00, 93.62it/s] \n",
      "predicting ensemble 1 : 100%|██████████| 666/666 [00:07<00:00, 94.36it/s] \n",
      "predicting ensemble 2 : 100%|██████████| 426/426 [00:04<00:00, 90.58it/s]\n",
      "predicting ensemble 3 : 100%|██████████| 403/403 [00:04<00:00, 93.45it/s] \n",
      "predicting ensemble 4 : 100%|██████████| 553/553 [00:05<00:00, 94.32it/s] \n",
      "predicting ensemble 5 : 100%|██████████| 580/580 [00:06<00:00, 93.72it/s] \n",
      "predicting ensemble 6 : 100%|██████████| 581/581 [00:06<00:00, 92.85it/s] \n",
      "predicting ensemble 7 : 100%|██████████| 601/601 [00:06<00:00, 95.02it/s] \n"
     ]
    },
    {
     "name": "stdout",
     "output_type": "stream",
     "text": [
      "101 woody_savannas 3\n"
     ]
    },
    {
     "name": "stderr",
     "output_type": "stream",
     "text": [
      "predicting ensemble 0 : 100%|██████████| 684/684 [00:07<00:00, 93.77it/s] \n",
      "predicting ensemble 1 : 100%|██████████| 666/666 [00:07<00:00, 94.80it/s] \n",
      "predicting ensemble 2 : 100%|██████████| 426/426 [00:04<00:00, 89.16it/s]\n",
      "predicting ensemble 3 : 100%|██████████| 403/403 [00:04<00:00, 91.61it/s] \n",
      "predicting ensemble 4 : 100%|██████████| 553/553 [00:05<00:00, 93.99it/s] \n",
      "predicting ensemble 5 : 100%|██████████| 580/580 [00:06<00:00, 93.50it/s] \n",
      "predicting ensemble 6 : 100%|██████████| 581/581 [00:06<00:00, 95.34it/s] \n",
      "predicting ensemble 7 : 100%|██████████| 601/601 [00:06<00:00, 95.58it/s] \n"
     ]
    },
    {
     "name": "stdout",
     "output_type": "stream",
     "text": [
      "101 woody_savannas 4\n"
     ]
    },
    {
     "name": "stderr",
     "output_type": "stream",
     "text": [
      "predicting ensemble 0 : 100%|██████████| 684/684 [00:07<00:00, 93.05it/s] \n",
      "predicting ensemble 1 : 100%|██████████| 666/666 [00:06<00:00, 95.46it/s] \n",
      "predicting ensemble 2 : 100%|██████████| 426/426 [00:04<00:00, 86.75it/s]\n",
      "predicting ensemble 3 : 100%|██████████| 403/403 [00:04<00:00, 93.18it/s] \n",
      "predicting ensemble 4 : 100%|██████████| 553/553 [00:05<00:00, 94.46it/s] \n",
      "predicting ensemble 5 : 100%|██████████| 580/580 [00:06<00:00, 92.30it/s] \n",
      "predicting ensemble 6 : 100%|██████████| 581/581 [00:06<00:00, 95.63it/s] \n",
      "predicting ensemble 7 : 100%|██████████| 601/601 [00:06<00:00, 95.15it/s] \n"
     ]
    },
    {
     "name": "stdout",
     "output_type": "stream",
     "text": [
      "102 woody_savannas_ed 0\n"
     ]
    },
    {
     "name": "stderr",
     "output_type": "stream",
     "text": [
      "predicting ensemble 0 : 100%|██████████| 684/684 [00:07<00:00, 94.35it/s] \n",
      "predicting ensemble 1 : 100%|██████████| 666/666 [00:07<00:00, 94.48it/s] \n",
      "predicting ensemble 2 : 100%|██████████| 426/426 [00:04<00:00, 90.75it/s]\n",
      "predicting ensemble 3 : 100%|██████████| 403/403 [00:04<00:00, 90.99it/s] \n",
      "predicting ensemble 4 : 100%|██████████| 553/553 [00:05<00:00, 92.50it/s] \n",
      "predicting ensemble 5 : 100%|██████████| 580/580 [00:06<00:00, 90.53it/s]\n",
      "predicting ensemble 6 : 100%|██████████| 581/581 [00:06<00:00, 91.12it/s] \n",
      "predicting ensemble 7 : 100%|██████████| 601/601 [00:06<00:00, 94.74it/s] \n"
     ]
    },
    {
     "name": "stdout",
     "output_type": "stream",
     "text": [
      "102 woody_savannas_ed 1\n"
     ]
    },
    {
     "name": "stderr",
     "output_type": "stream",
     "text": [
      "predicting ensemble 0 : 100%|██████████| 684/684 [00:07<00:00, 93.62it/s] \n",
      "predicting ensemble 1 : 100%|██████████| 666/666 [00:07<00:00, 94.30it/s] \n",
      "predicting ensemble 2 : 100%|██████████| 426/426 [00:04<00:00, 90.09it/s]\n",
      "predicting ensemble 3 : 100%|██████████| 403/403 [00:04<00:00, 91.25it/s] \n",
      "predicting ensemble 4 : 100%|██████████| 553/553 [00:05<00:00, 94.01it/s] \n",
      "predicting ensemble 5 : 100%|██████████| 580/580 [00:06<00:00, 93.54it/s]\n",
      "predicting ensemble 6 : 100%|██████████| 581/581 [00:06<00:00, 96.08it/s] \n",
      "predicting ensemble 7 : 100%|██████████| 601/601 [00:06<00:00, 94.76it/s]\n"
     ]
    },
    {
     "name": "stdout",
     "output_type": "stream",
     "text": [
      "102 woody_savannas_ed 2\n"
     ]
    },
    {
     "name": "stderr",
     "output_type": "stream",
     "text": [
      "predicting ensemble 0 : 100%|██████████| 684/684 [00:07<00:00, 92.98it/s] \n",
      "predicting ensemble 1 : 100%|██████████| 666/666 [00:07<00:00, 94.99it/s] \n",
      "predicting ensemble 2 : 100%|██████████| 426/426 [00:04<00:00, 86.94it/s]\n",
      "predicting ensemble 3 : 100%|██████████| 403/403 [00:04<00:00, 91.73it/s] \n",
      "predicting ensemble 4 : 100%|██████████| 553/553 [00:05<00:00, 94.32it/s] \n",
      "predicting ensemble 5 : 100%|██████████| 580/580 [00:06<00:00, 92.62it/s]\n",
      "predicting ensemble 6 : 100%|██████████| 581/581 [00:06<00:00, 96.09it/s] \n",
      "predicting ensemble 7 : 100%|██████████| 601/601 [00:06<00:00, 94.64it/s] \n"
     ]
    },
    {
     "name": "stdout",
     "output_type": "stream",
     "text": [
      "102 woody_savannas_ed 3\n"
     ]
    },
    {
     "name": "stderr",
     "output_type": "stream",
     "text": [
      "predicting ensemble 0 : 100%|██████████| 684/684 [00:07<00:00, 93.72it/s] \n",
      "predicting ensemble 1 : 100%|██████████| 666/666 [00:07<00:00, 95.08it/s] \n",
      "predicting ensemble 2 : 100%|██████████| 426/426 [00:04<00:00, 89.67it/s]\n",
      "predicting ensemble 3 : 100%|██████████| 403/403 [00:04<00:00, 92.44it/s] \n",
      "predicting ensemble 4 : 100%|██████████| 553/553 [00:05<00:00, 94.78it/s] \n",
      "predicting ensemble 5 : 100%|██████████| 580/580 [00:06<00:00, 93.70it/s] \n",
      "predicting ensemble 6 : 100%|██████████| 581/581 [00:06<00:00, 92.91it/s] \n",
      "predicting ensemble 7 : 100%|██████████| 601/601 [00:06<00:00, 94.62it/s] \n"
     ]
    },
    {
     "name": "stdout",
     "output_type": "stream",
     "text": [
      "102 woody_savannas_ed 4\n"
     ]
    },
    {
     "name": "stderr",
     "output_type": "stream",
     "text": [
      "predicting ensemble 0 : 100%|██████████| 684/684 [00:07<00:00, 94.77it/s] \n",
      "predicting ensemble 1 : 100%|██████████| 666/666 [00:07<00:00, 95.02it/s] \n",
      "predicting ensemble 2 : 100%|██████████| 426/426 [00:04<00:00, 90.99it/s]\n",
      "predicting ensemble 3 : 100%|██████████| 403/403 [00:04<00:00, 88.71it/s] \n",
      "predicting ensemble 4 : 100%|██████████| 553/553 [00:06<00:00, 87.14it/s]\n",
      "predicting ensemble 5 : 100%|██████████| 580/580 [00:06<00:00, 90.96it/s] \n",
      "predicting ensemble 6 : 100%|██████████| 581/581 [00:06<00:00, 95.16it/s] \n",
      "predicting ensemble 7 : 100%|██████████| 601/601 [00:06<00:00, 95.43it/s] \n"
     ]
    },
    {
     "name": "stdout",
     "output_type": "stream",
     "text": [
      "103 woody_savannas_lpi 0\n"
     ]
    },
    {
     "name": "stderr",
     "output_type": "stream",
     "text": [
      "predicting ensemble 0 : 100%|██████████| 684/684 [00:07<00:00, 90.09it/s] \n",
      "predicting ensemble 1 : 100%|██████████| 666/666 [00:07<00:00, 88.66it/s] \n",
      "predicting ensemble 2 : 100%|██████████| 426/426 [00:04<00:00, 90.64it/s]\n",
      "predicting ensemble 3 : 100%|██████████| 403/403 [00:04<00:00, 91.00it/s]\n",
      "predicting ensemble 4 : 100%|██████████| 553/553 [00:05<00:00, 94.33it/s] \n",
      "predicting ensemble 5 : 100%|██████████| 580/580 [00:06<00:00, 93.24it/s] \n",
      "predicting ensemble 6 : 100%|██████████| 581/581 [00:06<00:00, 94.18it/s] \n",
      "predicting ensemble 7 : 100%|██████████| 601/601 [00:06<00:00, 95.54it/s] \n"
     ]
    },
    {
     "name": "stdout",
     "output_type": "stream",
     "text": [
      "103 woody_savannas_lpi 1\n"
     ]
    },
    {
     "name": "stderr",
     "output_type": "stream",
     "text": [
      "predicting ensemble 0 : 100%|██████████| 684/684 [00:07<00:00, 93.96it/s] \n",
      "predicting ensemble 1 : 100%|██████████| 666/666 [00:07<00:00, 94.43it/s] \n",
      "predicting ensemble 2 : 100%|██████████| 426/426 [00:04<00:00, 89.61it/s]\n",
      "predicting ensemble 3 : 100%|██████████| 403/403 [00:04<00:00, 91.72it/s] \n",
      "predicting ensemble 4 : 100%|██████████| 553/553 [00:05<00:00, 94.54it/s] \n",
      "predicting ensemble 5 : 100%|██████████| 580/580 [00:06<00:00, 91.83it/s] \n",
      "predicting ensemble 6 : 100%|██████████| 581/581 [00:06<00:00, 93.40it/s] \n",
      "predicting ensemble 7 : 100%|██████████| 601/601 [00:06<00:00, 93.59it/s] \n"
     ]
    },
    {
     "name": "stdout",
     "output_type": "stream",
     "text": [
      "103 woody_savannas_lpi 2\n"
     ]
    },
    {
     "name": "stderr",
     "output_type": "stream",
     "text": [
      "predicting ensemble 0 : 100%|██████████| 684/684 [00:08<00:00, 84.99it/s] \n",
      "predicting ensemble 1 : 100%|██████████| 666/666 [00:07<00:00, 87.21it/s] \n",
      "predicting ensemble 2 : 100%|██████████| 426/426 [00:04<00:00, 87.09it/s]\n",
      "predicting ensemble 3 : 100%|██████████| 403/403 [00:04<00:00, 90.81it/s] \n",
      "predicting ensemble 4 : 100%|██████████| 553/553 [00:06<00:00, 82.58it/s] \n",
      "predicting ensemble 5 : 100%|██████████| 580/580 [00:06<00:00, 91.65it/s] \n",
      "predicting ensemble 6 : 100%|██████████| 581/581 [00:06<00:00, 93.67it/s] \n",
      "predicting ensemble 7 : 100%|██████████| 601/601 [00:07<00:00, 82.51it/s]\n"
     ]
    },
    {
     "name": "stdout",
     "output_type": "stream",
     "text": [
      "103 woody_savannas_lpi 3\n"
     ]
    },
    {
     "name": "stderr",
     "output_type": "stream",
     "text": [
      "predicting ensemble 0 : 100%|██████████| 684/684 [00:08<00:00, 78.73it/s]\n",
      "predicting ensemble 1 : 100%|██████████| 666/666 [00:07<00:00, 92.22it/s] \n",
      "predicting ensemble 2 : 100%|██████████| 426/426 [00:05<00:00, 83.26it/s]\n",
      "predicting ensemble 3 : 100%|██████████| 403/403 [00:04<00:00, 89.90it/s] \n",
      "predicting ensemble 4 : 100%|██████████| 553/553 [00:05<00:00, 93.48it/s] \n",
      "predicting ensemble 5 : 100%|██████████| 580/580 [00:06<00:00, 91.57it/s]\n",
      "predicting ensemble 6 : 100%|██████████| 581/581 [00:06<00:00, 94.82it/s] \n",
      "predicting ensemble 7 : 100%|██████████| 601/601 [00:06<00:00, 95.40it/s] \n"
     ]
    },
    {
     "name": "stdout",
     "output_type": "stream",
     "text": [
      "103 woody_savannas_lpi 4\n"
     ]
    },
    {
     "name": "stderr",
     "output_type": "stream",
     "text": [
      "predicting ensemble 0 : 100%|██████████| 684/684 [00:07<00:00, 92.38it/s] \n",
      "predicting ensemble 1 : 100%|██████████| 666/666 [00:07<00:00, 94.36it/s] \n",
      "predicting ensemble 2 : 100%|██████████| 426/426 [00:04<00:00, 88.80it/s]\n",
      "predicting ensemble 3 : 100%|██████████| 403/403 [00:04<00:00, 92.75it/s] \n",
      "predicting ensemble 4 : 100%|██████████| 553/553 [00:05<00:00, 93.78it/s] \n",
      "predicting ensemble 5 : 100%|██████████| 580/580 [00:06<00:00, 93.64it/s] \n",
      "predicting ensemble 6 : 100%|██████████| 581/581 [00:06<00:00, 92.91it/s] \n",
      "predicting ensemble 7 : 100%|██████████| 601/601 [00:06<00:00, 93.81it/s] \n"
     ]
    },
    {
     "name": "stdout",
     "output_type": "stream",
     "text": [
      "104 woody_savannas_pd 0\n"
     ]
    },
    {
     "name": "stderr",
     "output_type": "stream",
     "text": [
      "predicting ensemble 0 : 100%|██████████| 684/684 [00:07<00:00, 93.38it/s] \n",
      "predicting ensemble 1 : 100%|██████████| 666/666 [00:07<00:00, 94.04it/s] \n",
      "predicting ensemble 2 : 100%|██████████| 426/426 [00:04<00:00, 89.36it/s]\n",
      "predicting ensemble 3 : 100%|██████████| 403/403 [00:04<00:00, 92.34it/s] \n",
      "predicting ensemble 4 : 100%|██████████| 553/553 [00:06<00:00, 91.67it/s] \n",
      "predicting ensemble 5 : 100%|██████████| 580/580 [00:06<00:00, 93.27it/s] \n",
      "predicting ensemble 6 : 100%|██████████| 581/581 [00:06<00:00, 94.64it/s] \n",
      "predicting ensemble 7 : 100%|██████████| 601/601 [00:06<00:00, 93.94it/s] \n"
     ]
    },
    {
     "name": "stdout",
     "output_type": "stream",
     "text": [
      "104 woody_savannas_pd 1\n"
     ]
    },
    {
     "name": "stderr",
     "output_type": "stream",
     "text": [
      "predicting ensemble 0 : 100%|██████████| 684/684 [00:07<00:00, 92.76it/s] \n",
      "predicting ensemble 1 : 100%|██████████| 666/666 [00:07<00:00, 94.14it/s] \n",
      "predicting ensemble 2 : 100%|██████████| 426/426 [00:04<00:00, 85.87it/s]\n",
      "predicting ensemble 3 : 100%|██████████| 403/403 [00:04<00:00, 91.63it/s] \n",
      "predicting ensemble 4 : 100%|██████████| 553/553 [00:05<00:00, 93.79it/s] \n",
      "predicting ensemble 5 : 100%|██████████| 580/580 [00:06<00:00, 89.20it/s] \n",
      "predicting ensemble 6 : 100%|██████████| 581/581 [00:06<00:00, 91.37it/s] \n",
      "predicting ensemble 7 : 100%|██████████| 601/601 [00:06<00:00, 94.99it/s] \n"
     ]
    },
    {
     "name": "stdout",
     "output_type": "stream",
     "text": [
      "104 woody_savannas_pd 2\n"
     ]
    },
    {
     "name": "stderr",
     "output_type": "stream",
     "text": [
      "predicting ensemble 0 : 100%|██████████| 684/684 [00:07<00:00, 93.01it/s] \n",
      "predicting ensemble 1 : 100%|██████████| 666/666 [00:07<00:00, 93.80it/s] \n",
      "predicting ensemble 2 : 100%|██████████| 426/426 [00:04<00:00, 87.93it/s]\n",
      "predicting ensemble 3 : 100%|██████████| 403/403 [00:04<00:00, 89.70it/s] \n",
      "predicting ensemble 4 : 100%|██████████| 553/553 [00:06<00:00, 90.72it/s] \n",
      "predicting ensemble 5 : 100%|██████████| 580/580 [00:06<00:00, 93.96it/s] \n",
      "predicting ensemble 6 : 100%|██████████| 581/581 [00:06<00:00, 91.00it/s] \n",
      "predicting ensemble 7 : 100%|██████████| 601/601 [00:06<00:00, 90.07it/s]\n"
     ]
    },
    {
     "name": "stdout",
     "output_type": "stream",
     "text": [
      "104 woody_savannas_pd 3\n"
     ]
    },
    {
     "name": "stderr",
     "output_type": "stream",
     "text": [
      "predicting ensemble 0 : 100%|██████████| 684/684 [00:07<00:00, 93.80it/s] \n",
      "predicting ensemble 1 : 100%|██████████| 666/666 [00:07<00:00, 94.52it/s] \n",
      "predicting ensemble 2 : 100%|██████████| 426/426 [00:04<00:00, 88.86it/s]\n",
      "predicting ensemble 3 : 100%|██████████| 403/403 [00:04<00:00, 92.26it/s] \n",
      "predicting ensemble 4 : 100%|██████████| 553/553 [00:05<00:00, 93.41it/s] \n",
      "predicting ensemble 5 : 100%|██████████| 580/580 [00:06<00:00, 88.22it/s]\n",
      "predicting ensemble 6 : 100%|██████████| 581/581 [00:08<00:00, 69.65it/s]\n",
      "predicting ensemble 7 : 100%|██████████| 601/601 [00:06<00:00, 94.26it/s] \n"
     ]
    },
    {
     "name": "stdout",
     "output_type": "stream",
     "text": [
      "104 woody_savannas_pd 4\n"
     ]
    },
    {
     "name": "stderr",
     "output_type": "stream",
     "text": [
      "predicting ensemble 0 : 100%|██████████| 684/684 [00:08<00:00, 76.33it/s] \n",
      "predicting ensemble 1 : 100%|██████████| 666/666 [00:07<00:00, 88.38it/s] \n",
      "predicting ensemble 2 : 100%|██████████| 426/426 [00:04<00:00, 88.39it/s]\n",
      "predicting ensemble 3 : 100%|██████████| 403/403 [00:04<00:00, 91.68it/s] \n",
      "predicting ensemble 4 : 100%|██████████| 553/553 [00:05<00:00, 93.02it/s] \n",
      "predicting ensemble 5 : 100%|██████████| 580/580 [00:06<00:00, 91.93it/s]\n",
      "predicting ensemble 6 : 100%|██████████| 581/581 [00:06<00:00, 95.16it/s] \n",
      "predicting ensemble 7 : 100%|██████████| 601/601 [00:06<00:00, 93.78it/s] \n"
     ]
    },
    {
     "name": "stdout",
     "output_type": "stream",
     "text": [
      "105 entropy 0\n"
     ]
    },
    {
     "name": "stderr",
     "output_type": "stream",
     "text": [
      "predicting ensemble 0 : 100%|██████████| 684/684 [00:07<00:00, 93.57it/s] \n",
      "predicting ensemble 1 : 100%|██████████| 666/666 [00:07<00:00, 93.78it/s] \n",
      "predicting ensemble 2 : 100%|██████████| 426/426 [00:04<00:00, 89.49it/s]\n",
      "predicting ensemble 3 : 100%|██████████| 403/403 [00:04<00:00, 93.57it/s] \n",
      "predicting ensemble 4 : 100%|██████████| 553/553 [00:05<00:00, 93.91it/s] \n",
      "predicting ensemble 5 : 100%|██████████| 580/580 [00:06<00:00, 94.67it/s] \n",
      "predicting ensemble 6 : 100%|██████████| 581/581 [00:06<00:00, 94.77it/s] \n",
      "predicting ensemble 7 : 100%|██████████| 601/601 [00:06<00:00, 93.89it/s] \n"
     ]
    },
    {
     "name": "stdout",
     "output_type": "stream",
     "text": [
      "105 entropy 1\n"
     ]
    },
    {
     "name": "stderr",
     "output_type": "stream",
     "text": [
      "predicting ensemble 0 : 100%|██████████| 684/684 [00:07<00:00, 93.45it/s] \n",
      "predicting ensemble 1 : 100%|██████████| 666/666 [00:07<00:00, 94.49it/s] \n",
      "predicting ensemble 2 : 100%|██████████| 426/426 [00:04<00:00, 90.15it/s]\n",
      "predicting ensemble 3 : 100%|██████████| 403/403 [00:04<00:00, 91.29it/s] \n",
      "predicting ensemble 4 : 100%|██████████| 553/553 [00:06<00:00, 92.13it/s] \n",
      "predicting ensemble 5 : 100%|██████████| 580/580 [00:06<00:00, 93.23it/s] \n",
      "predicting ensemble 6 : 100%|██████████| 581/581 [00:06<00:00, 94.52it/s] \n",
      "predicting ensemble 7 : 100%|██████████| 601/601 [00:06<00:00, 95.49it/s] \n"
     ]
    },
    {
     "name": "stdout",
     "output_type": "stream",
     "text": [
      "105 entropy 2\n"
     ]
    },
    {
     "name": "stderr",
     "output_type": "stream",
     "text": [
      "predicting ensemble 0 : 100%|██████████| 684/684 [00:07<00:00, 93.78it/s] \n",
      "predicting ensemble 1 : 100%|██████████| 666/666 [00:07<00:00, 93.60it/s] \n",
      "predicting ensemble 2 : 100%|██████████| 426/426 [00:04<00:00, 90.99it/s]\n",
      "predicting ensemble 3 : 100%|██████████| 403/403 [00:04<00:00, 89.50it/s] \n",
      "predicting ensemble 4 : 100%|██████████| 553/553 [00:05<00:00, 93.22it/s] \n",
      "predicting ensemble 5 : 100%|██████████| 580/580 [00:06<00:00, 93.66it/s] \n",
      "predicting ensemble 6 : 100%|██████████| 581/581 [00:06<00:00, 94.71it/s] \n",
      "predicting ensemble 7 : 100%|██████████| 601/601 [00:06<00:00, 95.14it/s] \n"
     ]
    },
    {
     "name": "stdout",
     "output_type": "stream",
     "text": [
      "105 entropy 3\n"
     ]
    },
    {
     "name": "stderr",
     "output_type": "stream",
     "text": [
      "predicting ensemble 0 : 100%|██████████| 684/684 [00:07<00:00, 93.22it/s] \n",
      "predicting ensemble 1 : 100%|██████████| 666/666 [00:07<00:00, 94.67it/s] \n",
      "predicting ensemble 2 : 100%|██████████| 426/426 [00:04<00:00, 89.10it/s]\n",
      "predicting ensemble 3 : 100%|██████████| 403/403 [00:04<00:00, 92.90it/s] \n",
      "predicting ensemble 4 : 100%|██████████| 553/553 [00:05<00:00, 93.78it/s] \n",
      "predicting ensemble 5 : 100%|██████████| 580/580 [00:06<00:00, 94.28it/s] \n",
      "predicting ensemble 6 : 100%|██████████| 581/581 [00:06<00:00, 89.05it/s] \n",
      "predicting ensemble 7 : 100%|██████████| 601/601 [00:06<00:00, 93.81it/s] \n"
     ]
    },
    {
     "name": "stdout",
     "output_type": "stream",
     "text": [
      "105 entropy 4\n"
     ]
    },
    {
     "name": "stderr",
     "output_type": "stream",
     "text": [
      "predicting ensemble 0 : 100%|██████████| 684/684 [00:07<00:00, 93.11it/s] \n",
      "predicting ensemble 1 : 100%|██████████| 666/666 [00:06<00:00, 95.58it/s] \n",
      "predicting ensemble 2 : 100%|██████████| 426/426 [00:04<00:00, 89.56it/s]\n",
      "predicting ensemble 3 : 100%|██████████| 403/403 [00:04<00:00, 92.92it/s] \n",
      "predicting ensemble 4 : 100%|██████████| 553/553 [00:05<00:00, 92.77it/s] \n",
      "predicting ensemble 5 : 100%|██████████| 580/580 [00:06<00:00, 94.23it/s] \n",
      "predicting ensemble 6 : 100%|██████████| 581/581 [00:06<00:00, 93.88it/s] \n",
      "predicting ensemble 7 : 100%|██████████| 601/601 [00:06<00:00, 90.05it/s] \n"
     ]
    }
   ],
   "source": [
    "from sklearn.inspection import permutation_importance\n",
    "from sklearn.metrics import roc_auc_score\n",
    "\n",
    "##### ori score\n",
    "pred = model.predict_proba(X_test)\n",
    "y_test_m = y_test[~np.isnan(pred)]\n",
    "pred_m = np.where(pred[~np.isnan(pred)]>0.05,1,0)\n",
    "\n",
    "ori_score = roc_auc_score(\n",
    "    y_test_m, pred_m\n",
    ")\n",
    "\n",
    "##### permu test\n",
    "permu_scores = {\n",
    "\n",
    "}\n",
    "\n",
    "\n",
    "for index,feature in enumerate(all_variable_names):\n",
    "    \n",
    "    scores = []\n",
    "    for rep in range(5):\n",
    "        print(index+1, feature, rep)\n",
    "        X_temp = X_test.copy()\n",
    "        X_temp[feature] = X_temp[feature].sample(frac=1,replace=False).values\n",
    "        pred = model.predict_proba(X_temp)\n",
    "        y_test_m = y_test[~np.isnan(pred)]\n",
    "        pred_m = np.where(pred[~np.isnan(pred)]>0.05,1,0)\n",
    "\n",
    "        scores.append(roc_auc_score(\n",
    "                                    y_test_m, pred_m\n",
    "                                ))\n",
    "    permu_scores[feature] = scores\n",
    "\n",
    "\n",
    "\n"
   ]
  },
  {
   "cell_type": "code",
   "execution_count": 194,
   "metadata": {},
   "outputs": [],
   "source": [
    "###### importance by permutation\n",
    "feature_importance = pd.DataFrame({\n",
    "    'mean':pd.DataFrame(permu_scores).mean(),\n",
    "    'std':pd.DataFrame(permu_scores).std()\n",
    "})\n",
    "\n",
    "feature_importance['mean'] = (ori_score-feature_importance['mean'])/ori_score\n",
    "\n",
    "feature_importance = feature_importance.sort_values(by='mean',ascending=False)\n",
    "\n",
    "\n",
    "\n",
    "##### importance by model\n",
    "importances = []\n",
    "for k in model.model_dict.keys():\n",
    "    model_ = model.model_dict[k]\n",
    "    try:\n",
    "        importances.append(model_.feature_importances_)\n",
    "    except:\n",
    "        continue\n",
    "\n",
    "importances = np.array(importances)\n",
    "\n",
    "feature_importance_by_model_output = pd.DataFrame(\n",
    "{\n",
    "        'feature':model.x_names,\n",
    "    'importance':importances.mean(axis=0)\n",
    "}\n",
    ")\n",
    "\n",
    "###### merge\n",
    "feature_importance = pd.concat([feature_importance,\n",
    "        feature_importance_by_model_output.set_index('feature')],axis=1).rename(columns={\n",
    "            'mean':'mean_by_permutation',\n",
    "            'std':'std_by_permutation',\n",
    "            'importance':'mean_by_model_output'\n",
    "            })\n",
    "\n",
    "feature_importance.to_csv('feature_importance.csv',index=True)"
   ]
  },
  {
   "cell_type": "code",
   "execution_count": 109,
   "metadata": {},
   "outputs": [
    {
     "data": {
      "text/html": [
       "<div>\n",
       "<style scoped>\n",
       "    .dataframe tbody tr th:only-of-type {\n",
       "        vertical-align: middle;\n",
       "    }\n",
       "\n",
       "    .dataframe tbody tr th {\n",
       "        vertical-align: top;\n",
       "    }\n",
       "\n",
       "    .dataframe thead th {\n",
       "        text-align: right;\n",
       "    }\n",
       "</style>\n",
       "<table border=\"1\" class=\"dataframe\">\n",
       "  <thead>\n",
       "    <tr style=\"text-align: right;\">\n",
       "      <th></th>\n",
       "      <th>mean_by_permutation</th>\n",
       "      <th>std_by_permutation</th>\n",
       "      <th>mean_by_model_output</th>\n",
       "    </tr>\n",
       "  </thead>\n",
       "  <tbody>\n",
       "    <tr>\n",
       "      <th>DOY</th>\n",
       "      <td>0.033025</td>\n",
       "      <td>0.001321</td>\n",
       "      <td>0.012264</td>\n",
       "    </tr>\n",
       "    <tr>\n",
       "      <th>elevation_mean</th>\n",
       "      <td>0.008047</td>\n",
       "      <td>0.000360</td>\n",
       "      <td>0.024815</td>\n",
       "    </tr>\n",
       "    <tr>\n",
       "      <th>duration_minutes</th>\n",
       "      <td>0.007047</td>\n",
       "      <td>0.000603</td>\n",
       "      <td>0.015389</td>\n",
       "    </tr>\n",
       "    <tr>\n",
       "      <th>bio4</th>\n",
       "      <td>0.006694</td>\n",
       "      <td>0.000231</td>\n",
       "      <td>0.044084</td>\n",
       "    </tr>\n",
       "    <tr>\n",
       "      <th>slope_mean</th>\n",
       "      <td>0.004379</td>\n",
       "      <td>0.000301</td>\n",
       "      <td>0.018442</td>\n",
       "    </tr>\n",
       "    <tr>\n",
       "      <th>...</th>\n",
       "      <td>...</td>\n",
       "      <td>...</td>\n",
       "      <td>...</td>\n",
       "    </tr>\n",
       "    <tr>\n",
       "      <th>water_bodies_lpi</th>\n",
       "      <td>-0.000020</td>\n",
       "      <td>0.000011</td>\n",
       "      <td>0.003449</td>\n",
       "    </tr>\n",
       "    <tr>\n",
       "      <th>non_vegetated_lands</th>\n",
       "      <td>-0.000025</td>\n",
       "      <td>0.000007</td>\n",
       "      <td>0.004355</td>\n",
       "    </tr>\n",
       "    <tr>\n",
       "      <th>croplands_lpi</th>\n",
       "      <td>-0.000026</td>\n",
       "      <td>0.000058</td>\n",
       "      <td>0.005564</td>\n",
       "    </tr>\n",
       "    <tr>\n",
       "      <th>evergreen_needleleaf_forests_lpi</th>\n",
       "      <td>-0.000042</td>\n",
       "      <td>0.000085</td>\n",
       "      <td>0.006288</td>\n",
       "    </tr>\n",
       "    <tr>\n",
       "      <th>savannas_ed</th>\n",
       "      <td>-0.000101</td>\n",
       "      <td>0.000044</td>\n",
       "      <td>0.008469</td>\n",
       "    </tr>\n",
       "  </tbody>\n",
       "</table>\n",
       "<p>105 rows × 3 columns</p>\n",
       "</div>"
      ],
      "text/plain": [
       "                                  mean_by_permutation  std_by_permutation  \\\n",
       "DOY                                          0.033025            0.001321   \n",
       "elevation_mean                               0.008047            0.000360   \n",
       "duration_minutes                             0.007047            0.000603   \n",
       "bio4                                         0.006694            0.000231   \n",
       "slope_mean                                   0.004379            0.000301   \n",
       "...                                               ...                 ...   \n",
       "water_bodies_lpi                            -0.000020            0.000011   \n",
       "non_vegetated_lands                         -0.000025            0.000007   \n",
       "croplands_lpi                               -0.000026            0.000058   \n",
       "evergreen_needleleaf_forests_lpi            -0.000042            0.000085   \n",
       "savannas_ed                                 -0.000101            0.000044   \n",
       "\n",
       "                                  mean_by_model_output  \n",
       "DOY                                           0.012264  \n",
       "elevation_mean                                0.024815  \n",
       "duration_minutes                              0.015389  \n",
       "bio4                                          0.044084  \n",
       "slope_mean                                    0.018442  \n",
       "...                                                ...  \n",
       "water_bodies_lpi                              0.003449  \n",
       "non_vegetated_lands                           0.004355  \n",
       "croplands_lpi                                 0.005564  \n",
       "evergreen_needleleaf_forests_lpi              0.006288  \n",
       "savannas_ed                                   0.008469  \n",
       "\n",
       "[105 rows x 3 columns]"
      ]
     },
     "execution_count": 109,
     "metadata": {},
     "output_type": "execute_result"
    }
   ],
   "source": [
    "feature_importance"
   ]
  },
  {
   "cell_type": "code",
   "execution_count": 191,
   "metadata": {},
   "outputs": [
    {
     "data": {
      "image/png": "[encoded data removed]",
      "text/plain": [
       "<Figure size 1000x500 with 1 Axes>"
      ]
     },
     "metadata": {},
     "output_type": "display_data"
    }
   ],
   "source": [
    "# importing matplotlib\n",
    "import matplotlib.pyplot as plt\n",
    "\n",
    "# making a simple plot\n",
    "plt.figure(figsize=(10,5))\n",
    "plt.bar(feature_importance.head(20).index,\n",
    "        feature_importance.head(20)['mean_by_permutation']*100,color='green')\n",
    "\n",
    "plt.errorbar(feature_importance.head(20).index,\n",
    "        feature_importance.head(20)['mean_by_permutation']*100, \n",
    "        yerr=feature_importance.head(20)['std_by_permutation']*100, fmt=\"o\", color=\"red\",linewidth=3)\n",
    "\n",
    "plt.xticks(rotation=90)\n",
    "plt.ylabel('Feature Importance (%AUC score)')\n",
    "plt.title('Feature Importance (by Permutation, top 20)')\n",
    "plt.grid(linestyle = \"-.\")\n",
    "plt.tight_layout()\n",
    "\n",
    "\n",
    "plt.savefig('Feature_importance.png',dpi=500)\n",
    "\n",
    "\n",
    "plt.show()\n"
   ]
  },
  {
   "cell_type": "code",
   "execution_count": 193,
   "metadata": {},
   "outputs": [
    {
     "data": {
      "text/html": [
       "<div>\n",
       "<style scoped>\n",
       "    .dataframe tbody tr th:only-of-type {\n",
       "        vertical-align: middle;\n",
       "    }\n",
       "\n",
       "    .dataframe tbody tr th {\n",
       "        vertical-align: top;\n",
       "    }\n",
       "\n",
       "    .dataframe thead th {\n",
       "        text-align: right;\n",
       "    }\n",
       "</style>\n",
       "<table border=\"1\" class=\"dataframe\">\n",
       "  <thead>\n",
       "    <tr style=\"text-align: right;\">\n",
       "      <th></th>\n",
       "      <th>mean_by_permutation</th>\n",
       "      <th>std_by_permutation</th>\n",
       "      <th>mean_by_model_output</th>\n",
       "    </tr>\n",
       "  </thead>\n",
       "  <tbody>\n",
       "    <tr>\n",
       "      <th>DOY</th>\n",
       "      <td>0.033025</td>\n",
       "      <td>0.001321</td>\n",
       "      <td>0.012264</td>\n",
       "    </tr>\n",
       "    <tr>\n",
       "      <th>elevation_mean</th>\n",
       "      <td>0.008047</td>\n",
       "      <td>0.000360</td>\n",
       "      <td>0.024815</td>\n",
       "    </tr>\n",
       "    <tr>\n",
       "      <th>duration_minutes</th>\n",
       "      <td>0.007047</td>\n",
       "      <td>0.000603</td>\n",
       "      <td>0.015389</td>\n",
       "    </tr>\n",
       "    <tr>\n",
       "      <th>bio4</th>\n",
       "      <td>0.006694</td>\n",
       "      <td>0.000231</td>\n",
       "      <td>0.044084</td>\n",
       "    </tr>\n",
       "    <tr>\n",
       "      <th>slope_mean</th>\n",
       "      <td>0.004379</td>\n",
       "      <td>0.000301</td>\n",
       "      <td>0.018442</td>\n",
       "    </tr>\n",
       "    <tr>\n",
       "      <th>...</th>\n",
       "      <td>...</td>\n",
       "      <td>...</td>\n",
       "      <td>...</td>\n",
       "    </tr>\n",
       "    <tr>\n",
       "      <th>water_bodies_lpi</th>\n",
       "      <td>-0.000020</td>\n",
       "      <td>0.000011</td>\n",
       "      <td>0.003449</td>\n",
       "    </tr>\n",
       "    <tr>\n",
       "      <th>non_vegetated_lands</th>\n",
       "      <td>-0.000025</td>\n",
       "      <td>0.000007</td>\n",
       "      <td>0.004355</td>\n",
       "    </tr>\n",
       "    <tr>\n",
       "      <th>croplands_lpi</th>\n",
       "      <td>-0.000026</td>\n",
       "      <td>0.000058</td>\n",
       "      <td>0.005564</td>\n",
       "    </tr>\n",
       "    <tr>\n",
       "      <th>evergreen_needleleaf_forests_lpi</th>\n",
       "      <td>-0.000042</td>\n",
       "      <td>0.000085</td>\n",
       "      <td>0.006288</td>\n",
       "    </tr>\n",
       "    <tr>\n",
       "      <th>savannas_ed</th>\n",
       "      <td>-0.000101</td>\n",
       "      <td>0.000044</td>\n",
       "      <td>0.008469</td>\n",
       "    </tr>\n",
       "  </tbody>\n",
       "</table>\n",
       "<p>105 rows × 3 columns</p>\n",
       "</div>"
      ],
      "text/plain": [
       "                                  mean_by_permutation  std_by_permutation  \\\n",
       "DOY                                          0.033025            0.001321   \n",
       "elevation_mean                               0.008047            0.000360   \n",
       "duration_minutes                             0.007047            0.000603   \n",
       "bio4                                         0.006694            0.000231   \n",
       "slope_mean                                   0.004379            0.000301   \n",
       "...                                               ...                 ...   \n",
       "water_bodies_lpi                            -0.000020            0.000011   \n",
       "non_vegetated_lands                         -0.000025            0.000007   \n",
       "croplands_lpi                               -0.000026            0.000058   \n",
       "evergreen_needleleaf_forests_lpi            -0.000042            0.000085   \n",
       "savannas_ed                                 -0.000101            0.000044   \n",
       "\n",
       "                                  mean_by_model_output  \n",
       "DOY                                           0.012264  \n",
       "elevation_mean                                0.024815  \n",
       "duration_minutes                              0.015389  \n",
       "bio4                                          0.044084  \n",
       "slope_mean                                    0.018442  \n",
       "...                                                ...  \n",
       "water_bodies_lpi                              0.003449  \n",
       "non_vegetated_lands                           0.004355  \n",
       "croplands_lpi                                 0.005564  \n",
       "evergreen_needleleaf_forests_lpi              0.006288  \n",
       "savannas_ed                                   0.008469  \n",
       "\n",
       "[105 rows x 3 columns]"
      ]
     },
     "execution_count": 193,
     "metadata": {},
     "output_type": "execute_result"
    }
   ],
   "source": [
    "feature_importance"
   ]
  },
  {
   "attachments": {},
   "cell_type": "markdown",
   "metadata": {},
   "source": [
    "## Error analysis"
   ]
  },
  {
   "cell_type": "code",
   "execution_count": 113,
   "metadata": {},
   "outputs": [
    {
     "name": "stderr",
     "output_type": "stream",
     "text": [
      "predicting ensemble 0 : 100%|██████████| 684/684 [00:08<00:00, 81.80it/s] \n",
      "predicting ensemble 1 : 100%|██████████| 666/666 [00:07<00:00, 93.52it/s] \n",
      "predicting ensemble 2 : 100%|██████████| 426/426 [00:05<00:00, 78.80it/s]\n",
      "predicting ensemble 3 : 100%|██████████| 403/403 [00:04<00:00, 85.67it/s]\n",
      "predicting ensemble 4 : 100%|██████████| 553/553 [00:06<00:00, 79.16it/s]\n",
      "predicting ensemble 5 : 100%|██████████| 580/580 [00:06<00:00, 87.57it/s]\n",
      "predicting ensemble 6 : 100%|██████████| 581/581 [00:06<00:00, 88.20it/s]\n",
      "predicting ensemble 7 : 100%|██████████| 601/601 [00:06<00:00, 87.57it/s]\n"
     ]
    }
   ],
   "source": [
    "pred = model.predict_proba(X_test)\n",
    "y_test_m = y_test[~np.isnan(pred)]\n",
    "pred_m = np.where(pred[~np.isnan(pred)]>0.05,1,0)\n",
    "\n"
   ]
  },
  {
   "cell_type": "code",
   "execution_count": 123,
   "metadata": {},
   "outputs": [],
   "source": [
    "right_index = y_test_m.index[(y_test_m==pred_m)]\n",
    "wrong_index = y_test_m.index[(y_test_m!=pred_m)]\n"
   ]
  },
  {
   "cell_type": "code",
   "execution_count": 203,
   "metadata": {},
   "outputs": [],
   "source": [
    "from scipy.stats import ttest_1samp\n"
   ]
  },
  {
   "cell_type": "code",
   "execution_count": 211,
   "metadata": {},
   "outputs": [],
   "source": [
    "k='DOY'"
   ]
  },
  {
   "cell_type": "code",
   "execution_count": 213,
   "metadata": {},
   "outputs": [
    {
     "data": {
      "text/plain": [
       "(167.01563933486239, 132)"
      ]
     },
     "execution_count": 213,
     "metadata": {},
     "output_type": "execute_result"
    }
   ],
   "source": [
    "X_test.loc[right_index][k].values.mean(),a[k]"
   ]
  },
  {
   "cell_type": "code",
   "execution_count": 217,
   "metadata": {},
   "outputs": [
    {
     "data": {
      "image/png": "[encoded data removed]",
      "text/plain": [
       "<Figure size 640x480 with 1 Axes>"
      ]
     },
     "metadata": {},
     "output_type": "display_data"
    }
   ],
   "source": [
    "plt.hist(X_test.loc[right_index][k].values,bins=100)\n",
    "plt.show()"
   ]
  },
  {
   "cell_type": "code",
   "execution_count": 215,
   "metadata": {},
   "outputs": [
    {
     "data": {
      "text/plain": [
       "Ttest_1sampResult(statistic=93.16356771667577, pvalue=0.0)"
      ]
     },
     "execution_count": 215,
     "metadata": {},
     "output_type": "execute_result"
    }
   ],
   "source": [
    "ttest_1samp(\n",
    "        X_test.loc[right_index][k].values,\n",
    "        a[k]\n",
    "    )"
   ]
  },
  {
   "cell_type": "code",
   "execution_count": 216,
   "metadata": {},
   "outputs": [
    {
     "data": {
      "text/plain": [
       "132"
      ]
     },
     "execution_count": 216,
     "metadata": {},
     "output_type": "execute_result"
    }
   ],
   "source": [
    "a[k]"
   ]
  },
  {
   "cell_type": "code",
   "execution_count": 219,
   "metadata": {},
   "outputs": [
    {
     "name": "stdout",
     "output_type": "stream",
     "text": [
      "92.90116112385321\n",
      "192.0\n",
      "12.0\n",
      "77.0\n"
     ]
    }
   ],
   "source": [
    "print(np.mean(X_test.loc[right_index]['duration_minutes'].values))\n",
    "for i in [0,1,2]:\n",
    "    print(X_test.loc[wrong_index[i]]['duration_minutes'])"
   ]
  },
  {
   "cell_type": "code",
   "execution_count": 226,
   "metadata": {},
   "outputs": [
    {
     "data": {
      "text/plain": [
       "{'duration_minutes': 60.0,\n",
       " 'Traveling': 1,\n",
       " 'Stationary': 0,\n",
       " 'Area': 0,\n",
       " 'obsvr_species_count': 473,\n",
       " 'DOY': 217,\n",
       " 'month': 8,\n",
       " 'week': 31,\n",
       " 'year': 2018,\n",
       " 'time_observation_started_minute_of_day': 1078,\n",
       " 'elevation_mean': 207.0,\n",
       " 'slope_mean': 0.17608732,\n",
       " 'eastness_mean': 0.0065026283,\n",
       " 'northness_mean': 0.054505024,\n",
       " 'elevation_std': 0.19923899,\n",
       " 'slope_std': 0.015178439,\n",
       " 'eastness_std': 0.010459588,\n",
       " 'northness_std': 0.010039539,\n",
       " 'prec': 172.56128,\n",
       " 'tmax': 28.813194,\n",
       " 'tmin': 17.519022,\n",
       " 'bio1': 9.952511,\n",
       " 'bio2': 10.895364,\n",
       " 'bio3': 26.822891,\n",
       " 'bio4': 1107.0,\n",
       " 'bio5': 29.562725,\n",
       " 'bio6': -11.056923,\n",
       " 'bio7': 40.619648,\n",
       " 'bio8': 19.612038,\n",
       " 'bio9': -5.8563,\n",
       " 'bio10': 23.411512,\n",
       " 'bio11': -3.5006077,\n",
       " 'bio12': 1152.1523,\n",
       " 'bio13': 178.5843,\n",
       " 'bio14': 27.509607,\n",
       " 'bio15': 3009.8933,\n",
       " 'bio16': 524.2261,\n",
       " 'bio17': 117.253006,\n",
       " 'bio18': 432.6371,\n",
       " 'bio19': 135.01434,\n",
       " 'closed_shrublands': 0.0,\n",
       " 'closed_shrublands_ed': 0.0,\n",
       " 'closed_shrublands_lpi': 0.0,\n",
       " 'closed_shrublands_pd': 0.0,\n",
       " 'cropland_or_natural_vegetation_mosaics': 0.0,\n",
       " 'cropland_or_natural_vegetation_mosaics_ed': 0.0,\n",
       " 'cropland_or_natural_vegetation_mosaics_lpi': 0.0,\n",
       " 'cropland_or_natural_vegetation_mosaics_pd': 0.0,\n",
       " 'croplands': 1.0,\n",
       " 'croplands_ed': 100.0,\n",
       " 'croplands_lpi': 0.12940440445079057,\n",
       " 'croplands_pd': 0.12940440445079057,\n",
       " 'deciduous_broadleaf_forests': 0.0,\n",
       " 'deciduous_broadleaf_forests_ed': 0.0,\n",
       " 'deciduous_broadleaf_forests_lpi': 0.0,\n",
       " 'deciduous_broadleaf_forests_pd': 0.0,\n",
       " 'deciduous_needleleaf_forests': 0.0,\n",
       " 'deciduous_needleleaf_forests_ed': 0.0,\n",
       " 'deciduous_needleleaf_forests_lpi': 0.0,\n",
       " 'deciduous_needleleaf_forests_pd': 0.0,\n",
       " 'evergreen_broadleaf_forests': 0.0,\n",
       " 'evergreen_broadleaf_forests_ed': 0.0,\n",
       " 'evergreen_broadleaf_forests_lpi': 0.0,\n",
       " 'evergreen_broadleaf_forests_pd': 0.0,\n",
       " 'evergreen_needleleaf_forests': 0.0,\n",
       " 'evergreen_needleleaf_forests_ed': 0.0,\n",
       " 'evergreen_needleleaf_forests_lpi': 0.0,\n",
       " 'evergreen_needleleaf_forests_pd': 0.0,\n",
       " 'grasslands': 0.0,\n",
       " 'grasslands_ed': 0.0,\n",
       " 'grasslands_lpi': 0.0,\n",
       " 'grasslands_pd': 0.0,\n",
       " 'mixed_forests': 0.0,\n",
       " 'mixed_forests_ed': 0.0,\n",
       " 'mixed_forests_lpi': 0.0,\n",
       " 'mixed_forests_pd': 0.0,\n",
       " 'non_vegetated_lands': 0.0,\n",
       " 'non_vegetated_lands_ed': 0.0,\n",
       " 'non_vegetated_lands_lpi': 0.0,\n",
       " 'non_vegetated_lands_pd': 0.0,\n",
       " 'open_shrublands': 0.0,\n",
       " 'open_shrublands_ed': 0.0,\n",
       " 'open_shrublands_lpi': 0.0,\n",
       " 'open_shrublands_pd': 0.0,\n",
       " 'permanent_wetlands': 0.0,\n",
       " 'permanent_wetlands_ed': 0.0,\n",
       " 'permanent_wetlands_lpi': 0.0,\n",
       " 'permanent_wetlands_pd': 0.0,\n",
       " 'savannas': 0.0,\n",
       " 'savannas_ed': 0.0,\n",
       " 'savannas_lpi': 0.0,\n",
       " 'savannas_pd': 0.0,\n",
       " 'urban_and_built_up_lands': 0.0,\n",
       " 'urban_and_built_up_lands_ed': 0.0,\n",
       " 'urban_and_built_up_lands_lpi': 0.0,\n",
       " 'urban_and_built_up_lands_pd': 0.0,\n",
       " 'water_bodies': 0.0,\n",
       " 'water_bodies_ed': 0.0,\n",
       " 'water_bodies_lpi': 0.0,\n",
       " 'water_bodies_pd': 0.0,\n",
       " 'woody_savannas': 0.0,\n",
       " 'woody_savannas_ed': 0.0,\n",
       " 'woody_savannas_lpi': 0.0,\n",
       " 'woody_savannas_pd': 0.0,\n",
       " 'entropy': -0.0,\n",
       " 'longitude': -91.67542,\n",
       " 'latitude': 41.7893,\n",
       " 'sampling_event_identifier': 'S47678860'}"
      ]
     },
     "execution_count": 226,
     "metadata": {},
     "output_type": "execute_result"
    }
   ],
   "source": [
    "dict(X_test.loc[wrong_index[3]])"
   ]
  },
  {
   "cell_type": "code",
   "execution_count": 220,
   "metadata": {},
   "outputs": [
    {
     "name": "stdout",
     "output_type": "stream",
     "text": [
      "duration_minutes 0.0 99.09883887614679\n",
      "Traveling 0.0 0.30946100917431196\n",
      "Stationary 0.0 -0.304286123853211\n",
      "Area 1.0701373077727913e-80 -0.005174885321100917\n",
      "obsvr_species_count 0.0 1896.350071674312\n",
      "DOY 1.2666032398951672e-26 -4.015639334862385\n",
      "month 0.05134680082104757 -0.02398222477064227\n",
      "week 3.1304586515639846e-06 -0.2502006880733951\n",
      "year nan 0.0\n",
      "time_observation_started_minute_of_day 0.0 -81.95622133027518\n",
      "elevation_mean 0.0 -553.7562452456311\n",
      "slope_mean 0.0 -3.368642254449944\n",
      "eastness_mean 0.0 -0.10759112211155823\n",
      "northness_mean 0.0 0.03347500566596918\n",
      "elevation_std 0.0 -7.487180224144638\n",
      "slope_std 0.0 -0.24361478223825006\n",
      "eastness_std 0.0 0.04748011232950278\n",
      "northness_std 0.0 0.01847400499415469\n",
      "prec 0.0 -91.33036904100032\n",
      "tmax 0.0 -21.2873088780898\n",
      "tmin 0.0 -11.183121058342724\n",
      "bio1 0.0 -15.778763944603725\n",
      "bio2 0.0 -10.914015534407971\n",
      "bio3 0.0 -48.52572323356508\n",
      "bio4 0.0 -444.7488637441944\n",
      "bio5 0.0 -27.308973972019782\n",
      "bio6 0.0 -4.083620312869044\n",
      "bio7 0.0 -24.152632911902234\n",
      "bio8 0.0 -17.27399189536813\n",
      "bio9 0.0 -14.275141036812213\n",
      "bio10 0.0 -21.295101866443503\n",
      "bio11 0.0 -10.130619987263236\n",
      "bio12 0.0 -1122.6829383061497\n",
      "bio13 0.0 -205.96357473868\n",
      "bio14 0.0 -26.317851375146027\n",
      "bio15 0.0 -4966.3539851479145\n",
      "bio16 0.0 -513.4608803975013\n",
      "bio17 0.0 -101.73845695444912\n",
      "bio18 0.0 -288.48415444596077\n",
      "bio19 0.0 -235.92541789953825\n",
      "closed_shrublands 5.136302883749057e-120 -0.0027400781172930845\n",
      "closed_shrublands_ed 2.7460495318172037e-103 -0.23533707992173888\n",
      "closed_shrublands_lpi 1.829889281119265e-191 -0.0033228932300407165\n",
      "closed_shrublands_pd 1.829889281119265e-191 -0.0033228932300407165\n",
      "cropland_or_natural_vegetation_mosaics 0.0 -0.011371181379782297\n",
      "cropland_or_natural_vegetation_mosaics_ed 0.0 -0.8921910865001462\n",
      "cropland_or_natural_vegetation_mosaics_lpi 0.0 -0.015302089505969164\n",
      "cropland_or_natural_vegetation_mosaics_pd 0.0 -0.015302089505969164\n",
      "croplands 0.0 -0.07831891883282366\n",
      "croplands_ed 0.0 -7.453411697247706\n",
      "croplands_lpi 0.0 -0.028349878343197132\n",
      "croplands_pd 0.0 -0.028349878343197132\n",
      "deciduous_broadleaf_forests 0.0 -0.0282980929532863\n",
      "deciduous_broadleaf_forests_ed 0.0 -2.5682598711501923\n",
      "deciduous_broadleaf_forests_lpi 0.0 -0.018844914504535435\n",
      "deciduous_broadleaf_forests_pd 0.0 -0.018844914504535435\n",
      "deciduous_needleleaf_forests 3.5740205655164175e-19 -8.162907747196739e-05\n",
      "deciduous_needleleaf_forests_ed 3.761851918212262e-21 -0.0058932212028542305\n",
      "deciduous_needleleaf_forests_lpi 3.245842175824676e-21 -0.00029494409844718606\n",
      "deciduous_needleleaf_forests_pd 3.245842175824676e-21 -0.00029494409844718606\n",
      "evergreen_broadleaf_forests 0.0 -0.11847143469265102\n",
      "evergreen_broadleaf_forests_ed 0.0 -11.320896000019621\n",
      "evergreen_broadleaf_forests_lpi 0.0 -0.043946109022125555\n",
      "evergreen_broadleaf_forests_pd 0.0 -0.043946109022125555\n",
      "evergreen_needleleaf_forests 0.0 -0.02649231954249118\n",
      "evergreen_needleleaf_forests_ed 0.0 -2.328531030068854\n",
      "evergreen_needleleaf_forests_lpi 0.0 -0.021081989098923545\n",
      "evergreen_needleleaf_forests_pd 0.0 -0.021081989098923545\n",
      "grasslands 0.0 -0.1557001767396627\n",
      "grasslands_ed 0.0 -14.258030867838425\n",
      "grasslands_lpi 0.0 -0.08632521353238588\n",
      "grasslands_pd 0.0 -0.08632521353238588\n",
      "mixed_forests 0.0 -0.020732656949644816\n",
      "mixed_forests_ed 0.0 -1.7855323409629564\n",
      "mixed_forests_lpi 0.0 -0.01854315292361022\n",
      "mixed_forests_pd 0.0 -0.01854315292361022\n",
      "non_vegetated_lands 0.0 -0.01699286661974952\n",
      "non_vegetated_lands_ed 0.0 -1.6040755982986394\n",
      "non_vegetated_lands_lpi 0.0 -0.009752036367719916\n",
      "non_vegetated_lands_pd 0.0 -0.009752036367719916\n",
      "open_shrublands 0.0 -0.031942104355840856\n",
      "open_shrublands_ed 0.0 -2.9413673545443304\n",
      "open_shrublands_lpi 0.0 -0.014960439797448016\n",
      "open_shrublands_pd 0.0 -0.014960439797448016\n",
      "permanent_wetlands 0.0 -0.015819750928373275\n",
      "permanent_wetlands_ed 0.0 -1.3049345528688516\n",
      "permanent_wetlands_lpi 0.0 -0.023003400768175118\n",
      "permanent_wetlands_pd 0.0 -0.023003400768175118\n",
      "savannas 0.0 -0.12148975491683771\n",
      "savannas_ed 0.0 -10.645541010152272\n",
      "savannas_lpi 0.0 -0.09075317655934616\n",
      "savannas_pd 0.0 -0.09075317655934616\n",
      "urban_and_built_up_lands 0.0 -0.055366237664790686\n",
      "urban_and_built_up_lands_ed 0.0 -5.322675945378152\n",
      "urban_and_built_up_lands_lpi 0.0 -0.021889307208810393\n",
      "urban_and_built_up_lands_pd 0.0 -0.021889307208810393\n",
      "water_bodies 0.0 0.8026753539034843\n",
      "water_bodies_ed 0.0 80.40218775821629\n",
      "water_bodies_lpi 0.0 0.09211089048994761\n",
      "water_bodies_pd 0.0 0.09211089048994761\n",
      "woody_savannas 0.0 -0.11824175205021645\n",
      "woody_savannas_ed 0.0 -10.069526376319294\n",
      "woody_savannas_lpi 0.0 -0.09449951264370347\n",
      "woody_savannas_pd 0.0 -0.09449951264370347\n",
      "entropy 0.0 -0.48826428965087365\n",
      "longitude 0.0 -60.95954853350487\n",
      "latitude 0.0 44.8678169887199\n"
     ]
    },
    {
     "ename": "TypeError",
     "evalue": "ufunc 'true_divide' not supported for the input types, and the inputs could not be safely coerced to any supported types according to the casting rule ''safe''",
     "output_type": "error",
     "traceback": [
      "\u001b[0;31m---------------------------------------------------------------------------\u001b[0m",
      "\u001b[0;31mTypeError\u001b[0m                                 Traceback (most recent call last)",
      "\u001b[1;32m/Users/chenyangkang/Desktop/MADS/696/Project/01.02.Error_analysis.ipynb Cell 27\u001b[0m in \u001b[0;36m<module>\u001b[0;34m\u001b[0m\n\u001b[1;32m      <a href='vscode-notebook-cell:/Users/chenyangkang/Desktop/MADS/696/Project/01.02.Error_analysis.ipynb#Y105sZmlsZQ%3D%3D?line=0'>1</a>\u001b[0m a \u001b[39m=\u001b[39m X_test\u001b[39m.\u001b[39mloc[wrong_index[\u001b[39m0\u001b[39m]]\n\u001b[1;32m      <a href='vscode-notebook-cell:/Users/chenyangkang/Desktop/MADS/696/Project/01.02.Error_analysis.ipynb#Y105sZmlsZQ%3D%3D?line=1'>2</a>\u001b[0m \u001b[39mfor\u001b[39;00m k \u001b[39min\u001b[39;00m \u001b[39mdict\u001b[39m(a):\n\u001b[0;32m----> <a href='vscode-notebook-cell:/Users/chenyangkang/Desktop/MADS/696/Project/01.02.Error_analysis.ipynb#Y105sZmlsZQ%3D%3D?line=3'>4</a>\u001b[0m     t,p\u001b[39m=\u001b[39mttest_1samp(\n\u001b[1;32m      <a href='vscode-notebook-cell:/Users/chenyangkang/Desktop/MADS/696/Project/01.02.Error_analysis.ipynb#Y105sZmlsZQ%3D%3D?line=4'>5</a>\u001b[0m         X_test\u001b[39m.\u001b[39;49mloc[right_index][k]\u001b[39m.\u001b[39;49mvalues,\n\u001b[1;32m      <a href='vscode-notebook-cell:/Users/chenyangkang/Desktop/MADS/696/Project/01.02.Error_analysis.ipynb#Y105sZmlsZQ%3D%3D?line=5'>6</a>\u001b[0m         a[k]\n\u001b[1;32m      <a href='vscode-notebook-cell:/Users/chenyangkang/Desktop/MADS/696/Project/01.02.Error_analysis.ipynb#Y105sZmlsZQ%3D%3D?line=6'>7</a>\u001b[0m     )\n\u001b[1;32m      <a href='vscode-notebook-cell:/Users/chenyangkang/Desktop/MADS/696/Project/01.02.Error_analysis.ipynb#Y105sZmlsZQ%3D%3D?line=7'>8</a>\u001b[0m     diff \u001b[39m=\u001b[39m a[k] \u001b[39m-\u001b[39m X_test\u001b[39m.\u001b[39mloc[right_index][k]\u001b[39m.\u001b[39mvalues\u001b[39m.\u001b[39mmean()\n\u001b[1;32m      <a href='vscode-notebook-cell:/Users/chenyangkang/Desktop/MADS/696/Project/01.02.Error_analysis.ipynb#Y105sZmlsZQ%3D%3D?line=8'>9</a>\u001b[0m     \u001b[39mprint\u001b[39m(k, p, diff)\n",
      "File \u001b[0;32m~/miniforge3/lib/python3.9/site-packages/scipy/stats/_stats_py.py:6073\u001b[0m, in \u001b[0;36mttest_1samp\u001b[0;34m(a, popmean, axis, nan_policy, alternative)\u001b[0m\n\u001b[1;32m   6070\u001b[0m n \u001b[39m=\u001b[39m a\u001b[39m.\u001b[39mshape[axis]\n\u001b[1;32m   6071\u001b[0m df \u001b[39m=\u001b[39m n \u001b[39m-\u001b[39m \u001b[39m1\u001b[39m\n\u001b[0;32m-> 6073\u001b[0m d \u001b[39m=\u001b[39m np\u001b[39m.\u001b[39;49mmean(a, axis) \u001b[39m-\u001b[39m popmean\n\u001b[1;32m   6074\u001b[0m v \u001b[39m=\u001b[39m _var(a, axis, ddof\u001b[39m=\u001b[39m\u001b[39m1\u001b[39m)\n\u001b[1;32m   6075\u001b[0m denom \u001b[39m=\u001b[39m np\u001b[39m.\u001b[39msqrt(v \u001b[39m/\u001b[39m n)\n",
      "File \u001b[0;32m<__array_function__ internals>:180\u001b[0m, in \u001b[0;36mmean\u001b[0;34m(*args, **kwargs)\u001b[0m\n",
      "File \u001b[0;32m~/miniforge3/lib/python3.9/site-packages/numpy/core/fromnumeric.py:3474\u001b[0m, in \u001b[0;36mmean\u001b[0;34m(a, axis, dtype, out, keepdims, where)\u001b[0m\n\u001b[1;32m   3471\u001b[0m     \u001b[39melse\u001b[39;00m:\n\u001b[1;32m   3472\u001b[0m         \u001b[39mreturn\u001b[39;00m mean(axis\u001b[39m=\u001b[39maxis, dtype\u001b[39m=\u001b[39mdtype, out\u001b[39m=\u001b[39mout, \u001b[39m*\u001b[39m\u001b[39m*\u001b[39mkwargs)\n\u001b[0;32m-> 3474\u001b[0m \u001b[39mreturn\u001b[39;00m _methods\u001b[39m.\u001b[39;49m_mean(a, axis\u001b[39m=\u001b[39;49maxis, dtype\u001b[39m=\u001b[39;49mdtype,\n\u001b[1;32m   3475\u001b[0m                       out\u001b[39m=\u001b[39;49mout, \u001b[39m*\u001b[39;49m\u001b[39m*\u001b[39;49mkwargs)\n",
      "File \u001b[0;32m~/miniforge3/lib/python3.9/site-packages/numpy/core/_methods.py:191\u001b[0m, in \u001b[0;36m_mean\u001b[0;34m(a, axis, dtype, out, keepdims, where)\u001b[0m\n\u001b[1;32m    189\u001b[0m         ret \u001b[39m=\u001b[39m ret\u001b[39m.\u001b[39mdtype\u001b[39m.\u001b[39mtype(ret \u001b[39m/\u001b[39m rcount)\n\u001b[1;32m    190\u001b[0m \u001b[39melse\u001b[39;00m:\n\u001b[0;32m--> 191\u001b[0m     ret \u001b[39m=\u001b[39m ret \u001b[39m/\u001b[39;49m rcount\n\u001b[1;32m    193\u001b[0m \u001b[39mreturn\u001b[39;00m ret\n",
      "\u001b[0;31mTypeError\u001b[0m: ufunc 'true_divide' not supported for the input types, and the inputs could not be safely coerced to any supported types according to the casting rule ''safe''"
     ]
    }
   ],
   "source": [
    "a = X_test.loc[wrong_index[0]]\n",
    "for k in dict(a):\n",
    "    \n",
    "    t,p=ttest_1samp(\n",
    "        X_test.loc[right_index][k].values,\n",
    "        a[k]\n",
    "    )\n",
    "    diff = a[k] - X_test.loc[right_index][k].values.mean()\n",
    "    print(k, p, diff)\n",
    "\n"
   ]
  },
  {
   "cell_type": "code",
   "execution_count": 206,
   "metadata": {},
   "outputs": [
    {
     "data": {
      "text/plain": [
       "Ttest_1sampResult(statistic=-229.53065419017366, pvalue=0.0)"
      ]
     },
     "execution_count": 206,
     "metadata": {},
     "output_type": "execute_result"
    }
   ],
   "source": [
    "ttest_1samp(\n",
    "        X_test.loc[right_index][k].values,\n",
    "        a[k]\n",
    "    )\n",
    "    "
   ]
  },
  {
   "cell_type": "code",
   "execution_count": 136,
   "metadata": {},
   "outputs": [
    {
     "name": "stderr",
     "output_type": "stream",
     "text": [
      "  4%|▍         | 4/105 [00:00<00:02, 39.77it/s]"
     ]
    },
    {
     "name": "stdout",
     "output_type": "stream",
     "text": [
      "duration_minutes\n",
      "Traveling\n",
      "Stationary\n",
      "Area\n",
      "obsvr_species_count\n",
      "DOY\n",
      "month\n",
      "week\n",
      "year\n"
     ]
    },
    {
     "name": "stderr",
     "output_type": "stream",
     "text": [
      " 13%|█▎        | 14/105 [00:00<00:02, 39.50it/s]"
     ]
    },
    {
     "name": "stdout",
     "output_type": "stream",
     "text": [
      "time_observation_started_minute_of_day\n",
      "elevation_mean\n",
      "slope_mean\n",
      "eastness_mean\n",
      "northness_mean\n",
      "elevation_std\n",
      "slope_std\n",
      "eastness_std\n",
      "northness_std\n"
     ]
    },
    {
     "name": "stderr",
     "output_type": "stream",
     "text": [
      " 26%|██▌       | 27/105 [00:00<00:01, 51.69it/s]"
     ]
    },
    {
     "name": "stdout",
     "output_type": "stream",
     "text": [
      "prec\n",
      "tmax\n",
      "tmin\n",
      "bio1\n",
      "bio2\n",
      "bio3\n",
      "bio4\n",
      "bio5\n",
      "bio6\n",
      "bio7\n",
      "bio8\n",
      "bio9\n",
      "bio10\n"
     ]
    },
    {
     "name": "stderr",
     "output_type": "stream",
     "text": [
      " 31%|███▏      | 33/105 [00:00<00:01, 53.20it/s]"
     ]
    },
    {
     "name": "stdout",
     "output_type": "stream",
     "text": [
      "bio11\n",
      "bio12\n",
      "bio13\n",
      "bio14\n",
      "bio15\n",
      "bio16\n",
      "bio17\n",
      "bio18\n"
     ]
    },
    {
     "name": "stderr",
     "output_type": "stream",
     "text": [
      " 42%|████▏     | 44/105 [00:00<00:01, 46.22it/s]"
     ]
    },
    {
     "name": "stdout",
     "output_type": "stream",
     "text": [
      "bio19\n",
      "closed_shrublands\n",
      "closed_shrublands_ed\n",
      "closed_shrublands_lpi\n",
      "closed_shrublands_pd\n",
      "cropland_or_natural_vegetation_mosaics\n",
      "cropland_or_natural_vegetation_mosaics_ed\n",
      "cropland_or_natural_vegetation_mosaics_lpi\n",
      "cropland_or_natural_vegetation_mosaics_pd\n",
      "croplands\n",
      "croplands_ed\n",
      "croplands_lpi\n"
     ]
    },
    {
     "name": "stderr",
     "output_type": "stream",
     "text": [
      " 54%|█████▍    | 57/105 [00:01<00:00, 52.89it/s]"
     ]
    },
    {
     "name": "stdout",
     "output_type": "stream",
     "text": [
      "croplands_pd\n",
      "deciduous_broadleaf_forests\n",
      "deciduous_broadleaf_forests_ed\n",
      "deciduous_broadleaf_forests_lpi\n",
      "deciduous_broadleaf_forests_pd\n",
      "deciduous_needleleaf_forests\n",
      "deciduous_needleleaf_forests_ed\n",
      "deciduous_needleleaf_forests_lpi\n",
      "deciduous_needleleaf_forests_pd\n",
      "evergreen_broadleaf_forests\n",
      "evergreen_broadleaf_forests_ed\n",
      "evergreen_broadleaf_forests_lpi\n"
     ]
    },
    {
     "name": "stderr",
     "output_type": "stream",
     "text": [
      " 66%|██████▌   | 69/105 [00:01<00:00, 55.39it/s]"
     ]
    },
    {
     "name": "stdout",
     "output_type": "stream",
     "text": [
      "evergreen_broadleaf_forests_pd\n",
      "evergreen_needleleaf_forests\n",
      "evergreen_needleleaf_forests_ed\n",
      "evergreen_needleleaf_forests_lpi\n",
      "evergreen_needleleaf_forests_pd\n",
      "grasslands\n",
      "grasslands_ed\n",
      "grasslands_lpi\n",
      "grasslands_pd\n",
      "mixed_forests\n",
      "mixed_forests_ed\n",
      "mixed_forests_lpi\n",
      "mixed_forests_pd\n"
     ]
    },
    {
     "name": "stderr",
     "output_type": "stream",
     "text": [
      " 79%|███████▉  | 83/105 [00:01<00:00, 59.63it/s]"
     ]
    },
    {
     "name": "stdout",
     "output_type": "stream",
     "text": [
      "non_vegetated_lands\n",
      "non_vegetated_lands_ed\n",
      "non_vegetated_lands_lpi\n",
      "non_vegetated_lands_pd\n",
      "open_shrublands\n",
      "open_shrublands_ed\n",
      "open_shrublands_lpi\n",
      "open_shrublands_pd\n",
      "permanent_wetlands\n",
      "permanent_wetlands_ed\n",
      "permanent_wetlands_lpi\n",
      "permanent_wetlands_pd\n",
      "savannas\n"
     ]
    },
    {
     "name": "stderr",
     "output_type": "stream",
     "text": [
      " 92%|█████████▏| 97/105 [00:01<00:00, 61.26it/s]"
     ]
    },
    {
     "name": "stdout",
     "output_type": "stream",
     "text": [
      "savannas_ed\n",
      "savannas_lpi\n",
      "savannas_pd\n",
      "urban_and_built_up_lands\n",
      "urban_and_built_up_lands_ed\n",
      "urban_and_built_up_lands_lpi\n",
      "urban_and_built_up_lands_pd\n",
      "water_bodies\n",
      "water_bodies_ed\n",
      "water_bodies_lpi\n",
      "water_bodies_pd\n",
      "woody_savannas\n",
      "woody_savannas_ed\n"
     ]
    },
    {
     "name": "stderr",
     "output_type": "stream",
     "text": [
      "100%|██████████| 105/105 [00:01<00:00, 53.58it/s]"
     ]
    },
    {
     "name": "stdout",
     "output_type": "stream",
     "text": [
      "woody_savannas_lpi\n",
      "woody_savannas_pd\n",
      "entropy\n"
     ]
    },
    {
     "name": "stderr",
     "output_type": "stream",
     "text": [
      "\n"
     ]
    }
   ],
   "source": [
    "dist_diff_df = []\n",
    "for v in tqdm(all_variable_names):\n",
    "    print(v)\n",
    "    right_dist = X_test.loc[right_index][v]\n",
    "    wrong_dist = X_test.loc[wrong_index][v]\n",
    "    from scipy.stats import ttest_ind\n",
    "\n",
    "    t,p = ttest_ind(wrong_dist,\n",
    "            right_dist)\n",
    "\n",
    "    \n",
    "\n",
    "    dist_diff_df.append(\n",
    "        {\n",
    "        'variable':v,\n",
    "        'wrong_pred_mean':np.mean(wrong_dist),\n",
    "        'wrong_pred_std':np.std(wrong_dist),\n",
    "        'right_pred_mean':np.mean(right_dist),\n",
    "        'right_pred_std':np.std(right_dist),\n",
    "        't':t,\n",
    "        'p':p\n",
    "        }\n",
    "    )\n",
    "\n"
   ]
  },
  {
   "cell_type": "code",
   "execution_count": 138,
   "metadata": {},
   "outputs": [],
   "source": [
    "dist_diff_df = pd.DataFrame(dist_diff_df)\n",
    "\n",
    "\n"
   ]
  },
  {
   "cell_type": "code",
   "execution_count": 141,
   "metadata": {},
   "outputs": [],
   "source": [
    "dist_diff_df['wrong_minus_right'] = dist_diff_df['wrong_pred_mean'] - dist_diff_df['right_pred_mean']"
   ]
  },
  {
   "cell_type": "code",
   "execution_count": 192,
   "metadata": {},
   "outputs": [],
   "source": [
    "dist_diff_df[dist_diff_df['variable'].isin(\n",
    "    feature_importance.head(20).index\n",
    ")].sort_values(by='p').to_csv('Error_analysis_features.csv',index=False)\n"
   ]
  },
  {
   "cell_type": "code",
   "execution_count": 190,
   "metadata": {},
   "outputs": [
    {
     "data": {
      "image/png": "[encoded data removed]",
      "text/plain": [
       "<Figure size 1000x700 with 2 Axes>"
      ]
     },
     "metadata": {},
     "output_type": "display_data"
    }
   ],
   "source": [
    "fig,ax = plt.subplots(1,2,figsize=(10,7))\n",
    "plt.sca(ax[0])\n",
    "a=sns.kdeplot(\n",
    "    X_test.loc[right_index].longitude,\n",
    "    X_test.loc[right_index].latitude, \n",
    "    cmap=\"Greens\", shade=True,label = 'correct prediction',alpha=0.95\n",
    ")\n",
    "plt.title('Correct Prediction')\n",
    "plt.xlim(-180,-20)\n",
    "plt.ylim(-70,85)\n",
    "plt.xlabel('longitude')\n",
    "plt.ylabel('latitude')\n",
    "cx.add_basemap(a,crs='EPSG:4326',source=cx.providers.Stamen.Toner)\n",
    "\n",
    "plt.sca(ax[1])\n",
    "a = sns.kdeplot(\n",
    "    X_test.loc[wrong_index].longitude,\n",
    "    X_test.loc[wrong_index].latitude, \n",
    "    cmap=\"Reds\", shade=True,label = 'wrong prediction',alpha=0.95\n",
    ")\n",
    "plt.title('Wrong Prediction')\n",
    "\n",
    "plt.xlim(-180,-20)\n",
    "plt.ylim(-70,85)\n",
    "plt.xlabel('longitude')\n",
    "plt.ylabel('latitude')\n",
    "cx.add_basemap(a,crs='EPSG:4326',source=cx.providers.Stamen.Toner)\n",
    "\n",
    "plt.tight_layout()\n",
    "\n",
    "plt.savefig('Error_analysis.png',dpi=500)\n",
    "\n",
    "plt.show()\n",
    "\n",
    "\n"
   ]
  },
  {
   "cell_type": "code",
   "execution_count": 144,
   "metadata": {},
   "outputs": [
    {
     "data": {
      "text/plain": [
       "Index(['DOY', 'elevation_mean', 'duration_minutes', 'bio4', 'slope_mean',\n",
       "       'bio7', 'bio19', 'bio2', 'bio17', 'tmin', 'bio11', 'bio6', 'bio8',\n",
       "       'prec', 'bio3', 'bio9', 'bio18', 'slope_std', 'bio12', 'eastness_mean'],\n",
       "      dtype='object')"
      ]
     },
     "execution_count": 144,
     "metadata": {},
     "output_type": "execute_result"
    }
   ],
   "source": []
  },
  {
   "cell_type": "code",
   "execution_count": null,
   "metadata": {},
   "outputs": [],
   "source": []
  },
  {
   "cell_type": "code",
   "execution_count": 130,
   "metadata": {},
   "outputs": [
    {
     "data": {
      "text/plain": [
       "(array([5.6297e+04, 9.5110e+03, 2.4240e+03, 7.2200e+02, 5.8600e+02,\n",
       "        1.2500e+02, 5.1000e+01, 7.0000e+00, 1.5000e+01, 2.2000e+01]),\n",
       " array([1.0000e+00, 1.4490e+02, 2.8880e+02, 4.3270e+02, 5.7660e+02,\n",
       "        7.2050e+02, 8.6440e+02, 1.0083e+03, 1.1522e+03, 1.2961e+03,\n",
       "        1.4400e+03]),\n",
       " <BarContainer object of 10 artists>)"
      ]
     },
     "execution_count": 130,
     "metadata": {},
     "output_type": "execute_result"
    },
    {
     "data": {
      "image/png": "[encoded data removed]",
      "text/plain": [
       "<Figure size 640x480 with 1 Axes>"
      ]
     },
     "metadata": {},
     "output_type": "display_data"
    }
   ],
   "source": [
    "plt.hist(right_dist)"
   ]
  },
  {
   "cell_type": "code",
   "execution_count": 125,
   "metadata": {},
   "outputs": [
    {
     "data": {
      "text/html": [
       "<div>\n",
       "<style scoped>\n",
       "    .dataframe tbody tr th:only-of-type {\n",
       "        vertical-align: middle;\n",
       "    }\n",
       "\n",
       "    .dataframe tbody tr th {\n",
       "        vertical-align: top;\n",
       "    }\n",
       "\n",
       "    .dataframe thead th {\n",
       "        text-align: right;\n",
       "    }\n",
       "</style>\n",
       "<table border=\"1\" class=\"dataframe\">\n",
       "  <thead>\n",
       "    <tr style=\"text-align: right;\">\n",
       "      <th></th>\n",
       "      <th>duration_minutes</th>\n",
       "      <th>Traveling</th>\n",
       "      <th>Stationary</th>\n",
       "      <th>Area</th>\n",
       "      <th>obsvr_species_count</th>\n",
       "      <th>DOY</th>\n",
       "      <th>month</th>\n",
       "      <th>week</th>\n",
       "      <th>year</th>\n",
       "      <th>time_observation_started_minute_of_day</th>\n",
       "      <th>elevation_mean</th>\n",
       "      <th>slope_mean</th>\n",
       "      <th>eastness_mean</th>\n",
       "      <th>northness_mean</th>\n",
       "      <th>elevation_std</th>\n",
       "      <th>slope_std</th>\n",
       "      <th>eastness_std</th>\n",
       "      <th>northness_std</th>\n",
       "      <th>prec</th>\n",
       "      <th>tmax</th>\n",
       "      <th>tmin</th>\n",
       "      <th>bio1</th>\n",
       "      <th>bio2</th>\n",
       "      <th>bio3</th>\n",
       "      <th>bio4</th>\n",
       "      <th>bio5</th>\n",
       "      <th>bio6</th>\n",
       "      <th>bio7</th>\n",
       "      <th>bio8</th>\n",
       "      <th>bio9</th>\n",
       "      <th>bio10</th>\n",
       "      <th>bio11</th>\n",
       "      <th>bio12</th>\n",
       "      <th>bio13</th>\n",
       "      <th>bio14</th>\n",
       "      <th>bio15</th>\n",
       "      <th>bio16</th>\n",
       "      <th>bio17</th>\n",
       "      <th>bio18</th>\n",
       "      <th>bio19</th>\n",
       "      <th>closed_shrublands</th>\n",
       "      <th>closed_shrublands_ed</th>\n",
       "      <th>closed_shrublands_lpi</th>\n",
       "      <th>closed_shrublands_pd</th>\n",
       "      <th>cropland_or_natural_vegetation_mosaics</th>\n",
       "      <th>cropland_or_natural_vegetation_mosaics_ed</th>\n",
       "      <th>cropland_or_natural_vegetation_mosaics_lpi</th>\n",
       "      <th>cropland_or_natural_vegetation_mosaics_pd</th>\n",
       "      <th>croplands</th>\n",
       "      <th>croplands_ed</th>\n",
       "      <th>croplands_lpi</th>\n",
       "      <th>croplands_pd</th>\n",
       "      <th>deciduous_broadleaf_forests</th>\n",
       "      <th>deciduous_broadleaf_forests_ed</th>\n",
       "      <th>deciduous_broadleaf_forests_lpi</th>\n",
       "      <th>deciduous_broadleaf_forests_pd</th>\n",
       "      <th>deciduous_needleleaf_forests</th>\n",
       "      <th>deciduous_needleleaf_forests_ed</th>\n",
       "      <th>deciduous_needleleaf_forests_lpi</th>\n",
       "      <th>deciduous_needleleaf_forests_pd</th>\n",
       "      <th>evergreen_broadleaf_forests</th>\n",
       "      <th>evergreen_broadleaf_forests_ed</th>\n",
       "      <th>evergreen_broadleaf_forests_lpi</th>\n",
       "      <th>evergreen_broadleaf_forests_pd</th>\n",
       "      <th>evergreen_needleleaf_forests</th>\n",
       "      <th>evergreen_needleleaf_forests_ed</th>\n",
       "      <th>evergreen_needleleaf_forests_lpi</th>\n",
       "      <th>evergreen_needleleaf_forests_pd</th>\n",
       "      <th>grasslands</th>\n",
       "      <th>grasslands_ed</th>\n",
       "      <th>grasslands_lpi</th>\n",
       "      <th>grasslands_pd</th>\n",
       "      <th>mixed_forests</th>\n",
       "      <th>mixed_forests_ed</th>\n",
       "      <th>mixed_forests_lpi</th>\n",
       "      <th>mixed_forests_pd</th>\n",
       "      <th>non_vegetated_lands</th>\n",
       "      <th>non_vegetated_lands_ed</th>\n",
       "      <th>non_vegetated_lands_lpi</th>\n",
       "      <th>non_vegetated_lands_pd</th>\n",
       "      <th>open_shrublands</th>\n",
       "      <th>open_shrublands_ed</th>\n",
       "      <th>open_shrublands_lpi</th>\n",
       "      <th>open_shrublands_pd</th>\n",
       "      <th>permanent_wetlands</th>\n",
       "      <th>permanent_wetlands_ed</th>\n",
       "      <th>permanent_wetlands_lpi</th>\n",
       "      <th>permanent_wetlands_pd</th>\n",
       "      <th>savannas</th>\n",
       "      <th>savannas_ed</th>\n",
       "      <th>savannas_lpi</th>\n",
       "      <th>savannas_pd</th>\n",
       "      <th>urban_and_built_up_lands</th>\n",
       "      <th>urban_and_built_up_lands_ed</th>\n",
       "      <th>urban_and_built_up_lands_lpi</th>\n",
       "      <th>urban_and_built_up_lands_pd</th>\n",
       "      <th>water_bodies</th>\n",
       "      <th>water_bodies_ed</th>\n",
       "      <th>water_bodies_lpi</th>\n",
       "      <th>water_bodies_pd</th>\n",
       "      <th>woody_savannas</th>\n",
       "      <th>woody_savannas_ed</th>\n",
       "      <th>woody_savannas_lpi</th>\n",
       "      <th>woody_savannas_pd</th>\n",
       "      <th>entropy</th>\n",
       "      <th>longitude</th>\n",
       "      <th>latitude</th>\n",
       "      <th>sampling_event_identifier</th>\n",
       "    </tr>\n",
       "  </thead>\n",
       "  <tbody>\n",
       "    <tr>\n",
       "      <th>80199</th>\n",
       "      <td>15.0</td>\n",
       "      <td>0</td>\n",
       "      <td>1</td>\n",
       "      <td>0</td>\n",
       "      <td>826</td>\n",
       "      <td>64</td>\n",
       "      <td>3</td>\n",
       "      <td>10</td>\n",
       "      <td>2018</td>\n",
       "      <td>1148</td>\n",
       "      <td>461.388900</td>\n",
       "      <td>0.335186</td>\n",
       "      <td>0.151684</td>\n",
       "      <td>-0.048522</td>\n",
       "      <td>0.998162</td>\n",
       "      <td>0.061199</td>\n",
       "      <td>0.019977</td>\n",
       "      <td>0.044556</td>\n",
       "      <td>35.582047</td>\n",
       "      <td>27.718832</td>\n",
       "      <td>12.099116</td>\n",
       "      <td>16.842863</td>\n",
       "      <td>13.402118</td>\n",
       "      <td>47.585770</td>\n",
       "      <td>549.45624</td>\n",
       "      <td>29.835794</td>\n",
       "      <td>1.671665</td>\n",
       "      <td>28.164130</td>\n",
       "      <td>20.503326</td>\n",
       "      <td>10.331827</td>\n",
       "      <td>22.971527</td>\n",
       "      <td>8.558167</td>\n",
       "      <td>651.199300</td>\n",
       "      <td>149.662930</td>\n",
       "      <td>4.028069</td>\n",
       "      <td>1680.765100</td>\n",
       "      <td>337.917450</td>\n",
       "      <td>23.312256</td>\n",
       "      <td>231.272980</td>\n",
       "      <td>23.312256</td>\n",
       "      <td>0.0</td>\n",
       "      <td>0.0</td>\n",
       "      <td>0.0</td>\n",
       "      <td>0.0</td>\n",
       "      <td>0.000000</td>\n",
       "      <td>0.000000</td>\n",
       "      <td>0.000000</td>\n",
       "      <td>0.000000</td>\n",
       "      <td>1.0</td>\n",
       "      <td>100.0</td>\n",
       "      <td>0.129404</td>\n",
       "      <td>0.129404</td>\n",
       "      <td>0.0</td>\n",
       "      <td>0.0</td>\n",
       "      <td>0.0</td>\n",
       "      <td>0.0</td>\n",
       "      <td>0.0</td>\n",
       "      <td>0.0</td>\n",
       "      <td>0.0</td>\n",
       "      <td>0.0</td>\n",
       "      <td>0.000000</td>\n",
       "      <td>0.000000</td>\n",
       "      <td>0.000000</td>\n",
       "      <td>0.000000</td>\n",
       "      <td>0.000000</td>\n",
       "      <td>0.000000</td>\n",
       "      <td>0.000000</td>\n",
       "      <td>0.000000</td>\n",
       "      <td>0.000000</td>\n",
       "      <td>0.000000</td>\n",
       "      <td>0.000000</td>\n",
       "      <td>0.000000</td>\n",
       "      <td>0.000000</td>\n",
       "      <td>0.000000</td>\n",
       "      <td>0.000000</td>\n",
       "      <td>0.000000</td>\n",
       "      <td>0.0</td>\n",
       "      <td>0.0</td>\n",
       "      <td>0.0</td>\n",
       "      <td>0.0</td>\n",
       "      <td>0.0</td>\n",
       "      <td>0.0</td>\n",
       "      <td>0.000000</td>\n",
       "      <td>0.000000</td>\n",
       "      <td>0.0</td>\n",
       "      <td>0.0</td>\n",
       "      <td>0.0</td>\n",
       "      <td>0.0</td>\n",
       "      <td>0.000000</td>\n",
       "      <td>0.000000</td>\n",
       "      <td>0.000000</td>\n",
       "      <td>0.000000</td>\n",
       "      <td>0.000000</td>\n",
       "      <td>0.000000</td>\n",
       "      <td>0.000000</td>\n",
       "      <td>0.000000</td>\n",
       "      <td>0.0</td>\n",
       "      <td>0.0</td>\n",
       "      <td>0.000000</td>\n",
       "      <td>0.000000</td>\n",
       "      <td>0.000000</td>\n",
       "      <td>0.000000</td>\n",
       "      <td>0.000000</td>\n",
       "      <td>0.000000</td>\n",
       "      <td>-0.000000</td>\n",
       "      <td>-64.375398</td>\n",
       "      <td>-33.106857</td>\n",
       "      <td>S43415298</td>\n",
       "    </tr>\n",
       "    <tr>\n",
       "      <th>35089</th>\n",
       "      <td>30.0</td>\n",
       "      <td>1</td>\n",
       "      <td>0</td>\n",
       "      <td>0</td>\n",
       "      <td>1083</td>\n",
       "      <td>26</td>\n",
       "      <td>1</td>\n",
       "      <td>4</td>\n",
       "      <td>2018</td>\n",
       "      <td>940</td>\n",
       "      <td>7.333334</td>\n",
       "      <td>1.323622</td>\n",
       "      <td>0.040357</td>\n",
       "      <td>-0.084696</td>\n",
       "      <td>0.505607</td>\n",
       "      <td>0.113869</td>\n",
       "      <td>0.120141</td>\n",
       "      <td>0.056075</td>\n",
       "      <td>-1.000000</td>\n",
       "      <td>-1.000000</td>\n",
       "      <td>-1.000000</td>\n",
       "      <td>-1.000000</td>\n",
       "      <td>-1.000000</td>\n",
       "      <td>-1.000000</td>\n",
       "      <td>-1.00000</td>\n",
       "      <td>-1.000000</td>\n",
       "      <td>-1.000000</td>\n",
       "      <td>-1.000000</td>\n",
       "      <td>-1.000000</td>\n",
       "      <td>-1.000000</td>\n",
       "      <td>-1.000000</td>\n",
       "      <td>-1.000000</td>\n",
       "      <td>-1.000000</td>\n",
       "      <td>-1.000000</td>\n",
       "      <td>-1.000000</td>\n",
       "      <td>-1.000000</td>\n",
       "      <td>-1.000000</td>\n",
       "      <td>-1.000000</td>\n",
       "      <td>-1.000000</td>\n",
       "      <td>-1.000000</td>\n",
       "      <td>0.0</td>\n",
       "      <td>0.0</td>\n",
       "      <td>0.0</td>\n",
       "      <td>0.0</td>\n",
       "      <td>0.000000</td>\n",
       "      <td>0.000000</td>\n",
       "      <td>0.000000</td>\n",
       "      <td>0.000000</td>\n",
       "      <td>0.0</td>\n",
       "      <td>0.0</td>\n",
       "      <td>0.000000</td>\n",
       "      <td>0.000000</td>\n",
       "      <td>0.0</td>\n",
       "      <td>0.0</td>\n",
       "      <td>0.0</td>\n",
       "      <td>0.0</td>\n",
       "      <td>0.0</td>\n",
       "      <td>0.0</td>\n",
       "      <td>0.0</td>\n",
       "      <td>0.0</td>\n",
       "      <td>0.000000</td>\n",
       "      <td>0.000000</td>\n",
       "      <td>0.000000</td>\n",
       "      <td>0.000000</td>\n",
       "      <td>0.000000</td>\n",
       "      <td>0.000000</td>\n",
       "      <td>0.000000</td>\n",
       "      <td>0.000000</td>\n",
       "      <td>0.000000</td>\n",
       "      <td>0.000000</td>\n",
       "      <td>0.000000</td>\n",
       "      <td>0.000000</td>\n",
       "      <td>0.000000</td>\n",
       "      <td>0.000000</td>\n",
       "      <td>0.000000</td>\n",
       "      <td>0.000000</td>\n",
       "      <td>0.0</td>\n",
       "      <td>0.0</td>\n",
       "      <td>0.0</td>\n",
       "      <td>0.0</td>\n",
       "      <td>0.0</td>\n",
       "      <td>0.0</td>\n",
       "      <td>0.000000</td>\n",
       "      <td>0.000000</td>\n",
       "      <td>0.0</td>\n",
       "      <td>0.0</td>\n",
       "      <td>0.0</td>\n",
       "      <td>0.0</td>\n",
       "      <td>0.000000</td>\n",
       "      <td>0.000000</td>\n",
       "      <td>0.000000</td>\n",
       "      <td>0.000000</td>\n",
       "      <td>0.000000</td>\n",
       "      <td>0.000000</td>\n",
       "      <td>0.000000</td>\n",
       "      <td>0.000000</td>\n",
       "      <td>1.0</td>\n",
       "      <td>100.0</td>\n",
       "      <td>0.129404</td>\n",
       "      <td>0.129404</td>\n",
       "      <td>0.000000</td>\n",
       "      <td>0.000000</td>\n",
       "      <td>0.000000</td>\n",
       "      <td>0.000000</td>\n",
       "      <td>-0.000000</td>\n",
       "      <td>-68.968472</td>\n",
       "      <td>12.120223</td>\n",
       "      <td>S42254703</td>\n",
       "    </tr>\n",
       "    <tr>\n",
       "      <th>125231</th>\n",
       "      <td>62.0</td>\n",
       "      <td>1</td>\n",
       "      <td>0</td>\n",
       "      <td>0</td>\n",
       "      <td>417</td>\n",
       "      <td>96</td>\n",
       "      <td>4</td>\n",
       "      <td>14</td>\n",
       "      <td>2018</td>\n",
       "      <td>495</td>\n",
       "      <td>764.444400</td>\n",
       "      <td>2.615817</td>\n",
       "      <td>0.044640</td>\n",
       "      <td>0.249003</td>\n",
       "      <td>0.600176</td>\n",
       "      <td>0.018775</td>\n",
       "      <td>0.074915</td>\n",
       "      <td>0.047259</td>\n",
       "      <td>25.584192</td>\n",
       "      <td>24.977730</td>\n",
       "      <td>16.255064</td>\n",
       "      <td>19.864655</td>\n",
       "      <td>9.228068</td>\n",
       "      <td>59.516293</td>\n",
       "      <td>209.88190</td>\n",
       "      <td>26.884370</td>\n",
       "      <td>11.379258</td>\n",
       "      <td>15.505113</td>\n",
       "      <td>22.492529</td>\n",
       "      <td>18.488459</td>\n",
       "      <td>22.487823</td>\n",
       "      <td>17.000450</td>\n",
       "      <td>1250.596200</td>\n",
       "      <td>297.876160</td>\n",
       "      <td>10.065291</td>\n",
       "      <td>8970.067000</td>\n",
       "      <td>734.370060</td>\n",
       "      <td>42.039482</td>\n",
       "      <td>734.370060</td>\n",
       "      <td>73.362950</td>\n",
       "      <td>0.0</td>\n",
       "      <td>0.0</td>\n",
       "      <td>0.0</td>\n",
       "      <td>0.0</td>\n",
       "      <td>0.000000</td>\n",
       "      <td>0.000000</td>\n",
       "      <td>0.000000</td>\n",
       "      <td>0.000000</td>\n",
       "      <td>0.0</td>\n",
       "      <td>0.0</td>\n",
       "      <td>0.000000</td>\n",
       "      <td>0.000000</td>\n",
       "      <td>0.0</td>\n",
       "      <td>0.0</td>\n",
       "      <td>0.0</td>\n",
       "      <td>0.0</td>\n",
       "      <td>0.0</td>\n",
       "      <td>0.0</td>\n",
       "      <td>0.0</td>\n",
       "      <td>0.0</td>\n",
       "      <td>0.916667</td>\n",
       "      <td>91.666667</td>\n",
       "      <td>0.129404</td>\n",
       "      <td>0.129404</td>\n",
       "      <td>0.000000</td>\n",
       "      <td>0.000000</td>\n",
       "      <td>0.000000</td>\n",
       "      <td>0.000000</td>\n",
       "      <td>0.000000</td>\n",
       "      <td>0.000000</td>\n",
       "      <td>0.000000</td>\n",
       "      <td>0.000000</td>\n",
       "      <td>0.000000</td>\n",
       "      <td>0.000000</td>\n",
       "      <td>0.000000</td>\n",
       "      <td>0.000000</td>\n",
       "      <td>0.0</td>\n",
       "      <td>0.0</td>\n",
       "      <td>0.0</td>\n",
       "      <td>0.0</td>\n",
       "      <td>0.0</td>\n",
       "      <td>0.0</td>\n",
       "      <td>0.000000</td>\n",
       "      <td>0.000000</td>\n",
       "      <td>0.0</td>\n",
       "      <td>0.0</td>\n",
       "      <td>0.0</td>\n",
       "      <td>0.0</td>\n",
       "      <td>0.055556</td>\n",
       "      <td>2.777778</td>\n",
       "      <td>0.258809</td>\n",
       "      <td>0.258809</td>\n",
       "      <td>0.027778</td>\n",
       "      <td>2.777778</td>\n",
       "      <td>0.129404</td>\n",
       "      <td>0.129404</td>\n",
       "      <td>0.0</td>\n",
       "      <td>0.0</td>\n",
       "      <td>0.000000</td>\n",
       "      <td>0.000000</td>\n",
       "      <td>0.000000</td>\n",
       "      <td>0.000000</td>\n",
       "      <td>0.000000</td>\n",
       "      <td>0.000000</td>\n",
       "      <td>0.339879</td>\n",
       "      <td>-46.658981</td>\n",
       "      <td>-23.545451</td>\n",
       "      <td>S44491123</td>\n",
       "    </tr>\n",
       "    <tr>\n",
       "      <th>70683</th>\n",
       "      <td>70.0</td>\n",
       "      <td>1</td>\n",
       "      <td>0</td>\n",
       "      <td>0</td>\n",
       "      <td>729</td>\n",
       "      <td>56</td>\n",
       "      <td>2</td>\n",
       "      <td>8</td>\n",
       "      <td>2018</td>\n",
       "      <td>1005</td>\n",
       "      <td>26.777779</td>\n",
       "      <td>2.926890</td>\n",
       "      <td>0.007398</td>\n",
       "      <td>0.066036</td>\n",
       "      <td>6.853997</td>\n",
       "      <td>0.340977</td>\n",
       "      <td>0.040857</td>\n",
       "      <td>0.043643</td>\n",
       "      <td>0.000000</td>\n",
       "      <td>26.600817</td>\n",
       "      <td>17.221275</td>\n",
       "      <td>16.784761</td>\n",
       "      <td>9.065084</td>\n",
       "      <td>48.189846</td>\n",
       "      <td>332.53625</td>\n",
       "      <td>26.600817</td>\n",
       "      <td>7.789625</td>\n",
       "      <td>18.811192</td>\n",
       "      <td>11.662136</td>\n",
       "      <td>20.740400</td>\n",
       "      <td>20.675010</td>\n",
       "      <td>12.071914</td>\n",
       "      <td>49.224876</td>\n",
       "      <td>26.735249</td>\n",
       "      <td>0.000000</td>\n",
       "      <td>55.376343</td>\n",
       "      <td>41.007908</td>\n",
       "      <td>0.000000</td>\n",
       "      <td>0.000000</td>\n",
       "      <td>39.159400</td>\n",
       "      <td>0.0</td>\n",
       "      <td>0.0</td>\n",
       "      <td>0.0</td>\n",
       "      <td>0.0</td>\n",
       "      <td>0.000000</td>\n",
       "      <td>0.000000</td>\n",
       "      <td>0.000000</td>\n",
       "      <td>0.000000</td>\n",
       "      <td>0.0</td>\n",
       "      <td>0.0</td>\n",
       "      <td>0.000000</td>\n",
       "      <td>0.000000</td>\n",
       "      <td>0.0</td>\n",
       "      <td>0.0</td>\n",
       "      <td>0.0</td>\n",
       "      <td>0.0</td>\n",
       "      <td>0.0</td>\n",
       "      <td>0.0</td>\n",
       "      <td>0.0</td>\n",
       "      <td>0.0</td>\n",
       "      <td>0.000000</td>\n",
       "      <td>0.000000</td>\n",
       "      <td>0.000000</td>\n",
       "      <td>0.000000</td>\n",
       "      <td>0.000000</td>\n",
       "      <td>0.000000</td>\n",
       "      <td>0.000000</td>\n",
       "      <td>0.000000</td>\n",
       "      <td>0.000000</td>\n",
       "      <td>0.000000</td>\n",
       "      <td>0.000000</td>\n",
       "      <td>0.000000</td>\n",
       "      <td>0.000000</td>\n",
       "      <td>0.000000</td>\n",
       "      <td>0.000000</td>\n",
       "      <td>0.000000</td>\n",
       "      <td>0.0</td>\n",
       "      <td>0.0</td>\n",
       "      <td>0.0</td>\n",
       "      <td>0.0</td>\n",
       "      <td>0.0</td>\n",
       "      <td>0.0</td>\n",
       "      <td>0.000000</td>\n",
       "      <td>0.000000</td>\n",
       "      <td>0.0</td>\n",
       "      <td>0.0</td>\n",
       "      <td>0.0</td>\n",
       "      <td>0.0</td>\n",
       "      <td>0.000000</td>\n",
       "      <td>0.000000</td>\n",
       "      <td>0.000000</td>\n",
       "      <td>0.000000</td>\n",
       "      <td>0.000000</td>\n",
       "      <td>0.000000</td>\n",
       "      <td>0.000000</td>\n",
       "      <td>0.000000</td>\n",
       "      <td>1.0</td>\n",
       "      <td>100.0</td>\n",
       "      <td>0.129404</td>\n",
       "      <td>0.129404</td>\n",
       "      <td>0.000000</td>\n",
       "      <td>0.000000</td>\n",
       "      <td>0.000000</td>\n",
       "      <td>0.000000</td>\n",
       "      <td>-0.000000</td>\n",
       "      <td>-71.565816</td>\n",
       "      <td>-30.340321</td>\n",
       "      <td>S43200197</td>\n",
       "    </tr>\n",
       "    <tr>\n",
       "      <th>70345</th>\n",
       "      <td>90.0</td>\n",
       "      <td>0</td>\n",
       "      <td>1</td>\n",
       "      <td>0</td>\n",
       "      <td>452</td>\n",
       "      <td>54</td>\n",
       "      <td>2</td>\n",
       "      <td>8</td>\n",
       "      <td>2018</td>\n",
       "      <td>565</td>\n",
       "      <td>43.055557</td>\n",
       "      <td>4.771912</td>\n",
       "      <td>0.016496</td>\n",
       "      <td>-0.024463</td>\n",
       "      <td>44.386974</td>\n",
       "      <td>1.002617</td>\n",
       "      <td>0.075527</td>\n",
       "      <td>0.135642</td>\n",
       "      <td>91.952934</td>\n",
       "      <td>0.417385</td>\n",
       "      <td>-6.750542</td>\n",
       "      <td>6.361490</td>\n",
       "      <td>6.770756</td>\n",
       "      <td>26.741976</td>\n",
       "      <td>536.36110</td>\n",
       "      <td>18.568290</td>\n",
       "      <td>-6.750542</td>\n",
       "      <td>25.318832</td>\n",
       "      <td>7.668875</td>\n",
       "      <td>11.743880</td>\n",
       "      <td>13.420449</td>\n",
       "      <td>-0.322488</td>\n",
       "      <td>1565.579600</td>\n",
       "      <td>259.634550</td>\n",
       "      <td>74.632324</td>\n",
       "      <td>2834.742400</td>\n",
       "      <td>621.918700</td>\n",
       "      <td>231.065640</td>\n",
       "      <td>313.810520</td>\n",
       "      <td>314.210450</td>\n",
       "      <td>0.0</td>\n",
       "      <td>0.0</td>\n",
       "      <td>0.0</td>\n",
       "      <td>0.0</td>\n",
       "      <td>0.000000</td>\n",
       "      <td>0.000000</td>\n",
       "      <td>0.000000</td>\n",
       "      <td>0.000000</td>\n",
       "      <td>0.0</td>\n",
       "      <td>0.0</td>\n",
       "      <td>0.000000</td>\n",
       "      <td>0.000000</td>\n",
       "      <td>0.0</td>\n",
       "      <td>0.0</td>\n",
       "      <td>0.0</td>\n",
       "      <td>0.0</td>\n",
       "      <td>0.0</td>\n",
       "      <td>0.0</td>\n",
       "      <td>0.0</td>\n",
       "      <td>0.0</td>\n",
       "      <td>0.000000</td>\n",
       "      <td>0.000000</td>\n",
       "      <td>0.000000</td>\n",
       "      <td>0.000000</td>\n",
       "      <td>0.277778</td>\n",
       "      <td>27.777778</td>\n",
       "      <td>0.129404</td>\n",
       "      <td>0.129404</td>\n",
       "      <td>0.388889</td>\n",
       "      <td>38.888889</td>\n",
       "      <td>0.129404</td>\n",
       "      <td>0.129404</td>\n",
       "      <td>0.055556</td>\n",
       "      <td>2.777778</td>\n",
       "      <td>0.258809</td>\n",
       "      <td>0.258809</td>\n",
       "      <td>0.0</td>\n",
       "      <td>0.0</td>\n",
       "      <td>0.0</td>\n",
       "      <td>0.0</td>\n",
       "      <td>0.0</td>\n",
       "      <td>0.0</td>\n",
       "      <td>0.000000</td>\n",
       "      <td>0.000000</td>\n",
       "      <td>0.0</td>\n",
       "      <td>0.0</td>\n",
       "      <td>0.0</td>\n",
       "      <td>0.0</td>\n",
       "      <td>0.000000</td>\n",
       "      <td>0.000000</td>\n",
       "      <td>0.000000</td>\n",
       "      <td>0.000000</td>\n",
       "      <td>0.000000</td>\n",
       "      <td>0.000000</td>\n",
       "      <td>0.000000</td>\n",
       "      <td>0.000000</td>\n",
       "      <td>0.0</td>\n",
       "      <td>0.0</td>\n",
       "      <td>0.000000</td>\n",
       "      <td>0.000000</td>\n",
       "      <td>0.277778</td>\n",
       "      <td>22.222222</td>\n",
       "      <td>0.388213</td>\n",
       "      <td>0.388213</td>\n",
       "      <td>1.239497</td>\n",
       "      <td>-135.442650</td>\n",
       "      <td>58.107001</td>\n",
       "      <td>S43193134</td>\n",
       "    </tr>\n",
       "    <tr>\n",
       "      <th>...</th>\n",
       "      <td>...</td>\n",
       "      <td>...</td>\n",
       "      <td>...</td>\n",
       "      <td>...</td>\n",
       "      <td>...</td>\n",
       "      <td>...</td>\n",
       "      <td>...</td>\n",
       "      <td>...</td>\n",
       "      <td>...</td>\n",
       "      <td>...</td>\n",
       "      <td>...</td>\n",
       "      <td>...</td>\n",
       "      <td>...</td>\n",
       "      <td>...</td>\n",
       "      <td>...</td>\n",
       "      <td>...</td>\n",
       "      <td>...</td>\n",
       "      <td>...</td>\n",
       "      <td>...</td>\n",
       "      <td>...</td>\n",
       "      <td>...</td>\n",
       "      <td>...</td>\n",
       "      <td>...</td>\n",
       "      <td>...</td>\n",
       "      <td>...</td>\n",
       "      <td>...</td>\n",
       "      <td>...</td>\n",
       "      <td>...</td>\n",
       "      <td>...</td>\n",
       "      <td>...</td>\n",
       "      <td>...</td>\n",
       "      <td>...</td>\n",
       "      <td>...</td>\n",
       "      <td>...</td>\n",
       "      <td>...</td>\n",
       "      <td>...</td>\n",
       "      <td>...</td>\n",
       "      <td>...</td>\n",
       "      <td>...</td>\n",
       "      <td>...</td>\n",
       "      <td>...</td>\n",
       "      <td>...</td>\n",
       "      <td>...</td>\n",
       "      <td>...</td>\n",
       "      <td>...</td>\n",
       "      <td>...</td>\n",
       "      <td>...</td>\n",
       "      <td>...</td>\n",
       "      <td>...</td>\n",
       "      <td>...</td>\n",
       "      <td>...</td>\n",
       "      <td>...</td>\n",
       "      <td>...</td>\n",
       "      <td>...</td>\n",
       "      <td>...</td>\n",
       "      <td>...</td>\n",
       "      <td>...</td>\n",
       "      <td>...</td>\n",
       "      <td>...</td>\n",
       "      <td>...</td>\n",
       "      <td>...</td>\n",
       "      <td>...</td>\n",
       "      <td>...</td>\n",
       "      <td>...</td>\n",
       "      <td>...</td>\n",
       "      <td>...</td>\n",
       "      <td>...</td>\n",
       "      <td>...</td>\n",
       "      <td>...</td>\n",
       "      <td>...</td>\n",
       "      <td>...</td>\n",
       "      <td>...</td>\n",
       "      <td>...</td>\n",
       "      <td>...</td>\n",
       "      <td>...</td>\n",
       "      <td>...</td>\n",
       "      <td>...</td>\n",
       "      <td>...</td>\n",
       "      <td>...</td>\n",
       "      <td>...</td>\n",
       "      <td>...</td>\n",
       "      <td>...</td>\n",
       "      <td>...</td>\n",
       "      <td>...</td>\n",
       "      <td>...</td>\n",
       "      <td>...</td>\n",
       "      <td>...</td>\n",
       "      <td>...</td>\n",
       "      <td>...</td>\n",
       "      <td>...</td>\n",
       "      <td>...</td>\n",
       "      <td>...</td>\n",
       "      <td>...</td>\n",
       "      <td>...</td>\n",
       "      <td>...</td>\n",
       "      <td>...</td>\n",
       "      <td>...</td>\n",
       "      <td>...</td>\n",
       "      <td>...</td>\n",
       "      <td>...</td>\n",
       "      <td>...</td>\n",
       "      <td>...</td>\n",
       "      <td>...</td>\n",
       "      <td>...</td>\n",
       "      <td>...</td>\n",
       "      <td>...</td>\n",
       "      <td>...</td>\n",
       "      <td>...</td>\n",
       "    </tr>\n",
       "    <tr>\n",
       "      <th>193727</th>\n",
       "      <td>5.0</td>\n",
       "      <td>0</td>\n",
       "      <td>1</td>\n",
       "      <td>0</td>\n",
       "      <td>344</td>\n",
       "      <td>148</td>\n",
       "      <td>5</td>\n",
       "      <td>22</td>\n",
       "      <td>2018</td>\n",
       "      <td>390</td>\n",
       "      <td>21.055555</td>\n",
       "      <td>0.649363</td>\n",
       "      <td>-0.090630</td>\n",
       "      <td>-0.111375</td>\n",
       "      <td>1.318010</td>\n",
       "      <td>0.102337</td>\n",
       "      <td>0.016811</td>\n",
       "      <td>0.066652</td>\n",
       "      <td>152.026700</td>\n",
       "      <td>30.159027</td>\n",
       "      <td>23.335138</td>\n",
       "      <td>26.757917</td>\n",
       "      <td>7.300278</td>\n",
       "      <td>66.634550</td>\n",
       "      <td>109.04420</td>\n",
       "      <td>31.740555</td>\n",
       "      <td>20.784860</td>\n",
       "      <td>10.955694</td>\n",
       "      <td>27.402222</td>\n",
       "      <td>25.675486</td>\n",
       "      <td>28.023355</td>\n",
       "      <td>25.323425</td>\n",
       "      <td>1395.935000</td>\n",
       "      <td>206.224530</td>\n",
       "      <td>44.769512</td>\n",
       "      <td>2002.951400</td>\n",
       "      <td>515.307800</td>\n",
       "      <td>192.684920</td>\n",
       "      <td>376.722350</td>\n",
       "      <td>203.282420</td>\n",
       "      <td>0.0</td>\n",
       "      <td>0.0</td>\n",
       "      <td>0.0</td>\n",
       "      <td>0.0</td>\n",
       "      <td>0.000000</td>\n",
       "      <td>0.000000</td>\n",
       "      <td>0.000000</td>\n",
       "      <td>0.000000</td>\n",
       "      <td>0.0</td>\n",
       "      <td>0.0</td>\n",
       "      <td>0.000000</td>\n",
       "      <td>0.000000</td>\n",
       "      <td>0.0</td>\n",
       "      <td>0.0</td>\n",
       "      <td>0.0</td>\n",
       "      <td>0.0</td>\n",
       "      <td>0.0</td>\n",
       "      <td>0.0</td>\n",
       "      <td>0.0</td>\n",
       "      <td>0.0</td>\n",
       "      <td>0.000000</td>\n",
       "      <td>0.000000</td>\n",
       "      <td>0.000000</td>\n",
       "      <td>0.000000</td>\n",
       "      <td>0.000000</td>\n",
       "      <td>0.000000</td>\n",
       "      <td>0.000000</td>\n",
       "      <td>0.000000</td>\n",
       "      <td>0.000000</td>\n",
       "      <td>0.000000</td>\n",
       "      <td>0.000000</td>\n",
       "      <td>0.000000</td>\n",
       "      <td>0.000000</td>\n",
       "      <td>0.000000</td>\n",
       "      <td>0.000000</td>\n",
       "      <td>0.000000</td>\n",
       "      <td>0.0</td>\n",
       "      <td>0.0</td>\n",
       "      <td>0.0</td>\n",
       "      <td>0.0</td>\n",
       "      <td>0.0</td>\n",
       "      <td>0.0</td>\n",
       "      <td>0.000000</td>\n",
       "      <td>0.000000</td>\n",
       "      <td>0.0</td>\n",
       "      <td>0.0</td>\n",
       "      <td>0.0</td>\n",
       "      <td>0.0</td>\n",
       "      <td>0.000000</td>\n",
       "      <td>0.000000</td>\n",
       "      <td>0.000000</td>\n",
       "      <td>0.000000</td>\n",
       "      <td>0.000000</td>\n",
       "      <td>0.000000</td>\n",
       "      <td>0.000000</td>\n",
       "      <td>0.000000</td>\n",
       "      <td>1.0</td>\n",
       "      <td>100.0</td>\n",
       "      <td>0.129404</td>\n",
       "      <td>0.129404</td>\n",
       "      <td>0.000000</td>\n",
       "      <td>0.000000</td>\n",
       "      <td>0.000000</td>\n",
       "      <td>0.000000</td>\n",
       "      <td>-0.000000</td>\n",
       "      <td>-61.496389</td>\n",
       "      <td>16.415000</td>\n",
       "      <td>S46265547</td>\n",
       "    </tr>\n",
       "    <tr>\n",
       "      <th>392488</th>\n",
       "      <td>48.0</td>\n",
       "      <td>1</td>\n",
       "      <td>0</td>\n",
       "      <td>0</td>\n",
       "      <td>3902</td>\n",
       "      <td>311</td>\n",
       "      <td>11</td>\n",
       "      <td>45</td>\n",
       "      <td>2018</td>\n",
       "      <td>880</td>\n",
       "      <td>42.944443</td>\n",
       "      <td>0.976558</td>\n",
       "      <td>0.468369</td>\n",
       "      <td>-0.453159</td>\n",
       "      <td>2.732849</td>\n",
       "      <td>0.038918</td>\n",
       "      <td>0.045941</td>\n",
       "      <td>0.062720</td>\n",
       "      <td>22.428751</td>\n",
       "      <td>25.356440</td>\n",
       "      <td>11.812790</td>\n",
       "      <td>15.498080</td>\n",
       "      <td>12.971789</td>\n",
       "      <td>44.633503</td>\n",
       "      <td>569.49160</td>\n",
       "      <td>31.175056</td>\n",
       "      <td>2.112159</td>\n",
       "      <td>29.062899</td>\n",
       "      <td>6.894873</td>\n",
       "      <td>9.831594</td>\n",
       "      <td>23.042618</td>\n",
       "      <td>8.073400</td>\n",
       "      <td>272.623260</td>\n",
       "      <td>49.090670</td>\n",
       "      <td>3.045611</td>\n",
       "      <td>181.692750</td>\n",
       "      <td>121.006690</td>\n",
       "      <td>16.898659</td>\n",
       "      <td>57.930485</td>\n",
       "      <td>78.787315</td>\n",
       "      <td>0.0</td>\n",
       "      <td>0.0</td>\n",
       "      <td>0.0</td>\n",
       "      <td>0.0</td>\n",
       "      <td>0.000000</td>\n",
       "      <td>0.000000</td>\n",
       "      <td>0.000000</td>\n",
       "      <td>0.000000</td>\n",
       "      <td>0.0</td>\n",
       "      <td>0.0</td>\n",
       "      <td>0.000000</td>\n",
       "      <td>0.000000</td>\n",
       "      <td>0.0</td>\n",
       "      <td>0.0</td>\n",
       "      <td>0.0</td>\n",
       "      <td>0.0</td>\n",
       "      <td>0.0</td>\n",
       "      <td>0.0</td>\n",
       "      <td>0.0</td>\n",
       "      <td>0.0</td>\n",
       "      <td>0.000000</td>\n",
       "      <td>0.000000</td>\n",
       "      <td>0.000000</td>\n",
       "      <td>0.000000</td>\n",
       "      <td>0.000000</td>\n",
       "      <td>0.000000</td>\n",
       "      <td>0.000000</td>\n",
       "      <td>0.000000</td>\n",
       "      <td>0.000000</td>\n",
       "      <td>0.000000</td>\n",
       "      <td>0.000000</td>\n",
       "      <td>0.000000</td>\n",
       "      <td>0.000000</td>\n",
       "      <td>0.000000</td>\n",
       "      <td>0.000000</td>\n",
       "      <td>0.000000</td>\n",
       "      <td>0.0</td>\n",
       "      <td>0.0</td>\n",
       "      <td>0.0</td>\n",
       "      <td>0.0</td>\n",
       "      <td>1.0</td>\n",
       "      <td>100.0</td>\n",
       "      <td>0.129404</td>\n",
       "      <td>0.129404</td>\n",
       "      <td>0.0</td>\n",
       "      <td>0.0</td>\n",
       "      <td>0.0</td>\n",
       "      <td>0.0</td>\n",
       "      <td>0.000000</td>\n",
       "      <td>0.000000</td>\n",
       "      <td>0.000000</td>\n",
       "      <td>0.000000</td>\n",
       "      <td>0.000000</td>\n",
       "      <td>0.000000</td>\n",
       "      <td>0.000000</td>\n",
       "      <td>0.000000</td>\n",
       "      <td>0.0</td>\n",
       "      <td>0.0</td>\n",
       "      <td>0.000000</td>\n",
       "      <td>0.000000</td>\n",
       "      <td>0.000000</td>\n",
       "      <td>0.000000</td>\n",
       "      <td>0.000000</td>\n",
       "      <td>0.000000</td>\n",
       "      <td>-0.000000</td>\n",
       "      <td>-65.093479</td>\n",
       "      <td>-40.815108</td>\n",
       "      <td>S49739269</td>\n",
       "    </tr>\n",
       "    <tr>\n",
       "      <th>70263</th>\n",
       "      <td>56.0</td>\n",
       "      <td>1</td>\n",
       "      <td>0</td>\n",
       "      <td>0</td>\n",
       "      <td>400</td>\n",
       "      <td>56</td>\n",
       "      <td>2</td>\n",
       "      <td>8</td>\n",
       "      <td>2018</td>\n",
       "      <td>735</td>\n",
       "      <td>3.888889</td>\n",
       "      <td>0.378108</td>\n",
       "      <td>-0.002164</td>\n",
       "      <td>-0.085858</td>\n",
       "      <td>1.991126</td>\n",
       "      <td>0.171909</td>\n",
       "      <td>0.036885</td>\n",
       "      <td>0.072504</td>\n",
       "      <td>38.950270</td>\n",
       "      <td>30.581007</td>\n",
       "      <td>18.860683</td>\n",
       "      <td>26.120085</td>\n",
       "      <td>11.281137</td>\n",
       "      <td>67.722380</td>\n",
       "      <td>176.55818</td>\n",
       "      <td>33.641440</td>\n",
       "      <td>16.983526</td>\n",
       "      <td>16.657915</td>\n",
       "      <td>27.641602</td>\n",
       "      <td>24.720844</td>\n",
       "      <td>27.890589</td>\n",
       "      <td>23.570337</td>\n",
       "      <td>1613.690900</td>\n",
       "      <td>310.271240</td>\n",
       "      <td>38.950270</td>\n",
       "      <td>6138.068400</td>\n",
       "      <td>723.013100</td>\n",
       "      <td>138.074340</td>\n",
       "      <td>627.463260</td>\n",
       "      <td>221.765670</td>\n",
       "      <td>0.0</td>\n",
       "      <td>0.0</td>\n",
       "      <td>0.0</td>\n",
       "      <td>0.0</td>\n",
       "      <td>0.055556</td>\n",
       "      <td>5.555556</td>\n",
       "      <td>0.129404</td>\n",
       "      <td>0.129404</td>\n",
       "      <td>0.0</td>\n",
       "      <td>0.0</td>\n",
       "      <td>0.000000</td>\n",
       "      <td>0.000000</td>\n",
       "      <td>0.0</td>\n",
       "      <td>0.0</td>\n",
       "      <td>0.0</td>\n",
       "      <td>0.0</td>\n",
       "      <td>0.0</td>\n",
       "      <td>0.0</td>\n",
       "      <td>0.0</td>\n",
       "      <td>0.0</td>\n",
       "      <td>0.222222</td>\n",
       "      <td>8.333333</td>\n",
       "      <td>0.647022</td>\n",
       "      <td>0.647022</td>\n",
       "      <td>0.000000</td>\n",
       "      <td>0.000000</td>\n",
       "      <td>0.000000</td>\n",
       "      <td>0.000000</td>\n",
       "      <td>0.000000</td>\n",
       "      <td>0.000000</td>\n",
       "      <td>0.000000</td>\n",
       "      <td>0.000000</td>\n",
       "      <td>0.000000</td>\n",
       "      <td>0.000000</td>\n",
       "      <td>0.000000</td>\n",
       "      <td>0.000000</td>\n",
       "      <td>0.0</td>\n",
       "      <td>0.0</td>\n",
       "      <td>0.0</td>\n",
       "      <td>0.0</td>\n",
       "      <td>0.0</td>\n",
       "      <td>0.0</td>\n",
       "      <td>0.000000</td>\n",
       "      <td>0.000000</td>\n",
       "      <td>0.0</td>\n",
       "      <td>0.0</td>\n",
       "      <td>0.0</td>\n",
       "      <td>0.0</td>\n",
       "      <td>0.083333</td>\n",
       "      <td>2.777778</td>\n",
       "      <td>0.388213</td>\n",
       "      <td>0.388213</td>\n",
       "      <td>0.000000</td>\n",
       "      <td>0.000000</td>\n",
       "      <td>0.000000</td>\n",
       "      <td>0.000000</td>\n",
       "      <td>0.0</td>\n",
       "      <td>0.0</td>\n",
       "      <td>0.000000</td>\n",
       "      <td>0.000000</td>\n",
       "      <td>0.638889</td>\n",
       "      <td>47.222222</td>\n",
       "      <td>0.388213</td>\n",
       "      <td>0.388213</td>\n",
       "      <td>0.988129</td>\n",
       "      <td>-88.559105</td>\n",
       "      <td>18.323316</td>\n",
       "      <td>S43192230</td>\n",
       "    </tr>\n",
       "    <tr>\n",
       "      <th>124352</th>\n",
       "      <td>48.0</td>\n",
       "      <td>1</td>\n",
       "      <td>0</td>\n",
       "      <td>0</td>\n",
       "      <td>832</td>\n",
       "      <td>101</td>\n",
       "      <td>4</td>\n",
       "      <td>15</td>\n",
       "      <td>2018</td>\n",
       "      <td>522</td>\n",
       "      <td>59.777775</td>\n",
       "      <td>4.246878</td>\n",
       "      <td>0.015551</td>\n",
       "      <td>-0.038173</td>\n",
       "      <td>5.314442</td>\n",
       "      <td>0.645790</td>\n",
       "      <td>0.073382</td>\n",
       "      <td>0.025027</td>\n",
       "      <td>74.846120</td>\n",
       "      <td>21.095050</td>\n",
       "      <td>8.644774</td>\n",
       "      <td>15.365117</td>\n",
       "      <td>12.686352</td>\n",
       "      <td>60.072945</td>\n",
       "      <td>279.73250</td>\n",
       "      <td>26.438488</td>\n",
       "      <td>5.320243</td>\n",
       "      <td>21.118244</td>\n",
       "      <td>12.362197</td>\n",
       "      <td>18.486814</td>\n",
       "      <td>18.873056</td>\n",
       "      <td>11.722295</td>\n",
       "      <td>657.266540</td>\n",
       "      <td>176.814220</td>\n",
       "      <td>0.792700</td>\n",
       "      <td>4006.897200</td>\n",
       "      <td>463.127660</td>\n",
       "      <td>2.669609</td>\n",
       "      <td>3.226072</td>\n",
       "      <td>266.672520</td>\n",
       "      <td>0.0</td>\n",
       "      <td>0.0</td>\n",
       "      <td>0.0</td>\n",
       "      <td>0.0</td>\n",
       "      <td>0.000000</td>\n",
       "      <td>0.000000</td>\n",
       "      <td>0.000000</td>\n",
       "      <td>0.000000</td>\n",
       "      <td>0.0</td>\n",
       "      <td>0.0</td>\n",
       "      <td>0.000000</td>\n",
       "      <td>0.000000</td>\n",
       "      <td>0.0</td>\n",
       "      <td>0.0</td>\n",
       "      <td>0.0</td>\n",
       "      <td>0.0</td>\n",
       "      <td>0.0</td>\n",
       "      <td>0.0</td>\n",
       "      <td>0.0</td>\n",
       "      <td>0.0</td>\n",
       "      <td>0.000000</td>\n",
       "      <td>0.000000</td>\n",
       "      <td>0.000000</td>\n",
       "      <td>0.000000</td>\n",
       "      <td>0.000000</td>\n",
       "      <td>0.000000</td>\n",
       "      <td>0.000000</td>\n",
       "      <td>0.000000</td>\n",
       "      <td>0.000000</td>\n",
       "      <td>0.000000</td>\n",
       "      <td>0.000000</td>\n",
       "      <td>0.000000</td>\n",
       "      <td>0.000000</td>\n",
       "      <td>0.000000</td>\n",
       "      <td>0.000000</td>\n",
       "      <td>0.000000</td>\n",
       "      <td>0.0</td>\n",
       "      <td>0.0</td>\n",
       "      <td>0.0</td>\n",
       "      <td>0.0</td>\n",
       "      <td>0.0</td>\n",
       "      <td>0.0</td>\n",
       "      <td>0.000000</td>\n",
       "      <td>0.000000</td>\n",
       "      <td>0.0</td>\n",
       "      <td>0.0</td>\n",
       "      <td>0.0</td>\n",
       "      <td>0.0</td>\n",
       "      <td>0.000000</td>\n",
       "      <td>0.000000</td>\n",
       "      <td>0.000000</td>\n",
       "      <td>0.000000</td>\n",
       "      <td>0.000000</td>\n",
       "      <td>0.000000</td>\n",
       "      <td>0.000000</td>\n",
       "      <td>0.000000</td>\n",
       "      <td>1.0</td>\n",
       "      <td>100.0</td>\n",
       "      <td>0.129404</td>\n",
       "      <td>0.129404</td>\n",
       "      <td>0.000000</td>\n",
       "      <td>0.000000</td>\n",
       "      <td>0.000000</td>\n",
       "      <td>0.000000</td>\n",
       "      <td>-0.000000</td>\n",
       "      <td>-122.026078</td>\n",
       "      <td>36.981445</td>\n",
       "      <td>S44464912</td>\n",
       "    </tr>\n",
       "    <tr>\n",
       "      <th>269249</th>\n",
       "      <td>360.0</td>\n",
       "      <td>1</td>\n",
       "      <td>0</td>\n",
       "      <td>0</td>\n",
       "      <td>1914</td>\n",
       "      <td>210</td>\n",
       "      <td>7</td>\n",
       "      <td>30</td>\n",
       "      <td>2018</td>\n",
       "      <td>1094</td>\n",
       "      <td>279.277740</td>\n",
       "      <td>0.219289</td>\n",
       "      <td>0.088422</td>\n",
       "      <td>-0.059353</td>\n",
       "      <td>0.265472</td>\n",
       "      <td>0.022410</td>\n",
       "      <td>0.037167</td>\n",
       "      <td>0.060881</td>\n",
       "      <td>8.049405</td>\n",
       "      <td>13.526484</td>\n",
       "      <td>1.866337</td>\n",
       "      <td>17.061028</td>\n",
       "      <td>13.741577</td>\n",
       "      <td>48.081326</td>\n",
       "      <td>552.31160</td>\n",
       "      <td>30.446200</td>\n",
       "      <td>1.866337</td>\n",
       "      <td>28.579863</td>\n",
       "      <td>20.846302</td>\n",
       "      <td>10.222418</td>\n",
       "      <td>23.276743</td>\n",
       "      <td>8.743429</td>\n",
       "      <td>630.949000</td>\n",
       "      <td>148.074740</td>\n",
       "      <td>3.513784</td>\n",
       "      <td>1694.609700</td>\n",
       "      <td>312.845060</td>\n",
       "      <td>16.088710</td>\n",
       "      <td>200.233230</td>\n",
       "      <td>16.088710</td>\n",
       "      <td>0.0</td>\n",
       "      <td>0.0</td>\n",
       "      <td>0.0</td>\n",
       "      <td>0.0</td>\n",
       "      <td>0.000000</td>\n",
       "      <td>0.000000</td>\n",
       "      <td>0.000000</td>\n",
       "      <td>0.000000</td>\n",
       "      <td>1.0</td>\n",
       "      <td>100.0</td>\n",
       "      <td>0.129404</td>\n",
       "      <td>0.129404</td>\n",
       "      <td>0.0</td>\n",
       "      <td>0.0</td>\n",
       "      <td>0.0</td>\n",
       "      <td>0.0</td>\n",
       "      <td>0.0</td>\n",
       "      <td>0.0</td>\n",
       "      <td>0.0</td>\n",
       "      <td>0.0</td>\n",
       "      <td>0.000000</td>\n",
       "      <td>0.000000</td>\n",
       "      <td>0.000000</td>\n",
       "      <td>0.000000</td>\n",
       "      <td>0.000000</td>\n",
       "      <td>0.000000</td>\n",
       "      <td>0.000000</td>\n",
       "      <td>0.000000</td>\n",
       "      <td>0.000000</td>\n",
       "      <td>0.000000</td>\n",
       "      <td>0.000000</td>\n",
       "      <td>0.000000</td>\n",
       "      <td>0.000000</td>\n",
       "      <td>0.000000</td>\n",
       "      <td>0.000000</td>\n",
       "      <td>0.000000</td>\n",
       "      <td>0.0</td>\n",
       "      <td>0.0</td>\n",
       "      <td>0.0</td>\n",
       "      <td>0.0</td>\n",
       "      <td>0.0</td>\n",
       "      <td>0.0</td>\n",
       "      <td>0.000000</td>\n",
       "      <td>0.000000</td>\n",
       "      <td>0.0</td>\n",
       "      <td>0.0</td>\n",
       "      <td>0.0</td>\n",
       "      <td>0.0</td>\n",
       "      <td>0.000000</td>\n",
       "      <td>0.000000</td>\n",
       "      <td>0.000000</td>\n",
       "      <td>0.000000</td>\n",
       "      <td>0.000000</td>\n",
       "      <td>0.000000</td>\n",
       "      <td>0.000000</td>\n",
       "      <td>0.000000</td>\n",
       "      <td>0.0</td>\n",
       "      <td>0.0</td>\n",
       "      <td>0.000000</td>\n",
       "      <td>0.000000</td>\n",
       "      <td>0.000000</td>\n",
       "      <td>0.000000</td>\n",
       "      <td>0.000000</td>\n",
       "      <td>0.000000</td>\n",
       "      <td>-0.000000</td>\n",
       "      <td>-63.733320</td>\n",
       "      <td>-32.425181</td>\n",
       "      <td>S47585131</td>\n",
       "    </tr>\n",
       "  </tbody>\n",
       "</table>\n",
       "<p>69760 rows × 108 columns</p>\n",
       "</div>"
      ],
      "text/plain": [
       "        duration_minutes  Traveling  Stationary  Area  obsvr_species_count  \\\n",
       "80199               15.0          0           1     0                  826   \n",
       "35089               30.0          1           0     0                 1083   \n",
       "125231              62.0          1           0     0                  417   \n",
       "70683               70.0          1           0     0                  729   \n",
       "70345               90.0          0           1     0                  452   \n",
       "...                  ...        ...         ...   ...                  ...   \n",
       "193727               5.0          0           1     0                  344   \n",
       "392488              48.0          1           0     0                 3902   \n",
       "70263               56.0          1           0     0                  400   \n",
       "124352              48.0          1           0     0                  832   \n",
       "269249             360.0          1           0     0                 1914   \n",
       "\n",
       "        DOY  month  week  year  time_observation_started_minute_of_day  \\\n",
       "80199    64      3    10  2018                                    1148   \n",
       "35089    26      1     4  2018                                     940   \n",
       "125231   96      4    14  2018                                     495   \n",
       "70683    56      2     8  2018                                    1005   \n",
       "70345    54      2     8  2018                                     565   \n",
       "...     ...    ...   ...   ...                                     ...   \n",
       "193727  148      5    22  2018                                     390   \n",
       "392488  311     11    45  2018                                     880   \n",
       "70263    56      2     8  2018                                     735   \n",
       "124352  101      4    15  2018                                     522   \n",
       "269249  210      7    30  2018                                    1094   \n",
       "\n",
       "        elevation_mean  slope_mean  eastness_mean  northness_mean  \\\n",
       "80199       461.388900    0.335186       0.151684       -0.048522   \n",
       "35089         7.333334    1.323622       0.040357       -0.084696   \n",
       "125231      764.444400    2.615817       0.044640        0.249003   \n",
       "70683        26.777779    2.926890       0.007398        0.066036   \n",
       "70345        43.055557    4.771912       0.016496       -0.024463   \n",
       "...                ...         ...            ...             ...   \n",
       "193727       21.055555    0.649363      -0.090630       -0.111375   \n",
       "392488       42.944443    0.976558       0.468369       -0.453159   \n",
       "70263         3.888889    0.378108      -0.002164       -0.085858   \n",
       "124352       59.777775    4.246878       0.015551       -0.038173   \n",
       "269249      279.277740    0.219289       0.088422       -0.059353   \n",
       "\n",
       "        elevation_std  slope_std  eastness_std  northness_std        prec  \\\n",
       "80199        0.998162   0.061199      0.019977       0.044556   35.582047   \n",
       "35089        0.505607   0.113869      0.120141       0.056075   -1.000000   \n",
       "125231       0.600176   0.018775      0.074915       0.047259   25.584192   \n",
       "70683        6.853997   0.340977      0.040857       0.043643    0.000000   \n",
       "70345       44.386974   1.002617      0.075527       0.135642   91.952934   \n",
       "...               ...        ...           ...            ...         ...   \n",
       "193727       1.318010   0.102337      0.016811       0.066652  152.026700   \n",
       "392488       2.732849   0.038918      0.045941       0.062720   22.428751   \n",
       "70263        1.991126   0.171909      0.036885       0.072504   38.950270   \n",
       "124352       5.314442   0.645790      0.073382       0.025027   74.846120   \n",
       "269249       0.265472   0.022410      0.037167       0.060881    8.049405   \n",
       "\n",
       "             tmax       tmin       bio1       bio2       bio3       bio4  \\\n",
       "80199   27.718832  12.099116  16.842863  13.402118  47.585770  549.45624   \n",
       "35089   -1.000000  -1.000000  -1.000000  -1.000000  -1.000000   -1.00000   \n",
       "125231  24.977730  16.255064  19.864655   9.228068  59.516293  209.88190   \n",
       "70683   26.600817  17.221275  16.784761   9.065084  48.189846  332.53625   \n",
       "70345    0.417385  -6.750542   6.361490   6.770756  26.741976  536.36110   \n",
       "...           ...        ...        ...        ...        ...        ...   \n",
       "193727  30.159027  23.335138  26.757917   7.300278  66.634550  109.04420   \n",
       "392488  25.356440  11.812790  15.498080  12.971789  44.633503  569.49160   \n",
       "70263   30.581007  18.860683  26.120085  11.281137  67.722380  176.55818   \n",
       "124352  21.095050   8.644774  15.365117  12.686352  60.072945  279.73250   \n",
       "269249  13.526484   1.866337  17.061028  13.741577  48.081326  552.31160   \n",
       "\n",
       "             bio5       bio6       bio7       bio8       bio9      bio10  \\\n",
       "80199   29.835794   1.671665  28.164130  20.503326  10.331827  22.971527   \n",
       "35089   -1.000000  -1.000000  -1.000000  -1.000000  -1.000000  -1.000000   \n",
       "125231  26.884370  11.379258  15.505113  22.492529  18.488459  22.487823   \n",
       "70683   26.600817   7.789625  18.811192  11.662136  20.740400  20.675010   \n",
       "70345   18.568290  -6.750542  25.318832   7.668875  11.743880  13.420449   \n",
       "...           ...        ...        ...        ...        ...        ...   \n",
       "193727  31.740555  20.784860  10.955694  27.402222  25.675486  28.023355   \n",
       "392488  31.175056   2.112159  29.062899   6.894873   9.831594  23.042618   \n",
       "70263   33.641440  16.983526  16.657915  27.641602  24.720844  27.890589   \n",
       "124352  26.438488   5.320243  21.118244  12.362197  18.486814  18.873056   \n",
       "269249  30.446200   1.866337  28.579863  20.846302  10.222418  23.276743   \n",
       "\n",
       "            bio11        bio12       bio13      bio14        bio15  \\\n",
       "80199    8.558167   651.199300  149.662930   4.028069  1680.765100   \n",
       "35089   -1.000000    -1.000000   -1.000000  -1.000000    -1.000000   \n",
       "125231  17.000450  1250.596200  297.876160  10.065291  8970.067000   \n",
       "70683   12.071914    49.224876   26.735249   0.000000    55.376343   \n",
       "70345   -0.322488  1565.579600  259.634550  74.632324  2834.742400   \n",
       "...           ...          ...         ...        ...          ...   \n",
       "193727  25.323425  1395.935000  206.224530  44.769512  2002.951400   \n",
       "392488   8.073400   272.623260   49.090670   3.045611   181.692750   \n",
       "70263   23.570337  1613.690900  310.271240  38.950270  6138.068400   \n",
       "124352  11.722295   657.266540  176.814220   0.792700  4006.897200   \n",
       "269249   8.743429   630.949000  148.074740   3.513784  1694.609700   \n",
       "\n",
       "             bio16       bio17       bio18       bio19  closed_shrublands  \\\n",
       "80199   337.917450   23.312256  231.272980   23.312256                0.0   \n",
       "35089    -1.000000   -1.000000   -1.000000   -1.000000                0.0   \n",
       "125231  734.370060   42.039482  734.370060   73.362950                0.0   \n",
       "70683    41.007908    0.000000    0.000000   39.159400                0.0   \n",
       "70345   621.918700  231.065640  313.810520  314.210450                0.0   \n",
       "...            ...         ...         ...         ...                ...   \n",
       "193727  515.307800  192.684920  376.722350  203.282420                0.0   \n",
       "392488  121.006690   16.898659   57.930485   78.787315                0.0   \n",
       "70263   723.013100  138.074340  627.463260  221.765670                0.0   \n",
       "124352  463.127660    2.669609    3.226072  266.672520                0.0   \n",
       "269249  312.845060   16.088710  200.233230   16.088710                0.0   \n",
       "\n",
       "        closed_shrublands_ed  closed_shrublands_lpi  closed_shrublands_pd  \\\n",
       "80199                    0.0                    0.0                   0.0   \n",
       "35089                    0.0                    0.0                   0.0   \n",
       "125231                   0.0                    0.0                   0.0   \n",
       "70683                    0.0                    0.0                   0.0   \n",
       "70345                    0.0                    0.0                   0.0   \n",
       "...                      ...                    ...                   ...   \n",
       "193727                   0.0                    0.0                   0.0   \n",
       "392488                   0.0                    0.0                   0.0   \n",
       "70263                    0.0                    0.0                   0.0   \n",
       "124352                   0.0                    0.0                   0.0   \n",
       "269249                   0.0                    0.0                   0.0   \n",
       "\n",
       "        cropland_or_natural_vegetation_mosaics  \\\n",
       "80199                                 0.000000   \n",
       "35089                                 0.000000   \n",
       "125231                                0.000000   \n",
       "70683                                 0.000000   \n",
       "70345                                 0.000000   \n",
       "...                                        ...   \n",
       "193727                                0.000000   \n",
       "392488                                0.000000   \n",
       "70263                                 0.055556   \n",
       "124352                                0.000000   \n",
       "269249                                0.000000   \n",
       "\n",
       "        cropland_or_natural_vegetation_mosaics_ed  \\\n",
       "80199                                    0.000000   \n",
       "35089                                    0.000000   \n",
       "125231                                   0.000000   \n",
       "70683                                    0.000000   \n",
       "70345                                    0.000000   \n",
       "...                                           ...   \n",
       "193727                                   0.000000   \n",
       "392488                                   0.000000   \n",
       "70263                                    5.555556   \n",
       "124352                                   0.000000   \n",
       "269249                                   0.000000   \n",
       "\n",
       "        cropland_or_natural_vegetation_mosaics_lpi  \\\n",
       "80199                                     0.000000   \n",
       "35089                                     0.000000   \n",
       "125231                                    0.000000   \n",
       "70683                                     0.000000   \n",
       "70345                                     0.000000   \n",
       "...                                            ...   \n",
       "193727                                    0.000000   \n",
       "392488                                    0.000000   \n",
       "70263                                     0.129404   \n",
       "124352                                    0.000000   \n",
       "269249                                    0.000000   \n",
       "\n",
       "        cropland_or_natural_vegetation_mosaics_pd  croplands  croplands_ed  \\\n",
       "80199                                    0.000000        1.0         100.0   \n",
       "35089                                    0.000000        0.0           0.0   \n",
       "125231                                   0.000000        0.0           0.0   \n",
       "70683                                    0.000000        0.0           0.0   \n",
       "70345                                    0.000000        0.0           0.0   \n",
       "...                                           ...        ...           ...   \n",
       "193727                                   0.000000        0.0           0.0   \n",
       "392488                                   0.000000        0.0           0.0   \n",
       "70263                                    0.129404        0.0           0.0   \n",
       "124352                                   0.000000        0.0           0.0   \n",
       "269249                                   0.000000        1.0         100.0   \n",
       "\n",
       "        croplands_lpi  croplands_pd  deciduous_broadleaf_forests  \\\n",
       "80199        0.129404      0.129404                          0.0   \n",
       "35089        0.000000      0.000000                          0.0   \n",
       "125231       0.000000      0.000000                          0.0   \n",
       "70683        0.000000      0.000000                          0.0   \n",
       "70345        0.000000      0.000000                          0.0   \n",
       "...               ...           ...                          ...   \n",
       "193727       0.000000      0.000000                          0.0   \n",
       "392488       0.000000      0.000000                          0.0   \n",
       "70263        0.000000      0.000000                          0.0   \n",
       "124352       0.000000      0.000000                          0.0   \n",
       "269249       0.129404      0.129404                          0.0   \n",
       "\n",
       "        deciduous_broadleaf_forests_ed  deciduous_broadleaf_forests_lpi  \\\n",
       "80199                              0.0                              0.0   \n",
       "35089                              0.0                              0.0   \n",
       "125231                             0.0                              0.0   \n",
       "70683                              0.0                              0.0   \n",
       "70345                              0.0                              0.0   \n",
       "...                                ...                              ...   \n",
       "193727                             0.0                              0.0   \n",
       "392488                             0.0                              0.0   \n",
       "70263                              0.0                              0.0   \n",
       "124352                             0.0                              0.0   \n",
       "269249                             0.0                              0.0   \n",
       "\n",
       "        deciduous_broadleaf_forests_pd  deciduous_needleleaf_forests  \\\n",
       "80199                              0.0                           0.0   \n",
       "35089                              0.0                           0.0   \n",
       "125231                             0.0                           0.0   \n",
       "70683                              0.0                           0.0   \n",
       "70345                              0.0                           0.0   \n",
       "...                                ...                           ...   \n",
       "193727                             0.0                           0.0   \n",
       "392488                             0.0                           0.0   \n",
       "70263                              0.0                           0.0   \n",
       "124352                             0.0                           0.0   \n",
       "269249                             0.0                           0.0   \n",
       "\n",
       "        deciduous_needleleaf_forests_ed  deciduous_needleleaf_forests_lpi  \\\n",
       "80199                               0.0                               0.0   \n",
       "35089                               0.0                               0.0   \n",
       "125231                              0.0                               0.0   \n",
       "70683                               0.0                               0.0   \n",
       "70345                               0.0                               0.0   \n",
       "...                                 ...                               ...   \n",
       "193727                              0.0                               0.0   \n",
       "392488                              0.0                               0.0   \n",
       "70263                               0.0                               0.0   \n",
       "124352                              0.0                               0.0   \n",
       "269249                              0.0                               0.0   \n",
       "\n",
       "        deciduous_needleleaf_forests_pd  evergreen_broadleaf_forests  \\\n",
       "80199                               0.0                     0.000000   \n",
       "35089                               0.0                     0.000000   \n",
       "125231                              0.0                     0.916667   \n",
       "70683                               0.0                     0.000000   \n",
       "70345                               0.0                     0.000000   \n",
       "...                                 ...                          ...   \n",
       "193727                              0.0                     0.000000   \n",
       "392488                              0.0                     0.000000   \n",
       "70263                               0.0                     0.222222   \n",
       "124352                              0.0                     0.000000   \n",
       "269249                              0.0                     0.000000   \n",
       "\n",
       "        evergreen_broadleaf_forests_ed  evergreen_broadleaf_forests_lpi  \\\n",
       "80199                         0.000000                         0.000000   \n",
       "35089                         0.000000                         0.000000   \n",
       "125231                       91.666667                         0.129404   \n",
       "70683                         0.000000                         0.000000   \n",
       "70345                         0.000000                         0.000000   \n",
       "...                                ...                              ...   \n",
       "193727                        0.000000                         0.000000   \n",
       "392488                        0.000000                         0.000000   \n",
       "70263                         8.333333                         0.647022   \n",
       "124352                        0.000000                         0.000000   \n",
       "269249                        0.000000                         0.000000   \n",
       "\n",
       "        evergreen_broadleaf_forests_pd  evergreen_needleleaf_forests  \\\n",
       "80199                         0.000000                      0.000000   \n",
       "35089                         0.000000                      0.000000   \n",
       "125231                        0.129404                      0.000000   \n",
       "70683                         0.000000                      0.000000   \n",
       "70345                         0.000000                      0.277778   \n",
       "...                                ...                           ...   \n",
       "193727                        0.000000                      0.000000   \n",
       "392488                        0.000000                      0.000000   \n",
       "70263                         0.647022                      0.000000   \n",
       "124352                        0.000000                      0.000000   \n",
       "269249                        0.000000                      0.000000   \n",
       "\n",
       "        evergreen_needleleaf_forests_ed  evergreen_needleleaf_forests_lpi  \\\n",
       "80199                          0.000000                          0.000000   \n",
       "35089                          0.000000                          0.000000   \n",
       "125231                         0.000000                          0.000000   \n",
       "70683                          0.000000                          0.000000   \n",
       "70345                         27.777778                          0.129404   \n",
       "...                                 ...                               ...   \n",
       "193727                         0.000000                          0.000000   \n",
       "392488                         0.000000                          0.000000   \n",
       "70263                          0.000000                          0.000000   \n",
       "124352                         0.000000                          0.000000   \n",
       "269249                         0.000000                          0.000000   \n",
       "\n",
       "        evergreen_needleleaf_forests_pd  grasslands  grasslands_ed  \\\n",
       "80199                          0.000000    0.000000       0.000000   \n",
       "35089                          0.000000    0.000000       0.000000   \n",
       "125231                         0.000000    0.000000       0.000000   \n",
       "70683                          0.000000    0.000000       0.000000   \n",
       "70345                          0.129404    0.388889      38.888889   \n",
       "...                                 ...         ...            ...   \n",
       "193727                         0.000000    0.000000       0.000000   \n",
       "392488                         0.000000    0.000000       0.000000   \n",
       "70263                          0.000000    0.000000       0.000000   \n",
       "124352                         0.000000    0.000000       0.000000   \n",
       "269249                         0.000000    0.000000       0.000000   \n",
       "\n",
       "        grasslands_lpi  grasslands_pd  mixed_forests  mixed_forests_ed  \\\n",
       "80199         0.000000       0.000000       0.000000          0.000000   \n",
       "35089         0.000000       0.000000       0.000000          0.000000   \n",
       "125231        0.000000       0.000000       0.000000          0.000000   \n",
       "70683         0.000000       0.000000       0.000000          0.000000   \n",
       "70345         0.129404       0.129404       0.055556          2.777778   \n",
       "...                ...            ...            ...               ...   \n",
       "193727        0.000000       0.000000       0.000000          0.000000   \n",
       "392488        0.000000       0.000000       0.000000          0.000000   \n",
       "70263         0.000000       0.000000       0.000000          0.000000   \n",
       "124352        0.000000       0.000000       0.000000          0.000000   \n",
       "269249        0.000000       0.000000       0.000000          0.000000   \n",
       "\n",
       "        mixed_forests_lpi  mixed_forests_pd  non_vegetated_lands  \\\n",
       "80199            0.000000          0.000000                  0.0   \n",
       "35089            0.000000          0.000000                  0.0   \n",
       "125231           0.000000          0.000000                  0.0   \n",
       "70683            0.000000          0.000000                  0.0   \n",
       "70345            0.258809          0.258809                  0.0   \n",
       "...                   ...               ...                  ...   \n",
       "193727           0.000000          0.000000                  0.0   \n",
       "392488           0.000000          0.000000                  0.0   \n",
       "70263            0.000000          0.000000                  0.0   \n",
       "124352           0.000000          0.000000                  0.0   \n",
       "269249           0.000000          0.000000                  0.0   \n",
       "\n",
       "        non_vegetated_lands_ed  non_vegetated_lands_lpi  \\\n",
       "80199                      0.0                      0.0   \n",
       "35089                      0.0                      0.0   \n",
       "125231                     0.0                      0.0   \n",
       "70683                      0.0                      0.0   \n",
       "70345                      0.0                      0.0   \n",
       "...                        ...                      ...   \n",
       "193727                     0.0                      0.0   \n",
       "392488                     0.0                      0.0   \n",
       "70263                      0.0                      0.0   \n",
       "124352                     0.0                      0.0   \n",
       "269249                     0.0                      0.0   \n",
       "\n",
       "        non_vegetated_lands_pd  open_shrublands  open_shrublands_ed  \\\n",
       "80199                      0.0              0.0                 0.0   \n",
       "35089                      0.0              0.0                 0.0   \n",
       "125231                     0.0              0.0                 0.0   \n",
       "70683                      0.0              0.0                 0.0   \n",
       "70345                      0.0              0.0                 0.0   \n",
       "...                        ...              ...                 ...   \n",
       "193727                     0.0              0.0                 0.0   \n",
       "392488                     0.0              1.0               100.0   \n",
       "70263                      0.0              0.0                 0.0   \n",
       "124352                     0.0              0.0                 0.0   \n",
       "269249                     0.0              0.0                 0.0   \n",
       "\n",
       "        open_shrublands_lpi  open_shrublands_pd  permanent_wetlands  \\\n",
       "80199              0.000000            0.000000                 0.0   \n",
       "35089              0.000000            0.000000                 0.0   \n",
       "125231             0.000000            0.000000                 0.0   \n",
       "70683              0.000000            0.000000                 0.0   \n",
       "70345              0.000000            0.000000                 0.0   \n",
       "...                     ...                 ...                 ...   \n",
       "193727             0.000000            0.000000                 0.0   \n",
       "392488             0.129404            0.129404                 0.0   \n",
       "70263              0.000000            0.000000                 0.0   \n",
       "124352             0.000000            0.000000                 0.0   \n",
       "269249             0.000000            0.000000                 0.0   \n",
       "\n",
       "        permanent_wetlands_ed  permanent_wetlands_lpi  permanent_wetlands_pd  \\\n",
       "80199                     0.0                     0.0                    0.0   \n",
       "35089                     0.0                     0.0                    0.0   \n",
       "125231                    0.0                     0.0                    0.0   \n",
       "70683                     0.0                     0.0                    0.0   \n",
       "70345                     0.0                     0.0                    0.0   \n",
       "...                       ...                     ...                    ...   \n",
       "193727                    0.0                     0.0                    0.0   \n",
       "392488                    0.0                     0.0                    0.0   \n",
       "70263                     0.0                     0.0                    0.0   \n",
       "124352                    0.0                     0.0                    0.0   \n",
       "269249                    0.0                     0.0                    0.0   \n",
       "\n",
       "        savannas  savannas_ed  savannas_lpi  savannas_pd  \\\n",
       "80199   0.000000     0.000000      0.000000     0.000000   \n",
       "35089   0.000000     0.000000      0.000000     0.000000   \n",
       "125231  0.055556     2.777778      0.258809     0.258809   \n",
       "70683   0.000000     0.000000      0.000000     0.000000   \n",
       "70345   0.000000     0.000000      0.000000     0.000000   \n",
       "...          ...          ...           ...          ...   \n",
       "193727  0.000000     0.000000      0.000000     0.000000   \n",
       "392488  0.000000     0.000000      0.000000     0.000000   \n",
       "70263   0.083333     2.777778      0.388213     0.388213   \n",
       "124352  0.000000     0.000000      0.000000     0.000000   \n",
       "269249  0.000000     0.000000      0.000000     0.000000   \n",
       "\n",
       "        urban_and_built_up_lands  urban_and_built_up_lands_ed  \\\n",
       "80199                   0.000000                     0.000000   \n",
       "35089                   0.000000                     0.000000   \n",
       "125231                  0.027778                     2.777778   \n",
       "70683                   0.000000                     0.000000   \n",
       "70345                   0.000000                     0.000000   \n",
       "...                          ...                          ...   \n",
       "193727                  0.000000                     0.000000   \n",
       "392488                  0.000000                     0.000000   \n",
       "70263                   0.000000                     0.000000   \n",
       "124352                  0.000000                     0.000000   \n",
       "269249                  0.000000                     0.000000   \n",
       "\n",
       "        urban_and_built_up_lands_lpi  urban_and_built_up_lands_pd  \\\n",
       "80199                       0.000000                     0.000000   \n",
       "35089                       0.000000                     0.000000   \n",
       "125231                      0.129404                     0.129404   \n",
       "70683                       0.000000                     0.000000   \n",
       "70345                       0.000000                     0.000000   \n",
       "...                              ...                          ...   \n",
       "193727                      0.000000                     0.000000   \n",
       "392488                      0.000000                     0.000000   \n",
       "70263                       0.000000                     0.000000   \n",
       "124352                      0.000000                     0.000000   \n",
       "269249                      0.000000                     0.000000   \n",
       "\n",
       "        water_bodies  water_bodies_ed  water_bodies_lpi  water_bodies_pd  \\\n",
       "80199            0.0              0.0          0.000000         0.000000   \n",
       "35089            1.0            100.0          0.129404         0.129404   \n",
       "125231           0.0              0.0          0.000000         0.000000   \n",
       "70683            1.0            100.0          0.129404         0.129404   \n",
       "70345            0.0              0.0          0.000000         0.000000   \n",
       "...              ...              ...               ...              ...   \n",
       "193727           1.0            100.0          0.129404         0.129404   \n",
       "392488           0.0              0.0          0.000000         0.000000   \n",
       "70263            0.0              0.0          0.000000         0.000000   \n",
       "124352           1.0            100.0          0.129404         0.129404   \n",
       "269249           0.0              0.0          0.000000         0.000000   \n",
       "\n",
       "        woody_savannas  woody_savannas_ed  woody_savannas_lpi  \\\n",
       "80199         0.000000           0.000000            0.000000   \n",
       "35089         0.000000           0.000000            0.000000   \n",
       "125231        0.000000           0.000000            0.000000   \n",
       "70683         0.000000           0.000000            0.000000   \n",
       "70345         0.277778          22.222222            0.388213   \n",
       "...                ...                ...                 ...   \n",
       "193727        0.000000           0.000000            0.000000   \n",
       "392488        0.000000           0.000000            0.000000   \n",
       "70263         0.638889          47.222222            0.388213   \n",
       "124352        0.000000           0.000000            0.000000   \n",
       "269249        0.000000           0.000000            0.000000   \n",
       "\n",
       "        woody_savannas_pd   entropy   longitude   latitude  \\\n",
       "80199            0.000000 -0.000000  -64.375398 -33.106857   \n",
       "35089            0.000000 -0.000000  -68.968472  12.120223   \n",
       "125231           0.000000  0.339879  -46.658981 -23.545451   \n",
       "70683            0.000000 -0.000000  -71.565816 -30.340321   \n",
       "70345            0.388213  1.239497 -135.442650  58.107001   \n",
       "...                   ...       ...         ...        ...   \n",
       "193727           0.000000 -0.000000  -61.496389  16.415000   \n",
       "392488           0.000000 -0.000000  -65.093479 -40.815108   \n",
       "70263            0.388213  0.988129  -88.559105  18.323316   \n",
       "124352           0.000000 -0.000000 -122.026078  36.981445   \n",
       "269249           0.000000 -0.000000  -63.733320 -32.425181   \n",
       "\n",
       "       sampling_event_identifier  \n",
       "80199                  S43415298  \n",
       "35089                  S42254703  \n",
       "125231                 S44491123  \n",
       "70683                  S43200197  \n",
       "70345                  S43193134  \n",
       "...                          ...  \n",
       "193727                 S46265547  \n",
       "392488                 S49739269  \n",
       "70263                  S43192230  \n",
       "124352                 S44464912  \n",
       "269249                 S47585131  \n",
       "\n",
       "[69760 rows x 108 columns]"
      ]
     },
     "execution_count": 125,
     "metadata": {},
     "output_type": "execute_result"
    }
   ],
   "source": []
  },
  {
   "cell_type": "code",
   "execution_count": 124,
   "metadata": {},
   "outputs": [
    {
     "data": {
      "text/plain": [
       "Int64Index([ 80199,  35089, 125231,  70683,  70345,  15985,  11973, 304917,\n",
       "            180558,  90928,\n",
       "            ...\n",
       "            293490, 366453, 292502, 213097, 245394, 193727, 392488,  70263,\n",
       "            124352, 269249],\n",
       "           dtype='int64', length=69760)"
      ]
     },
     "execution_count": 124,
     "metadata": {},
     "output_type": "execute_result"
    }
   ],
   "source": [
    "right_index\n",
    "\n"
   ]
  },
  {
   "cell_type": "code",
   "execution_count": 121,
   "metadata": {},
   "outputs": [
    {
     "data": {
      "text/plain": [
       "Int64Index([ 80199,  35089, 125231,  70683,  70345,  15985,  11973, 304917,\n",
       "            180558,  90928,\n",
       "            ...\n",
       "            293490, 366453, 292502, 213097, 245394, 193727, 392488,  70263,\n",
       "            124352, 269249],\n",
       "           dtype='int64', length=69760)"
      ]
     },
     "execution_count": 121,
     "metadata": {},
     "output_type": "execute_result"
    }
   ],
   "source": []
  },
  {
   "cell_type": "code",
   "execution_count": 122,
   "metadata": {},
   "outputs": [
    {
     "data": {
      "text/plain": [
       "Int64Index([226235, 167859,   1645, 274691,  71923, 282076,    652, 257856,\n",
       "            175298, 152013,\n",
       "            ...\n",
       "            443053, 146792, 216075, 113404,   1173, 199070, 350723,  66259,\n",
       "            170195,  96439],\n",
       "           dtype='int64', length=19724)"
      ]
     },
     "execution_count": 122,
     "metadata": {},
     "output_type": "execute_result"
    }
   ],
   "source": [
    "y_test_m.index[(y_test_m!=pred_m)]"
   ]
  },
  {
   "cell_type": "code",
   "execution_count": null,
   "metadata": {},
   "outputs": [],
   "source": []
  },
  {
   "cell_type": "code",
   "execution_count": null,
   "metadata": {},
   "outputs": [],
   "source": []
  }
 ],
 "metadata": {
  "kernelspec": {
   "display_name": "base",
   "language": "python",
   "name": "python3"
  },
  "language_info": {
   "codemirror_mode": {
    "name": "ipython",
    "version": 3
   },
   "file_extension": ".py",
   "mimetype": "text/x-python",
   "name": "python",
   "nbconvert_exporter": "python",
   "pygments_lexer": "ipython3",
   "version": "3.9.7"
  },
  "orig_nbformat": 4,
  "vscode": {
   "interpreter": {
    "hash": "1e9867b585c0f10e2eb480253e40cab44b53d9f15cdd7fb9c79b17a5cb2fa039"
   }
  }
 },
 "nbformat": 4,
 "nbformat_minor": 2
}
